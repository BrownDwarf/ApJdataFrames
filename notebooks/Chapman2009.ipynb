{
 "cells": [
  {
   "cell_type": "markdown",
   "metadata": {},
   "source": [
    "`ApJdataFrames` Chapman 2009\n",
    "---\n",
    "`Title`: THE MID-INFRARED EXTINCTION LAW IN THE OPHIUCHUS, PERSEUS, AND SERPENS MOLECULAR CLOUDS  \n",
    "`Authors`: Nicholas L. Chapman, Lee G Mundy, Shih-Ping Lai, and Neal J Evans  \n",
    "\n",
    "Data is from this paper:\n",
    "http://iopscience.iop.org/0004-637X/690/1/496/"
   ]
  },
  {
   "cell_type": "code",
   "execution_count": 1,
   "metadata": {
    "collapsed": false
   },
   "outputs": [],
   "source": [
    "import warnings\n",
    "warnings.filterwarnings(\"ignore\")"
   ]
  },
  {
   "cell_type": "markdown",
   "metadata": {},
   "source": [
    "## Table 1- Measured Quantities for PMS Candidates with Observed Spectra"
   ]
  },
  {
   "cell_type": "code",
   "execution_count": 2,
   "metadata": {
    "collapsed": false
   },
   "outputs": [],
   "source": [
    "import pandas as pd"
   ]
  },
  {
   "cell_type": "code",
   "execution_count": 9,
   "metadata": {
    "collapsed": false
   },
   "outputs": [
    {
     "data": {
      "text/html": [
       "<div style=\"max-height:1000px;max-width:1500px;overflow:auto;\">\n",
       "<table border=\"1\" class=\"dataframe\">\n",
       "  <thead>\n",
       "    <tr style=\"text-align: right;\">\n",
       "      <th></th>\n",
       "      <th>Source</th>\n",
       "      <th>3.6 mu m</th>\n",
       "      <th>4.5 mu m</th>\n",
       "      <th>5.8 mu m</th>\n",
       "      <th>8 mu m</th>\n",
       "      <th>24 mu m</th>\n",
       "    </tr>\n",
       "  </thead>\n",
       "  <tbody>\n",
       "    <tr>\n",
       "      <th>0 </th>\n",
       "      <td>         Our data, 0 &lt; A_{K_s}  le  0.5</td>\n",
       "      <td>   0.41 +or- 0.19</td>\n",
       "      <td> 0.26 +or- 0.18</td>\n",
       "      <td> 0.28 +or- 0.18</td>\n",
       "      <td> 0.21 +or- 0.17</td>\n",
       "      <td> 1.08 +or- 0.32</td>\n",
       "    </tr>\n",
       "    <tr>\n",
       "      <th>1 </th>\n",
       "      <td>         Our data, 0.5 &lt; A_{K_s}  le  1</td>\n",
       "      <td>   0.49 +or- 0.10</td>\n",
       "      <td> 0.35 +or- 0.10</td>\n",
       "      <td> 0.35 +or- 0.10</td>\n",
       "      <td> 0.35 +or- 0.10</td>\n",
       "      <td> 0.75 +or- 0.14</td>\n",
       "    </tr>\n",
       "    <tr>\n",
       "      <th>2 </th>\n",
       "      <td>           Our data, 1 &lt; A_{K_s}  le  2</td>\n",
       "      <td>   0.60 +or- 0.05</td>\n",
       "      <td> 0.46 +or- 0.05</td>\n",
       "      <td> 0.44 +or- 0.05</td>\n",
       "      <td> 0.43 +or- 0.05</td>\n",
       "      <td> 0.61 +or- 0.08</td>\n",
       "    </tr>\n",
       "    <tr>\n",
       "      <th>3 </th>\n",
       "      <td>               Our data, A_{K_s}  ge  2</td>\n",
       "      <td>   0.64 +or- 0.03</td>\n",
       "      <td> 0.53 +or- 0.03</td>\n",
       "      <td> 0.46 +or- 0.03</td>\n",
       "      <td> 0.45 +or- 0.03</td>\n",
       "      <td> 0.34 +or- 0.13</td>\n",
       "    </tr>\n",
       "    <tr>\n",
       "      <th>4 </th>\n",
       "      <td>                          Other Authors</td>\n",
       "      <td>              NaN</td>\n",
       "      <td>           None</td>\n",
       "      <td>           None</td>\n",
       "      <td>           None</td>\n",
       "      <td>           None</td>\n",
       "    </tr>\n",
       "    <tr>\n",
       "      <th>5 </th>\n",
       "      <td>                 Flaherty et al. (2007)</td>\n",
       "      <td> 0.632 +or- 0.004</td>\n",
       "      <td> 0.54 +or- 0.01</td>\n",
       "      <td> 0.50 +or- 0.02</td>\n",
       "      <td> 0.50 +or- 0.01</td>\n",
       "      <td> 0.46 +or- 0.04</td>\n",
       "    </tr>\n",
       "    <tr>\n",
       "      <th>6 </th>\n",
       "      <td>               Indebetouw et al. (2005)</td>\n",
       "      <td>   0.56 +or- 0.06</td>\n",
       "      <td> 0.43 +or- 0.08</td>\n",
       "      <td> 0.43 +or- 0.10</td>\n",
       "      <td> 0.43 +or- 0.10</td>\n",
       "      <td>            ...</td>\n",
       "    </tr>\n",
       "    <tr>\n",
       "      <th>7 </th>\n",
       "      <td>                          Lutz (1999)^a</td>\n",
       "      <td>   0.53 +or- 0.03</td>\n",
       "      <td> 0.50 +or- 0.08</td>\n",
       "      <td> 0.49 +or- 0.06</td>\n",
       "      <td> 0.42 +or- 0.06</td>\n",
       "      <td>            ...</td>\n",
       "    </tr>\n",
       "    <tr>\n",
       "      <th>8 </th>\n",
       "      <td>                          Dust Models^b</td>\n",
       "      <td>              NaN</td>\n",
       "      <td>           None</td>\n",
       "      <td>           None</td>\n",
       "      <td>           None</td>\n",
       "      <td>           None</td>\n",
       "    </tr>\n",
       "    <tr>\n",
       "      <th>9 </th>\n",
       "      <td> Weingartner &amp; Draine (2001), R_V = 3.1</td>\n",
       "      <td>             0.40</td>\n",
       "      <td>           0.25</td>\n",
       "      <td>           0.17</td>\n",
       "      <td>           0.22</td>\n",
       "      <td>           0.17</td>\n",
       "    </tr>\n",
       "    <tr>\n",
       "      <th>10</th>\n",
       "      <td> Weingartner &amp; Draine (2001), R_V = 5.5</td>\n",
       "      <td>             0.60</td>\n",
       "      <td>           0.49</td>\n",
       "      <td>           0.40</td>\n",
       "      <td>           0.41</td>\n",
       "      <td>           0.24</td>\n",
       "    </tr>\n",
       "    <tr>\n",
       "      <th>11</th>\n",
       "      <td>                               KP, v5.0</td>\n",
       "      <td>             0.48</td>\n",
       "      <td>           0.38</td>\n",
       "      <td>           0.34</td>\n",
       "      <td>           0.38</td>\n",
       "      <td>           0.38</td>\n",
       "    </tr>\n",
       "  </tbody>\n",
       "</table>\n",
       "</div>"
      ],
      "text/plain": [
       "                                    Source          3.6 mu m        4.5 mu m  \\\n",
       "0           Our data, 0 < A_{K_s}  le  0.5    0.41 +or- 0.19  0.26 +or- 0.18   \n",
       "1           Our data, 0.5 < A_{K_s}  le  1    0.49 +or- 0.10  0.35 +or- 0.10   \n",
       "2             Our data, 1 < A_{K_s}  le  2    0.60 +or- 0.05  0.46 +or- 0.05   \n",
       "3                 Our data, A_{K_s}  ge  2    0.64 +or- 0.03  0.53 +or- 0.03   \n",
       "4                            Other Authors               NaN            None   \n",
       "5                   Flaherty et al. (2007)  0.632 +or- 0.004  0.54 +or- 0.01   \n",
       "6                 Indebetouw et al. (2005)    0.56 +or- 0.06  0.43 +or- 0.08   \n",
       "7                            Lutz (1999)^a    0.53 +or- 0.03  0.50 +or- 0.08   \n",
       "8                            Dust Models^b               NaN            None   \n",
       "9   Weingartner & Draine (2001), R_V = 3.1              0.40            0.25   \n",
       "10  Weingartner & Draine (2001), R_V = 5.5              0.60            0.49   \n",
       "11                                KP, v5.0              0.48            0.38   \n",
       "\n",
       "          5.8 mu m          8 mu m         24 mu m  \n",
       "0   0.28 +or- 0.18  0.21 +or- 0.17  1.08 +or- 0.32  \n",
       "1   0.35 +or- 0.10  0.35 +or- 0.10  0.75 +or- 0.14  \n",
       "2   0.44 +or- 0.05  0.43 +or- 0.05  0.61 +or- 0.08  \n",
       "3   0.46 +or- 0.03  0.45 +or- 0.03  0.34 +or- 0.13  \n",
       "4             None            None            None  \n",
       "5   0.50 +or- 0.02  0.50 +or- 0.01  0.46 +or- 0.04  \n",
       "6   0.43 +or- 0.10  0.43 +or- 0.10             ...  \n",
       "7   0.49 +or- 0.06  0.42 +or- 0.06             ...  \n",
       "8             None            None            None  \n",
       "9             0.17            0.22            0.17  \n",
       "10            0.40            0.41            0.24  \n",
       "11            0.34            0.38            0.38  "
      ]
     },
     "execution_count": 9,
     "metadata": {},
     "output_type": "execute_result"
    }
   ],
   "source": [
    "tbl1 = pd.read_csv(\"http://iopscience.iop.org/0004-637X/690/1/496/suppdata/apj291883t3_ascii.txt\",\n",
    "                   skiprows=[0,1,2,4], sep='\\t', header=0, na_values=' ... ', skipfooter=6)\n",
    "del tbl1[\"Unnamed: 6\"]\n",
    "tbl1"
   ]
  },
  {
   "cell_type": "markdown",
   "metadata": {},
   "source": [
    "**The end.**"
   ]
  }
 ],
 "metadata": {
  "kernelspec": {
   "display_name": "Python 2",
   "language": "python",
   "name": "python2"
  },
  "language_info": {
   "codemirror_mode": {
    "name": "ipython",
    "version": 2
   },
   "file_extension": ".py",
   "mimetype": "text/x-python",
   "name": "python",
   "nbconvert_exporter": "python",
   "pygments_lexer": "ipython2",
   "version": "2.7.9"
  }
 },
 "nbformat": 4,
 "nbformat_minor": 0
}
