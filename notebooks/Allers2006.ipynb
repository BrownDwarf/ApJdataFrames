{
 "cells": [
  {
   "cell_type": "markdown",
   "metadata": {},
   "source": [
    "`ApJdataFrames`: Allers2006\n",
    "---\n",
    "`Title`: Young, Low-Mass Brown Dwarfs with Mid-Infrared Excesses  \n",
    "`Authors`: AKCJ\n",
    "\n",
    "Data is from this paper:  \n",
    "http://iopscience.iop.org/0004-637X/644/1/364/"
   ]
  },
  {
   "cell_type": "code",
   "execution_count": 1,
   "metadata": {
    "collapsed": false
   },
   "outputs": [
    {
     "name": "stdout",
     "output_type": "stream",
     "text": [
      "Populating the interactive namespace from numpy and matplotlib\n"
     ]
    }
   ],
   "source": [
    "%pylab inline\n",
    "import seaborn as sns"
   ]
  },
  {
   "cell_type": "code",
   "execution_count": 2,
   "metadata": {
    "collapsed": false
   },
   "outputs": [],
   "source": [
    "import warnings\n",
    "warnings.filterwarnings(\"ignore\")"
   ]
  },
  {
   "cell_type": "code",
   "execution_count": 3,
   "metadata": {
    "collapsed": false
   },
   "outputs": [],
   "source": [
    "import pandas as pd"
   ]
  },
  {
   "cell_type": "markdown",
   "metadata": {},
   "source": [
    "## Table 3 - Photometry"
   ]
  },
  {
   "cell_type": "code",
   "execution_count": 13,
   "metadata": {
    "collapsed": false
   },
   "outputs": [
    {
     "data": {
      "text/html": [
       "<div style=\"max-height:1000px;max-width:1500px;overflow:auto;\">\n",
       "<table border=\"1\" class=\"dataframe\">\n",
       "  <thead>\n",
       "    <tr style=\"text-align: right;\">\n",
       "      <th></th>\n",
       "      <th>Source Number</th>\n",
       "      <th>RA (J2000.0)</th>\n",
       "      <th>DEC (J2000.0)</th>\n",
       "      <th>I</th>\n",
       "      <th>Ierr</th>\n",
       "      <th>J</th>\n",
       "      <th>Jerr</th>\n",
       "      <th>H</th>\n",
       "      <th>Herr</th>\n",
       "      <th>Ks</th>\n",
       "      <th>Kserr</th>\n",
       "      <th>[3.6]</th>\n",
       "      <th>[3.6]err</th>\n",
       "      <th>[4.5]</th>\n",
       "      <th>[4.5]err</th>\n",
       "      <th>[5.8]</th>\n",
       "      <th>[5.8]err</th>\n",
       "      <th>[8.0]</th>\n",
       "      <th>[8.0]err</th>\n",
       "    </tr>\n",
       "  </thead>\n",
       "  <tbody>\n",
       "    <tr>\n",
       "      <th>0</th>\n",
       "      <td> 1</td>\n",
       "      <td> 12 57 58.7</td>\n",
       "      <td> -77 01 19.5</td>\n",
       "      <td> 22.61</td>\n",
       "      <td> 0.10</td>\n",
       "      <td> 17.88</td>\n",
       "      <td> 0.04</td>\n",
       "      <td> 16.80</td>\n",
       "      <td> 0.03</td>\n",
       "      <td> 15.98</td>\n",
       "      <td> 0.03</td>\n",
       "      <td> 14.85</td>\n",
       "      <td> 0.16</td>\n",
       "      <td> 14.55</td>\n",
       "      <td> 0.16</td>\n",
       "      <td> 14.84</td>\n",
       "      <td> 0.28</td>\n",
       "      <td> 13.87</td>\n",
       "      <td> 0.19</td>\n",
       "    </tr>\n",
       "    <tr>\n",
       "      <th>1</th>\n",
       "      <td> 2</td>\n",
       "      <td> 12 58 06.7</td>\n",
       "      <td> -77 09 09.5</td>\n",
       "      <td> 19.61</td>\n",
       "      <td> 0.05</td>\n",
       "      <td> 14.99</td>\n",
       "      <td> 0.03</td>\n",
       "      <td> 13.50</td>\n",
       "      <td> 0.03</td>\n",
       "      <td> 12.48</td>\n",
       "      <td> 0.03</td>\n",
       "      <td> 11.49</td>\n",
       "      <td> 0.16</td>\n",
       "      <td> 11.04</td>\n",
       "      <td> 0.16</td>\n",
       "      <td> 10.60</td>\n",
       "      <td> 0.16</td>\n",
       "      <td> 10.01</td>\n",
       "      <td> 0.16</td>\n",
       "    </tr>\n",
       "    <tr>\n",
       "      <th>2</th>\n",
       "      <td> 3</td>\n",
       "      <td> 13 00 59.3</td>\n",
       "      <td> -77 14 02.7</td>\n",
       "      <td> 16.26</td>\n",
       "      <td> 0.05</td>\n",
       "      <td> 11.48</td>\n",
       "      <td> 0.04</td>\n",
       "      <td>  9.55</td>\n",
       "      <td> 0.04</td>\n",
       "      <td>  7.92</td>\n",
       "      <td> 0.04</td>\n",
       "      <td>  6.84</td>\n",
       "      <td> 0.16</td>\n",
       "      <td>  6.48</td>\n",
       "      <td> 0.17</td>\n",
       "      <td>  6.20</td>\n",
       "      <td> 0.16</td>\n",
       "      <td>  5.97</td>\n",
       "      <td> 0.16</td>\n",
       "    </tr>\n",
       "    <tr>\n",
       "      <th>3</th>\n",
       "      <td> 4</td>\n",
       "      <td> 13 04 24.9</td>\n",
       "      <td> -77 52 30.3</td>\n",
       "      <td> 14.66</td>\n",
       "      <td> 0.05</td>\n",
       "      <td> 12.19</td>\n",
       "      <td> 0.04</td>\n",
       "      <td> 11.22</td>\n",
       "      <td> 0.04</td>\n",
       "      <td> 10.57</td>\n",
       "      <td> 0.04</td>\n",
       "      <td> 10.00</td>\n",
       "      <td> 0.16</td>\n",
       "      <td>  9.68</td>\n",
       "      <td> 0.16</td>\n",
       "      <td>  9.38</td>\n",
       "      <td> 0.16</td>\n",
       "      <td>  8.67</td>\n",
       "      <td> 0.16</td>\n",
       "    </tr>\n",
       "    <tr>\n",
       "      <th>4</th>\n",
       "      <td> 5</td>\n",
       "      <td> 13 05 40.8</td>\n",
       "      <td> -77 39 58.2</td>\n",
       "      <td> 22.16</td>\n",
       "      <td> 0.07</td>\n",
       "      <td> 17.75</td>\n",
       "      <td> 0.04</td>\n",
       "      <td> 16.71</td>\n",
       "      <td> 0.03</td>\n",
       "      <td> 15.77</td>\n",
       "      <td> 0.03</td>\n",
       "      <td> 14.64</td>\n",
       "      <td> 0.16</td>\n",
       "      <td> 14.26</td>\n",
       "      <td> 0.16</td>\n",
       "      <td> 14.16</td>\n",
       "      <td> 0.17</td>\n",
       "      <td> 13.42</td>\n",
       "      <td> 0.17</td>\n",
       "    </tr>\n",
       "  </tbody>\n",
       "</table>\n",
       "</div>"
      ],
      "text/plain": [
       "   Source Number RA (J2000.0) DEC (J2000.0)      I  Ierr      J  Jerr      H  \\\n",
       "0              1   12 57 58.7   -77 01 19.5  22.61  0.10  17.88  0.04  16.80   \n",
       "1              2   12 58 06.7   -77 09 09.5  19.61  0.05  14.99  0.03  13.50   \n",
       "2              3   13 00 59.3   -77 14 02.7  16.26  0.05  11.48  0.04   9.55   \n",
       "3              4   13 04 24.9   -77 52 30.3  14.66  0.05  12.19  0.04  11.22   \n",
       "4              5   13 05 40.8   -77 39 58.2  22.16  0.07  17.75  0.04  16.71   \n",
       "\n",
       "   Herr     Ks  Kserr  [3.6]  [3.6]err  [4.5]  [4.5]err  [5.8]  [5.8]err  \\\n",
       "0  0.03  15.98   0.03  14.85      0.16  14.55      0.16  14.84      0.28   \n",
       "1  0.03  12.48   0.03  11.49      0.16  11.04      0.16  10.60      0.16   \n",
       "2  0.04   7.92   0.04   6.84      0.16   6.48      0.17   6.20      0.16   \n",
       "3  0.04  10.57   0.04  10.00      0.16   9.68      0.16   9.38      0.16   \n",
       "4  0.03  15.77   0.03  14.64      0.16  14.26      0.16  14.16      0.17   \n",
       "\n",
       "   [8.0]  [8.0]err  \n",
       "0  13.87      0.19  \n",
       "1  10.01      0.16  \n",
       "2   5.97      0.16  \n",
       "3   8.67      0.16  \n",
       "4  13.42      0.17  "
      ]
     },
     "execution_count": 13,
     "metadata": {},
     "output_type": "execute_result"
    }
   ],
   "source": [
    "names = ['Source Number','RA (J2000.0)','DEC (J2000.0)','I', 'Ierr','J', 'Jerr',\n",
    "         'H', 'Herr','Ks', 'Kserr','[3.6]', '[3.6]err','[4.5]', '[4.5]err',\n",
    "         '[5.8]', '[5.8]err','[8.0]', '[8.0]err']\n",
    "\n",
    "tbl3 = pd.read_csv(\"http://iopscience.iop.org/0004-637X/644/1/364/fulltext/64106.tb3.txt\", \n",
    "                   sep=r'\\t|\\\\pm', names = names)\n",
    "tbl3.head()"
   ]
  },
  {
   "cell_type": "markdown",
   "metadata": {},
   "source": [
    "Drop source 12 because it was shown to be a galaxy."
   ]
  },
  {
   "cell_type": "code",
   "execution_count": 14,
   "metadata": {
    "collapsed": false
   },
   "outputs": [],
   "source": [
    "tbl3.drop(11, axis=0, inplace=True)"
   ]
  },
  {
   "cell_type": "markdown",
   "metadata": {},
   "source": [
    "    %%bash\n",
    "    mkdir ../data/Allers2006"
   ]
  },
  {
   "cell_type": "code",
   "execution_count": 15,
   "metadata": {
    "collapsed": false
   },
   "outputs": [],
   "source": [
    "tbl3.to_csv('../data/Allers2006/tbl3.csv', index=False)"
   ]
  },
  {
   "cell_type": "markdown",
   "metadata": {},
   "source": [
    "**The end.**"
   ]
  }
 ],
 "metadata": {
  "kernelspec": {
   "display_name": "Python 2",
   "language": "python",
   "name": "python2"
  },
  "language_info": {
   "codemirror_mode": {
    "name": "ipython",
    "version": 2
   },
   "file_extension": ".py",
   "mimetype": "text/x-python",
   "name": "python",
   "nbconvert_exporter": "python",
   "pygments_lexer": "ipython2",
   "version": "2.7.9"
  }
 },
 "nbformat": 4,
 "nbformat_minor": 0
}
