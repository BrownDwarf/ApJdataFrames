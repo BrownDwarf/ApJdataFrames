{
 "cells": [
  {
   "cell_type": "markdown",
   "metadata": {},
   "source": [
    "`ApJdataFrames` Kraus2017\n",
    "---\n",
    "`Title`: The Greater Taurus–Auriga Ecosystem. I. There is a Distributed Older Population\n",
    "`Authors`: Kraus, Herczeg, et al.\n",
    "\n",
    "Data are from this paper:  \n",
    "http://iopscience.iop.org/article/10.3847/1538-4357/aa62a0/meta"
   ]
  },
  {
   "cell_type": "code",
   "execution_count": 1,
   "metadata": {
    "collapsed": true
   },
   "outputs": [],
   "source": [
    "%matplotlib inline\n",
    "import matplotlib.pyplot as plt\n",
    "import seaborn as sns\n",
    "import pandas as pd\n",
    "pd.options.display.max_columns = 150"
   ]
  },
  {
   "cell_type": "code",
   "execution_count": 2,
   "metadata": {
    "collapsed": true
   },
   "outputs": [],
   "source": [
    "#%config InlineBackend.figure_format = 'retina'"
   ]
  },
  {
   "cell_type": "code",
   "execution_count": 3,
   "metadata": {
    "collapsed": true
   },
   "outputs": [],
   "source": [
    "import astropy\n",
    "from astropy.table import Table\n",
    "from astropy.io import ascii"
   ]
  },
  {
   "cell_type": "code",
   "execution_count": 4,
   "metadata": {},
   "outputs": [
    {
     "data": {
      "text/html": [
       "<style>.container { width:100% !important; }</style>"
      ],
      "text/plain": [
       "<IPython.core.display.HTML object>"
      ]
     },
     "metadata": {},
     "output_type": "display_data"
    }
   ],
   "source": [
    "from IPython.core.display import display, HTML\n",
    "display(HTML(\"<style>.container { width:100% !important; }</style>\"))"
   ]
  },
  {
   "cell_type": "markdown",
   "metadata": {},
   "source": [
    "## Get all tables right away.\n",
    "There are 7 tables."
   ]
  },
  {
   "cell_type": "code",
   "execution_count": 5,
   "metadata": {},
   "outputs": [],
   "source": [
    "#! mkdir ../data/Kraus2017"
   ]
  },
  {
   "cell_type": "code",
   "execution_count": 6,
   "metadata": {},
   "outputs": [],
   "source": [
    "#! wget -q --directory-prefix=../data/Kraus2017/ http://iopscience.iop.org/0004-637X/838/2/150/suppdata/apjaa62a0t1_mrt.txt\n",
    "#! wget -q --directory-prefix=../data/Kraus2017/ http://iopscience.iop.org/0004-637X/838/2/150/suppdata/apjaa62a0t2_mrt.txt\n",
    "#! wget -q --directory-prefix=../data/Kraus2017/ http://iopscience.iop.org/0004-637X/838/2/150/suppdata/apjaa62a0t3_mrt.txt\n",
    "#! wget -q --directory-prefix=../data/Kraus2017/ http://iopscience.iop.org/0004-637X/838/2/150/suppdata/apjaa62a0t4_mrt.txt\n",
    "#! wget -q --directory-prefix=../data/Kraus2017/ http://iopscience.iop.org/0004-637X/838/2/150/suppdata/apjaa62a0t5_mrt.txt\n",
    "#! wget -q --directory-prefix=../data/Kraus2017/ http://iopscience.iop.org/0004-637X/838/2/150/suppdata/apjaa62a0t6_mrt.txt\n",
    "#! wget -q --directory-prefix=../data/Kraus2017/ http://iopscience.iop.org/0004-637X/838/2/150/suppdata/apjaa62a0t7_mrt.txt"
   ]
  },
  {
   "cell_type": "code",
   "execution_count": 7,
   "metadata": {},
   "outputs": [
    {
     "name": "stdout",
     "output_type": "stream",
     "text": [
      "apjaa62a0t1_mrt.txt\r\n",
      "apjaa62a0t2_mrt.txt\r\n",
      "apjaa62a0t3_mrt.txt\r\n",
      "apjaa62a0t4_mrt.txt\r\n",
      "apjaa62a0t5_mrt.txt\r\n",
      "apjaa62a0t6_mrt.txt\r\n",
      "apjaa62a0t7_mrt.txt\r\n"
     ]
    }
   ],
   "source": [
    "! ls -1 ../data/Kraus2017/"
   ]
  },
  {
   "cell_type": "code",
   "execution_count": 8,
   "metadata": {},
   "outputs": [
    {
     "name": "stdout",
     "output_type": "stream",
     "text": [
      "Title: The Greater Taurus-Auriga Ecosystem I: There is a Distributed Older \r\n",
      "       Population \r\n",
      "Authors: Kraus A.L., Herczeg G.J., Rizzuto A.C., Mann A.W., Slesnick C.L., \r\n",
      "         Carpenter J.M., Hillenbrand L.A., Mamajek E.E. \r\n",
      "Table: Na8189 Indices for Candidate Class III Taurus Members of Herczeg & \r\n",
      "    Hillenbrand (2014ApJ...786...97H) \r\n",
      "================================================================================\r\n",
      "Byte-by-byte Description of file: apjaa62a0t7_mrt.txt\r\n",
      "--------------------------------------------------------------------------------\r\n",
      "   Bytes Format Units Label   Explanations\r\n"
     ]
    }
   ],
   "source": [
    "! head ../data/Kraus2017/apjaa62a0t7_mrt.txt"
   ]
  },
  {
   "cell_type": "code",
   "execution_count": 9,
   "metadata": {
    "collapsed": true
   },
   "outputs": [],
   "source": [
    "tab1 = ascii.read('../data/Kraus2017/apjaa62a0t1_mrt.txt')"
   ]
  },
  {
   "cell_type": "code",
   "execution_count": 18,
   "metadata": {
    "scrolled": false
   },
   "outputs": [],
   "source": [
    "#tab1.show_in_notebook(display_length=5)"
   ]
  },
  {
   "cell_type": "code",
   "execution_count": 11,
   "metadata": {
    "collapsed": true
   },
   "outputs": [],
   "source": [
    "#tab1.write('../data/Kraus2017/tab1.csv', format='ascii.csv', overwrite=True)"
   ]
  },
  {
   "cell_type": "code",
   "execution_count": 12,
   "metadata": {
    "collapsed": true
   },
   "outputs": [],
   "source": [
    "tab5 = ascii.read('../data/Kraus2017/apjaa62a0t5_mrt.txt')"
   ]
  },
  {
   "cell_type": "markdown",
   "metadata": {},
   "source": [
    "Convert the astropy tables to pandas dataframes."
   ]
  },
  {
   "cell_type": "code",
   "execution_count": 13,
   "metadata": {
    "collapsed": true
   },
   "outputs": [],
   "source": [
    "df1, df5 = tab1.to_pandas(), tab5.to_pandas()"
   ]
  },
  {
   "cell_type": "code",
   "execution_count": 14,
   "metadata": {},
   "outputs": [
    {
     "data": {
      "text/html": [
       "<div>\n",
       "<style scoped>\n",
       "    .dataframe tbody tr th:only-of-type {\n",
       "        vertical-align: middle;\n",
       "    }\n",
       "\n",
       "    .dataframe tbody tr th {\n",
       "        vertical-align: top;\n",
       "    }\n",
       "\n",
       "    .dataframe thead th {\n",
       "        text-align: right;\n",
       "    }\n",
       "</style>\n",
       "<table border=\"1\" class=\"dataframe\">\n",
       "  <thead>\n",
       "    <tr style=\"text-align: right;\">\n",
       "      <th></th>\n",
       "      <th>2MASS</th>\n",
       "      <th>Name</th>\n",
       "      <th>SpT</th>\n",
       "      <th>r_SpT</th>\n",
       "      <th>Avmag</th>\n",
       "      <th>r_Avmag</th>\n",
       "      <th>rpmag</th>\n",
       "      <th>r_rpmag</th>\n",
       "      <th>Ksmag</th>\n",
       "      <th>pmRA</th>\n",
       "      <th>pmDE</th>\n",
       "      <th>e_pm</th>\n",
       "      <th>r_pm</th>\n",
       "      <th>BinRef</th>\n",
       "    </tr>\n",
       "  </thead>\n",
       "  <tbody>\n",
       "    <tr>\n",
       "      <th>0</th>\n",
       "      <td>J03500343+2235300</td>\n",
       "      <td>[LH98] 106</td>\n",
       "      <td>G0</td>\n",
       "      <td>26.0</td>\n",
       "      <td>2.4</td>\n",
       "      <td>11</td>\n",
       "      <td>8.77</td>\n",
       "      <td>8</td>\n",
       "      <td>6.04</td>\n",
       "      <td>156.9</td>\n",
       "      <td>-60.6</td>\n",
       "      <td>1.0</td>\n",
       "      <td>1</td>\n",
       "      <td>NaN</td>\n",
       "    </tr>\n",
       "    <tr>\n",
       "      <th>1</th>\n",
       "      <td>J03502840+1631151</td>\n",
       "      <td>[LH98] 108</td>\n",
       "      <td>G5</td>\n",
       "      <td>26.0</td>\n",
       "      <td>0.5</td>\n",
       "      <td>11</td>\n",
       "      <td>10.38</td>\n",
       "      <td>7,8</td>\n",
       "      <td>8.63</td>\n",
       "      <td>27.3</td>\n",
       "      <td>-26.9</td>\n",
       "      <td>0.6</td>\n",
       "      <td>1</td>\n",
       "      <td>NaN</td>\n",
       "    </tr>\n",
       "    <tr>\n",
       "      <th>2</th>\n",
       "      <td>J03505432+2350056</td>\n",
       "      <td>[LH98] 110</td>\n",
       "      <td>G7</td>\n",
       "      <td>26.0</td>\n",
       "      <td>0.8</td>\n",
       "      <td>11</td>\n",
       "      <td>11.08</td>\n",
       "      <td>7,8</td>\n",
       "      <td>9.05</td>\n",
       "      <td>19.3</td>\n",
       "      <td>-45.4</td>\n",
       "      <td>0.7</td>\n",
       "      <td>1</td>\n",
       "      <td>NaN</td>\n",
       "    </tr>\n",
       "    <tr>\n",
       "      <th>3</th>\n",
       "      <td>J03520223+2439479</td>\n",
       "      <td>HBC351</td>\n",
       "      <td>K5</td>\n",
       "      <td>14.0</td>\n",
       "      <td>0.0</td>\n",
       "      <td>14</td>\n",
       "      <td>11.63</td>\n",
       "      <td>7,8</td>\n",
       "      <td>9.07</td>\n",
       "      <td>17.4</td>\n",
       "      <td>-47.4</td>\n",
       "      <td>1.7</td>\n",
       "      <td>1</td>\n",
       "      <td>37</td>\n",
       "    </tr>\n",
       "    <tr>\n",
       "      <th>4</th>\n",
       "      <td>J03533134+2631411</td>\n",
       "      <td>[LH98] 117</td>\n",
       "      <td>G7</td>\n",
       "      <td>26.0</td>\n",
       "      <td>1.4</td>\n",
       "      <td>11</td>\n",
       "      <td>11.62</td>\n",
       "      <td>7,8</td>\n",
       "      <td>9.24</td>\n",
       "      <td>21.4</td>\n",
       "      <td>-45.3</td>\n",
       "      <td>1.3</td>\n",
       "      <td>1</td>\n",
       "      <td>NaN</td>\n",
       "    </tr>\n",
       "  </tbody>\n",
       "</table>\n",
       "</div>"
      ],
      "text/plain": [
       "               2MASS        Name SpT  r_SpT  Avmag r_Avmag  rpmag r_rpmag  \\\n",
       "0  J03500343+2235300  [LH98] 106  G0   26.0    2.4      11   8.77       8   \n",
       "1  J03502840+1631151  [LH98] 108  G5   26.0    0.5      11  10.38     7,8   \n",
       "2  J03505432+2350056  [LH98] 110  G7   26.0    0.8      11  11.08     7,8   \n",
       "3  J03520223+2439479      HBC351  K5   14.0    0.0      14  11.63     7,8   \n",
       "4  J03533134+2631411  [LH98] 117  G7   26.0    1.4      11  11.62     7,8   \n",
       "\n",
       "   Ksmag   pmRA  pmDE  e_pm r_pm BinRef  \n",
       "0   6.04  156.9 -60.6   1.0    1    NaN  \n",
       "1   8.63   27.3 -26.9   0.6    1    NaN  \n",
       "2   9.05   19.3 -45.4   0.7    1    NaN  \n",
       "3   9.07   17.4 -47.4   1.7    1     37  \n",
       "4   9.24   21.4 -45.3   1.3    1    NaN  "
      ]
     },
     "execution_count": 14,
     "metadata": {},
     "output_type": "execute_result"
    }
   ],
   "source": [
    "df1.head()"
   ]
  },
  {
   "cell_type": "code",
   "execution_count": 15,
   "metadata": {},
   "outputs": [
    {
     "data": {
      "text/html": [
       "<div>\n",
       "<style scoped>\n",
       "    .dataframe tbody tr th:only-of-type {\n",
       "        vertical-align: middle;\n",
       "    }\n",
       "\n",
       "    .dataframe tbody tr th {\n",
       "        vertical-align: top;\n",
       "    }\n",
       "\n",
       "    .dataframe thead th {\n",
       "        text-align: right;\n",
       "    }\n",
       "</style>\n",
       "<table border=\"1\" class=\"dataframe\">\n",
       "  <thead>\n",
       "    <tr style=\"text-align: right;\">\n",
       "      <th></th>\n",
       "      <th>2MASS</th>\n",
       "      <th>Name</th>\n",
       "      <th>Epoch</th>\n",
       "      <th>Tint</th>\n",
       "      <th>SNR</th>\n",
       "      <th>EWHa</th>\n",
       "      <th>EWLi</th>\n",
       "      <th>RVel</th>\n",
       "      <th>e_RVel</th>\n",
       "      <th>vsini</th>\n",
       "      <th>e_vsini</th>\n",
       "    </tr>\n",
       "  </thead>\n",
       "  <tbody>\n",
       "    <tr>\n",
       "      <th>0</th>\n",
       "      <td>04072456+2332553</td>\n",
       "      <td>[SCH2006b] J0407246+2332554</td>\n",
       "      <td>20061212</td>\n",
       "      <td>1800</td>\n",
       "      <td>24</td>\n",
       "      <td>-5.5</td>\n",
       "      <td>0</td>\n",
       "      <td>11.8</td>\n",
       "      <td>0.5</td>\n",
       "      <td>14.2</td>\n",
       "      <td>0.6</td>\n",
       "    </tr>\n",
       "    <tr>\n",
       "      <th>1</th>\n",
       "      <td>04073502+2237394</td>\n",
       "      <td>[SCH2006b] J0407350+2237396</td>\n",
       "      <td>20061213</td>\n",
       "      <td>1800</td>\n",
       "      <td>21</td>\n",
       "      <td>-16.4</td>\n",
       "      <td>612</td>\n",
       "      <td>15.4</td>\n",
       "      <td>2.5</td>\n",
       "      <td>97.3</td>\n",
       "      <td>3.5</td>\n",
       "    </tr>\n",
       "    <tr>\n",
       "      <th>2</th>\n",
       "      <td>04162725+2053091</td>\n",
       "      <td>[SCH2006b] J0416272+2053093</td>\n",
       "      <td>20061213</td>\n",
       "      <td>1800</td>\n",
       "      <td>20</td>\n",
       "      <td>-4.0</td>\n",
       "      <td>561</td>\n",
       "      <td>19.3</td>\n",
       "      <td>0.5</td>\n",
       "      <td>14.3</td>\n",
       "      <td>0.6</td>\n",
       "    </tr>\n",
       "    <tr>\n",
       "      <th>3</th>\n",
       "      <td>04270739+2215037</td>\n",
       "      <td>[SCH2006b] J0427074+2215039</td>\n",
       "      <td>20061213</td>\n",
       "      <td>1800</td>\n",
       "      <td>9</td>\n",
       "      <td>-15.5</td>\n",
       "      <td>443</td>\n",
       "      <td>16.8</td>\n",
       "      <td>0.6</td>\n",
       "      <td>14.9</td>\n",
       "      <td>0.7</td>\n",
       "    </tr>\n",
       "    <tr>\n",
       "      <th>4</th>\n",
       "      <td>04295950+2433078</td>\n",
       "      <td>[SCH2006b] J0429595+2433080</td>\n",
       "      <td>20061213</td>\n",
       "      <td>1800</td>\n",
       "      <td>6</td>\n",
       "      <td>-83.2</td>\n",
       "      <td>307</td>\n",
       "      <td>19.3</td>\n",
       "      <td>0.8</td>\n",
       "      <td>18.4</td>\n",
       "      <td>1.0</td>\n",
       "    </tr>\n",
       "  </tbody>\n",
       "</table>\n",
       "</div>"
      ],
      "text/plain": [
       "              2MASS                         Name     Epoch  Tint  SNR  EWHa  \\\n",
       "0  04072456+2332553  [SCH2006b] J0407246+2332554  20061212  1800   24  -5.5   \n",
       "1  04073502+2237394  [SCH2006b] J0407350+2237396  20061213  1800   21 -16.4   \n",
       "2  04162725+2053091  [SCH2006b] J0416272+2053093  20061213  1800   20  -4.0   \n",
       "3  04270739+2215037  [SCH2006b] J0427074+2215039  20061213  1800    9 -15.5   \n",
       "4  04295950+2433078  [SCH2006b] J0429595+2433080  20061213  1800    6 -83.2   \n",
       "\n",
       "   EWLi  RVel  e_RVel  vsini  e_vsini  \n",
       "0     0  11.8     0.5   14.2      0.6  \n",
       "1   612  15.4     2.5   97.3      3.5  \n",
       "2   561  19.3     0.5   14.3      0.6  \n",
       "3   443  16.8     0.6   14.9      0.7  \n",
       "4   307  19.3     0.8   18.4      1.0  "
      ]
     },
     "execution_count": 15,
     "metadata": {},
     "output_type": "execute_result"
    }
   ],
   "source": [
    "df5.head()"
   ]
  },
  {
   "cell_type": "code",
   "execution_count": 16,
   "metadata": {},
   "outputs": [
    {
     "data": {
      "text/plain": [
       "(396, 14)"
      ]
     },
     "execution_count": 16,
     "metadata": {},
     "output_type": "execute_result"
    }
   ],
   "source": [
    "df1.shape"
   ]
  },
  {
   "cell_type": "code",
   "execution_count": 17,
   "metadata": {},
   "outputs": [
    {
     "data": {
      "text/plain": [
       "(35, 11)"
      ]
     },
     "execution_count": 17,
     "metadata": {},
     "output_type": "execute_result"
    }
   ],
   "source": [
    "df5.shape"
   ]
  },
  {
   "cell_type": "markdown",
   "metadata": {},
   "source": [
    "The end for now."
   ]
  }
 ],
 "metadata": {
  "kernelspec": {
   "display_name": "Python 3",
   "language": "python",
   "name": "python3"
  },
  "language_info": {
   "codemirror_mode": {
    "name": "ipython",
    "version": 3
   },
   "file_extension": ".py",
   "mimetype": "text/x-python",
   "name": "python",
   "nbconvert_exporter": "python",
   "pygments_lexer": "ipython3",
   "version": "3.6.3"
  }
 },
 "nbformat": 4,
 "nbformat_minor": 1
}
