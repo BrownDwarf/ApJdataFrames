{
 "metadata": {
  "name": "",
  "signature": "sha256:d3ca11fb613badd5750b80fbb50fd8ac976ca09b7dd2d4c3e89ddf54a608a318"
 },
 "nbformat": 3,
 "nbformat_minor": 0,
 "worksheets": [
  {
   "cells": [
    {
     "cell_type": "markdown",
     "metadata": {},
     "source": [
      "`ApJdataFrames` Chabrier2000\n",
      "---\n",
      "`Title`: Deuterium Burning in Substellar Objects  \n",
      "`Authors`: CBAH\n",
      "\n",
      "Data is from this paper:  \n",
      "http://adsabs.harvard.edu/abs/2000ApJ...542L.119C"
     ]
    },
    {
     "cell_type": "code",
     "collapsed": false,
     "input": [
      "%pylab inline\n",
      "\n",
      "import seaborn as sns\n",
      "sns.set_context(\"notebook\", font_scale=1.5)\n",
      "\n",
      "import warnings\n",
      "warnings.filterwarnings(\"ignore\")"
     ],
     "language": "python",
     "metadata": {},
     "outputs": [
      {
       "output_type": "stream",
       "stream": "stdout",
       "text": [
        "Populating the interactive namespace from numpy and matplotlib\n"
       ]
      }
     ],
     "prompt_number": 1
    },
    {
     "cell_type": "code",
     "collapsed": false,
     "input": [
      "import pandas as pd"
     ],
     "language": "python",
     "metadata": {},
     "outputs": [],
     "prompt_number": 2
    },
    {
     "cell_type": "code",
     "collapsed": false,
     "input": [
      "from astropy.io import ascii"
     ],
     "language": "python",
     "metadata": {},
     "outputs": [],
     "prompt_number": 3
    },
    {
     "cell_type": "markdown",
     "metadata": {},
     "source": [
      "## Table 1 - Characteristic of the Models *[sic]*"
     ]
    },
    {
     "cell_type": "code",
     "collapsed": false,
     "input": [
      "names = [\"mass\",\"t_Myr\",\"Teff\",\"log_L\",\"log_g\", \"MB\",\"MV\",\"MR\",\"MI\",\"MJ\",\"MH\",\"MK\"]\n",
      "tbl1 = pd.read_csv(\"http://iopscience.iop.org/1538-4357/542/2/L119/fulltext/005577.tb1.txt\",\n",
      "                   skiprows=0, sep='\\t', names=names, usecols=[\"mass\",\"t_Myr\",\"Teff\",\"log_L\"])\n",
      "tbl1.mass.ffill(inplace=True)\n",
      "tbl1[\"D_abundance\"] = np.NaN\n",
      "tbl1[\"D_abundance\"][0::2]=2.0e-5\n",
      "tbl1[\"D_abundance\"][1::2]=1.0e-5\n",
      "tbl1"
     ],
     "language": "python",
     "metadata": {},
     "outputs": [
      {
       "html": [
        "<div style=\"max-height:1000px;max-width:1500px;overflow:auto;\">\n",
        "<table border=\"1\" class=\"dataframe\">\n",
        "  <thead>\n",
        "    <tr style=\"text-align: right;\">\n",
        "      <th></th>\n",
        "      <th>mass</th>\n",
        "      <th>t_Myr</th>\n",
        "      <th>Teff</th>\n",
        "      <th>log_L</th>\n",
        "      <th>D_abundance</th>\n",
        "    </tr>\n",
        "  </thead>\n",
        "  <tbody>\n",
        "    <tr>\n",
        "      <th>0 </th>\n",
        "      <td> 0.015</td>\n",
        "      <td> 18.42</td>\n",
        "      <td> 2177</td>\n",
        "      <td>-3.17</td>\n",
        "      <td> 0.00002</td>\n",
        "    </tr>\n",
        "    <tr>\n",
        "      <th>1 </th>\n",
        "      <td> 0.015</td>\n",
        "      <td> 50.58</td>\n",
        "      <td> 1834</td>\n",
        "      <td>-3.65</td>\n",
        "      <td> 0.00001</td>\n",
        "    </tr>\n",
        "    <tr>\n",
        "      <th>2 </th>\n",
        "      <td> 0.020</td>\n",
        "      <td>  7.59</td>\n",
        "      <td> 2497</td>\n",
        "      <td>-2.67</td>\n",
        "      <td> 0.00002</td>\n",
        "    </tr>\n",
        "    <tr>\n",
        "      <th>3 </th>\n",
        "      <td> 0.020</td>\n",
        "      <td> 17.02</td>\n",
        "      <td> 2415</td>\n",
        "      <td>-2.88</td>\n",
        "      <td> 0.00001</td>\n",
        "    </tr>\n",
        "    <tr>\n",
        "      <th>4 </th>\n",
        "      <td> 0.030</td>\n",
        "      <td>  2.92</td>\n",
        "      <td> 2703</td>\n",
        "      <td>-2.21</td>\n",
        "      <td> 0.00002</td>\n",
        "    </tr>\n",
        "    <tr>\n",
        "      <th>5 </th>\n",
        "      <td> 0.030</td>\n",
        "      <td>  7.28</td>\n",
        "      <td> 2682</td>\n",
        "      <td>-2.36</td>\n",
        "      <td> 0.00001</td>\n",
        "    </tr>\n",
        "    <tr>\n",
        "      <th>6 </th>\n",
        "      <td> 0.040</td>\n",
        "      <td>  2.02</td>\n",
        "      <td> 2794</td>\n",
        "      <td>-1.93</td>\n",
        "      <td> 0.00002</td>\n",
        "    </tr>\n",
        "    <tr>\n",
        "      <th>7 </th>\n",
        "      <td> 0.040</td>\n",
        "      <td>  4.99</td>\n",
        "      <td> 2784</td>\n",
        "      <td>-2.08</td>\n",
        "      <td> 0.00001</td>\n",
        "    </tr>\n",
        "    <tr>\n",
        "      <th>8 </th>\n",
        "      <td> 0.050</td>\n",
        "      <td>  1.55</td>\n",
        "      <td> 2844</td>\n",
        "      <td>-1.74</td>\n",
        "      <td> 0.00002</td>\n",
        "    </tr>\n",
        "    <tr>\n",
        "      <th>9 </th>\n",
        "      <td> 0.050</td>\n",
        "      <td>  3.93</td>\n",
        "      <td> 2846</td>\n",
        "      <td>-1.87</td>\n",
        "      <td> 0.00001</td>\n",
        "    </tr>\n",
        "    <tr>\n",
        "      <th>10</th>\n",
        "      <td> 0.060</td>\n",
        "      <td>  1.31</td>\n",
        "      <td> 2887</td>\n",
        "      <td>-1.58</td>\n",
        "      <td> 0.00002</td>\n",
        "    </tr>\n",
        "    <tr>\n",
        "      <th>11</th>\n",
        "      <td> 0.060</td>\n",
        "      <td>  3.27</td>\n",
        "      <td> 2887</td>\n",
        "      <td>-1.72</td>\n",
        "      <td> 0.00001</td>\n",
        "    </tr>\n",
        "    <tr>\n",
        "      <th>12</th>\n",
        "      <td> 0.070</td>\n",
        "      <td>  1.13</td>\n",
        "      <td> 2920</td>\n",
        "      <td>-1.45</td>\n",
        "      <td> 0.00002</td>\n",
        "    </tr>\n",
        "    <tr>\n",
        "      <th>13</th>\n",
        "      <td> 0.070</td>\n",
        "      <td>  2.82</td>\n",
        "      <td> 2925</td>\n",
        "      <td>-1.58</td>\n",
        "      <td> 0.00001</td>\n",
        "    </tr>\n",
        "    <tr>\n",
        "      <th>14</th>\n",
        "      <td> 0.072</td>\n",
        "      <td>  1.07</td>\n",
        "      <td> 2926</td>\n",
        "      <td>-1.43</td>\n",
        "      <td> 0.00002</td>\n",
        "    </tr>\n",
        "    <tr>\n",
        "      <th>15</th>\n",
        "      <td> 0.072</td>\n",
        "      <td>  2.74</td>\n",
        "      <td> 2932</td>\n",
        "      <td>-1.56</td>\n",
        "      <td> 0.00001</td>\n",
        "    </tr>\n",
        "    <tr>\n",
        "      <th>16</th>\n",
        "      <td> 0.075</td>\n",
        "      <td>  1.03</td>\n",
        "      <td> 2932</td>\n",
        "      <td>-1.39</td>\n",
        "      <td> 0.00002</td>\n",
        "    </tr>\n",
        "    <tr>\n",
        "      <th>17</th>\n",
        "      <td> 0.075</td>\n",
        "      <td>  2.64</td>\n",
        "      <td> 2942</td>\n",
        "      <td>-1.52</td>\n",
        "      <td> 0.00001</td>\n",
        "    </tr>\n",
        "  </tbody>\n",
        "</table>\n",
        "</div>"
       ],
       "metadata": {},
       "output_type": "pyout",
       "prompt_number": 4,
       "text": [
        "     mass  t_Myr  Teff  log_L  D_abundance\n",
        "0   0.015  18.42  2177  -3.17      0.00002\n",
        "1   0.015  50.58  1834  -3.65      0.00001\n",
        "2   0.020   7.59  2497  -2.67      0.00002\n",
        "3   0.020  17.02  2415  -2.88      0.00001\n",
        "4   0.030   2.92  2703  -2.21      0.00002\n",
        "5   0.030   7.28  2682  -2.36      0.00001\n",
        "6   0.040   2.02  2794  -1.93      0.00002\n",
        "7   0.040   4.99  2784  -2.08      0.00001\n",
        "8   0.050   1.55  2844  -1.74      0.00002\n",
        "9   0.050   3.93  2846  -1.87      0.00001\n",
        "10  0.060   1.31  2887  -1.58      0.00002\n",
        "11  0.060   3.27  2887  -1.72      0.00001\n",
        "12  0.070   1.13  2920  -1.45      0.00002\n",
        "13  0.070   2.82  2925  -1.58      0.00001\n",
        "14  0.072   1.07  2926  -1.43      0.00002\n",
        "15  0.072   2.74  2932  -1.56      0.00001\n",
        "16  0.075   1.03  2932  -1.39      0.00002\n",
        "17  0.075   2.64  2942  -1.52      0.00001"
       ]
      }
     ],
     "prompt_number": 4
    },
    {
     "cell_type": "markdown",
     "metadata": {},
     "source": [
      "#Save data table locally."
     ]
    },
    {
     "cell_type": "markdown",
     "metadata": {},
     "source": [
      "    ! mkdir ../data/Chabrier2000"
     ]
    },
    {
     "cell_type": "code",
     "collapsed": false,
     "input": [
      "tbl1.to_csv(\"../data/Chabrier2000/tbl1.csv\", sep='\\t', index=False)"
     ],
     "language": "python",
     "metadata": {},
     "outputs": [],
     "prompt_number": 5
    },
    {
     "cell_type": "markdown",
     "metadata": {},
     "source": [
      "*Script finished.*"
     ]
    }
   ],
   "metadata": {}
  }
 ]
}