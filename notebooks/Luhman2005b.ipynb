{
 "metadata": {
  "name": "",
  "signature": "sha256:3dacd9ede7752dfdd8ec08b2b3bee30e383d55258c3a16303d6eab7d1d323f40"
 },
 "nbformat": 3,
 "nbformat_minor": 0,
 "worksheets": [
  {
   "cells": [
    {
     "cell_type": "markdown",
     "metadata": {},
     "source": [
      "`ApJdataFrames` 005: Luhman2005b\n",
      "---\n",
      "`Title`: The Disk Fractions of Brown Dwarfs in IC 348 and Chamaeleon I  \n",
      "`Authors`: Kevin L Luhman, C J Lada, L Hartmann, A. A. Muench, S T Megeath, Lori E Allen, Myers, P. C., J Muzerolle, E. Young, and G G Fazio  \n",
      "\n",
      "Data is from this paper:\n",
      "http://iopscience.iop.org/1538-4357/631/1/L69/"
     ]
    },
    {
     "cell_type": "code",
     "collapsed": false,
     "input": [
      "import warnings\n",
      "warnings.filterwarnings(\"ignore\")"
     ],
     "language": "python",
     "metadata": {},
     "outputs": [],
     "prompt_number": 1
    },
    {
     "cell_type": "markdown",
     "metadata": {},
     "source": [
      "## Table 2- IC348"
     ]
    },
    {
     "cell_type": "code",
     "collapsed": false,
     "input": [
      "import pandas as pd"
     ],
     "language": "python",
     "metadata": {},
     "outputs": [],
     "prompt_number": 2
    },
    {
     "cell_type": "code",
     "collapsed": false,
     "input": [
      "names = [\"ID\",\"Sp.a\",\"[3.6]\",\"[4.5]\",\"[5.8]\",\"[8.0]\"]\n",
      "tbl2 = pd.read_csv(\"http://iopscience.iop.org/1538-4357/631/1/L69/fulltext/19825.tb2.txt\", \n",
      "                   sep='\\t', names=names, na_values='\\ldots')\n",
      "tbl2.head()"
     ],
     "language": "python",
     "metadata": {},
     "outputs": [
      {
       "html": [
        "<div style=\"max-height:1000px;max-width:1500px;overflow:auto;\">\n",
        "<table border=\"1\" class=\"dataframe\">\n",
        "  <thead>\n",
        "    <tr style=\"text-align: right;\">\n",
        "      <th></th>\n",
        "      <th>ID</th>\n",
        "      <th>Sp.a</th>\n",
        "      <th>[3.6]</th>\n",
        "      <th>[4.5]</th>\n",
        "      <th>[5.8]</th>\n",
        "      <th>[8.0]</th>\n",
        "    </tr>\n",
        "  </thead>\n",
        "  <tbody>\n",
        "    <tr>\n",
        "      <th>0</th>\n",
        "      <td> 291</td>\n",
        "      <td> M7.25</td>\n",
        "      <td> 11.94 \\pm 0.02</td>\n",
        "      <td> 11.57 \\pm 0.02</td>\n",
        "      <td> 11.14 \\pm 0.04</td>\n",
        "      <td> 10.39 \\pm 0.07</td>\n",
        "    </tr>\n",
        "    <tr>\n",
        "      <th>1</th>\n",
        "      <td> 316</td>\n",
        "      <td>  M6.5</td>\n",
        "      <td> 12.60 \\pm 0.02</td>\n",
        "      <td> 12.51 \\pm 0.02</td>\n",
        "      <td> 12.40 \\pm 0.05</td>\n",
        "      <td> 11.91 \\pm 0.14</td>\n",
        "    </tr>\n",
        "    <tr>\n",
        "      <th>2</th>\n",
        "      <td> 329</td>\n",
        "      <td>  M7.5</td>\n",
        "      <td> 12.87 \\pm 0.02</td>\n",
        "      <td> 12.77 \\pm 0.02</td>\n",
        "      <td> 12.72 \\pm 0.06</td>\n",
        "      <td> 12.67 \\pm 0.25</td>\n",
        "    </tr>\n",
        "    <tr>\n",
        "      <th>3</th>\n",
        "      <td> 355</td>\n",
        "      <td>    M8</td>\n",
        "      <td> 12.97 \\pm 0.02</td>\n",
        "      <td> 12.83 \\pm 0.02</td>\n",
        "      <td> 12.47 \\pm 0.12</td>\n",
        "      <td>            NaN</td>\n",
        "    </tr>\n",
        "    <tr>\n",
        "      <th>4</th>\n",
        "      <td> 363</td>\n",
        "      <td>    M8</td>\n",
        "      <td> 13.19 \\pm 0.02</td>\n",
        "      <td> 13.11 \\pm 0.02</td>\n",
        "      <td> 13.02 \\pm 0.03</td>\n",
        "      <td> 13.02 \\pm 0.13</td>\n",
        "    </tr>\n",
        "  </tbody>\n",
        "</table>\n",
        "</div>"
       ],
       "metadata": {},
       "output_type": "pyout",
       "prompt_number": 3,
       "text": [
        "    ID   Sp.a           [3.6]           [4.5]           [5.8]           [8.0]\n",
        "0  291  M7.25  11.94 \\pm 0.02  11.57 \\pm 0.02  11.14 \\pm 0.04  10.39 \\pm 0.07\n",
        "1  316   M6.5  12.60 \\pm 0.02  12.51 \\pm 0.02  12.40 \\pm 0.05  11.91 \\pm 0.14\n",
        "2  329   M7.5  12.87 \\pm 0.02  12.77 \\pm 0.02  12.72 \\pm 0.06  12.67 \\pm 0.25\n",
        "3  355     M8  12.97 \\pm 0.02  12.83 \\pm 0.02  12.47 \\pm 0.12             NaN\n",
        "4  363     M8  13.19 \\pm 0.02  13.11 \\pm 0.02  13.02 \\pm 0.03  13.02 \\pm 0.13"
       ]
      }
     ],
     "prompt_number": 3
    },
    {
     "cell_type": "markdown",
     "metadata": {},
     "source": [
      "##Table 3- Chameleon I"
     ]
    },
    {
     "cell_type": "code",
     "collapsed": false,
     "input": [
      "names = [\"ID\",\"Sp.a\",\"[3.6]\",\"[4.5]\",\"[5.8]\",\"[8.0]\"]\n",
      "tbl3 = pd.read_csv(\"http://iopscience.iop.org/1538-4357/631/1/L69/fulltext/19825.tb3.txt\", \n",
      "                   sep='\\t', names=names, na_values='\\ldots')\n",
      "tbl3.head()"
     ],
     "language": "python",
     "metadata": {},
     "outputs": [
      {
       "html": [
        "<div style=\"max-height:1000px;max-width:1500px;overflow:auto;\">\n",
        "<table border=\"1\" class=\"dataframe\">\n",
        "  <thead>\n",
        "    <tr style=\"text-align: right;\">\n",
        "      <th></th>\n",
        "      <th>ID</th>\n",
        "      <th>Sp.a</th>\n",
        "      <th>[3.6]</th>\n",
        "      <th>[4.5]</th>\n",
        "      <th>[5.8]</th>\n",
        "      <th>[8.0]</th>\n",
        "    </tr>\n",
        "  </thead>\n",
        "  <tbody>\n",
        "    <tr>\n",
        "      <th>0</th>\n",
        "      <td> 2MASS 11011926-7732383A+B</td>\n",
        "      <td> M7.25 + M8.25</td>\n",
        "      <td> 11.00 \\pm 0.01</td>\n",
        "      <td> 10.86 \\pm 0.01</td>\n",
        "      <td> 10.83 \\pm 0.01</td>\n",
        "      <td> 10.76 \\pm 0.02</td>\n",
        "    </tr>\n",
        "    <tr>\n",
        "      <th>1</th>\n",
        "      <td>                CHSM 17173</td>\n",
        "      <td>            M8</td>\n",
        "      <td> 11.96 \\pm 0.01</td>\n",
        "      <td> 11.87 \\pm 0.01</td>\n",
        "      <td> 11.71 \\pm 0.03</td>\n",
        "      <td> 11.76 \\pm 0.04</td>\n",
        "    </tr>\n",
        "    <tr>\n",
        "      <th>2</th>\n",
        "      <td>    2MASS 11085176-7632502</td>\n",
        "      <td>         M7.25</td>\n",
        "      <td> 12.43 \\pm 0.01</td>\n",
        "      <td> 12.28 \\pm 0.01</td>\n",
        "      <td> 12.27 \\pm 0.05</td>\n",
        "      <td> 12.21 \\pm 0.07</td>\n",
        "    </tr>\n",
        "    <tr>\n",
        "      <th>3</th>\n",
        "      <td>                    OTS 44</td>\n",
        "      <td>          M9.5</td>\n",
        "      <td> 13.71 \\pm 0.02</td>\n",
        "      <td> 13.21 \\pm 0.02</td>\n",
        "      <td> 12.76 \\pm 0.04</td>\n",
        "      <td> 12.04 \\pm 0.02</td>\n",
        "    </tr>\n",
        "    <tr>\n",
        "      <th>4</th>\n",
        "      <td>    2MASS 11084952-7638443</td>\n",
        "      <td>            M9</td>\n",
        "      <td> 13.61 \\pm 0.01</td>\n",
        "      <td> 13.21 \\pm 0.02</td>\n",
        "      <td> 12.68 \\pm 0.06</td>\n",
        "      <td> 12.14 \\pm 0.04</td>\n",
        "    </tr>\n",
        "  </tbody>\n",
        "</table>\n",
        "</div>"
       ],
       "metadata": {},
       "output_type": "pyout",
       "prompt_number": 4,
       "text": [
        "                          ID           Sp.a           [3.6]           [4.5]  \\\n",
        "0  2MASS 11011926-7732383A+B  M7.25 + M8.25  11.00 \\pm 0.01  10.86 \\pm 0.01   \n",
        "1                 CHSM 17173             M8  11.96 \\pm 0.01  11.87 \\pm 0.01   \n",
        "2     2MASS 11085176-7632502          M7.25  12.43 \\pm 0.01  12.28 \\pm 0.01   \n",
        "3                     OTS 44           M9.5  13.71 \\pm 0.02  13.21 \\pm 0.02   \n",
        "4     2MASS 11084952-7638443             M9  13.61 \\pm 0.01  13.21 \\pm 0.02   \n",
        "\n",
        "            [5.8]           [8.0]  \n",
        "0  10.83 \\pm 0.01  10.76 \\pm 0.02  \n",
        "1  11.71 \\pm 0.03  11.76 \\pm 0.04  \n",
        "2  12.27 \\pm 0.05  12.21 \\pm 0.07  \n",
        "3  12.76 \\pm 0.04  12.04 \\pm 0.02  \n",
        "4  12.68 \\pm 0.06  12.14 \\pm 0.04  "
       ]
      }
     ],
     "prompt_number": 4
    },
    {
     "cell_type": "markdown",
     "metadata": {},
     "source": [
      "**The end.**"
     ]
    }
   ],
   "metadata": {}
  }
 ]
}