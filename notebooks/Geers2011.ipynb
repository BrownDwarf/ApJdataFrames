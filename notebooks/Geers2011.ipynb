{
 "cells": [
  {
   "cell_type": "markdown",
   "metadata": {},
   "source": [
    "`ApJdataFrames` Geers2011\n",
    "---\n",
    "`Title`: SUBSTELLAR OBJECTS IN NEARBY YOUNG CLUSTERS (SONYC). II. THE BROWN DWARF POPULATION OF ρ OPHIUCHI  \n",
    "`Authors`: Geers et al.\n",
    "\n",
    "Data is from this paper:  \n",
    "http://iopscience.iop.org/0004-637X/726/1/23/"
   ]
  },
  {
   "cell_type": "code",
   "execution_count": 1,
   "metadata": {
    "collapsed": false
   },
   "outputs": [],
   "source": [
    "import warnings\n",
    "warnings.filterwarnings(\"ignore\")"
   ]
  },
  {
   "cell_type": "code",
   "execution_count": 2,
   "metadata": {
    "collapsed": false
   },
   "outputs": [],
   "source": [
    "from astropy.io import ascii"
   ]
  },
  {
   "cell_type": "code",
   "execution_count": 3,
   "metadata": {
    "collapsed": true
   },
   "outputs": [],
   "source": [
    "import pandas as pd"
   ]
  },
  {
   "cell_type": "markdown",
   "metadata": {},
   "source": [
    "## Table 2 - Probable Low Mass and Substellar Mass Members of rho Oph, with MOIRCS Spectroscopy Follow-up"
   ]
  },
  {
   "cell_type": "code",
   "execution_count": 4,
   "metadata": {
    "collapsed": false
   },
   "outputs": [
    {
     "data": {
      "text/html": [
       "<div style=\"max-height:1000px;max-width:1500px;overflow:auto;\">\n",
       "<table border=\"1\" class=\"dataframe\">\n",
       "  <thead>\n",
       "    <tr style=\"text-align: right;\">\n",
       "      <th></th>\n",
       "      <th>No.</th>\n",
       "      <th>R.A. (J2000)</th>\n",
       "      <th>Decl. (J2000)</th>\n",
       "      <th>i (mag)</th>\n",
       "      <th>J (mag)</th>\n",
       "      <th>K_s (mag)</th>\n",
       "      <th>T_eff (K)</th>\n",
       "      <th>A_V</th>\n",
       "      <th>Notes</th>\n",
       "    </tr>\n",
       "  </thead>\n",
       "  <tbody>\n",
       "    <tr>\n",
       "      <th>1</th>\n",
       "      <td> 1</td>\n",
       "      <td> 16 26 56.33</td>\n",
       "      <td> -24 42 37.8</td>\n",
       "      <td> 21.24</td>\n",
       "      <td> 17.68</td>\n",
       "      <td> 15.53</td>\n",
       "      <td> 2500</td>\n",
       "      <td>  5</td>\n",
       "      <td> SONYC-RhoOph-1</td>\n",
       "    </tr>\n",
       "    <tr>\n",
       "      <th>3</th>\n",
       "      <td> 2</td>\n",
       "      <td> 16 26 57.36</td>\n",
       "      <td> -24 42 18.8</td>\n",
       "      <td> 22.53</td>\n",
       "      <td> 18.94</td>\n",
       "      <td> 15.73</td>\n",
       "      <td> 3100</td>\n",
       "      <td> 10</td>\n",
       "      <td> SONYC-RhoOph-2</td>\n",
       "    </tr>\n",
       "    <tr>\n",
       "      <th>4</th>\n",
       "      <td> 3</td>\n",
       "      <td> 16 26 38.82</td>\n",
       "      <td> -24 23 24.7</td>\n",
       "      <td> 21.10</td>\n",
       "      <td> 15.10</td>\n",
       "      <td>   NaN</td>\n",
       "      <td> 3400</td>\n",
       "      <td> 14</td>\n",
       "      <td>          GY 84</td>\n",
       "    </tr>\n",
       "  </tbody>\n",
       "</table>\n",
       "</div>"
      ],
      "text/plain": [
       "   No. R.A. (J2000) Decl. (J2000)  i (mag)  J (mag)  K_s (mag)  T_eff (K)  \\\n",
       "1    1  16 26 56.33   -24 42 37.8    21.24    17.68      15.53       2500   \n",
       "3    2  16 26 57.36   -24 42 18.8    22.53    18.94      15.73       3100   \n",
       "4    3  16 26 38.82   -24 23 24.7    21.10    15.10        NaN       3400   \n",
       "\n",
       "   A_V           Notes  \n",
       "1    5  SONYC-RhoOph-1  \n",
       "3   10  SONYC-RhoOph-2  \n",
       "4   14           GY 84  "
      ]
     },
     "execution_count": 4,
     "metadata": {},
     "output_type": "execute_result"
    }
   ],
   "source": [
    "names = [\"No.\",\"R.A. (J2000)\",\"Decl. (J2000)\",\"i (mag)\",\"J (mag)\",\"K_s (mag)\",\"T_eff (K)\",\"A_V\",\"Notes\"]\n",
    "tbl2 = pd.read_csv(\"http://iopscience.iop.org/0004-637X/726/1/23/suppdata/apj373191t2_ascii.txt\",\n",
    "                   sep=\"\\t\", skiprows=[0,1,2,3], na_values=\"sat\", names = names)\n",
    "tbl2.dropna(how=\"all\", inplace=True)\n",
    "tbl2.head()"
   ]
  },
  {
   "cell_type": "markdown",
   "metadata": {},
   "source": [
    "## Save the data"
   ]
  },
  {
   "cell_type": "code",
   "execution_count": 5,
   "metadata": {
    "collapsed": false
   },
   "outputs": [
    {
     "name": "stdout",
     "output_type": "stream",
     "text": [
      "mkdir: ../data/Geers2011: File exists\r\n"
     ]
    }
   ],
   "source": [
    "! mkdir ../data/Geers2011"
   ]
  },
  {
   "cell_type": "code",
   "execution_count": 6,
   "metadata": {
    "collapsed": false
   },
   "outputs": [],
   "source": [
    "tbl2.to_csv(\"../data/Geers2011/tb2.csv\", index=False, sep='\\t')"
   ]
  },
  {
   "cell_type": "markdown",
   "metadata": {},
   "source": [
    "*The end*"
   ]
  }
 ],
 "metadata": {
  "kernelspec": {
   "display_name": "Python 2",
   "language": "python",
   "name": "python2"
  },
  "language_info": {
   "codemirror_mode": {
    "name": "ipython",
    "version": 2
   },
   "file_extension": ".py",
   "mimetype": "text/x-python",
   "name": "python",
   "nbconvert_exporter": "python",
   "pygments_lexer": "ipython2",
   "version": "2.7.9"
  }
 },
 "nbformat": 4,
 "nbformat_minor": 0
}
