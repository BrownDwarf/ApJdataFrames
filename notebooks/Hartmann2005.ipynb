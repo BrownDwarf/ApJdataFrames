{
 "cells": [
  {
   "cell_type": "markdown",
   "metadata": {},
   "source": [
    "`ApJdataFrames` 004: Hartmann2005\n",
    "---\n",
    "`Title`: IRAC Observations of Taurus Pre–Main-Sequence Stars  \n",
    "`Authors`: Lee Hartmann, S. T. Megeath, Lori Allen, Kevin Luhman, Nuria Calvet, Paola D'Alessio, Ramiro Franco-Hernandez, and Giovanni Fazio\n",
    "\n",
    "Data is from this paper:\n",
    "http://iopscience.iop.org/0004-637X/629/2/881"
   ]
  },
  {
   "cell_type": "code",
   "execution_count": 1,
   "metadata": {
    "collapsed": false
   },
   "outputs": [],
   "source": [
    "import warnings\n",
    "warnings.filterwarnings(\"ignore\")"
   ]
  },
  {
   "cell_type": "markdown",
   "metadata": {},
   "source": [
    "## Table 1- IRAC Photometry"
   ]
  },
  {
   "cell_type": "code",
   "execution_count": 2,
   "metadata": {
    "collapsed": false
   },
   "outputs": [],
   "source": [
    "import pandas as pd"
   ]
  },
  {
   "cell_type": "code",
   "execution_count": 3,
   "metadata": {
    "collapsed": false
   },
   "outputs": [
    {
     "data": {
      "text/html": [
       "<div style=\"max-height:1000px;max-width:1500px;overflow:auto;\">\n",
       "<table border=\"1\" class=\"dataframe\">\n",
       "  <thead>\n",
       "    <tr style=\"text-align: right;\">\n",
       "      <th></th>\n",
       "      <th>Name</th>\n",
       "      <th>2MASS ID</th>\n",
       "      <th>R.A.(J2000.0)(deg)</th>\n",
       "      <th>Decl. (J2000.0)(deg)</th>\n",
       "      <th>J(mag)</th>\n",
       "      <th>H(mag)</th>\n",
       "      <th>Ks(mag)</th>\n",
       "      <th>[3.6](mag)</th>\n",
       "      <th>[4.5](mag)</th>\n",
       "      <th>[5.8](mag)</th>\n",
       "      <th>[8](mag)</th>\n",
       "      <th>JD-53000</th>\n",
       "      <th>IRAC Type</th>\n",
       "    </tr>\n",
       "  </thead>\n",
       "  <tbody>\n",
       "    <tr>\n",
       "      <th>0</th>\n",
       "      <td> 04260+2642</td>\n",
       "      <td> 04290498+2649073</td>\n",
       "      <td> 67.27046</td>\n",
       "      <td> 26.81819</td>\n",
       "      <td> 14.680</td>\n",
       "      <td> 13.025</td>\n",
       "      <td> 11.883</td>\n",
       "      <td>  9.984 \\pm 0.011</td>\n",
       "      <td>  9.388 \\pm 0.040</td>\n",
       "      <td> 8.853 \\pm 0.008</td>\n",
       "      <td> 8.009 \\pm 0.008</td>\n",
       "      <td> 71.676</td>\n",
       "      <td> I</td>\n",
       "    </tr>\n",
       "    <tr>\n",
       "      <th>1</th>\n",
       "      <td> 04248+2612</td>\n",
       "      <td> 04275730+2619183</td>\n",
       "      <td> 66.98861</td>\n",
       "      <td> 26.32129</td>\n",
       "      <td> 13.235</td>\n",
       "      <td> 11.795</td>\n",
       "      <td> 11.026</td>\n",
       "      <td>  9.335 \\pm 0.019</td>\n",
       "      <td>  8.616 \\pm 0.014</td>\n",
       "      <td> 7.855 \\pm 0.007</td>\n",
       "      <td> 6.812 \\pm 0.006</td>\n",
       "      <td> 71.676</td>\n",
       "      <td> I</td>\n",
       "    </tr>\n",
       "    <tr>\n",
       "      <th>2</th>\n",
       "      <td> 04489+3042</td>\n",
       "      <td> 04520668+3047175</td>\n",
       "      <td> 73.02742</td>\n",
       "      <td> 30.78775</td>\n",
       "      <td> 14.426</td>\n",
       "      <td> 12.021</td>\n",
       "      <td> 10.383</td>\n",
       "      <td>  8.379 \\pm 0.011</td>\n",
       "      <td>  7.690 \\pm 0.012</td>\n",
       "      <td> 7.095 \\pm 0.008</td>\n",
       "      <td> 6.161 \\pm 0.012</td>\n",
       "      <td> 49.355</td>\n",
       "      <td> I</td>\n",
       "    </tr>\n",
       "    <tr>\n",
       "      <th>3</th>\n",
       "      <td> 04368+2557</td>\n",
       "      <td>              NaN</td>\n",
       "      <td> 69.97395</td>\n",
       "      <td> 26.05224</td>\n",
       "      <td>    NaN</td>\n",
       "      <td>    NaN</td>\n",
       "      <td>    NaN</td>\n",
       "      <td> 12.095 \\pm 0.243</td>\n",
       "      <td> 10.484 \\pm 0.046</td>\n",
       "      <td> 9.521 \\pm 0.088</td>\n",
       "      <td> 9.137 \\pm 0.062</td>\n",
       "      <td> 71.637</td>\n",
       "      <td> 0</td>\n",
       "    </tr>\n",
       "    <tr>\n",
       "      <th>4</th>\n",
       "      <td> 04365+2535</td>\n",
       "      <td> 04393519+2541447</td>\n",
       "      <td> 69.89638</td>\n",
       "      <td> 25.69535</td>\n",
       "      <td> 16.905</td>\n",
       "      <td> 13.752</td>\n",
       "      <td> 10.837</td>\n",
       "      <td>  7.466 \\pm 0.008</td>\n",
       "      <td>  6.111 \\pm 0.008</td>\n",
       "      <td> 5.151 \\pm 0.004</td>\n",
       "      <td> 4.420 \\pm 0.007</td>\n",
       "      <td> 71.641</td>\n",
       "      <td> I</td>\n",
       "    </tr>\n",
       "  </tbody>\n",
       "</table>\n",
       "</div>"
      ],
      "text/plain": [
       "         Name          2MASS ID  R.A.(J2000.0)(deg)  Decl. (J2000.0)(deg)  \\\n",
       "0  04260+2642  04290498+2649073            67.27046              26.81819   \n",
       "1  04248+2612  04275730+2619183            66.98861              26.32129   \n",
       "2  04489+3042  04520668+3047175            73.02742              30.78775   \n",
       "3  04368+2557               NaN            69.97395              26.05224   \n",
       "4  04365+2535  04393519+2541447            69.89638              25.69535   \n",
       "\n",
       "   J(mag)  H(mag)  Ks(mag)        [3.6](mag)        [4.5](mag)  \\\n",
       "0  14.680  13.025   11.883   9.984 \\pm 0.011   9.388 \\pm 0.040   \n",
       "1  13.235  11.795   11.026   9.335 \\pm 0.019   8.616 \\pm 0.014   \n",
       "2  14.426  12.021   10.383   8.379 \\pm 0.011   7.690 \\pm 0.012   \n",
       "3     NaN     NaN      NaN  12.095 \\pm 0.243  10.484 \\pm 0.046   \n",
       "4  16.905  13.752   10.837   7.466 \\pm 0.008   6.111 \\pm 0.008   \n",
       "\n",
       "        [5.8](mag)         [8](mag) JD-53000 IRAC Type  \n",
       "0  8.853 \\pm 0.008  8.009 \\pm 0.008   71.676         I  \n",
       "1  7.855 \\pm 0.007  6.812 \\pm 0.006   71.676         I  \n",
       "2  7.095 \\pm 0.008  6.161 \\pm 0.012   49.355         I  \n",
       "3  9.521 \\pm 0.088  9.137 \\pm 0.062   71.637         0  \n",
       "4  5.151 \\pm 0.004  4.420 \\pm 0.007   71.641         I  "
      ]
     },
     "execution_count": 3,
     "metadata": {},
     "output_type": "execute_result"
    }
   ],
   "source": [
    "names = [\"Name\",\"2MASS ID\",\"R.A.(J2000.0)(deg)\",\"Decl. (J2000.0)(deg)\",\n",
    "         \"J(mag)\",\"H(mag)\",\"Ks(mag)\",\"[3.6](mag)\",\"[4.5](mag)\",\n",
    "         \"[5.8](mag)\",\"[8](mag)\",\"JD-53000\",\"IRAC Type\"]\n",
    "tbl1 = pd.read_csv(\"http://iopscience.iop.org/0004-637X/629/2/881/fulltext/61849.tb1.txt\", \n",
    "                   na_values='\\ldots',sep='\\t', names=names)\n",
    "tbl1.head()"
   ]
  },
  {
   "cell_type": "markdown",
   "metadata": {},
   "source": [
    "**The end.**"
   ]
  }
 ],
 "metadata": {
  "kernelspec": {
   "display_name": "Python 2",
   "language": "python",
   "name": "python2"
  },
  "language_info": {
   "codemirror_mode": {
    "name": "ipython",
    "version": 2
   },
   "file_extension": ".py",
   "mimetype": "text/x-python",
   "name": "python",
   "nbconvert_exporter": "python",
   "pygments_lexer": "ipython2",
   "version": "2.7.9"
  }
 },
 "nbformat": 4,
 "nbformat_minor": 0
}
