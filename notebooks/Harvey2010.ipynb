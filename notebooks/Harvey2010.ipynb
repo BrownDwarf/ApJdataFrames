{
 "cells": [
  {
   "cell_type": "markdown",
   "metadata": {},
   "source": [
    "`ApJdataFrames` Harvey 2010\n",
    "---\n",
    "`Title`: A SPITZER SEARCH FOR PLANETARY-MASS BROWN DWARFS WITH CIRCUMSTELLAR DISKS: CANDIDATE SELECTION  \n",
    "`Authors`: Paul M. Harvey1, Daniel T. Jaffe1, Katelyn Allers2, and Michael Liu3\n",
    "\n",
    "Data is from this paper:  \n",
    "http://iopscience.iop.org/0004-637X/720/2/1374/article"
   ]
  },
  {
   "cell_type": "code",
   "execution_count": 1,
   "metadata": {
    "collapsed": false
   },
   "outputs": [
    {
     "name": "stdout",
     "output_type": "stream",
     "text": [
      "Populating the interactive namespace from numpy and matplotlib\n"
     ]
    }
   ],
   "source": [
    "%pylab inline\n",
    "import seaborn as sns"
   ]
  },
  {
   "cell_type": "code",
   "execution_count": 2,
   "metadata": {
    "collapsed": false
   },
   "outputs": [],
   "source": [
    "import warnings\n",
    "warnings.filterwarnings(\"ignore\")"
   ]
  },
  {
   "cell_type": "code",
   "execution_count": 3,
   "metadata": {
    "collapsed": false
   },
   "outputs": [],
   "source": [
    "import pandas as pd"
   ]
  },
  {
   "cell_type": "markdown",
   "metadata": {},
   "source": [
    "## Table 2 - Photometry of Selected Candidates"
   ]
  },
  {
   "cell_type": "code",
   "execution_count": 4,
   "metadata": {
    "collapsed": false
   },
   "outputs": [],
   "source": [
    "names = ['Position','I','J','H','K_s','[3.6]','[4.5]','[5.8]','[8.0]','A_v','Luminosity']\n",
    "link = 'http://iopscience.iop.org/0004-637X/720/2/1374/suppdata/apj363663t2_ascii.txt'\n",
    "harvey2010_raw = pd.read_csv(link, sep='\\t', names=names, skiprows=5, na_values=' sdotsdotsdot ')"
   ]
  },
  {
   "cell_type": "markdown",
   "metadata": {},
   "source": [
    "Data cleaning."
   ]
  },
  {
   "cell_type": "code",
   "execution_count": 5,
   "metadata": {
    "collapsed": false
   },
   "outputs": [],
   "source": [
    "harvey2010_raw.dropna(how='all', inplace=True)"
   ]
  },
  {
   "cell_type": "markdown",
   "metadata": {},
   "source": [
    "Split [value +or- error] into separate columns: [value], [error]"
   ]
  },
  {
   "cell_type": "code",
   "execution_count": 6,
   "metadata": {
    "collapsed": true
   },
   "outputs": [],
   "source": [
    "fv = lambda a: a.split(' +or- ')[0] if a == a else np.NaN\n",
    "fe = lambda a: a.split(' +or- ')[-1] if a == a else np.NaN #awesome little hack here!"
   ]
  },
  {
   "cell_type": "code",
   "execution_count": 7,
   "metadata": {
    "collapsed": false
   },
   "outputs": [],
   "source": [
    "bands = ['I','J','H','K_s','[3.6]','[4.5]','[5.8]','[8.0]']\n",
    "harvey2010_tbl2 = harvey2010_raw.drop(bands, axis=1)\n",
    "for band in bands:\n",
    "    harvey2010_tbl2[band]=harvey2010_raw[band].apply(fv)\n",
    "    harvey2010_tbl2[band+'_e']=harvey2010_raw[band].apply(fe)"
   ]
  },
  {
   "cell_type": "markdown",
   "metadata": {},
   "source": [
    "Split the position into RA and DEC."
   ]
  },
  {
   "cell_type": "code",
   "execution_count": 8,
   "metadata": {
    "collapsed": true
   },
   "outputs": [],
   "source": [
    "harvey2010_tbl2.insert(0, 'RA', harvey2010_tbl2.Position.str.slice(0, 11).copy())\n",
    "harvey2010_tbl2.insert(1, 'DEC', harvey2010_tbl2.Position.str.slice(12).copy())"
   ]
  },
  {
   "cell_type": "code",
   "execution_count": 9,
   "metadata": {
    "collapsed": false
   },
   "outputs": [],
   "source": [
    "harvey2010_tbl2.drop('Position', axis=1, inplace=True)"
   ]
  },
  {
   "cell_type": "markdown",
   "metadata": {},
   "source": [
    "## Save data locally"
   ]
  },
  {
   "cell_type": "markdown",
   "metadata": {},
   "source": [
    "!!mkdir ../data/Harvey2010"
   ]
  },
  {
   "cell_type": "code",
   "execution_count": 10,
   "metadata": {
    "collapsed": false
   },
   "outputs": [],
   "source": [
    "harvey2010_tbl2.to_csv('../data/Harvey2010/tbl2.csv')"
   ]
  },
  {
   "cell_type": "markdown",
   "metadata": {},
   "source": [
    "The end."
   ]
  }
 ],
 "metadata": {
  "kernelspec": {
   "display_name": "Python 2",
   "language": "python",
   "name": "python2"
  },
  "language_info": {
   "codemirror_mode": {
    "name": "ipython",
    "version": 2
   },
   "file_extension": ".py",
   "mimetype": "text/x-python",
   "name": "python",
   "nbconvert_exporter": "python",
   "pygments_lexer": "ipython2",
   "version": "2.7.9"
  }
 },
 "nbformat": 4,
 "nbformat_minor": 0
}
