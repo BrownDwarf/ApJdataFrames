{
 "cells": [
  {
   "cell_type": "markdown",
   "metadata": {},
   "source": [
    "## Somers2017\n",
    "\n",
    "`Title`: A Measurement of Radius Inflation in the Pleiades and Its Relation to Rotation and Lithium Depletion  \n",
    "`Authors`: Somers & Stassun\n",
    "\n",
    "Data is from this paper:  \n",
    "http://iopscience.iop.org/article/10.3847/1538-3881/153/3/101/meta"
   ]
  },
  {
   "cell_type": "code",
   "execution_count": 1,
   "metadata": {
    "collapsed": true
   },
   "outputs": [],
   "source": [
    "%matplotlib inline\n",
    "import matplotlib.pyplot as plt\n",
    "import seaborn as sns\n",
    "import pandas as pd\n",
    "pd.options.display.max_columns = 150\n",
    "%config InlineBackend.figure_format = 'retina'\n",
    "import astropy\n",
    "from astropy.io import ascii\n",
    "from astropy.table import Table\n",
    "import numpy as np"
   ]
  },
  {
   "cell_type": "markdown",
   "metadata": {},
   "source": [
    "## Table 1: Basic Pleiades data"
   ]
  },
  {
   "cell_type": "markdown",
   "metadata": {},
   "source": [
    "Currently behind a paywall, requires institutional access."
   ]
  },
  {
   "cell_type": "code",
   "execution_count": 2,
   "metadata": {},
   "outputs": [],
   "source": [
    "#! mkdir ../data/Somers2017\n",
    "#! wget http://iopscience.iop.org/1538-3881/153/3/101/suppdata/ajaa4ef4t1_mrt.txt\n",
    "#! mv ajaa4ef4t1_mrt.txt ../data/Somers2017/"
   ]
  },
  {
   "cell_type": "code",
   "execution_count": 3,
   "metadata": {},
   "outputs": [
    {
     "name": "stdout",
     "output_type": "stream",
     "text": [
      "Title: A Measurement of Radius Inflation in the Pleiades \r\n",
      "       and its Relation to Rotation and Lithium Depletion \r\n",
      "Authors: Somers G., Stassun K.G. \r\n",
      "Table: Basic Pleiades Data\r\n",
      "================================================================================\r\n",
      "Byte-by-byte Description of file: ajaa4ef4t1_mrt.txt\r\n",
      "--------------------------------------------------------------------------------\r\n",
      "   Bytes Format Units   Label    Explanations\r\n",
      "--------------------------------------------------------------------------------\r\n",
      "   1-  4 I4     ---     HII      The H II identifier\r\n"
     ]
    }
   ],
   "source": [
    "! head ../data/Somers2017/ajaa4ef4t1_mrt.txt"
   ]
  },
  {
   "cell_type": "code",
   "execution_count": 4,
   "metadata": {
    "collapsed": true
   },
   "outputs": [],
   "source": [
    "tab1 = ascii.read('../data/Somers2017/ajaa4ef4t1_mrt.txt')"
   ]
  },
  {
   "cell_type": "code",
   "execution_count": 5,
   "metadata": {
    "scrolled": false
   },
   "outputs": [],
   "source": [
    "#tab1.show_in_notebook(display_length=5)"
   ]
  },
  {
   "cell_type": "code",
   "execution_count": 6,
   "metadata": {},
   "outputs": [
    {
     "data": {
      "text/html": [
       "<div>\n",
       "<style>\n",
       "    .dataframe thead tr:only-child th {\n",
       "        text-align: right;\n",
       "    }\n",
       "\n",
       "    .dataframe thead th {\n",
       "        text-align: left;\n",
       "    }\n",
       "\n",
       "    .dataframe tbody tr th {\n",
       "        vertical-align: top;\n",
       "    }\n",
       "</style>\n",
       "<table border=\"1\" class=\"dataframe\">\n",
       "  <thead>\n",
       "    <tr style=\"text-align: right;\">\n",
       "      <th></th>\n",
       "      <th>HII</th>\n",
       "      <th>Tycho</th>\n",
       "      <th>2MASS</th>\n",
       "      <th>RAdeg</th>\n",
       "      <th>DEdeg</th>\n",
       "      <th>Vmag</th>\n",
       "      <th>B-V</th>\n",
       "      <th>e_B-V</th>\n",
       "      <th>V-Ks</th>\n",
       "      <th>e_V-Ks</th>\n",
       "      <th>PRot</th>\n",
       "      <th>Binary?</th>\n",
       "    </tr>\n",
       "  </thead>\n",
       "  <tbody>\n",
       "    <tr>\n",
       "      <th>0</th>\n",
       "      <td>25.0</td>\n",
       "      <td>1803-478-1</td>\n",
       "      <td>03425511+2429350</td>\n",
       "      <td>55.729626</td>\n",
       "      <td>24.493065</td>\n",
       "      <td>9.47</td>\n",
       "      <td>0.48</td>\n",
       "      <td>0.02</td>\n",
       "      <td>1.207</td>\n",
       "      <td>0.029</td>\n",
       "      <td>1.410000</td>\n",
       "      <td>N</td>\n",
       "    </tr>\n",
       "    <tr>\n",
       "      <th>1</th>\n",
       "      <td>34.0</td>\n",
       "      <td>1803-400-1</td>\n",
       "      <td>03430293+2440110</td>\n",
       "      <td>55.762230</td>\n",
       "      <td>24.669737</td>\n",
       "      <td>12.03</td>\n",
       "      <td>0.94</td>\n",
       "      <td>0.02</td>\n",
       "      <td>2.303</td>\n",
       "      <td>0.028</td>\n",
       "      <td>6.690000</td>\n",
       "      <td>N</td>\n",
       "    </tr>\n",
       "    <tr>\n",
       "      <th>2</th>\n",
       "      <td>97.0</td>\n",
       "      <td>NaN</td>\n",
       "      <td>03432662+2459395</td>\n",
       "      <td>55.860922</td>\n",
       "      <td>24.994333</td>\n",
       "      <td>12.50</td>\n",
       "      <td>1.08</td>\n",
       "      <td>0.02</td>\n",
       "      <td>2.705</td>\n",
       "      <td>0.030</td>\n",
       "      <td>6.749476</td>\n",
       "      <td>Y</td>\n",
       "    </tr>\n",
       "    <tr>\n",
       "      <th>3</th>\n",
       "      <td>120.0</td>\n",
       "      <td>1799-118-1</td>\n",
       "      <td>03433195+2340266</td>\n",
       "      <td>55.883139</td>\n",
       "      <td>23.674074</td>\n",
       "      <td>10.79</td>\n",
       "      <td>0.70</td>\n",
       "      <td>0.02</td>\n",
       "      <td>1.687</td>\n",
       "      <td>0.029</td>\n",
       "      <td>3.990000</td>\n",
       "      <td>N</td>\n",
       "    </tr>\n",
       "    <tr>\n",
       "      <th>4</th>\n",
       "      <td>129.0</td>\n",
       "      <td>1799-1268-1</td>\n",
       "      <td>03433440+2345429</td>\n",
       "      <td>55.893373</td>\n",
       "      <td>23.761917</td>\n",
       "      <td>11.47</td>\n",
       "      <td>0.88</td>\n",
       "      <td>0.02</td>\n",
       "      <td>2.100</td>\n",
       "      <td>0.029</td>\n",
       "      <td>5.440000</td>\n",
       "      <td>Y</td>\n",
       "    </tr>\n",
       "  </tbody>\n",
       "</table>\n",
       "</div>"
      ],
      "text/plain": [
       "     HII        Tycho             2MASS      RAdeg      DEdeg   Vmag   B-V  \\\n",
       "0   25.0   1803-478-1  03425511+2429350  55.729626  24.493065   9.47  0.48   \n",
       "1   34.0   1803-400-1  03430293+2440110  55.762230  24.669737  12.03  0.94   \n",
       "2   97.0          NaN  03432662+2459395  55.860922  24.994333  12.50  1.08   \n",
       "3  120.0   1799-118-1  03433195+2340266  55.883139  23.674074  10.79  0.70   \n",
       "4  129.0  1799-1268-1  03433440+2345429  55.893373  23.761917  11.47  0.88   \n",
       "\n",
       "   e_B-V   V-Ks  e_V-Ks      PRot Binary?  \n",
       "0   0.02  1.207   0.029  1.410000       N  \n",
       "1   0.02  2.303   0.028  6.690000       N  \n",
       "2   0.02  2.705   0.030  6.749476       Y  \n",
       "3   0.02  1.687   0.029  3.990000       N  \n",
       "4   0.02  2.100   0.029  5.440000       Y  "
      ]
     },
     "execution_count": 6,
     "metadata": {},
     "output_type": "execute_result"
    }
   ],
   "source": [
    "df1 = tab1.to_pandas()\n",
    "df1.head()"
   ]
  },
  {
   "cell_type": "markdown",
   "metadata": {},
   "source": [
    "## Table 2: Derived stellar properties"
   ]
  },
  {
   "cell_type": "code",
   "execution_count": 7,
   "metadata": {},
   "outputs": [],
   "source": [
    "#! wget http://iopscience.iop.org/1538-3881/153/3/101/suppdata/ajaa4ef4t2_mrt.txt\n",
    "#! mv ajaa4ef4t2_mrt.txt ../data/Somers2017/"
   ]
  },
  {
   "cell_type": "code",
   "execution_count": 8,
   "metadata": {
    "collapsed": true
   },
   "outputs": [],
   "source": [
    "tab2 = ascii.read('../data/Somers2017/ajaa4ef4t2_mrt.txt')"
   ]
  },
  {
   "cell_type": "code",
   "execution_count": 9,
   "metadata": {
    "collapsed": true
   },
   "outputs": [],
   "source": [
    "df2 = tab2.to_pandas()"
   ]
  },
  {
   "cell_type": "code",
   "execution_count": 10,
   "metadata": {},
   "outputs": [
    {
     "data": {
      "text/html": [
       "<div>\n",
       "<style>\n",
       "    .dataframe thead tr:only-child th {\n",
       "        text-align: right;\n",
       "    }\n",
       "\n",
       "    .dataframe thead th {\n",
       "        text-align: left;\n",
       "    }\n",
       "\n",
       "    .dataframe tbody tr th {\n",
       "        vertical-align: top;\n",
       "    }\n",
       "</style>\n",
       "<table border=\"1\" class=\"dataframe\">\n",
       "  <thead>\n",
       "    <tr style=\"text-align: right;\">\n",
       "      <th></th>\n",
       "      <th>HII</th>\n",
       "      <th>Teff</th>\n",
       "      <th>E_Teff</th>\n",
       "      <th>e_Teff</th>\n",
       "      <th>FBol</th>\n",
       "      <th>e_FBol</th>\n",
       "      <th>E_FBol</th>\n",
       "      <th>chi2</th>\n",
       "      <th>ADia</th>\n",
       "      <th>e_ADia</th>\n",
       "      <th>E_ADia</th>\n",
       "      <th>Rad</th>\n",
       "      <th>e_Rad</th>\n",
       "      <th>E_Rad</th>\n",
       "      <th>DelRad</th>\n",
       "      <th>E_DelRad</th>\n",
       "      <th>e_DelRad</th>\n",
       "    </tr>\n",
       "  </thead>\n",
       "  <tbody>\n",
       "    <tr>\n",
       "      <th>0</th>\n",
       "      <td>25</td>\n",
       "      <td>6513</td>\n",
       "      <td>55</td>\n",
       "      <td>68</td>\n",
       "      <td>47.38</td>\n",
       "      <td>1.71</td>\n",
       "      <td>0.59</td>\n",
       "      <td>2.18</td>\n",
       "      <td>8.89</td>\n",
       "      <td>0.23</td>\n",
       "      <td>0.18</td>\n",
       "      <td>1.280</td>\n",
       "      <td>0.044</td>\n",
       "      <td>0.038</td>\n",
       "      <td>6.4</td>\n",
       "      <td>3.7</td>\n",
       "      <td>3.2</td>\n",
       "    </tr>\n",
       "    <tr>\n",
       "      <th>1</th>\n",
       "      <td>34</td>\n",
       "      <td>5011</td>\n",
       "      <td>27</td>\n",
       "      <td>34</td>\n",
       "      <td>5.77</td>\n",
       "      <td>0.15</td>\n",
       "      <td>0.21</td>\n",
       "      <td>2.45</td>\n",
       "      <td>5.24</td>\n",
       "      <td>0.09</td>\n",
       "      <td>0.12</td>\n",
       "      <td>0.754</td>\n",
       "      <td>0.022</td>\n",
       "      <td>0.024</td>\n",
       "      <td>4.4</td>\n",
       "      <td>3.0</td>\n",
       "      <td>3.3</td>\n",
       "    </tr>\n",
       "    <tr>\n",
       "      <th>2</th>\n",
       "      <td>97</td>\n",
       "      <td>4658</td>\n",
       "      <td>23</td>\n",
       "      <td>28</td>\n",
       "      <td>4.36</td>\n",
       "      <td>0.28</td>\n",
       "      <td>0.26</td>\n",
       "      <td>7.05</td>\n",
       "      <td>5.27</td>\n",
       "      <td>0.18</td>\n",
       "      <td>0.17</td>\n",
       "      <td>0.759</td>\n",
       "      <td>0.031</td>\n",
       "      <td>0.030</td>\n",
       "      <td>15.4</td>\n",
       "      <td>4.7</td>\n",
       "      <td>4.5</td>\n",
       "    </tr>\n",
       "    <tr>\n",
       "      <th>3</th>\n",
       "      <td>120</td>\n",
       "      <td>5729</td>\n",
       "      <td>40</td>\n",
       "      <td>49</td>\n",
       "      <td>14.71</td>\n",
       "      <td>0.28</td>\n",
       "      <td>0.29</td>\n",
       "      <td>2.26</td>\n",
       "      <td>6.40</td>\n",
       "      <td>0.12</td>\n",
       "      <td>0.12</td>\n",
       "      <td>0.922</td>\n",
       "      <td>0.027</td>\n",
       "      <td>0.027</td>\n",
       "      <td>3.5</td>\n",
       "      <td>3.0</td>\n",
       "      <td>3.0</td>\n",
       "    </tr>\n",
       "    <tr>\n",
       "      <th>4</th>\n",
       "      <td>129</td>\n",
       "      <td>5220</td>\n",
       "      <td>31</td>\n",
       "      <td>38</td>\n",
       "      <td>9.06</td>\n",
       "      <td>0.27</td>\n",
       "      <td>0.28</td>\n",
       "      <td>1.99</td>\n",
       "      <td>6.05</td>\n",
       "      <td>0.12</td>\n",
       "      <td>0.12</td>\n",
       "      <td>0.871</td>\n",
       "      <td>0.026</td>\n",
       "      <td>0.026</td>\n",
       "      <td>14.4</td>\n",
       "      <td>3.4</td>\n",
       "      <td>3.5</td>\n",
       "    </tr>\n",
       "  </tbody>\n",
       "</table>\n",
       "</div>"
      ],
      "text/plain": [
       "   HII  Teff  E_Teff  e_Teff   FBol  e_FBol  E_FBol  chi2  ADia  e_ADia  \\\n",
       "0   25  6513      55      68  47.38    1.71    0.59  2.18  8.89    0.23   \n",
       "1   34  5011      27      34   5.77    0.15    0.21  2.45  5.24    0.09   \n",
       "2   97  4658      23      28   4.36    0.28    0.26  7.05  5.27    0.18   \n",
       "3  120  5729      40      49  14.71    0.28    0.29  2.26  6.40    0.12   \n",
       "4  129  5220      31      38   9.06    0.27    0.28  1.99  6.05    0.12   \n",
       "\n",
       "   E_ADia    Rad  e_Rad  E_Rad  DelRad  E_DelRad  e_DelRad  \n",
       "0    0.18  1.280  0.044  0.038     6.4       3.7       3.2  \n",
       "1    0.12  0.754  0.022  0.024     4.4       3.0       3.3  \n",
       "2    0.17  0.759  0.031  0.030    15.4       4.7       4.5  \n",
       "3    0.12  0.922  0.027  0.027     3.5       3.0       3.0  \n",
       "4    0.12  0.871  0.026  0.026    14.4       3.4       3.5  "
      ]
     },
     "execution_count": 10,
     "metadata": {},
     "output_type": "execute_result"
    }
   ],
   "source": [
    "df2.head()"
   ]
  },
  {
   "cell_type": "code",
   "execution_count": 11,
   "metadata": {
    "collapsed": true
   },
   "outputs": [],
   "source": [
    "df1.to_csv('../data/Somers2017/tb1.csv', index=False)\n",
    "df2.to_csv('../data/Somers2017/tb2.csv', index=False)"
   ]
  },
  {
   "cell_type": "markdown",
   "metadata": {},
   "source": [
    "The end!"
   ]
  }
 ],
 "metadata": {
  "kernelspec": {
   "display_name": "Python 3",
   "language": "python",
   "name": "python3"
  },
  "language_info": {
   "codemirror_mode": {
    "name": "ipython",
    "version": 3
   },
   "file_extension": ".py",
   "mimetype": "text/x-python",
   "name": "python",
   "nbconvert_exporter": "python",
   "pygments_lexer": "ipython3",
   "version": "3.6.3"
  }
 },
 "nbformat": 4,
 "nbformat_minor": 2
}
