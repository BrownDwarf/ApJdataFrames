{
 "cells": [
  {
   "cell_type": "markdown",
   "metadata": {},
   "source": [
    "`ApJdataFrames` McClure\n",
    "---\n",
    "`Title`: THE EVOLUTIONARY STATE OF THE PRE-MAIN SEQUENCE POPULATION IN OPHIUCHUS: A LARGE INFRARED SPECTROGRAPH SURVEY  \n",
    "`Authors`: McClure et al.\n",
    "\n",
    "Data is from this paper:  \n",
    "http://iopscience.iop.org/0067-0049/188/1/75/"
   ]
  },
  {
   "cell_type": "code",
   "execution_count": 1,
   "metadata": {
    "collapsed": false
   },
   "outputs": [],
   "source": [
    "import warnings\n",
    "warnings.filterwarnings(\"ignore\")"
   ]
  },
  {
   "cell_type": "code",
   "execution_count": 2,
   "metadata": {
    "collapsed": false
   },
   "outputs": [],
   "source": [
    "from astropy.io import ascii"
   ]
  },
  {
   "cell_type": "code",
   "execution_count": 3,
   "metadata": {
    "collapsed": true
   },
   "outputs": [],
   "source": [
    "import pandas as pd"
   ]
  },
  {
   "cell_type": "markdown",
   "metadata": {},
   "source": [
    "## Table 1 - Target Information for Ophiuchus Sources"
   ]
  },
  {
   "cell_type": "code",
   "execution_count": 4,
   "metadata": {
    "collapsed": false
   },
   "outputs": [
    {
     "data": {
      "text/html": [
       "<div style=\"max-height:1000px;max-width:1500px;overflow:auto;\">\n",
       "<table border=\"1\" class=\"dataframe\">\n",
       "  <thead>\n",
       "    <tr style=\"text-align: right;\">\n",
       "      <th></th>\n",
       "      <th>Name</th>\n",
       "      <th>Alt. Names</th>\n",
       "      <th>Cloud</th>\n",
       "      <th>R.A. (J2000)</th>\n",
       "      <th>Decl. (J2000)</th>\n",
       "      <th>Camp.</th>\n",
       "      <th>AOR ID</th>\n",
       "      <th>Modules</th>\n",
       "      <th>Comments</th>\n",
       "    </tr>\n",
       "  </thead>\n",
       "  <tbody>\n",
       "    <tr>\n",
       "      <th>0</th>\n",
       "      <td>   16126-2235</td>\n",
       "      <td> V* VV Sco</td>\n",
       "      <td> Off-core</td>\n",
       "      <td> 16 15 34.58</td>\n",
       "      <td> -22 42 37.86</td>\n",
       "      <td> 19</td>\n",
       "      <td> 12675072</td>\n",
       "      <td>   SLLL</td>\n",
       "      <td>           NaN</td>\n",
       "    </tr>\n",
       "    <tr>\n",
       "      <th>1</th>\n",
       "      <td> 16156-2358AB</td>\n",
       "      <td>       NaN</td>\n",
       "      <td> Off-core</td>\n",
       "      <td> 16 18 37.25</td>\n",
       "      <td> -24 05 18.19</td>\n",
       "      <td> 23</td>\n",
       "      <td> 12674304</td>\n",
       "      <td> SLSHLH</td>\n",
       "      <td>           NaN</td>\n",
       "    </tr>\n",
       "    <tr>\n",
       "      <th>2</th>\n",
       "      <td>   16168-2526</td>\n",
       "      <td>       NaN</td>\n",
       "      <td> Off-core</td>\n",
       "      <td> 16 19 54.57</td>\n",
       "      <td> -25 33 34.14</td>\n",
       "      <td> 23</td>\n",
       "      <td> 12674304</td>\n",
       "      <td> SLSHLH</td>\n",
       "      <td> IRAS off-core</td>\n",
       "    </tr>\n",
       "    <tr>\n",
       "      <th>3</th>\n",
       "      <td>         W-60</td>\n",
       "      <td>       NaN</td>\n",
       "      <td> Off-core</td>\n",
       "      <td>  16 20 30.9</td>\n",
       "      <td> -23 10 41.06</td>\n",
       "      <td> 23</td>\n",
       "      <td> 12703232</td>\n",
       "      <td>   SLLL</td>\n",
       "      <td> IRAS off-core</td>\n",
       "    </tr>\n",
       "    <tr>\n",
       "      <th>4</th>\n",
       "      <td>   16178-2501</td>\n",
       "      <td>       NaN</td>\n",
       "      <td> Off-core</td>\n",
       "      <td> 16 20 50.52</td>\n",
       "      <td> -25 07 59.25</td>\n",
       "      <td> 23</td>\n",
       "      <td> 12702464</td>\n",
       "      <td>   SLLL</td>\n",
       "      <td> IRAS off-core</td>\n",
       "    </tr>\n",
       "  </tbody>\n",
       "</table>\n",
       "</div>"
      ],
      "text/plain": [
       "           Name Alt. Names     Cloud R.A. (J2000) Decl. (J2000)  Camp.  \\\n",
       "0    16126-2235  V* VV Sco  Off-core  16 15 34.58  -22 42 37.86     19   \n",
       "1  16156-2358AB        NaN  Off-core  16 18 37.25  -24 05 18.19     23   \n",
       "2    16168-2526        NaN  Off-core  16 19 54.57  -25 33 34.14     23   \n",
       "3          W-60        NaN  Off-core   16 20 30.9  -23 10 41.06     23   \n",
       "4    16178-2501        NaN  Off-core  16 20 50.52  -25 07 59.25     23   \n",
       "\n",
       "     AOR ID Modules       Comments  \n",
       "0  12675072    SLLL            NaN  \n",
       "1  12674304  SLSHLH            NaN  \n",
       "2  12674304  SLSHLH  IRAS off-core  \n",
       "3  12703232    SLLL  IRAS off-core  \n",
       "4  12702464    SLLL  IRAS off-core  "
      ]
     },
     "execution_count": 4,
     "metadata": {},
     "output_type": "execute_result"
    }
   ],
   "source": [
    "tbl1 = pd.read_csv(\"http://iopscience.iop.org/0067-0049/188/1/75/suppdata/apjs330182t1_ascii.txt\",\n",
    "                   sep=\"\\t\", na_values=\" ... \", skiprows=[0,1,2], skipfooter=1, usecols=range(9))\n",
    "tbl1.head()"
   ]
  },
  {
   "cell_type": "markdown",
   "metadata": {},
   "source": [
    "## Table 2 - Spectral Type Information for the Entire Sample"
   ]
  },
  {
   "cell_type": "code",
   "execution_count": 5,
   "metadata": {
    "collapsed": false
   },
   "outputs": [
    {
     "data": {
      "text/html": [
       "<div style=\"max-height:1000px;max-width:1500px;overflow:auto;\">\n",
       "<table border=\"1\" class=\"dataframe\">\n",
       "  <thead>\n",
       "    <tr style=\"text-align: right;\">\n",
       "      <th></th>\n",
       "      <th>Name</th>\n",
       "      <th>Mult.</th>\n",
       "      <th>Sep.</th>\n",
       "      <th>SpT</th>\n",
       "      <th>EW_Halpha</th>\n",
       "      <th>TT Type</th>\n",
       "      <th>Ref.</th>\n",
       "      <th>n_5-12^a</th>\n",
       "      <th>State</th>\n",
       "      <th>n_2-25^a</th>\n",
       "      <th>Class</th>\n",
       "      <th>A_V</th>\n",
       "      <th>Method</th>\n",
       "    </tr>\n",
       "  </thead>\n",
       "  <tbody>\n",
       "    <tr>\n",
       "      <th>0</th>\n",
       "      <td> 16126-2235AB</td>\n",
       "      <td>   B</td>\n",
       "      <td>  1.9</td>\n",
       "      <td> M3</td>\n",
       "      <td> NaN</td>\n",
       "      <td> NaN</td>\n",
       "      <td>  17, this work, N/A</td>\n",
       "      <td>-1.21</td>\n",
       "      <td> Disk</td>\n",
       "      <td>-0.70</td>\n",
       "      <td> II</td>\n",
       "      <td> 0.5</td>\n",
       "      <td> SPEX</td>\n",
       "    </tr>\n",
       "    <tr>\n",
       "      <th>1</th>\n",
       "      <td> 16156-2358AB</td>\n",
       "      <td>   B</td>\n",
       "      <td>    4</td>\n",
       "      <td> F0</td>\n",
       "      <td> NaN</td>\n",
       "      <td> NaN</td>\n",
       "      <td>          18, 1, N/A</td>\n",
       "      <td>-1.47</td>\n",
       "      <td> Disk</td>\n",
       "      <td>-0.53</td>\n",
       "      <td> II</td>\n",
       "      <td> 1.9</td>\n",
       "      <td> SPEX</td>\n",
       "    </tr>\n",
       "    <tr>\n",
       "      <th>2</th>\n",
       "      <td>   16193-2314</td>\n",
       "      <td> NaN</td>\n",
       "      <td>  NaN</td>\n",
       "      <td> G5</td>\n",
       "      <td> NaN</td>\n",
       "      <td> NaN</td>\n",
       "      <td> N/A, this work, N/A</td>\n",
       "      <td>-0.67</td>\n",
       "      <td> Disk</td>\n",
       "      <td>-0.74</td>\n",
       "      <td> II</td>\n",
       "      <td> 3.0</td>\n",
       "      <td> SPEX</td>\n",
       "    </tr>\n",
       "    <tr>\n",
       "      <th>3</th>\n",
       "      <td>   16201-2410</td>\n",
       "      <td> NaN</td>\n",
       "      <td>  NaN</td>\n",
       "      <td> G0</td>\n",
       "      <td> NaN</td>\n",
       "      <td> NaN</td>\n",
       "      <td> N/A, this work, N/A</td>\n",
       "      <td>-1.37</td>\n",
       "      <td> Disk</td>\n",
       "      <td>-0.53</td>\n",
       "      <td> II</td>\n",
       "      <td> 6.9</td>\n",
       "      <td> SPEX</td>\n",
       "    </tr>\n",
       "    <tr>\n",
       "      <th>4</th>\n",
       "      <td> 16220-2452AB</td>\n",
       "      <td>   B</td>\n",
       "      <td> 1.48</td>\n",
       "      <td> M3</td>\n",
       "      <td> NaN</td>\n",
       "      <td> NaN</td>\n",
       "      <td>           2, 2, N/A</td>\n",
       "      <td>-0.50</td>\n",
       "      <td> Disk</td>\n",
       "      <td>-0.47</td>\n",
       "      <td> II</td>\n",
       "      <td> 3.2</td>\n",
       "      <td>   JH</td>\n",
       "    </tr>\n",
       "  </tbody>\n",
       "</table>\n",
       "</div>"
      ],
      "text/plain": [
       "           Name Mult.  Sep. SpT EW_Halpha TT Type                 Ref.  \\\n",
       "0  16126-2235AB     B   1.9  M3       NaN     NaN   17, this work, N/A   \n",
       "1  16156-2358AB     B     4  F0       NaN     NaN           18, 1, N/A   \n",
       "2    16193-2314   NaN   NaN  G5       NaN     NaN  N/A, this work, N/A   \n",
       "3    16201-2410   NaN   NaN  G0       NaN     NaN  N/A, this work, N/A   \n",
       "4  16220-2452AB     B  1.48  M3       NaN     NaN            2, 2, N/A   \n",
       "\n",
       "   n_5-12^a State  n_2-25^a Class  A_V Method  \n",
       "0     -1.21  Disk     -0.70    II  0.5   SPEX  \n",
       "1     -1.47  Disk     -0.53    II  1.9   SPEX  \n",
       "2     -0.67  Disk     -0.74    II  3.0   SPEX  \n",
       "3     -1.37  Disk     -0.53    II  6.9   SPEX  \n",
       "4     -0.50  Disk     -0.47    II  3.2     JH  "
      ]
     },
     "execution_count": 5,
     "metadata": {},
     "output_type": "execute_result"
    }
   ],
   "source": [
    "tbl2 = pd.read_csv(\"http://iopscience.iop.org/0067-0049/188/1/75/suppdata/apjs330182t2_ascii.txt\",\n",
    "                   sep=\"\\t\", na_values=\" ... \", skiprows=[0,1,2,4], skipfooter=4)\n",
    "del tbl2[\"Unnamed: 13\"]\n",
    "tbl2.head()"
   ]
  },
  {
   "cell_type": "markdown",
   "metadata": {
    "collapsed": false
   },
   "source": [
    "##Merge the two catalogs"
   ]
  },
  {
   "cell_type": "code",
   "execution_count": 11,
   "metadata": {
    "collapsed": false
   },
   "outputs": [
    {
     "data": {
      "text/html": [
       "<div style=\"max-height:1000px;max-width:1500px;overflow:auto;\">\n",
       "<table border=\"1\" class=\"dataframe\">\n",
       "  <thead>\n",
       "    <tr style=\"text-align: right;\">\n",
       "      <th></th>\n",
       "      <th>Name</th>\n",
       "      <th>R.A. (J2000)</th>\n",
       "      <th>Decl. (J2000)</th>\n",
       "      <th>SpT</th>\n",
       "    </tr>\n",
       "  </thead>\n",
       "  <tbody>\n",
       "    <tr>\n",
       "      <th>153</th>\n",
       "      <td> GY156AB</td>\n",
       "      <td> NaN</td>\n",
       "      <td> NaN</td>\n",
       "      <td> NaN</td>\n",
       "    </tr>\n",
       "    <tr>\n",
       "      <th>154</th>\n",
       "      <td>   WL6AB</td>\n",
       "      <td> NaN</td>\n",
       "      <td> NaN</td>\n",
       "      <td> NaN</td>\n",
       "    </tr>\n",
       "    <tr>\n",
       "      <th>155</th>\n",
       "      <td> IRS51AB</td>\n",
       "      <td> NaN</td>\n",
       "      <td> NaN</td>\n",
       "      <td>  K6</td>\n",
       "    </tr>\n",
       "    <tr>\n",
       "      <th>156</th>\n",
       "      <td> GY371AB</td>\n",
       "      <td> NaN</td>\n",
       "      <td> NaN</td>\n",
       "      <td>  M6</td>\n",
       "    </tr>\n",
       "    <tr>\n",
       "      <th>157</th>\n",
       "      <td>  ROXs39</td>\n",
       "      <td> NaN</td>\n",
       "      <td> NaN</td>\n",
       "      <td>  K6</td>\n",
       "    </tr>\n",
       "  </tbody>\n",
       "</table>\n",
       "</div>"
      ],
      "text/plain": [
       "        Name R.A. (J2000) Decl. (J2000)  SpT\n",
       "153  GY156AB          NaN           NaN  NaN\n",
       "154    WL6AB          NaN           NaN  NaN\n",
       "155  IRS51AB          NaN           NaN   K6\n",
       "156  GY371AB          NaN           NaN   M6\n",
       "157   ROXs39          NaN           NaN   K6"
      ]
     },
     "execution_count": 11,
     "metadata": {},
     "output_type": "execute_result"
    }
   ],
   "source": [
    "tbl1_2_merge = pd.merge(tbl1[[\"Name\", \"R.A. (J2000)\", \"Decl. (J2000)\"]], tbl2[[\"Name\",\"SpT\"]], how=\"outer\")\n",
    "tbl1_2_merge.tail()"
   ]
  },
  {
   "cell_type": "markdown",
   "metadata": {},
   "source": [
    "##Save data"
   ]
  },
  {
   "cell_type": "code",
   "execution_count": 9,
   "metadata": {
    "collapsed": false
   },
   "outputs": [
    {
     "name": "stdout",
     "output_type": "stream",
     "text": [
      "mkdir: ../data/McClure2010: File exists\r\n"
     ]
    }
   ],
   "source": [
    "! mkdir ../data/McClure2010"
   ]
  },
  {
   "cell_type": "code",
   "execution_count": 10,
   "metadata": {
    "collapsed": false
   },
   "outputs": [],
   "source": [
    "tbl1_2_merge.to_csv(\"../data/McClure2010/tbl1_2_merge.csv\", index=False, sep='\\t')"
   ]
  },
  {
   "cell_type": "markdown",
   "metadata": {},
   "source": [
    "*The end*"
   ]
  }
 ],
 "metadata": {
  "kernelspec": {
   "display_name": "Python 2",
   "language": "python",
   "name": "python2"
  },
  "language_info": {
   "codemirror_mode": {
    "name": "ipython",
    "version": 2
   },
   "file_extension": ".py",
   "mimetype": "text/x-python",
   "name": "python",
   "nbconvert_exporter": "python",
   "pygments_lexer": "ipython2",
   "version": "2.7.9"
  }
 },
 "nbformat": 4,
 "nbformat_minor": 0
}
