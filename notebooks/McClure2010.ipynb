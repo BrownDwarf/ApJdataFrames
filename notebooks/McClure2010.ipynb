{
 "cells": [
  {
   "cell_type": "markdown",
   "metadata": {},
   "source": [
    "`ApJdataFrames` McClure\n",
    "---\n",
    "`Title`: THE EVOLUTIONARY STATE OF THE PRE-MAIN SEQUENCE POPULATION IN OPHIUCHUS: A LARGE INFRARED SPECTROGRAPH SURVEY  \n",
    "`Authors`: McClure et al.\n",
    "\n",
    "Data is from this paper:  \n",
    "http://iopscience.iop.org/0067-0049/188/1/75/"
   ]
  },
  {
   "cell_type": "code",
   "execution_count": 1,
   "metadata": {
    "collapsed": false
   },
   "outputs": [],
   "source": [
    "import warnings\n",
    "warnings.filterwarnings(\"ignore\")"
   ]
  },
  {
   "cell_type": "code",
   "execution_count": 2,
   "metadata": {
    "collapsed": false
   },
   "outputs": [],
   "source": [
    "from astropy.io import ascii"
   ]
  },
  {
   "cell_type": "code",
   "execution_count": 3,
   "metadata": {
    "collapsed": true
   },
   "outputs": [],
   "source": [
    "import pandas as pd"
   ]
  },
  {
   "cell_type": "markdown",
   "metadata": {},
   "source": [
    "## Table 1 - Target Information for Ophiuchus Sources"
   ]
  },
  {
   "cell_type": "code",
   "execution_count": 4,
   "metadata": {
    "collapsed": false
   },
   "outputs": [
    {
     "data": {
      "text/html": [
       "<div>\n",
       "<table border=\"1\" class=\"dataframe\">\n",
       "  <thead>\n",
       "    <tr style=\"text-align: right;\">\n",
       "      <th></th>\n",
       "      <th>Name</th>\n",
       "      <th>Alt. Names</th>\n",
       "      <th>Cloud</th>\n",
       "      <th>R.A. (J2000)</th>\n",
       "      <th>Decl. (J2000)</th>\n",
       "      <th>Camp.</th>\n",
       "      <th>AOR ID</th>\n",
       "      <th>Modules</th>\n",
       "      <th>Comments</th>\n",
       "    </tr>\n",
       "  </thead>\n",
       "  <tbody>\n",
       "    <tr>\n",
       "      <th>0</th>\n",
       "      <td>16126-2235</td>\n",
       "      <td>V* VV Sco</td>\n",
       "      <td>Off-core</td>\n",
       "      <td>16 15 34.58</td>\n",
       "      <td>-22 42 37.86</td>\n",
       "      <td>19</td>\n",
       "      <td>12675072</td>\n",
       "      <td>SLLL</td>\n",
       "      <td>NaN</td>\n",
       "    </tr>\n",
       "    <tr>\n",
       "      <th>1</th>\n",
       "      <td>16156-2358AB</td>\n",
       "      <td>NaN</td>\n",
       "      <td>Off-core</td>\n",
       "      <td>16 18 37.25</td>\n",
       "      <td>-24 05 18.19</td>\n",
       "      <td>23</td>\n",
       "      <td>12674304</td>\n",
       "      <td>SLSHLH</td>\n",
       "      <td>NaN</td>\n",
       "    </tr>\n",
       "    <tr>\n",
       "      <th>2</th>\n",
       "      <td>16168-2526</td>\n",
       "      <td>NaN</td>\n",
       "      <td>Off-core</td>\n",
       "      <td>16 19 54.57</td>\n",
       "      <td>-25 33 34.14</td>\n",
       "      <td>23</td>\n",
       "      <td>12674304</td>\n",
       "      <td>SLSHLH</td>\n",
       "      <td>IRAS off-core</td>\n",
       "    </tr>\n",
       "    <tr>\n",
       "      <th>3</th>\n",
       "      <td>W-60</td>\n",
       "      <td>NaN</td>\n",
       "      <td>Off-core</td>\n",
       "      <td>16 20 30.9</td>\n",
       "      <td>-23 10 41.06</td>\n",
       "      <td>23</td>\n",
       "      <td>12703232</td>\n",
       "      <td>SLLL</td>\n",
       "      <td>IRAS off-core</td>\n",
       "    </tr>\n",
       "    <tr>\n",
       "      <th>4</th>\n",
       "      <td>16178-2501</td>\n",
       "      <td>NaN</td>\n",
       "      <td>Off-core</td>\n",
       "      <td>16 20 50.52</td>\n",
       "      <td>-25 07 59.25</td>\n",
       "      <td>23</td>\n",
       "      <td>12702464</td>\n",
       "      <td>SLLL</td>\n",
       "      <td>IRAS off-core</td>\n",
       "    </tr>\n",
       "  </tbody>\n",
       "</table>\n",
       "</div>"
      ],
      "text/plain": [
       "           Name Alt. Names     Cloud R.A. (J2000) Decl. (J2000)  Camp.  \\\n",
       "0    16126-2235  V* VV Sco  Off-core  16 15 34.58  -22 42 37.86     19   \n",
       "1  16156-2358AB        NaN  Off-core  16 18 37.25  -24 05 18.19     23   \n",
       "2    16168-2526        NaN  Off-core  16 19 54.57  -25 33 34.14     23   \n",
       "3          W-60        NaN  Off-core   16 20 30.9  -23 10 41.06     23   \n",
       "4    16178-2501        NaN  Off-core  16 20 50.52  -25 07 59.25     23   \n",
       "\n",
       "     AOR ID Modules       Comments  \n",
       "0  12675072    SLLL            NaN  \n",
       "1  12674304  SLSHLH            NaN  \n",
       "2  12674304  SLSHLH  IRAS off-core  \n",
       "3  12703232    SLLL  IRAS off-core  \n",
       "4  12702464    SLLL  IRAS off-core  "
      ]
     },
     "execution_count": 4,
     "metadata": {},
     "output_type": "execute_result"
    }
   ],
   "source": [
    "tbl1 = pd.read_csv(\"http://iopscience.iop.org/0067-0049/188/1/75/suppdata/apjs330182t1_ascii.txt\",\n",
    "                   sep=\"\\t\", na_values=\" ... \", skiprows=[0,1,2], skipfooter=1, usecols=range(9))\n",
    "tbl1.head()"
   ]
  },
  {
   "cell_type": "markdown",
   "metadata": {},
   "source": [
    "## Table 2 - Spectral Type Information for the Entire Sample"
   ]
  },
  {
   "cell_type": "code",
   "execution_count": 5,
   "metadata": {
    "collapsed": false
   },
   "outputs": [
    {
     "data": {
      "text/html": [
       "<div>\n",
       "<table border=\"1\" class=\"dataframe\">\n",
       "  <thead>\n",
       "    <tr style=\"text-align: right;\">\n",
       "      <th></th>\n",
       "      <th>Name</th>\n",
       "      <th>Mult.</th>\n",
       "      <th>Sep.</th>\n",
       "      <th>SpT</th>\n",
       "      <th>EW_Halpha</th>\n",
       "      <th>TT Type</th>\n",
       "      <th>Ref.</th>\n",
       "      <th>n_5-12^a</th>\n",
       "      <th>State</th>\n",
       "      <th>n_2-25^a</th>\n",
       "      <th>Class</th>\n",
       "      <th>A_V</th>\n",
       "      <th>Method</th>\n",
       "    </tr>\n",
       "  </thead>\n",
       "  <tbody>\n",
       "    <tr>\n",
       "      <th>0</th>\n",
       "      <td>16126-2235AB</td>\n",
       "      <td>B</td>\n",
       "      <td>1.9</td>\n",
       "      <td>M3</td>\n",
       "      <td>NaN</td>\n",
       "      <td>NaN</td>\n",
       "      <td>17, this work, N/A</td>\n",
       "      <td>-1.21</td>\n",
       "      <td>Disk</td>\n",
       "      <td>-0.70</td>\n",
       "      <td>II</td>\n",
       "      <td>0.5</td>\n",
       "      <td>SPEX</td>\n",
       "    </tr>\n",
       "    <tr>\n",
       "      <th>1</th>\n",
       "      <td>16156-2358AB</td>\n",
       "      <td>B</td>\n",
       "      <td>4</td>\n",
       "      <td>F0</td>\n",
       "      <td>NaN</td>\n",
       "      <td>NaN</td>\n",
       "      <td>18, 1, N/A</td>\n",
       "      <td>-1.47</td>\n",
       "      <td>Disk</td>\n",
       "      <td>-0.53</td>\n",
       "      <td>II</td>\n",
       "      <td>1.9</td>\n",
       "      <td>SPEX</td>\n",
       "    </tr>\n",
       "    <tr>\n",
       "      <th>2</th>\n",
       "      <td>16193-2314</td>\n",
       "      <td>NaN</td>\n",
       "      <td>NaN</td>\n",
       "      <td>G5</td>\n",
       "      <td>NaN</td>\n",
       "      <td>NaN</td>\n",
       "      <td>N/A, this work, N/A</td>\n",
       "      <td>-0.67</td>\n",
       "      <td>Disk</td>\n",
       "      <td>-0.74</td>\n",
       "      <td>II</td>\n",
       "      <td>3.0</td>\n",
       "      <td>SPEX</td>\n",
       "    </tr>\n",
       "    <tr>\n",
       "      <th>3</th>\n",
       "      <td>16201-2410</td>\n",
       "      <td>NaN</td>\n",
       "      <td>NaN</td>\n",
       "      <td>G0</td>\n",
       "      <td>NaN</td>\n",
       "      <td>NaN</td>\n",
       "      <td>N/A, this work, N/A</td>\n",
       "      <td>-1.37</td>\n",
       "      <td>Disk</td>\n",
       "      <td>-0.53</td>\n",
       "      <td>II</td>\n",
       "      <td>6.9</td>\n",
       "      <td>SPEX</td>\n",
       "    </tr>\n",
       "    <tr>\n",
       "      <th>4</th>\n",
       "      <td>16220-2452AB</td>\n",
       "      <td>B</td>\n",
       "      <td>1.48</td>\n",
       "      <td>M3</td>\n",
       "      <td>NaN</td>\n",
       "      <td>NaN</td>\n",
       "      <td>2, 2, N/A</td>\n",
       "      <td>-0.50</td>\n",
       "      <td>Disk</td>\n",
       "      <td>-0.47</td>\n",
       "      <td>II</td>\n",
       "      <td>3.2</td>\n",
       "      <td>JH</td>\n",
       "    </tr>\n",
       "  </tbody>\n",
       "</table>\n",
       "</div>"
      ],
      "text/plain": [
       "           Name Mult.  Sep. SpT EW_Halpha TT Type                 Ref.  \\\n",
       "0  16126-2235AB     B   1.9  M3       NaN     NaN   17, this work, N/A   \n",
       "1  16156-2358AB     B     4  F0       NaN     NaN           18, 1, N/A   \n",
       "2    16193-2314   NaN   NaN  G5       NaN     NaN  N/A, this work, N/A   \n",
       "3    16201-2410   NaN   NaN  G0       NaN     NaN  N/A, this work, N/A   \n",
       "4  16220-2452AB     B  1.48  M3       NaN     NaN            2, 2, N/A   \n",
       "\n",
       "   n_5-12^a State  n_2-25^a Class  A_V Method  \n",
       "0     -1.21  Disk     -0.70    II  0.5   SPEX  \n",
       "1     -1.47  Disk     -0.53    II  1.9   SPEX  \n",
       "2     -0.67  Disk     -0.74    II  3.0   SPEX  \n",
       "3     -1.37  Disk     -0.53    II  6.9   SPEX  \n",
       "4     -0.50  Disk     -0.47    II  3.2     JH  "
      ]
     },
     "execution_count": 5,
     "metadata": {},
     "output_type": "execute_result"
    }
   ],
   "source": [
    "tbl2 = pd.read_csv(\"http://iopscience.iop.org/0067-0049/188/1/75/suppdata/apjs330182t2_ascii.txt\",\n",
    "                   sep=\"\\t\", na_values=\" ... \", skiprows=[0,1,2,4], skipfooter=4)\n",
    "del tbl2[\"Unnamed: 13\"]\n",
    "tbl2.head()"
   ]
  },
  {
   "cell_type": "markdown",
   "metadata": {
    "collapsed": false
   },
   "source": [
    "##Merge the two catalogs"
   ]
  },
  {
   "cell_type": "code",
   "execution_count": 7,
   "metadata": {
    "collapsed": false
   },
   "outputs": [
    {
     "data": {
      "text/html": [
       "<div>\n",
       "<table border=\"1\" class=\"dataframe\">\n",
       "  <thead>\n",
       "    <tr style=\"text-align: right;\">\n",
       "      <th></th>\n",
       "      <th>Name</th>\n",
       "      <th>R.A. (J2000)</th>\n",
       "      <th>Decl. (J2000)</th>\n",
       "      <th>Mult.</th>\n",
       "      <th>Sep.</th>\n",
       "      <th>SpT</th>\n",
       "      <th>EW_Halpha</th>\n",
       "      <th>TT Type</th>\n",
       "      <th>Ref.</th>\n",
       "      <th>n_5-12^a</th>\n",
       "      <th>State</th>\n",
       "      <th>n_2-25^a</th>\n",
       "      <th>Class</th>\n",
       "      <th>A_V</th>\n",
       "      <th>Method</th>\n",
       "    </tr>\n",
       "  </thead>\n",
       "  <tbody>\n",
       "    <tr>\n",
       "      <th>153</th>\n",
       "      <td>GY156AB</td>\n",
       "      <td>NaN</td>\n",
       "      <td>NaN</td>\n",
       "      <td>B</td>\n",
       "      <td>0.16</td>\n",
       "      <td>NaN</td>\n",
       "      <td>NaN</td>\n",
       "      <td>NaN</td>\n",
       "      <td>19, N/A, N/A</td>\n",
       "      <td>-2.63</td>\n",
       "      <td>Photosphere</td>\n",
       "      <td>NaN</td>\n",
       "      <td>NaN</td>\n",
       "      <td>17.8</td>\n",
       "      <td>JH CTTb</td>\n",
       "    </tr>\n",
       "    <tr>\n",
       "      <th>154</th>\n",
       "      <td>WL6AB</td>\n",
       "      <td>NaN</td>\n",
       "      <td>NaN</td>\n",
       "      <td>B</td>\n",
       "      <td>0.18</td>\n",
       "      <td>NaN</td>\n",
       "      <td>NaN</td>\n",
       "      <td>NaN</td>\n",
       "      <td>19, N/A, N/A</td>\n",
       "      <td>-0.52</td>\n",
       "      <td>Disk</td>\n",
       "      <td>1.14</td>\n",
       "      <td>I</td>\n",
       "      <td>55.0</td>\n",
       "      <td>HK CTTb</td>\n",
       "    </tr>\n",
       "    <tr>\n",
       "      <th>155</th>\n",
       "      <td>IRS51AB</td>\n",
       "      <td>NaN</td>\n",
       "      <td>NaN</td>\n",
       "      <td>B</td>\n",
       "      <td>1.65</td>\n",
       "      <td>K6</td>\n",
       "      <td>NaN</td>\n",
       "      <td>NaN</td>\n",
       "      <td>19, 10, N/A</td>\n",
       "      <td>-1.05</td>\n",
       "      <td>Disk</td>\n",
       "      <td>0.21</td>\n",
       "      <td>FS</td>\n",
       "      <td>32.4</td>\n",
       "      <td>JH</td>\n",
       "    </tr>\n",
       "    <tr>\n",
       "      <th>156</th>\n",
       "      <td>GY371AB</td>\n",
       "      <td>NaN</td>\n",
       "      <td>NaN</td>\n",
       "      <td>B</td>\n",
       "      <td>0.35</td>\n",
       "      <td>M6</td>\n",
       "      <td>NaN</td>\n",
       "      <td>NaN</td>\n",
       "      <td>19, 13, N/A</td>\n",
       "      <td>-1.29</td>\n",
       "      <td>Disk</td>\n",
       "      <td>-1.08</td>\n",
       "      <td>II</td>\n",
       "      <td>5.4</td>\n",
       "      <td>IJ</td>\n",
       "    </tr>\n",
       "    <tr>\n",
       "      <th>157</th>\n",
       "      <td>ROXs39</td>\n",
       "      <td>NaN</td>\n",
       "      <td>NaN</td>\n",
       "      <td>NaN</td>\n",
       "      <td>NaN</td>\n",
       "      <td>K6</td>\n",
       "      <td>NaN</td>\n",
       "      <td>NaN</td>\n",
       "      <td>N/A, 4, N/A</td>\n",
       "      <td>-2.65</td>\n",
       "      <td>Photosphere</td>\n",
       "      <td>-2.86</td>\n",
       "      <td>III</td>\n",
       "      <td>1.4</td>\n",
       "      <td>JH</td>\n",
       "    </tr>\n",
       "  </tbody>\n",
       "</table>\n",
       "</div>"
      ],
      "text/plain": [
       "        Name R.A. (J2000) Decl. (J2000) Mult.  Sep.  SpT EW_Halpha TT Type  \\\n",
       "153  GY156AB          NaN           NaN     B  0.16  NaN       NaN     NaN   \n",
       "154    WL6AB          NaN           NaN     B  0.18  NaN       NaN     NaN   \n",
       "155  IRS51AB          NaN           NaN     B  1.65   K6       NaN     NaN   \n",
       "156  GY371AB          NaN           NaN     B  0.35   M6       NaN     NaN   \n",
       "157   ROXs39          NaN           NaN   NaN   NaN   K6       NaN     NaN   \n",
       "\n",
       "             Ref.  n_5-12^a        State  n_2-25^a Class   A_V   Method  \n",
       "153  19, N/A, N/A     -2.63  Photosphere       NaN   NaN  17.8  JH CTTb  \n",
       "154  19, N/A, N/A     -0.52         Disk      1.14     I  55.0  HK CTTb  \n",
       "155   19, 10, N/A     -1.05         Disk      0.21    FS  32.4       JH  \n",
       "156   19, 13, N/A     -1.29         Disk     -1.08    II   5.4       IJ  \n",
       "157   N/A, 4, N/A     -2.65  Photosphere     -2.86   III   1.4       JH  "
      ]
     },
     "execution_count": 7,
     "metadata": {},
     "output_type": "execute_result"
    }
   ],
   "source": [
    "tbl1_2_merge = pd.merge(tbl1[[\"Name\", \"R.A. (J2000)\", \"Decl. (J2000)\"]], tbl2, how=\"outer\")\n",
    "tbl1_2_merge.tail()"
   ]
  },
  {
   "cell_type": "markdown",
   "metadata": {},
   "source": [
    "##Save data"
   ]
  },
  {
   "cell_type": "code",
   "execution_count": 15,
   "metadata": {
    "collapsed": false
   },
   "outputs": [],
   "source": [
    "lowAv = nonBinary = tbl1_2_merge['A_V'] < 10.0\n",
    "nonBinary = tbl1_2_merge['Mult.'] != tbl1_2_merge['Mult.']\n",
    "classIII = tbl1_2_merge['Class'] == 'III'\n",
    "wtts = tbl1_2_merge['TT Type'] == 'WTTS'\n",
    "diskless = tbl1_2_merge['State'] == 'Photosphere'"
   ]
  },
  {
   "cell_type": "code",
   "execution_count": 17,
   "metadata": {
    "collapsed": false
   },
   "outputs": [
    {
     "name": "stdout",
     "output_type": "stream",
     "text": [
      "50\n",
      "116\n",
      "4\n",
      "11\n",
      "14\n"
     ]
    }
   ],
   "source": [
    "for val in [lowAv, nonBinary, classIII, wtts, diskless]:\n",
    "    print(val.sum())"
   ]
  },
  {
   "cell_type": "code",
   "execution_count": 20,
   "metadata": {
    "collapsed": false
   },
   "outputs": [
    {
     "data": {
      "text/plain": [
       "8"
      ]
     },
     "execution_count": 20,
     "metadata": {},
     "output_type": "execute_result"
    }
   ],
   "source": [
    "sample = nonBinary & diskless\n",
    "\n",
    "sample.sum()"
   ]
  },
  {
   "cell_type": "code",
   "execution_count": 23,
   "metadata": {
    "collapsed": false
   },
   "outputs": [],
   "source": [
    "tbl1_2_merge.to_csv('../data/McClure2010/tbl1_2_merge_all.csv', index=False)"
   ]
  },
  {
   "cell_type": "code",
   "execution_count": 13,
   "metadata": {
    "collapsed": false
   },
   "outputs": [
    {
     "data": {
      "text/plain": [
       "Index(['Name', 'R.A. (J2000)', 'Decl. (J2000)', 'Mult.', 'Sep.', 'SpT',\n",
       "       'EW_Halpha', 'TT Type', 'Ref.', 'n_5-12^a', 'State', 'n_2-25^a',\n",
       "       'Class', 'A_V', 'Method'],\n",
       "      dtype='object')"
      ]
     },
     "execution_count": 13,
     "metadata": {},
     "output_type": "execute_result"
    }
   ],
   "source": [
    "tbl1_2_merge.columns"
   ]
  },
  {
   "cell_type": "code",
   "execution_count": 14,
   "metadata": {
    "collapsed": false
   },
   "outputs": [
    {
     "data": {
      "text/html": [
       "<div>\n",
       "<table border=\"1\" class=\"dataframe\">\n",
       "  <thead>\n",
       "    <tr style=\"text-align: right;\">\n",
       "      <th></th>\n",
       "      <th>Name</th>\n",
       "      <th>R.A. (J2000)</th>\n",
       "      <th>Decl. (J2000)</th>\n",
       "      <th>Mult.</th>\n",
       "      <th>Sep.</th>\n",
       "      <th>SpT</th>\n",
       "      <th>EW_Halpha</th>\n",
       "      <th>TT Type</th>\n",
       "      <th>Ref.</th>\n",
       "      <th>n_5-12^a</th>\n",
       "      <th>State</th>\n",
       "      <th>n_2-25^a</th>\n",
       "      <th>Class</th>\n",
       "      <th>A_V</th>\n",
       "      <th>Method</th>\n",
       "    </tr>\n",
       "  </thead>\n",
       "  <tbody>\n",
       "    <tr>\n",
       "      <th>14</th>\n",
       "      <td>ROX2</td>\n",
       "      <td>16 25 24.37</td>\n",
       "      <td>-23 55 09.94</td>\n",
       "      <td>B</td>\n",
       "      <td>0.42</td>\n",
       "      <td>M0</td>\n",
       "      <td>2.8</td>\n",
       "      <td>WTTS</td>\n",
       "      <td>19, 14, 14</td>\n",
       "      <td>-2.85</td>\n",
       "      <td>Photosphere</td>\n",
       "      <td>NaN</td>\n",
       "      <td>NaN</td>\n",
       "      <td>3.4</td>\n",
       "      <td>JH</td>\n",
       "    </tr>\n",
       "    <tr>\n",
       "      <th>18</th>\n",
       "      <td>ROX3</td>\n",
       "      <td>16 25 49.65</td>\n",
       "      <td>-24 51 31.71</td>\n",
       "      <td>NaN</td>\n",
       "      <td>NaN</td>\n",
       "      <td>M0</td>\n",
       "      <td>2.3-2.7</td>\n",
       "      <td>WTTS</td>\n",
       "      <td>N/A, 14, 14</td>\n",
       "      <td>-2.36</td>\n",
       "      <td>Photosphere</td>\n",
       "      <td>-2.73</td>\n",
       "      <td>III</td>\n",
       "      <td>0.9</td>\n",
       "      <td>IJ</td>\n",
       "    </tr>\n",
       "    <tr>\n",
       "      <th>19</th>\n",
       "      <td>IRS10</td>\n",
       "      <td>16 25 50.53</td>\n",
       "      <td>-24 39 14.31</td>\n",
       "      <td>NaN</td>\n",
       "      <td>NaN</td>\n",
       "      <td>K5.5</td>\n",
       "      <td>2.5</td>\n",
       "      <td>WTTS</td>\n",
       "      <td>N/A, 3, 3</td>\n",
       "      <td>-2.77</td>\n",
       "      <td>Photosphere</td>\n",
       "      <td>NaN</td>\n",
       "      <td>NaN</td>\n",
       "      <td>4.4</td>\n",
       "      <td>IJ</td>\n",
       "    </tr>\n",
       "    <tr>\n",
       "      <th>105</th>\n",
       "      <td>GY284</td>\n",
       "      <td>16 27 30.83</td>\n",
       "      <td>-24 24 56.28</td>\n",
       "      <td>NaN</td>\n",
       "      <td>NaN</td>\n",
       "      <td>M3.25</td>\n",
       "      <td>2.9</td>\n",
       "      <td>WTTS</td>\n",
       "      <td>N/A, 3, 3</td>\n",
       "      <td>-0.34</td>\n",
       "      <td>Disk</td>\n",
       "      <td>-0.27</td>\n",
       "      <td>FS</td>\n",
       "      <td>6.0</td>\n",
       "      <td>IJ</td>\n",
       "    </tr>\n",
       "    <tr>\n",
       "      <th>112</th>\n",
       "      <td>GY310</td>\n",
       "      <td>16 27 38.63</td>\n",
       "      <td>-24 38 39.3</td>\n",
       "      <td>NaN</td>\n",
       "      <td>NaN</td>\n",
       "      <td>M4</td>\n",
       "      <td>0</td>\n",
       "      <td>WTTS</td>\n",
       "      <td>N/A, 3, 3</td>\n",
       "      <td>-0.55</td>\n",
       "      <td>Disk</td>\n",
       "      <td>-0.35</td>\n",
       "      <td>II</td>\n",
       "      <td>6.5</td>\n",
       "      <td>IJ</td>\n",
       "    </tr>\n",
       "    <tr>\n",
       "      <th>118</th>\n",
       "      <td>GY326</td>\n",
       "      <td>16 27 42.69</td>\n",
       "      <td>-24 38 50.67</td>\n",
       "      <td>NaN</td>\n",
       "      <td>NaN</td>\n",
       "      <td>M2</td>\n",
       "      <td>0.2</td>\n",
       "      <td>WTTS</td>\n",
       "      <td>N/A, 3, 3</td>\n",
       "      <td>-1.87</td>\n",
       "      <td>Disk</td>\n",
       "      <td>-1.16</td>\n",
       "      <td>II</td>\n",
       "      <td>8.8</td>\n",
       "      <td>IJ</td>\n",
       "    </tr>\n",
       "    <tr>\n",
       "      <th>124</th>\n",
       "      <td>IRS55AB</td>\n",
       "      <td>16 27 52.07</td>\n",
       "      <td>-24 40 50.37</td>\n",
       "      <td>B</td>\n",
       "      <td>0.39</td>\n",
       "      <td>K7.5</td>\n",
       "      <td>1.3</td>\n",
       "      <td>WTTS</td>\n",
       "      <td>15, 3, 3</td>\n",
       "      <td>-2.82</td>\n",
       "      <td>Photosphere</td>\n",
       "      <td>-2.56</td>\n",
       "      <td>III</td>\n",
       "      <td>5.0</td>\n",
       "      <td>IJ</td>\n",
       "    </tr>\n",
       "    <tr>\n",
       "      <th>134</th>\n",
       "      <td>ROX-42Cab</td>\n",
       "      <td>16 31 15.75</td>\n",
       "      <td>-24 34 02.21</td>\n",
       "      <td>SpB</td>\n",
       "      <td>0.28</td>\n",
       "      <td>K6</td>\n",
       "      <td>0-1.6</td>\n",
       "      <td>WTTS</td>\n",
       "      <td>14, 14, 14</td>\n",
       "      <td>-0.97</td>\n",
       "      <td>Disk</td>\n",
       "      <td>-1.08</td>\n",
       "      <td>II</td>\n",
       "      <td>1.6</td>\n",
       "      <td>JH</td>\n",
       "    </tr>\n",
       "    <tr>\n",
       "      <th>135</th>\n",
       "      <td>ROX-43A1</td>\n",
       "      <td>16 31 20.12</td>\n",
       "      <td>-24 30 05.03</td>\n",
       "      <td>SpB</td>\n",
       "      <td>NaN</td>\n",
       "      <td>G0</td>\n",
       "      <td>1.8-3.4</td>\n",
       "      <td>WTTS</td>\n",
       "      <td>14, 14, 14</td>\n",
       "      <td>-0.32</td>\n",
       "      <td>Disk</td>\n",
       "      <td>-0.61</td>\n",
       "      <td>II</td>\n",
       "      <td>3.0</td>\n",
       "      <td>JH</td>\n",
       "    </tr>\n",
       "    <tr>\n",
       "      <th>136</th>\n",
       "      <td>ROX-43A2</td>\n",
       "      <td>16 31 20.19</td>\n",
       "      <td>-24 30 00.73</td>\n",
       "      <td>NaN</td>\n",
       "      <td>NaN</td>\n",
       "      <td>G0</td>\n",
       "      <td>1.8-3.4</td>\n",
       "      <td>WTTS</td>\n",
       "      <td>14, 14, 14</td>\n",
       "      <td>NaN</td>\n",
       "      <td>Disk</td>\n",
       "      <td>-0.56</td>\n",
       "      <td>II</td>\n",
       "      <td>3.0</td>\n",
       "      <td>JH</td>\n",
       "    </tr>\n",
       "    <tr>\n",
       "      <th>143</th>\n",
       "      <td>ROX-47A</td>\n",
       "      <td>16 32 11.81</td>\n",
       "      <td>-24 40 21.3</td>\n",
       "      <td>B</td>\n",
       "      <td>0.78</td>\n",
       "      <td>M3</td>\n",
       "      <td>9.2</td>\n",
       "      <td>WTTS</td>\n",
       "      <td>19, 14, 14</td>\n",
       "      <td>-1.94</td>\n",
       "      <td>Disk</td>\n",
       "      <td>-1.55</td>\n",
       "      <td>II</td>\n",
       "      <td>1.6</td>\n",
       "      <td>SPEX</td>\n",
       "    </tr>\n",
       "  </tbody>\n",
       "</table>\n",
       "</div>"
      ],
      "text/plain": [
       "          Name R.A. (J2000) Decl. (J2000) Mult.  Sep.    SpT EW_Halpha  \\\n",
       "14        ROX2  16 25 24.37  -23 55 09.94     B  0.42     M0       2.8   \n",
       "18        ROX3  16 25 49.65  -24 51 31.71   NaN   NaN     M0   2.3-2.7   \n",
       "19       IRS10  16 25 50.53  -24 39 14.31   NaN   NaN   K5.5       2.5   \n",
       "105      GY284  16 27 30.83  -24 24 56.28   NaN   NaN  M3.25       2.9   \n",
       "112      GY310  16 27 38.63   -24 38 39.3   NaN   NaN     M4         0   \n",
       "118      GY326  16 27 42.69  -24 38 50.67   NaN   NaN     M2       0.2   \n",
       "124    IRS55AB  16 27 52.07  -24 40 50.37     B  0.39   K7.5       1.3   \n",
       "134  ROX-42Cab  16 31 15.75  -24 34 02.21   SpB  0.28     K6     0-1.6   \n",
       "135   ROX-43A1  16 31 20.12  -24 30 05.03   SpB   NaN     G0   1.8-3.4   \n",
       "136   ROX-43A2  16 31 20.19  -24 30 00.73   NaN   NaN     G0   1.8-3.4   \n",
       "143    ROX-47A  16 32 11.81   -24 40 21.3     B  0.78     M3       9.2   \n",
       "\n",
       "    TT Type         Ref.  n_5-12^a        State  n_2-25^a Class  A_V Method  \n",
       "14     WTTS   19, 14, 14     -2.85  Photosphere       NaN   NaN  3.4     JH  \n",
       "18     WTTS  N/A, 14, 14     -2.36  Photosphere     -2.73   III  0.9     IJ  \n",
       "19     WTTS    N/A, 3, 3     -2.77  Photosphere       NaN   NaN  4.4     IJ  \n",
       "105    WTTS    N/A, 3, 3     -0.34         Disk     -0.27    FS  6.0     IJ  \n",
       "112    WTTS    N/A, 3, 3     -0.55         Disk     -0.35    II  6.5     IJ  \n",
       "118    WTTS    N/A, 3, 3     -1.87         Disk     -1.16    II  8.8     IJ  \n",
       "124    WTTS     15, 3, 3     -2.82  Photosphere     -2.56   III  5.0     IJ  \n",
       "134    WTTS   14, 14, 14     -0.97         Disk     -1.08    II  1.6     JH  \n",
       "135    WTTS   14, 14, 14     -0.32         Disk     -0.61    II  3.0     JH  \n",
       "136    WTTS   14, 14, 14       NaN         Disk     -0.56    II  3.0     JH  \n",
       "143    WTTS   19, 14, 14     -1.94         Disk     -1.55    II  1.6   SPEX  "
      ]
     },
     "execution_count": 14,
     "metadata": {},
     "output_type": "execute_result"
    }
   ],
   "source": [
    "tbl1_2_merge[wtts]"
   ]
  },
  {
   "cell_type": "code",
   "execution_count": 9,
   "metadata": {
    "collapsed": false
   },
   "outputs": [
    {
     "name": "stdout",
     "output_type": "stream",
     "text": [
      "mkdir: ../data/McClure2010: File exists\r\n"
     ]
    }
   ],
   "source": [
    "! mkdir ../data/McClure2010"
   ]
  },
  {
   "cell_type": "code",
   "execution_count": 10,
   "metadata": {
    "collapsed": false
   },
   "outputs": [],
   "source": [
    "tbl1_2_merge.to_csv(\"../data/McClure2010/tbl1_2_merge.csv\", index=False, sep='\\t')"
   ]
  },
  {
   "cell_type": "markdown",
   "metadata": {},
   "source": [
    "*The end*"
   ]
  }
 ],
 "metadata": {
  "kernelspec": {
   "display_name": "Python 3",
   "language": "python",
   "name": "python3"
  },
  "language_info": {
   "codemirror_mode": {
    "name": "ipython",
    "version": 3
   },
   "file_extension": ".py",
   "mimetype": "text/x-python",
   "name": "python",
   "nbconvert_exporter": "python",
   "pygments_lexer": "ipython3",
   "version": "3.4.3"
  }
 },
 "nbformat": 4,
 "nbformat_minor": 0
}
