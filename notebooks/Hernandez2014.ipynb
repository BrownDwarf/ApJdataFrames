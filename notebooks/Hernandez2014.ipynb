{
 "metadata": {
  "name": "",
  "signature": "sha256:0f9e2d58271905d32d31eab6b1888f159e9256f98a60fd5a291ea407342c9821"
 },
 "nbformat": 3,
 "nbformat_minor": 0,
 "worksheets": [
  {
   "cells": [
    {
     "cell_type": "markdown",
     "metadata": {},
     "source": [
      "`ApJdataFrames` Hernandez2014\n",
      "---\n",
      "`Title`: A SPECTROSCOPIC CENSUS IN YOUNG STELLAR REGIONS: THE \u03c3 ORIONIS CLUSTER  \n",
      "`Authors`: Jesus Hernandez, Nuria Calvet, Alice Perez, Cesar Briceno, Lorenzo Olguin, Maria E Contreras, Lee Hartmann, Lori E Allen, Catherine Espaillat, and Ram\u00edrez Hernan  \n",
      "\n",
      "Data is from this paper:  \n",
      "http://iopscience.iop.org/0004-637X/794/1/36/article"
     ]
    },
    {
     "cell_type": "code",
     "collapsed": false,
     "input": [
      "%pylab inline\n",
      "\n",
      "import seaborn as sns\n",
      "sns.set_context(\"notebook\", font_scale=1.5)\n",
      "\n",
      "import warnings\n",
      "warnings.filterwarnings(\"ignore\")"
     ],
     "language": "python",
     "metadata": {},
     "outputs": [
      {
       "output_type": "stream",
       "stream": "stdout",
       "text": [
        "Populating the interactive namespace from numpy and matplotlib\n"
       ]
      }
     ],
     "prompt_number": 1
    },
    {
     "cell_type": "code",
     "collapsed": false,
     "input": [
      "from astropy.io import ascii"
     ],
     "language": "python",
     "metadata": {},
     "outputs": [],
     "prompt_number": 2
    },
    {
     "cell_type": "markdown",
     "metadata": {},
     "source": [
      "## Table 4 -  Low Resolution Analysis"
     ]
    },
    {
     "cell_type": "code",
     "collapsed": false,
     "input": [
      "tbl4 = ascii.read(\"http://iopscience.iop.org/0004-637X/794/1/36/suppdata/apj500669t4_mrt.txt\")"
     ],
     "language": "python",
     "metadata": {},
     "outputs": [
      {
       "output_type": "stream",
       "stream": "stdout",
       "text": [
        "Downloading http://iopscience.iop.org/0004-637X/794/1/36/suppdata/apj500669t4_mrt.txt"
       ]
      },
      {
       "output_type": "stream",
       "stream": "stdout",
       "text": [
        " [Done]\n"
       ]
      }
     ],
     "prompt_number": 3
    },
    {
     "cell_type": "code",
     "collapsed": false,
     "input": [
      "tbl4[0:4]"
     ],
     "language": "python",
     "metadata": {},
     "outputs": [
      {
       "html": [
        "&lt;Table masked=True length=4&gt;\n",
        "<table id=\"table4614934288\">\n",
        "<thead><tr><th>Name</th><th>f_Name</th><th>2MASS</th><th>Inst</th><th>f_Inst</th><th>SpType</th><th>e_SpType</th><th>EWLiI</th><th>f_EWLiI</th><th>EWHa</th><th>f_EWHa</th><th>EWNaI</th><th>e_EWNaI</th><th>f_EWNaI</th><th>AVKH95</th><th>AVPM13</th></tr></thead>\n",
        "<thead><tr><th></th><th></th><th></th><th></th><th></th><th></th><th></th><th>0.1 nm</th><th></th><th>0.1 nm</th><th></th><th>0.1 nm</th><th>0.1 nm</th><th></th><th>mag</th><th>mag</th></tr></thead>\n",
        "<thead><tr><th>string48</th><th>string8</th><th>string136</th><th>string48</th><th>string8</th><th>string32</th><th>float64</th><th>float64</th><th>int64</th><th>float64</th><th>string48</th><th>float64</th><th>float64</th><th>string8</th><th>float64</th><th>float64</th></tr></thead>\n",
        "<tr><td>--</td><td>--</td><td>05384476-0236001</td><td>F</td><td>--</td><td>B0.0</td><td>1.5</td><td>0.0</td><td>0</td><td>3.1</td><td>E_abs_</td><td>--</td><td>--</td><td>--</td><td>0.0</td><td>0.0</td></tr>\n",
        "<tr><td>SO724</td><td>--</td><td>05384719-0235405</td><td>S</td><td>--</td><td>B2.0</td><td>1.5</td><td>0.0</td><td>0</td><td>2.0</td><td>E_abs_</td><td>--</td><td>--</td><td>--</td><td>0.0</td><td>0.0</td></tr>\n",
        "<tr><td>--</td><td>--</td><td>05384561-0235588</td><td>F</td><td>--</td><td>B2.0</td><td>1.5</td><td>0.0</td><td>0</td><td>4.3</td><td>E_abs_</td><td>--</td><td>--</td><td>--</td><td>0.1</td><td>0.0</td></tr>\n",
        "<tr><td>--</td><td>--</td><td>05402018-0226082</td><td>F</td><td>--</td><td>B4.0</td><td>1.5</td><td>0.0</td><td>0</td><td>5.0</td><td>E_abs_</td><td>--</td><td>--</td><td>--</td><td>0.17</td><td>0.0</td></tr>\n",
        "</table>"
       ],
       "metadata": {},
       "output_type": "pyout",
       "prompt_number": 4,
       "text": [
        "<Table masked=True length=4>\n",
        "  Name    f_Name      2MASS         Inst   ... e_EWNaI f_EWNaI  AVKH95  AVPM13\n",
        "                                           ...  0.1 nm           mag     mag  \n",
        "string48 string8    string136     string48 ... float64 string8 float64 float64\n",
        "-------- ------- ---------------- -------- ... ------- ------- ------- -------\n",
        "      --      -- 05384476-0236001        F ...      --      --     0.0     0.0\n",
        "   SO724      -- 05384719-0235405        S ...      --      --     0.0     0.0\n",
        "      --      -- 05384561-0235588        F ...      --      --     0.1     0.0\n",
        "      --      -- 05402018-0226082        F ...      --      --    0.17     0.0"
       ]
      }
     ],
     "prompt_number": 4
    },
    {
     "cell_type": "code",
     "collapsed": false,
     "input": [
      "Na_mask = ((tbl4[\"f_EWNaI\"] == \"Y\") | (tbl4[\"f_EWNaI\"] == \"N\"))\n",
      "print \"There are {} sources with Na I line detections out of {} sources in the catalog\".format(Na_mask.sum(), len(tbl4))"
     ],
     "language": "python",
     "metadata": {},
     "outputs": [
      {
       "output_type": "stream",
       "stream": "stdout",
       "text": [
        "There are 57 sources with Na I line detections out of 340 sources in the catalog\n"
       ]
      }
     ],
     "prompt_number": 5
    },
    {
     "cell_type": "code",
     "collapsed": false,
     "input": [
      "tbl4_late = tbl4[['Name', '2MASS', 'SpType', 'e_SpType','EWHa', 'f_EWHa', 'EWNaI', 'e_EWNaI', 'f_EWNaI']][Na_mask]"
     ],
     "language": "python",
     "metadata": {},
     "outputs": [],
     "prompt_number": 6
    },
    {
     "cell_type": "code",
     "collapsed": false,
     "input": [
      "tbl4_late.pprint(max_lines=100, )"
     ],
     "language": "python",
     "metadata": {},
     "outputs": [
      {
       "output_type": "stream",
       "stream": "stdout",
       "text": [
        " Name        2MASS       SpType e_SpType  EWHa  f_EWHa EWNaI  e_EWNaI f_EWNaI\n",
        "                                         0.1 nm        0.1 nm  0.1 nm        \n",
        "------ ----------------- ------ -------- ------ ------ ------ ------- -------\n",
        " SO576  05383302-0239279   M2.0      1.5    0.0     --   2.37    0.22       N\n",
        " SO444  05381824-0248143   M3.0      0.5   -3.8   nAcr   0.83    0.08       Y\n",
        " SO220  05375220-0233379   M3.0      0.5   -3.9   nAcr   0.92    0.08       Y\n",
        "SO1219  05394799-0240320   M3.0      0.5   -2.8   nAcr    0.9    0.07       Y\n",
        " SO804  05385543-0241297   M3.0      0.5    0.5   nAcr   1.96    0.09       N\n",
        " SO374  05380994-0251377   M3.0      0.5  -22.3    Acr   1.04    0.09       Y\n",
        " SO117  05373666-0234003   M3.0      0.5   -4.3   nAcr   1.06     0.1       Y\n",
        " SO525  05382774-0243009   M3.0      1.0   -5.8   nAcr   1.35    0.09       Y\n",
        "  SO60  05372831-0224182   M3.0      1.0   -3.5   nAcr   1.37     0.1       Y\n",
        "  SO27  05372306-0232465   M3.0      1.0   -4.4   nAcr   1.47    0.11       Y\n",
        " SO795  05385434-0240029   M3.0      1.0    0.0     --   2.48    0.19       N\n",
        " SO908  05390878-0231115   M3.0      1.0  -19.8    Acr   0.74     0.1       Y\n",
        " SO520  05382750-0235041   M3.5      0.5  -28.4    Acr   0.52    0.07       Y\n",
        " SO366  05380897-0220109   M3.5      0.5   -5.8   nAcr   1.18    0.11       Y\n",
        " SO426  05381610-0238049   M3.5      0.5   -5.3   nAcr   0.69    0.11       Y\n",
        " SO655  05383972-0240197   M3.5      0.5    2.7   nAcr   0.57    0.13       Y\n",
        " SO865  05390357-0246269   M3.5      1.0  -50.2    Acr   0.94    0.09       Y\n",
        " SO955  05391505-0218444   M3.5      1.0   -2.7   nAcr   1.21    0.11       Y\n",
        "SO1071  05392883-0217513   M3.5      1.0  -14.4   Acr?   1.41    0.09       Y\n",
        "SO1083  05393132-0248528   M3.5      1.0   -8.0   nAcr   1.33    0.13       Y\n",
        " SO514  05382684-0238460   M3.5      1.0    0.0     --   1.23    0.19       Y\n",
        " SO562  05383141-0236338   M3.5      1.5  -77.7    Acr   0.52     0.1       Y\n",
        "SO1053  05392650-0252152   M4.0      0.5   -3.6   nAcr   1.02    0.09       Y\n",
        " SO967  05391582-0236507   M4.0      0.5   -5.5   nAcr   1.08    0.08       Y\n",
        " SO484  05382332-0244142   M4.0      0.5   -4.8   nAcr   1.15    0.08       Y\n",
        " SO940  05391346-0237391   M4.0      0.5   -0.5   nAcr   0.99    0.12       Y\n",
        " SO397  05381319-0226088   M4.0      1.0  -38.5    Acr   1.21     0.1       Y\n",
        " SO901  05390808-0228447   M4.0      1.0    2.7   nAcr   0.47     0.1       Y\n",
        " SO999  05392023-0238258   M4.0      1.0   -1.0   nAcr   0.81     0.1       Y\n",
        " SO490  05382358-0220475   M4.0      1.0 -138.7    Acr   0.99     0.1       Y\n",
        " SO462  05382050-0234089   M4.0      1.0  -22.0    Acr   0.43    0.06       Y\n",
        " SO723  05384718-0234368   M4.0      1.5  -77.8    Acr   0.61    0.13       Y\n",
        " SO465  05382088-0246132   M4.0      4.0    7.6   nAcr   0.48    0.13       Y\n",
        " SO740  05384828-0236409   M4.5      0.5   -5.2   nAcr   0.46    0.11       Y\n",
        " SO300  05380107-0245379   M4.5      0.5  -92.6    Acr   0.65     0.1       Y\n",
        " SO489  05382354-0241317   M4.5      0.5   -4.6   nAcr   1.13     0.1       Y\n",
        " SO624  05383687-0236432   M4.5      0.5   -2.9   nAcr   0.36    0.09       Y\n",
        " SO866  05390387-0220081   M4.5      1.0  -13.8   Acr?   0.86    0.09       Y\n",
        " SO165  05374527-0228521   M4.5      1.0   -8.0   nAcr   1.04    0.11       Y\n",
        " SO658  05384008-0250370   M4.5      1.0   -1.1   nAcr   0.57    0.11       Y\n",
        " SO628  05383745-0250236   M4.5      1.5   -5.1   nAcr   1.16    0.09       Y\n",
        " SO500  05382543-0242412   M4.5      2.0 -181.6    Acr   0.97    0.15       Y\n",
        " SO247  05375486-0241092   M5.0      0.5  -24.1    Acr    0.6     0.1       Y\n",
        " SO460  05382021-0238016   M5.0      0.5  -10.6   nAcr   1.44    0.14       Y\n",
        " SO435  05381778-0240500   M5.0      0.5  -13.8   nAcr   1.41     0.1       Y\n",
        " SO297  05380055-0245097   M5.0      0.5   -9.5   nAcr   0.74    0.07       Y\n",
        "SO1207  05394661-0226313   M5.0      0.5   -9.9   nAcr   1.23    0.11       Y\n",
        " SO714  05384597-0245231   M5.0      0.5   -0.3   nAcr   1.02    0.12       Y\n",
        " SO933  05391232-0230064   M5.0      0.5   -5.5   nAcr   0.83    0.09       Y\n",
        " SO432  05381718-0222256   M5.0      0.5  -13.1   nAcr   0.97    0.14       Y\n",
        " SO566 J053832.13-023243   M5.0      1.0   -6.9   nAcr    0.4    0.08       Y\n",
        " SO271  05375745-0238444   M5.0      1.0  -15.5   Acr?   1.34    0.18       Y\n",
        " SO689  05384333-0232008   M5.0      2.0   -3.7   nAcr   0.96    0.12       Y\n",
        " SO107  05373514-0226577   M5.5      0.5  -14.3   nAcr   0.78    0.12       Y\n",
        " SO467  05382119-0254110   M5.5      0.5   -6.6   nAcr   0.84    0.12       Y\n",
        " SO283  05375840-0241262   M5.5      0.5  -14.3   Acr?   0.99    0.13       Y\n",
        " SO398  05381321-0224075   M5.5      1.0  -11.6   nAcr   1.03    0.14       Y\n"
       ]
      }
     ],
     "prompt_number": 7
    },
    {
     "cell_type": "markdown",
     "metadata": {},
     "source": [
      "### Meh... not a lot of late type sources... M5.5 is the latest.  Oh well."
     ]
    },
    {
     "cell_type": "markdown",
     "metadata": {},
     "source": [
      "*Script finished.*"
     ]
    }
   ],
   "metadata": {}
  }
 ]
}