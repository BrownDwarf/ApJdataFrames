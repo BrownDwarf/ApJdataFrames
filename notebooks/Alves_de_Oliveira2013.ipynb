{
 "cells": [
  {
   "cell_type": "markdown",
   "metadata": {},
   "source": [
    "`ApJdataFrames` Alves_de_Oliveira_2013\n",
    "---\n",
    "`Title`: Herschel survey of brown dwarf disks in ρ Ophiuchi  \n",
    "`Authors`: C. Alves Alves de Oliveira, P Ábrahám, G Marton, C Pinte, Cs Kiss, M Kun, Á Kóspál, Philippe André, and V Konyves  \n",
    "\n",
    "Data is from this paper:  \n",
    "http://www.aanda.org/articles/aa/full_html/2013/11/aa22402-13/aa22402-13.html\n"
   ]
  },
  {
   "cell_type": "markdown",
   "metadata": {},
   "source": [
    "###Warning: copying from the website caused unicode errors.\n",
    "These should be fixed now."
   ]
  },
  {
   "cell_type": "code",
   "execution_count": 3,
   "metadata": {
    "collapsed": false
   },
   "outputs": [
    {
     "name": "stdout",
     "output_type": "stream",
     "text": [
      "Populating the interactive namespace from numpy and matplotlib\n"
     ]
    }
   ],
   "source": [
    "%pylab inline\n",
    "import seaborn as sns"
   ]
  },
  {
   "cell_type": "code",
   "execution_count": 4,
   "metadata": {
    "collapsed": false
   },
   "outputs": [],
   "source": [
    "import warnings\n",
    "warnings.filterwarnings(\"ignore\")"
   ]
  },
  {
   "cell_type": "code",
   "execution_count": 5,
   "metadata": {
    "collapsed": false
   },
   "outputs": [],
   "source": [
    "import pandas as pd\n",
    "pd.options.display.max_columns = 150"
   ]
  },
  {
   "cell_type": "markdown",
   "metadata": {},
   "source": [
    "## Table 1 - Herschel/PACS fluxes for the detected brown dwarfs in ρ Ophiuchi.\n",
    "\n",
    "So A&A offers no method to directly download a .txt file.  **SO I have to copy the table to a clipboard** to read it in.  \n",
    "This. Boggles. My. Mind.\n",
    "\n",
    "http://www.aanda.org/articles/aa/full_html/2013/11/aa22402-13/T1.html\n",
    "\n",
    "```python\n",
    "names = [\"Identifier\",\"RA\",\"Dec\",\"SpT\",\"A V\",\"Ref.\",\"70 μm\",\"100 μm\",\"160 μm\"]\n",
    "tbl1 = pd.read_clipboard(sep='\\t', names = names)\n",
    "```\n",
    "\n",
    "Since the reading from the keyboard method is not automatically repeatable, let's save this to as tab-separated data file, locally.  \n",
    "Use tabs because there are commas in the content."
   ]
  },
  {
   "cell_type": "markdown",
   "metadata": {},
   "source": [
    "```python\n",
    "tbl1.to_csv(\"../data/Alves_de_Oliveira2013/tbl1.csv\", sep='\\t', index=False)\n",
    "```"
   ]
  },
  {
   "cell_type": "code",
   "execution_count": 6,
   "metadata": {
    "collapsed": false
   },
   "outputs": [],
   "source": [
    "tbl1 = pd.read_csv(\"../data/Alves_de_Oliveira2013/tbl1.csv\", sep='\\t')"
   ]
  },
  {
   "cell_type": "code",
   "execution_count": 7,
   "metadata": {
    "collapsed": false
   },
   "outputs": [
    {
     "data": {
      "text/html": [
       "<div style=\"max-height:1000px;max-width:1500px;overflow:auto;\">\n",
       "<table border=\"1\" class=\"dataframe\">\n",
       "  <thead>\n",
       "    <tr style=\"text-align: right;\">\n",
       "      <th></th>\n",
       "      <th>Identifier</th>\n",
       "      <th>RA</th>\n",
       "      <th>Dec</th>\n",
       "      <th>SpT</th>\n",
       "      <th>A_V</th>\n",
       "      <th>Ref</th>\n",
       "      <th>70_micron</th>\n",
       "      <th>100_micron</th>\n",
       "      <th>160_micron</th>\n",
       "    </tr>\n",
       "  </thead>\n",
       "  <tbody>\n",
       "    <tr>\n",
       "      <th>0</th>\n",
       "      <td>    GY92 154</td>\n",
       "      <td> 16:26:54.79</td>\n",
       "      <td> -24:27:02.1</td>\n",
       "      <td>       M6</td>\n",
       "      <td> 20.1</td>\n",
       "      <td>    1, 4, 8</td>\n",
       "      <td> 87.5 pm 10.3</td>\n",
       "      <td>  172.8 pm 32.8</td>\n",
       "      <td> 399.6 pm 246.4</td>\n",
       "    </tr>\n",
       "    <tr>\n",
       "      <th>1</th>\n",
       "      <td>    GY92 171</td>\n",
       "      <td> 16:26:58.41</td>\n",
       "      <td> -24:21:30.0</td>\n",
       "      <td>       M6</td>\n",
       "      <td>  6.6</td>\n",
       "      <td>    1, 4, 8</td>\n",
       "      <td> 41.2 pm 10.5</td>\n",
       "      <td>   53.6 pm 34.8</td>\n",
       "      <td>         &lt;189.0</td>\n",
       "    </tr>\n",
       "    <tr>\n",
       "      <th>2</th>\n",
       "      <td>  GY92 204 a</td>\n",
       "      <td> 16:27:06.60</td>\n",
       "      <td> -24:41:48.8</td>\n",
       "      <td> M6(M5.5)</td>\n",
       "      <td>  0.5</td>\n",
       "      <td> 1, 4, 5, 6</td>\n",
       "      <td>  80.1 pm 5.6</td>\n",
       "      <td>   48.4 pm 19.1</td>\n",
       "      <td>         &lt;115.2</td>\n",
       "    </tr>\n",
       "    <tr>\n",
       "      <th>3</th>\n",
       "      <td> ISO-Oph 160</td>\n",
       "      <td> 16:27:37.42</td>\n",
       "      <td> -24:17:54.9</td>\n",
       "      <td>       M6</td>\n",
       "      <td>  6.0</td>\n",
       "      <td>       4, 5</td>\n",
       "      <td>  38.8 pm 7.6</td>\n",
       "      <td>   61.9 pm 20.5</td>\n",
       "      <td>          &lt;93.8</td>\n",
       "    </tr>\n",
       "    <tr>\n",
       "      <th>4</th>\n",
       "      <td>    GY92 344</td>\n",
       "      <td> 16:27:45.78</td>\n",
       "      <td> -24:44:53.6</td>\n",
       "      <td>       M6</td>\n",
       "      <td> 16.2</td>\n",
       "      <td>    1, 4, 8</td>\n",
       "      <td> 727.3 pm 4.4</td>\n",
       "      <td> 1338.8 pm 12.8</td>\n",
       "      <td> 2675.6 pm 87.4</td>\n",
       "    </tr>\n",
       "  </tbody>\n",
       "</table>\n",
       "</div>"
      ],
      "text/plain": [
       "    Identifier           RA          Dec       SpT   A_V         Ref  \\\n",
       "0     GY92 154  16:26:54.79  -24:27:02.1        M6  20.1     1, 4, 8   \n",
       "1     GY92 171  16:26:58.41  -24:21:30.0        M6   6.6     1, 4, 8   \n",
       "2   GY92 204 a  16:27:06.60  -24:41:48.8  M6(M5.5)   0.5  1, 4, 5, 6   \n",
       "3  ISO-Oph 160  16:27:37.42  -24:17:54.9        M6   6.0        4, 5   \n",
       "4     GY92 344  16:27:45.78  -24:44:53.6        M6  16.2     1, 4, 8   \n",
       "\n",
       "      70_micron      100_micron      160_micron  \n",
       "0  87.5 pm 10.3   172.8 pm 32.8  399.6 pm 246.4  \n",
       "1  41.2 pm 10.5    53.6 pm 34.8          <189.0  \n",
       "2   80.1 pm 5.6    48.4 pm 19.1          <115.2  \n",
       "3   38.8 pm 7.6    61.9 pm 20.5           <93.8  \n",
       "4  727.3 pm 4.4  1338.8 pm 12.8  2675.6 pm 87.4  "
      ]
     },
     "execution_count": 7,
     "metadata": {},
     "output_type": "execute_result"
    }
   ],
   "source": [
    "tbl1.head()"
   ]
  },
  {
   "cell_type": "markdown",
   "metadata": {},
   "source": [
    "## Table A1 - 1σ upper limits for brown dwarfs in ρ Ophiuchi not detected in Herschel/PACS images\n",
    "\n",
    "Once again, having to use the clipboard.\n",
    "\n",
    "http://www.aanda.org/articles/aa/full_html/2013/11/aa22402-13/T3.html"
   ]
  },
  {
   "cell_type": "markdown",
   "metadata": {},
   "source": [
    "```python\n",
    "names = [\"Identifier\",\"RA\",\"Dec\",\"SpT\",\"A V\",\"Ref.\",\"70 μm\",\"100 μm\",\"160 μm\"]\n",
    "tblA1 = pd.read_clipboard(sep='\\t', names = names)\n",
    "tblA1.to_csv(\"../data/Alves_de_Oliveira2013/tblA1.csv\", sep = '\\t', index=False)\n",
    "```"
   ]
  },
  {
   "cell_type": "code",
   "execution_count": 16,
   "metadata": {
    "collapsed": false
   },
   "outputs": [],
   "source": [
    "tblA1 = pd.read_csv(\"../data/Alves_de_Oliveira2013/tblA1.csv\", sep='\\t', encoding='latin-1')"
   ]
  },
  {
   "cell_type": "markdown",
   "metadata": {},
   "source": [
    "The End."
   ]
  }
 ],
 "metadata": {
  "kernelspec": {
   "display_name": "Python 2",
   "language": "python",
   "name": "python2"
  },
  "language_info": {
   "codemirror_mode": {
    "name": "ipython",
    "version": 2
   },
   "file_extension": ".py",
   "mimetype": "text/x-python",
   "name": "python",
   "nbconvert_exporter": "python",
   "pygments_lexer": "ipython2",
   "version": "2.7.9"
  }
 },
 "nbformat": 4,
 "nbformat_minor": 0
}
