{
 "metadata": {
  "name": "",
  "signature": "sha256:d27eb8c6ff2f5a2ba59aed7e9053b5e35c89f702e4a29afa07f3f1eb57074fd5"
 },
 "nbformat": 3,
 "nbformat_minor": 0,
 "worksheets": [
  {
   "cells": [
    {
     "cell_type": "markdown",
     "metadata": {},
     "source": [
      "`ApJdataFrames` 011: Allers2007\n",
      "---\n",
      "`Title`: Characterizing Young Brown Dwarfs Using Low-Resolution Near-Infrared Spectra  \n",
      "`Authors`: K. N. Allers, D T Jaffe, Kevin L Luhman, Michael C Liu, J C Wilson, M F Skrutskie, M Nelson, D E Peterson, J D Smith, and M C Cushing  \n",
      "\n",
      "Data is from this paper:  \n",
      "http://iopscience.iop.org/0004-637X/657/1/511/fulltext/70211.html"
     ]
    },
    {
     "cell_type": "code",
     "collapsed": false,
     "input": [
      "%pylab inline\n",
      "import seaborn as sns"
     ],
     "language": "python",
     "metadata": {},
     "outputs": [
      {
       "output_type": "stream",
       "stream": "stdout",
       "text": [
        "Populating the interactive namespace from numpy and matplotlib\n"
       ]
      }
     ],
     "prompt_number": 1
    },
    {
     "cell_type": "code",
     "collapsed": false,
     "input": [
      "import warnings\n",
      "warnings.filterwarnings(\"ignore\")"
     ],
     "language": "python",
     "metadata": {},
     "outputs": [],
     "prompt_number": 2
    },
    {
     "cell_type": "code",
     "collapsed": false,
     "input": [
      "import pandas as pd"
     ],
     "language": "python",
     "metadata": {},
     "outputs": [],
     "prompt_number": 3
    },
    {
     "cell_type": "markdown",
     "metadata": {},
     "source": [
      "## Table 2 - Physical Properties of sources"
     ]
    },
    {
     "cell_type": "code",
     "collapsed": false,
     "input": [
      "names = [\"Source\",\"RA_J2000\",\"DEC_J2000\",\"SpT\",\"A_V\",\"log_L_bol\",\"T_eff\",\"Mass_CBAH00\",\"Age_CBAH00\",\"Mass_DM97\",\"Age_DM97\"]\n",
      "\n",
      "tbl2 = pd.read_csv(\"http://iopscience.iop.org/0004-637X/657/1/511/fulltext/70211.tb2.txt\", \n",
      "                   sep='\\t', names=names, na_values='\\ldots')\n",
      "tbl2[\"L_bol\"] = 10.0**tbl2.log_L_bol.values\n",
      "tbl2.head()"
     ],
     "language": "python",
     "metadata": {},
     "outputs": [
      {
       "html": [
        "<div style=\"max-height:1000px;max-width:1500px;overflow:auto;\">\n",
        "<table border=\"1\" class=\"dataframe\">\n",
        "  <thead>\n",
        "    <tr style=\"text-align: right;\">\n",
        "      <th></th>\n",
        "      <th>Source</th>\n",
        "      <th>RA_J2000</th>\n",
        "      <th>DEC_J2000</th>\n",
        "      <th>SpT</th>\n",
        "      <th>A_V</th>\n",
        "      <th>log_L_bol</th>\n",
        "      <th>T_eff</th>\n",
        "      <th>Mass_CBAH00</th>\n",
        "      <th>Age_CBAH00</th>\n",
        "      <th>Mass_DM97</th>\n",
        "      <th>Age_DM97</th>\n",
        "      <th>L_bol</th>\n",
        "    </tr>\n",
        "  </thead>\n",
        "  <tbody>\n",
        "    <tr>\n",
        "      <th>0</th>\n",
        "      <td>  Cha 1257-7701</td>\n",
        "      <td> 12 57 58.7</td>\n",
        "      <td> -77 01 19.5</td>\n",
        "      <td> M9</td>\n",
        "      <td>  4.0</td>\n",
        "      <td>-3.1</td>\n",
        "      <td> 2400</td>\n",
        "      <td> 30</td>\n",
        "      <td> 30</td>\n",
        "      <td>  20</td>\n",
        "      <td> 15</td>\n",
        "      <td> 0.000794</td>\n",
        "    </tr>\n",
        "    <tr>\n",
        "      <th>1</th>\n",
        "      <td>  Cha 1258-7709</td>\n",
        "      <td> 12 58 06.7</td>\n",
        "      <td> -77 09 09.5</td>\n",
        "      <td> M6</td>\n",
        "      <td> 10.4</td>\n",
        "      <td>-1.3</td>\n",
        "      <td> 2990</td>\n",
        "      <td> 90</td>\n",
        "      <td>  1</td>\n",
        "      <td> 140</td>\n",
        "      <td>  3</td>\n",
        "      <td> 0.050119</td>\n",
        "    </tr>\n",
        "    <tr>\n",
        "      <th>2</th>\n",
        "      <td>  Cha 1305-7739</td>\n",
        "      <td> 13 05 40.8</td>\n",
        "      <td> -77 39 58.2</td>\n",
        "      <td> L1</td>\n",
        "      <td>  3.0</td>\n",
        "      <td>-3.1</td>\n",
        "      <td> 2200</td>\n",
        "      <td> 15</td>\n",
        "      <td> 10</td>\n",
        "      <td> NaN</td>\n",
        "      <td>NaN</td>\n",
        "      <td> 0.000794</td>\n",
        "    </tr>\n",
        "    <tr>\n",
        "      <th>3</th>\n",
        "      <td> Oph 1622-2405B</td>\n",
        "      <td> 16 22 25.2</td>\n",
        "      <td> -24 05 15.6</td>\n",
        "      <td> M8</td>\n",
        "      <td>  1.0</td>\n",
        "      <td>-2.6</td>\n",
        "      <td> 2710</td>\n",
        "      <td> 35</td>\n",
        "      <td> 20</td>\n",
        "      <td>  30</td>\n",
        "      <td> 10</td>\n",
        "      <td> 0.002512</td>\n",
        "    </tr>\n",
        "    <tr>\n",
        "      <th>4</th>\n",
        "      <td> Oph 1622-2405A</td>\n",
        "      <td> 16 22 25.2</td>\n",
        "      <td> -24 05 13.7</td>\n",
        "      <td> M7</td>\n",
        "      <td>  0.0</td>\n",
        "      <td>-2.4</td>\n",
        "      <td> 2880</td>\n",
        "      <td> 65</td>\n",
        "      <td> 20</td>\n",
        "      <td>  55</td>\n",
        "      <td> 15</td>\n",
        "      <td> 0.003981</td>\n",
        "    </tr>\n",
        "  </tbody>\n",
        "</table>\n",
        "</div>"
       ],
       "metadata": {},
       "output_type": "pyout",
       "prompt_number": 4,
       "text": [
        "           Source    RA_J2000    DEC_J2000 SpT   A_V  log_L_bol  T_eff  \\\n",
        "0   Cha 1257-7701  12 57 58.7  -77 01 19.5  M9   4.0       -3.1   2400   \n",
        "1   Cha 1258-7709  12 58 06.7  -77 09 09.5  M6  10.4       -1.3   2990   \n",
        "2   Cha 1305-7739  13 05 40.8  -77 39 58.2  L1   3.0       -3.1   2200   \n",
        "3  Oph 1622-2405B  16 22 25.2  -24 05 15.6  M8   1.0       -2.6   2710   \n",
        "4  Oph 1622-2405A  16 22 25.2  -24 05 13.7  M7   0.0       -2.4   2880   \n",
        "\n",
        "   Mass_CBAH00  Age_CBAH00  Mass_DM97  Age_DM97     L_bol  \n",
        "0           30          30         20        15  0.000794  \n",
        "1           90           1        140         3  0.050119  \n",
        "2           15          10        NaN       NaN  0.000794  \n",
        "3           35          20         30        10  0.002512  \n",
        "4           65          20         55        15  0.003981  "
       ]
      }
     ],
     "prompt_number": 4
    },
    {
     "cell_type": "code",
     "collapsed": false,
     "input": [
      "sns.set_context(\"notebook\", font_scale=1.5)"
     ],
     "language": "python",
     "metadata": {},
     "outputs": [],
     "prompt_number": 5
    },
    {
     "cell_type": "code",
     "collapsed": false,
     "input": [
      "plt.plot(tbl2.T_eff, tbl2.L_bol, '.')\n",
      "#plt.errorbar([2400.0]*upper_limits.sum(), tbl6.L_bol[upper_limits], xerr=0.0001, yerr=None, xlolims=True)\n",
      "\n",
      "plt.ylabel(r\"$L/L_{sun}$\")\n",
      "plt.xlabel(r\"$T_{eff} (K)$\")\n",
      "plt.yscale(\"log\")\n",
      "plt.title(\"Allers et al. 2007 Ophiuchus and Cha II\")\n",
      "plt.xlim(5000,2000)\n",
      "plt.ylim(10**-4, 10**2)"
     ],
     "language": "python",
     "metadata": {},
     "outputs": [
      {
       "metadata": {},
       "output_type": "pyout",
       "prompt_number": 10,
       "text": [
        "(0.0001, 100)"
       ]
      },
      {
       "metadata": {},
       "output_type": "display_data",
       "png": "[encoded data removed]",
       "text": [
        "<matplotlib.figure.Figure at 0x11396a090>"
       ]
      }
     ],
     "prompt_number": 10
    },
    {
     "cell_type": "code",
     "collapsed": false,
     "input": [],
     "language": "python",
     "metadata": {},
     "outputs": []
    },
    {
     "cell_type": "markdown",
     "metadata": {},
     "source": [
      "**The end.**"
     ]
    }
   ],
   "metadata": {}
  }
 ]
}