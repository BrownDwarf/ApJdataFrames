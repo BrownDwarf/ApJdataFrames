{
 "metadata": {
  "name": "",
  "signature": "sha256:27efb9c364bcd667ade99c892077ad8a73f4959e4e6662c586f960b95b62fd4f"
 },
 "nbformat": 3,
 "nbformat_minor": 0,
 "worksheets": [
  {
   "cells": [
    {
     "cell_type": "markdown",
     "metadata": {},
     "source": [
      "`ApJdataFrames` 013: Lada2006\n",
      "---\n",
      "`Title`: Spitzer Observations of IC 348: The Disk Population at 2-3 Million Years  \n",
      "`Authors`: Charles J Lada, August A Muench, Kevin L Luhman, Lori E Allen, Lee Hartmann, Tom Megeath, Philip Myers, Giovanni Fazio, Kenneth Wood, James Muzerolle, George Rieke, Nick Siegler, and Erick Young  \n",
      "\n",
      "Data is from this paper:  \n",
      "http://iopscience.iop.org/1538-3881/131/3/1574/fulltext/204953.html"
     ]
    },
    {
     "cell_type": "code",
     "collapsed": false,
     "input": [
      "%pylab inline\n",
      "import seaborn as sns"
     ],
     "language": "python",
     "metadata": {},
     "outputs": [
      {
       "output_type": "stream",
       "stream": "stdout",
       "text": [
        "Populating the interactive namespace from numpy and matplotlib\n"
       ]
      }
     ],
     "prompt_number": 1
    },
    {
     "cell_type": "code",
     "collapsed": false,
     "input": [
      "import warnings\n",
      "warnings.filterwarnings(\"ignore\")"
     ],
     "language": "python",
     "metadata": {},
     "outputs": [],
     "prompt_number": 2
    },
    {
     "cell_type": "code",
     "collapsed": false,
     "input": [
      "import pandas as pd"
     ],
     "language": "python",
     "metadata": {},
     "outputs": [],
     "prompt_number": 3
    },
    {
     "cell_type": "code",
     "collapsed": false,
     "input": [
      "from astropy.io import ascii\n",
      "from astropy.table import Table, join"
     ],
     "language": "python",
     "metadata": {},
     "outputs": [],
     "prompt_number": 7
    },
    {
     "cell_type": "markdown",
     "metadata": {},
     "source": [
      "## Table 1 - *Spitzer* IRAC/MIPS IC348 catalog"
     ]
    },
    {
     "cell_type": "code",
     "collapsed": false,
     "input": [
      "tbl1 = ascii.read(\"http://iopscience.iop.org/1538-3881/131/3/1574/fulltext/datafile1.txt\")\n",
      "tbl1[0:4]"
     ],
     "language": "python",
     "metadata": {},
     "outputs": [
      {
       "output_type": "stream",
       "stream": "stdout",
       "text": [
        "Downloading http://iopscience.iop.org/1538-3881/131/3/1574/fulltext/datafile1.txt"
       ]
      },
      {
       "output_type": "stream",
       "stream": "stdout",
       "text": [
        " [Done]\n"
       ]
      },
      {
       "html": [
        "&lt;Table masked=True length=4&gt;\n",
        "<table id=\"table4618189264\">\n",
        "<thead><tr><th>Seq</th><th>RAh</th><th>RAm</th><th>RAs</th><th>DEd</th><th>DEm</th><th>DEs</th><th>3.6IRACmag</th><th>e_3.6IRACmag</th><th>4.5IRACmag</th><th>e_4.5IRACmag</th><th>5.8IRACmag</th><th>e_5.8IRACmag</th><th>8.0IRACmag</th><th>e_8.0IRACmag</th><th>24MIPSmag</th><th>err24MIPSmag</th><th>BLEND-IRAC</th><th>BLEND-MIPS</th></tr></thead>\n",
        "<thead><tr><th></th><th>h</th><th>min</th><th>s</th><th>deg</th><th>arcmin</th><th>arcsec</th><th>mag</th><th>mag</th><th>mag</th><th>mag</th><th>mag</th><th>mag</th><th>mag</th><th>mag</th><th>mag</th><th>mag</th><th></th><th></th></tr></thead>\n",
        "<thead><tr><th>int64</th><th>int64</th><th>int64</th><th>float64</th><th>int64</th><th>int64</th><th>float64</th><th>float64</th><th>float64</th><th>float64</th><th>float64</th><th>float64</th><th>float64</th><th>float64</th><th>float64</th><th>float64</th><th>float64</th><th>int64</th><th>int64</th></tr></thead>\n",
        "<tr><td>1</td><td>3</td><td>44</td><td>34.212</td><td>32</td><td>9</td><td>46.69</td><td>6.74</td><td>0.01</td><td>6.54</td><td>0.02</td><td>6.58</td><td>0.02</td><td>6.5</td><td>0.03</td><td>0.89</td><td>-9.0</td><td>30191</td><td>--</td></tr>\n",
        "<tr><td>2</td><td>3</td><td>44</td><td>35.364</td><td>32</td><td>10</td><td>4.58</td><td>7.09</td><td>0.02</td><td>6.81</td><td>0.02</td><td>6.46</td><td>0.04</td><td>5.82</td><td>0.04</td><td>3.2</td><td>0.03</td><td>--</td><td>--</td></tr>\n",
        "<tr><td>3</td><td>3</td><td>44</td><td>50.649</td><td>32</td><td>19</td><td>6.75</td><td>7.53</td><td>0.01</td><td>7.61</td><td>0.03</td><td>7.47</td><td>0.04</td><td>7.5</td><td>0.04</td><td>7.08</td><td>0.05</td><td>--</td><td>--</td></tr>\n",
        "<tr><td>4</td><td>3</td><td>44</td><td>31.188</td><td>32</td><td>6</td><td>22.09</td><td>7.79</td><td>0.01</td><td>7.74</td><td>0.02</td><td>7.66</td><td>0.02</td><td>7.73</td><td>0.03</td><td>4.38</td><td>-9.0</td><td>--</td><td>--</td></tr>\n",
        "</table>"
       ],
       "metadata": {},
       "output_type": "pyout",
       "prompt_number": 5,
       "text": [
        "<Table masked=True length=4>\n",
        " Seq   RAh   RAm    RAs    DEd  ... 24MIPSmag err24MIPSmag BLEND-IRAC BLEND-MIPS\n",
        "        h    min     s     deg  ...    mag        mag                           \n",
        "int64 int64 int64 float64 int64 ...  float64    float64      int64      int64   \n",
        "----- ----- ----- ------- ----- ... --------- ------------ ---------- ----------\n",
        "    1     3    44  34.212    32 ...      0.89         -9.0      30191         --\n",
        "    2     3    44  35.364    32 ...       3.2         0.03         --         --\n",
        "    3     3    44  50.649    32 ...      7.08         0.05         --         --\n",
        "    4     3    44  31.188    32 ...      4.38         -9.0         --         --"
       ]
      }
     ],
     "prompt_number": 5
    },
    {
     "cell_type": "markdown",
     "metadata": {},
     "source": [
      "## Table 2 - SED Derived $\\alpha_{IRAC}$ and $A_V$\n",
      "\n",
      "But really... spectral types"
     ]
    },
    {
     "cell_type": "code",
     "collapsed": false,
     "input": [
      "tbl2 = ascii.read(\"http://iopscience.iop.org/1538-3881/131/3/1574/fulltext/datafile2.txt\")\n",
      "tbl2[0:4]"
     ],
     "language": "python",
     "metadata": {},
     "outputs": [
      {
       "output_type": "stream",
       "stream": "stdout",
       "text": [
        "Downloading http://iopscience.iop.org/1538-3881/131/3/1574/fulltext/datafile2.txt"
       ]
      },
      {
       "output_type": "stream",
       "stream": "stdout",
       "text": [
        " [Done]\n"
       ]
      },
      {
       "html": [
        "&lt;Table masked=True length=4&gt;\n",
        "<table id=\"table4618050192\">\n",
        "<thead><tr><th>Seq</th><th>SpType</th><th>AV</th><th>alphaIRAC-o</th><th>erralphaIRAC-o</th><th>alphaIRAC-d</th><th>erralphaIRAC-d</th><th>Nbands</th><th>STARDISK</th></tr></thead>\n",
        "<thead><tr><th></th><th></th><th>mag</th><th></th><th></th><th></th><th></th><th></th><th></th></tr></thead>\n",
        "<thead><tr><th>int64</th><th>string40</th><th>float64</th><th>float64</th><th>float64</th><th>float64</th><th>float64</th><th>int64</th><th>string48</th></tr></thead>\n",
        "<tr><td>1</td><td>B5</td><td>3.1</td><td>-2.638</td><td>0.102</td><td>-2.708</td><td>0.091</td><td>4</td><td>STAR</td></tr>\n",
        "<tr><td>2</td><td>A2</td><td>3.2</td><td>-1.396</td><td>0.127</td><td>-1.468</td><td>0.143</td><td>4</td><td>THICK</td></tr>\n",
        "<tr><td>3</td><td>A0</td><td>3.9</td><td>-2.794</td><td>0.11</td><td>-2.883</td><td>0.115</td><td>4</td><td>STAR</td></tr>\n",
        "<tr><td>4</td><td>F0</td><td>2.3</td><td>-2.786</td><td>0.091</td><td>-2.838</td><td>0.082</td><td>4</td><td>STAR</td></tr>\n",
        "</table>"
       ],
       "metadata": {},
       "output_type": "pyout",
       "prompt_number": 6,
       "text": [
        "<Table masked=True length=4>\n",
        " Seq   SpType     AV   alphaIRAC-o ... erralphaIRAC-d Nbands STARDISK\n",
        "                 mag               ...                               \n",
        "int64 string40 float64   float64   ...    float64     int64  string48\n",
        "----- -------- ------- ----------- ... -------------- ------ --------\n",
        "    1       B5     3.1      -2.638 ...          0.091      4     STAR\n",
        "    2       A2     3.2      -1.396 ...          0.143      4    THICK\n",
        "    3       A0     3.9      -2.794 ...          0.115      4     STAR\n",
        "    4       F0     2.3      -2.786 ...          0.082      4     STAR"
       ]
      }
     ],
     "prompt_number": 6
    },
    {
     "cell_type": "code",
     "collapsed": false,
     "input": [
      "join_tbls = join(tbl1, tbl2, keys=\"Seq\")\n",
      "print \"There are {} rows in tbl1, {} in tbl2, and {} in the joined table.\".format(len(tbl1), len(tbl2), len(join_tbls))"
     ],
     "language": "python",
     "metadata": {},
     "outputs": [
      {
       "output_type": "stream",
       "stream": "stdout",
       "text": [
        "There are 307 rows in tbl1, 307 in tbl2, and 307 in the joined table\n"
       ]
      }
     ],
     "prompt_number": 11
    },
    {
     "cell_type": "code",
     "collapsed": false,
     "input": [
      "join_tbls[0:4]"
     ],
     "language": "python",
     "metadata": {},
     "outputs": [
      {
       "html": [
        "&lt;Table masked=True length=4&gt;\n",
        "<table id=\"table4618050064\">\n",
        "<thead><tr><th>Seq</th><th>RAh</th><th>RAm</th><th>RAs</th><th>DEd</th><th>DEm</th><th>DEs</th><th>3.6IRACmag</th><th>e_3.6IRACmag</th><th>4.5IRACmag</th><th>e_4.5IRACmag</th><th>5.8IRACmag</th><th>e_5.8IRACmag</th><th>8.0IRACmag</th><th>e_8.0IRACmag</th><th>24MIPSmag</th><th>err24MIPSmag</th><th>BLEND-IRAC</th><th>BLEND-MIPS</th><th>SpType</th><th>AV</th><th>alphaIRAC-o</th><th>erralphaIRAC-o</th><th>alphaIRAC-d</th><th>erralphaIRAC-d</th><th>Nbands</th><th>STARDISK</th></tr></thead>\n",
        "<thead><tr><th></th><th>h</th><th>min</th><th>s</th><th>deg</th><th>arcmin</th><th>arcsec</th><th>mag</th><th>mag</th><th>mag</th><th>mag</th><th>mag</th><th>mag</th><th>mag</th><th>mag</th><th>mag</th><th>mag</th><th></th><th></th><th></th><th>mag</th><th></th><th></th><th></th><th></th><th></th><th></th></tr></thead>\n",
        "<thead><tr><th>int64</th><th>int64</th><th>int64</th><th>float64</th><th>int64</th><th>int64</th><th>float64</th><th>float64</th><th>float64</th><th>float64</th><th>float64</th><th>float64</th><th>float64</th><th>float64</th><th>float64</th><th>float64</th><th>float64</th><th>int64</th><th>int64</th><th>string40</th><th>float64</th><th>float64</th><th>float64</th><th>float64</th><th>float64</th><th>int64</th><th>string48</th></tr></thead>\n",
        "<tr><td>1</td><td>3</td><td>44</td><td>34.212</td><td>32</td><td>9</td><td>46.69</td><td>6.74</td><td>0.01</td><td>6.54</td><td>0.02</td><td>6.58</td><td>0.02</td><td>6.5</td><td>0.03</td><td>0.89</td><td>-9.0</td><td>30191</td><td>--</td><td>B5</td><td>3.1</td><td>-2.638</td><td>0.102</td><td>-2.708</td><td>0.091</td><td>4</td><td>STAR</td></tr>\n",
        "<tr><td>2</td><td>3</td><td>44</td><td>35.364</td><td>32</td><td>10</td><td>4.58</td><td>7.09</td><td>0.02</td><td>6.81</td><td>0.02</td><td>6.46</td><td>0.04</td><td>5.82</td><td>0.04</td><td>3.2</td><td>0.03</td><td>--</td><td>--</td><td>A2</td><td>3.2</td><td>-1.396</td><td>0.127</td><td>-1.468</td><td>0.143</td><td>4</td><td>THICK</td></tr>\n",
        "<tr><td>3</td><td>3</td><td>44</td><td>50.649</td><td>32</td><td>19</td><td>6.75</td><td>7.53</td><td>0.01</td><td>7.61</td><td>0.03</td><td>7.47</td><td>0.04</td><td>7.5</td><td>0.04</td><td>7.08</td><td>0.05</td><td>--</td><td>--</td><td>A0</td><td>3.9</td><td>-2.794</td><td>0.11</td><td>-2.883</td><td>0.115</td><td>4</td><td>STAR</td></tr>\n",
        "<tr><td>4</td><td>3</td><td>44</td><td>31.188</td><td>32</td><td>6</td><td>22.09</td><td>7.79</td><td>0.01</td><td>7.74</td><td>0.02</td><td>7.66</td><td>0.02</td><td>7.73</td><td>0.03</td><td>4.38</td><td>-9.0</td><td>--</td><td>--</td><td>F0</td><td>2.3</td><td>-2.786</td><td>0.091</td><td>-2.838</td><td>0.082</td><td>4</td><td>STAR</td></tr>\n",
        "</table>"
       ],
       "metadata": {},
       "output_type": "pyout",
       "prompt_number": 12,
       "text": [
        "<Table masked=True length=4>\n",
        " Seq   RAh   RAm    RAs    DEd  ... alphaIRAC-d erralphaIRAC-d Nbands STARDISK\n",
        "        h    min     s     deg  ...                                           \n",
        "int64 int64 int64 float64 int64 ...   float64      float64     int64  string48\n",
        "----- ----- ----- ------- ----- ... ----------- -------------- ------ --------\n",
        "    1     3    44  34.212    32 ...      -2.708          0.091      4     STAR\n",
        "    2     3    44  35.364    32 ...      -1.468          0.143      4    THICK\n",
        "    3     3    44  50.649    32 ...      -2.883          0.115      4     STAR\n",
        "    4     3    44  31.188    32 ...      -2.838          0.082      4     STAR"
       ]
      }
     ],
     "prompt_number": 12
    },
    {
     "cell_type": "markdown",
     "metadata": {},
     "source": [
      "## Table 3 - Convenient passbands table"
     ]
    },
    {
     "cell_type": "code",
     "collapsed": false,
     "input": [
      "names = [\"PASSBAND\",\"DATA SYSTEM\",\"REFERENCES\",\"center_wavelength\",\"F_{nu} (Jy)\",\"References\"]\n",
      "tbl3 = pd.read_csv(\"http://iopscience.iop.org/1538-3881/131/3/1574/fulltext/204953.tb3.txt\", \n",
      "                   na_values=\"\\ldots\", names = names, sep='\\t')\n",
      "tbl3.head()"
     ],
     "language": "python",
     "metadata": {},
     "outputs": [
      {
       "html": [
        "<div style=\"max-height:1000px;max-width:1500px;overflow:auto;\">\n",
        "<table border=\"1\" class=\"dataframe\">\n",
        "  <thead>\n",
        "    <tr style=\"text-align: right;\">\n",
        "      <th></th>\n",
        "      <th>PASSBAND</th>\n",
        "      <th>DATA SYSTEM</th>\n",
        "      <th>REFERENCES</th>\n",
        "      <th>center_wavelength</th>\n",
        "      <th>F_{nu} (Jy)</th>\n",
        "      <th>References</th>\n",
        "    </tr>\n",
        "  </thead>\n",
        "  <tbody>\n",
        "    <tr>\n",
        "      <th>0</th>\n",
        "      <td> V_{L}</td>\n",
        "      <td> Landolt</td>\n",
        "      <td>    1, 2, 3</td>\n",
        "      <td> 0.5423</td>\n",
        "      <td> 3723</td>\n",
        "      <td>  4</td>\n",
        "    </tr>\n",
        "    <tr>\n",
        "      <th>1</th>\n",
        "      <td> R_{C}</td>\n",
        "      <td> Cousins</td>\n",
        "      <td>    1, 2, 3</td>\n",
        "      <td> 0.6410</td>\n",
        "      <td> 3064</td>\n",
        "      <td>  5</td>\n",
        "    </tr>\n",
        "    <tr>\n",
        "      <th>2</th>\n",
        "      <td> I_{C}</td>\n",
        "      <td> Cousins</td>\n",
        "      <td>    1, 2, 3</td>\n",
        "      <td> 0.7890</td>\n",
        "      <td> 2416</td>\n",
        "      <td>  5</td>\n",
        "    </tr>\n",
        "    <tr>\n",
        "      <th>3</th>\n",
        "      <td>     J</td>\n",
        "      <td>   2MASS</td>\n",
        "      <td> 6, 7, 8, 9</td>\n",
        "      <td> 1.2350</td>\n",
        "      <td> 1594</td>\n",
        "      <td> 10</td>\n",
        "    </tr>\n",
        "    <tr>\n",
        "      <th>4</th>\n",
        "      <td>     H</td>\n",
        "      <td>   2MASS</td>\n",
        "      <td> 6, 7, 8, 9</td>\n",
        "      <td> 1.6620</td>\n",
        "      <td> 1024</td>\n",
        "      <td> 10</td>\n",
        "    </tr>\n",
        "  </tbody>\n",
        "</table>\n",
        "</div>"
       ],
       "metadata": {},
       "output_type": "pyout",
       "prompt_number": 14,
       "text": [
        "  PASSBAND DATA SYSTEM  REFERENCES  center_wavelength  F_{nu} (Jy)  References\n",
        "0    V_{L}     Landolt     1, 2, 3             0.5423         3723           4\n",
        "1    R_{C}     Cousins     1, 2, 3             0.6410         3064           5\n",
        "2    I_{C}     Cousins     1, 2, 3             0.7890         2416           5\n",
        "3        J       2MASS  6, 7, 8, 9             1.2350         1594          10\n",
        "4        H       2MASS  6, 7, 8, 9             1.6620         1024          10"
       ]
      }
     ],
     "prompt_number": 14
    },
    {
     "cell_type": "markdown",
     "metadata": {},
     "source": [
      "**The end.**"
     ]
    }
   ],
   "metadata": {}
  }
 ]
}