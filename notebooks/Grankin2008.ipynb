{
 "cells": [
  {
   "cell_type": "markdown",
   "metadata": {},
   "source": [
    "# `ApJdataFrames` \n",
    "Grankin et al. 2008\n",
    "---\n",
    "`Title`: Results of the ROTOR-program     \n",
    "`Authors`: Grankin et al.  \n",
    "\n",
    "\n",
    "Data is from this paper:  \n",
    "http://www.aanda.org/articles/aa/full/2008/09/aa8476-07/aa8476-07.html\n"
   ]
  },
  {
   "cell_type": "code",
   "execution_count": 1,
   "metadata": {
    "collapsed": true
   },
   "outputs": [],
   "source": [
    "import pandas as pd"
   ]
  },
  {
   "cell_type": "code",
   "execution_count": 2,
   "metadata": {
    "collapsed": true
   },
   "outputs": [],
   "source": [
    "from astropy.io import ascii, votable, misc"
   ]
  },
  {
   "cell_type": "markdown",
   "metadata": {},
   "source": [
    "### Download Data"
   ]
  },
  {
   "cell_type": "code",
   "execution_count": 3,
   "metadata": {
    "collapsed": true
   },
   "outputs": [],
   "source": [
    "#! mkdir ../data/Grankin08"
   ]
  },
  {
   "cell_type": "code",
   "execution_count": 4,
   "metadata": {
    "collapsed": false
   },
   "outputs": [],
   "source": [
    "#! curl http://www.aanda.org/articles/aa/full/2008/09/aa8476-07/table3.tex >> ../data/Grankin08/table3.tex"
   ]
  },
  {
   "cell_type": "code",
   "execution_count": 5,
   "metadata": {
    "collapsed": false
   },
   "outputs": [
    {
     "name": "stdout",
     "output_type": "stream",
     "text": [
      "4.0K\t../data/Grankin08/table3.tex\r\n"
     ]
    }
   ],
   "source": [
    "! du -hs ../data/Grankin08/table3.tex"
   ]
  },
  {
   "cell_type": "markdown",
   "metadata": {},
   "source": [
    "Ew, it's in $\\LaTeX$ format!"
   ]
  },
  {
   "cell_type": "markdown",
   "metadata": {},
   "source": [
    "### Data wrangle-- read in the data"
   ]
  },
  {
   "cell_type": "code",
   "execution_count": 10,
   "metadata": {
    "collapsed": false
   },
   "outputs": [],
   "source": [
    "#! tail -n 15 ../data/Grankin08/table3.tex"
   ]
  },
  {
   "cell_type": "code",
   "execution_count": 7,
   "metadata": {
    "collapsed": true
   },
   "outputs": [],
   "source": [
    "names = ['Name', 'Epochs', 'delta_V_min', 'delta_V_max', 'HJD0-24000000', 'Period', 'Ref1', 'Ref2']"
   ]
  },
  {
   "cell_type": "code",
   "execution_count": 8,
   "metadata": {
    "collapsed": false
   },
   "outputs": [],
   "source": [
    "tab3 = pd.read_csv('../data/Grankin08/table3.tex', sep='&', comment='\\\\',\n",
    "                   skiprows=10, names=names, engine='python', skip_footer=5)"
   ]
  },
  {
   "cell_type": "code",
   "execution_count": 9,
   "metadata": {
    "collapsed": false
   },
   "outputs": [
    {
     "data": {
      "text/html": [
       "<div>\n",
       "<table border=\"1\" class=\"dataframe\">\n",
       "  <thead>\n",
       "    <tr style=\"text-align: right;\">\n",
       "      <th></th>\n",
       "      <th>Name</th>\n",
       "      <th>Epochs</th>\n",
       "      <th>delta_V_min</th>\n",
       "      <th>delta_V_max</th>\n",
       "      <th>HJD0-24000000</th>\n",
       "      <th>Period</th>\n",
       "      <th>Ref1</th>\n",
       "      <th>Ref2</th>\n",
       "    </tr>\n",
       "  </thead>\n",
       "  <tbody>\n",
       "    <tr>\n",
       "      <th>31</th>\n",
       "      <td>VY Tau</td>\n",
       "      <td>1985--2001</td>\n",
       "      <td>0.11</td>\n",
       "      <td>0.31</td>\n",
       "      <td>44610.7</td>\n",
       "      <td>5.36995</td>\n",
       "      <td>gr91</td>\n",
       "      <td>gr94</td>\n",
       "    </tr>\n",
       "    <tr>\n",
       "      <th>32</th>\n",
       "      <td>Wa CrA/1</td>\n",
       "      <td>1990</td>\n",
       "      <td>0.32</td>\n",
       "      <td>0.32</td>\n",
       "      <td>48048.3</td>\n",
       "      <td>2.24000</td>\n",
       "      <td>sh95</td>\n",
       "      <td>sh95</td>\n",
       "    </tr>\n",
       "    <tr>\n",
       "      <th>33</th>\n",
       "      <td>Wa CrA/2</td>\n",
       "      <td>1990</td>\n",
       "      <td>0.16</td>\n",
       "      <td>0.16</td>\n",
       "      <td>48048.3</td>\n",
       "      <td>2.79000</td>\n",
       "      <td>co92</td>\n",
       "      <td>sh95</td>\n",
       "    </tr>\n",
       "    <tr>\n",
       "      <th>34</th>\n",
       "      <td>Wa Oph/1</td>\n",
       "      <td>1993--2004</td>\n",
       "      <td>0.10</td>\n",
       "      <td>0.30</td>\n",
       "      <td>48986.1</td>\n",
       "      <td>3.79200</td>\n",
       "      <td>za93</td>\n",
       "      <td>this paper</td>\n",
       "    </tr>\n",
       "    <tr>\n",
       "      <th>35</th>\n",
       "      <td>Wa Oph/3</td>\n",
       "      <td>1993--2004</td>\n",
       "      <td>0.06</td>\n",
       "      <td>0.23</td>\n",
       "      <td>49144.3</td>\n",
       "      <td>1.52140</td>\n",
       "      <td>sh98</td>\n",
       "      <td>this paper</td>\n",
       "    </tr>\n",
       "  </tbody>\n",
       "</table>\n",
       "</div>"
      ],
      "text/plain": [
       "                Name         Epochs  delta_V_min  delta_V_max  HJD0-24000000  \\\n",
       "31           VY Tau     1985--2001          0.11         0.31        44610.7   \n",
       "32         Wa CrA/1      1990               0.32         0.32        48048.3   \n",
       "33         Wa CrA/2      1990               0.16         0.16        48048.3   \n",
       "34         Wa Oph/1     1993--2004          0.10         0.30        48986.1   \n",
       "35         Wa Oph/3     1993--2004          0.06         0.23        49144.3   \n",
       "\n",
       "     Period    Ref1          Ref2  \n",
       "31  5.36995   gr91          gr94   \n",
       "32  2.24000   sh95          sh95   \n",
       "33  2.79000   co92          sh95   \n",
       "34  3.79200   za93    this paper   \n",
       "35  1.52140   sh98    this paper   "
      ]
     },
     "execution_count": 9,
     "metadata": {},
     "output_type": "execute_result"
    }
   ],
   "source": [
    "tab3.tail()"
   ]
  },
  {
   "cell_type": "code",
   "execution_count": 11,
   "metadata": {
    "collapsed": true
   },
   "outputs": [],
   "source": [
    "tab3.to_csv('../data/Grankin08/table3.csv', index=False)"
   ]
  },
  {
   "cell_type": "markdown",
   "metadata": {},
   "source": [
    "## The end!"
   ]
  }
 ],
 "metadata": {
  "kernelspec": {
   "display_name": "Python 3",
   "language": "python",
   "name": "python3"
  },
  "language_info": {
   "codemirror_mode": {
    "name": "ipython",
    "version": 3
   },
   "file_extension": ".py",
   "mimetype": "text/x-python",
   "name": "python",
   "nbconvert_exporter": "python",
   "pygments_lexer": "ipython3",
   "version": "3.4.5"
  }
 },
 "nbformat": 4,
 "nbformat_minor": 0
}
