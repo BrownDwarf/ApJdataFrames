{
 "cells": [
  {
   "cell_type": "markdown",
   "metadata": {},
   "source": [
    "# `ApJdataFrames` \n",
    "Grankin et al. 2008\n",
    "---\n",
    "`Title`: Results of the ROTOR-program     \n",
    "`Authors`: Grankin et al.  \n",
    "\n",
    "\n",
    "Data is from this paper:  \n",
    "http://www.aanda.org/articles/aa/full/2008/09/aa8476-07/aa8476-07.html\n"
   ]
  },
  {
   "cell_type": "code",
   "execution_count": 1,
   "metadata": {
    "collapsed": true
   },
   "outputs": [],
   "source": [
    "import warnings\n",
    "warnings.filterwarnings(\"ignore\")"
   ]
  },
  {
   "cell_type": "code",
   "execution_count": 2,
   "metadata": {
    "collapsed": true
   },
   "outputs": [],
   "source": [
    "import pandas as pd"
   ]
  },
  {
   "cell_type": "code",
   "execution_count": 3,
   "metadata": {
    "collapsed": true
   },
   "outputs": [],
   "source": [
    "from astropy.io import ascii, votable, misc"
   ]
  },
  {
   "cell_type": "markdown",
   "metadata": {},
   "source": [
    "### Download Data"
   ]
  },
  {
   "cell_type": "code",
   "execution_count": 4,
   "metadata": {
    "collapsed": true
   },
   "outputs": [],
   "source": [
    "#! mkdir ../data/Grankin08"
   ]
  },
  {
   "cell_type": "code",
   "execution_count": 5,
   "metadata": {},
   "outputs": [],
   "source": [
    "#! wget -q -O ../data/Grankin08/table1_orig.tex http://www.aanda.org/articles/aa/full/2008/09/aa8476-07/table1.tex "
   ]
  },
  {
   "cell_type": "code",
   "execution_count": 6,
   "metadata": {},
   "outputs": [],
   "source": [
    "#! wget -q -O ../data/Grankin08/table3.tex http://www.aanda.org/articles/aa/full/2008/09/aa8476-07/table3.tex \\"
   ]
  },
  {
   "cell_type": "code",
   "execution_count": 7,
   "metadata": {},
   "outputs": [
    {
     "name": "stdout",
     "output_type": "stream",
     "text": [
      "\u001b[1m\u001b[31mphot\u001b[m\u001b[m            table1_mod.tex  table1_plus.csv table3.tex\r\n",
      "table1.csv      table1_orig.tex table3.csv\r\n"
     ]
    }
   ],
   "source": [
    "! ls ../data/Grankin08/"
   ]
  },
  {
   "cell_type": "markdown",
   "metadata": {},
   "source": [
    "Ew, it's in $\\LaTeX$ format!"
   ]
  },
  {
   "cell_type": "markdown",
   "metadata": {},
   "source": [
    "## Table 1"
   ]
  },
  {
   "cell_type": "code",
   "execution_count": 8,
   "metadata": {},
   "outputs": [],
   "source": [
    "#! head -n 30 ../data/Grankin08/table1.tex"
   ]
  },
  {
   "cell_type": "markdown",
   "metadata": {},
   "source": [
    "### Two problems from latex.\n",
    "1. The values with binaries go onto a new line, which foils data reading.\n",
    "2. The `\\farcs` latex screws up the decimal point.\n",
    "\n",
    "To deal with these I had to manually delete (horror!) the carriage returns with Sublime Text, then do this:"
   ]
  },
  {
   "cell_type": "code",
   "execution_count": 9,
   "metadata": {
    "collapsed": true
   },
   "outputs": [],
   "source": [
    "#! cp ../data/Grankin08/table1_orig.tex ../data/Grankin08/table1_mod.tex"
   ]
  },
  {
   "cell_type": "code",
   "execution_count": 10,
   "metadata": {},
   "outputs": [],
   "source": [
    "#! sed -i 's/\\\\farcs/./g' ../data/Grankin08/table1_mod.tex"
   ]
  },
  {
   "cell_type": "code",
   "execution_count": 11,
   "metadata": {
    "collapsed": true
   },
   "outputs": [],
   "source": [
    "names_1 = ['Name', 'HBC', 'SpT', 'JD_min_max', 'N_seasons', 'V_range', 'N_obs', 'avgB_V', 'avgV_R', 'mult', 'ref']"
   ]
  },
  {
   "cell_type": "code",
   "execution_count": 12,
   "metadata": {},
   "outputs": [],
   "source": [
    "tab1 = pd.read_csv('../data/Grankin08/table1_mod.tex', sep='&',\n",
    "                   skiprows=10, names=names_1, engine='python', skipfooter=8)"
   ]
  },
  {
   "cell_type": "code",
   "execution_count": 13,
   "metadata": {},
   "outputs": [
    {
     "data": {
      "text/html": [
       "<div>\n",
       "<style>\n",
       "    .dataframe thead tr:only-child th {\n",
       "        text-align: right;\n",
       "    }\n",
       "\n",
       "    .dataframe thead th {\n",
       "        text-align: left;\n",
       "    }\n",
       "\n",
       "    .dataframe tbody tr th {\n",
       "        vertical-align: top;\n",
       "    }\n",
       "</style>\n",
       "<table border=\"1\" class=\"dataframe\">\n",
       "  <thead>\n",
       "    <tr style=\"text-align: right;\">\n",
       "      <th></th>\n",
       "      <th>Name</th>\n",
       "      <th>HBC</th>\n",
       "      <th>SpT</th>\n",
       "      <th>JD_min_max</th>\n",
       "      <th>N_seasons</th>\n",
       "      <th>V_range</th>\n",
       "      <th>N_obs</th>\n",
       "      <th>avgB_V</th>\n",
       "      <th>avgV_R</th>\n",
       "      <th>mult</th>\n",
       "      <th>ref</th>\n",
       "    </tr>\n",
       "  </thead>\n",
       "  <tbody>\n",
       "    <tr>\n",
       "      <th>43</th>\n",
       "      <td>Wa CrA/2</td>\n",
       "      <td>678</td>\n",
       "      <td>G8 IV</td>\n",
       "      <td>48049--48100</td>\n",
       "      <td>1</td>\n",
       "      <td>10.69--10.53</td>\n",
       "      <td>28</td>\n",
       "      <td>0.85</td>\n",
       "      <td>0.74</td>\n",
       "      <td></td>\n",
       "      <td>\\\\</td>\n",
       "    </tr>\n",
       "    <tr>\n",
       "      <th>44</th>\n",
       "      <td>Wa Oph/1</td>\n",
       "      <td>630</td>\n",
       "      <td>K2 IV</td>\n",
       "      <td>49145--53228</td>\n",
       "      <td>8</td>\n",
       "      <td>12.19--11.84</td>\n",
       "      <td>190</td>\n",
       "      <td>1.38</td>\n",
       "      <td>1.30</td>\n",
       "      <td></td>\n",
       "      <td>\\\\</td>\n",
       "    </tr>\n",
       "    <tr>\n",
       "      <th>45</th>\n",
       "      <td>Wa Oph/2</td>\n",
       "      <td>633</td>\n",
       "      <td>K1 IV</td>\n",
       "      <td>51733--53228</td>\n",
       "      <td>5</td>\n",
       "      <td>11.77--11.60</td>\n",
       "      <td>101</td>\n",
       "      <td>1.16</td>\n",
       "      <td>1.11</td>\n",
       "      <td></td>\n",
       "      <td>\\\\</td>\n",
       "    </tr>\n",
       "    <tr>\n",
       "      <th>46</th>\n",
       "      <td>Wa Oph/3</td>\n",
       "      <td>634</td>\n",
       "      <td>K0 IV</td>\n",
       "      <td>49145--53228</td>\n",
       "      <td>9</td>\n",
       "      <td>10.98--10.73</td>\n",
       "      <td>255</td>\n",
       "      <td>1.19</td>\n",
       "      <td>1.07</td>\n",
       "      <td></td>\n",
       "      <td>\\\\</td>\n",
       "    </tr>\n",
       "    <tr>\n",
       "      <th>47</th>\n",
       "      <td>Wa Oph/4</td>\n",
       "      <td>652</td>\n",
       "      <td>K4</td>\n",
       "      <td>49147--52059</td>\n",
       "      <td>4</td>\n",
       "      <td>13.72--10.44</td>\n",
       "      <td>104</td>\n",
       "      <td>1.88</td>\n",
       "      <td>1.83</td>\n",
       "      <td>VB(8.7)</td>\n",
       "      <td>re93 \\\\</td>\n",
       "    </tr>\n",
       "  </tbody>\n",
       "</table>\n",
       "</div>"
      ],
      "text/plain": [
       "          Name    HBC      SpT      JD_min_max  N_seasons         V_range  \\\n",
       "43  Wa CrA/2     678    G8 IV    48049--48100           1   10.69--10.53    \n",
       "44  Wa Oph/1     630    K2 IV    49145--53228           8   12.19--11.84    \n",
       "45  Wa Oph/2     633    K1 IV    51733--53228           5   11.77--11.60    \n",
       "46  Wa Oph/3     634    K0 IV    49145--53228           9   10.98--10.73    \n",
       "47  Wa Oph/4     652    K4       49147--52059           4   13.72--10.44    \n",
       "\n",
       "    N_obs  avgB_V  avgV_R       mult       ref  \n",
       "43     28    0.85   0.74                    \\\\  \n",
       "44    190    1.38   1.30                    \\\\  \n",
       "45    101    1.16   1.11                    \\\\  \n",
       "46    255    1.19   1.07                    \\\\  \n",
       "47    104    1.88   1.83    VB(8.7)    re93 \\\\  "
      ]
     },
     "execution_count": 13,
     "metadata": {},
     "output_type": "execute_result"
    }
   ],
   "source": [
    "tab1.tail()"
   ]
  },
  {
   "cell_type": "code",
   "execution_count": 14,
   "metadata": {
    "collapsed": true
   },
   "outputs": [],
   "source": [
    "tab1.to_csv('../data/Grankin08/table1.csv', index=False)"
   ]
  },
  {
   "cell_type": "markdown",
   "metadata": {},
   "source": [
    "## Table 3"
   ]
  },
  {
   "cell_type": "code",
   "execution_count": 15,
   "metadata": {},
   "outputs": [],
   "source": [
    "#! tail -n 15 ../data/Grankin08/table3.tex"
   ]
  },
  {
   "cell_type": "code",
   "execution_count": 16,
   "metadata": {
    "collapsed": true
   },
   "outputs": [],
   "source": [
    "names = ['Name', 'Epochs', 'delta_V_min', 'delta_V_max', 'HJD0-24000000', 'Period', 'Ref1', 'Ref2']"
   ]
  },
  {
   "cell_type": "code",
   "execution_count": 17,
   "metadata": {},
   "outputs": [],
   "source": [
    "tab3 = pd.read_csv('../data/Grankin08/table3.tex', sep='&', comment='\\\\',\n",
    "                   skiprows=10, names=names, engine='python', skipfooter=5)"
   ]
  },
  {
   "cell_type": "code",
   "execution_count": 18,
   "metadata": {},
   "outputs": [
    {
     "data": {
      "text/html": [
       "<div>\n",
       "<style>\n",
       "    .dataframe thead tr:only-child th {\n",
       "        text-align: right;\n",
       "    }\n",
       "\n",
       "    .dataframe thead th {\n",
       "        text-align: left;\n",
       "    }\n",
       "\n",
       "    .dataframe tbody tr th {\n",
       "        vertical-align: top;\n",
       "    }\n",
       "</style>\n",
       "<table border=\"1\" class=\"dataframe\">\n",
       "  <thead>\n",
       "    <tr style=\"text-align: right;\">\n",
       "      <th></th>\n",
       "      <th>Name</th>\n",
       "      <th>Epochs</th>\n",
       "      <th>delta_V_min</th>\n",
       "      <th>delta_V_max</th>\n",
       "      <th>HJD0-24000000</th>\n",
       "      <th>Period</th>\n",
       "      <th>Ref1</th>\n",
       "      <th>Ref2</th>\n",
       "    </tr>\n",
       "  </thead>\n",
       "  <tbody>\n",
       "    <tr>\n",
       "      <th>31</th>\n",
       "      <td>VY Tau</td>\n",
       "      <td>1985--2001</td>\n",
       "      <td>0.11</td>\n",
       "      <td>0.31</td>\n",
       "      <td>44610.7</td>\n",
       "      <td>5.36995</td>\n",
       "      <td>gr91</td>\n",
       "      <td>gr94</td>\n",
       "    </tr>\n",
       "    <tr>\n",
       "      <th>32</th>\n",
       "      <td>Wa CrA/1</td>\n",
       "      <td>1990</td>\n",
       "      <td>0.32</td>\n",
       "      <td>0.32</td>\n",
       "      <td>48048.3</td>\n",
       "      <td>2.24000</td>\n",
       "      <td>sh95</td>\n",
       "      <td>sh95</td>\n",
       "    </tr>\n",
       "    <tr>\n",
       "      <th>33</th>\n",
       "      <td>Wa CrA/2</td>\n",
       "      <td>1990</td>\n",
       "      <td>0.16</td>\n",
       "      <td>0.16</td>\n",
       "      <td>48048.3</td>\n",
       "      <td>2.79000</td>\n",
       "      <td>co92</td>\n",
       "      <td>sh95</td>\n",
       "    </tr>\n",
       "    <tr>\n",
       "      <th>34</th>\n",
       "      <td>Wa Oph/1</td>\n",
       "      <td>1993--2004</td>\n",
       "      <td>0.10</td>\n",
       "      <td>0.30</td>\n",
       "      <td>48986.1</td>\n",
       "      <td>3.79200</td>\n",
       "      <td>za93</td>\n",
       "      <td>this paper</td>\n",
       "    </tr>\n",
       "    <tr>\n",
       "      <th>35</th>\n",
       "      <td>Wa Oph/3</td>\n",
       "      <td>1993--2004</td>\n",
       "      <td>0.06</td>\n",
       "      <td>0.23</td>\n",
       "      <td>49144.3</td>\n",
       "      <td>1.52140</td>\n",
       "      <td>sh98</td>\n",
       "      <td>this paper</td>\n",
       "    </tr>\n",
       "  </tbody>\n",
       "</table>\n",
       "</div>"
      ],
      "text/plain": [
       "                Name         Epochs  delta_V_min  delta_V_max  HJD0-24000000  \\\n",
       "31           VY Tau     1985--2001          0.11         0.31        44610.7   \n",
       "32         Wa CrA/1      1990               0.32         0.32        48048.3   \n",
       "33         Wa CrA/2      1990               0.16         0.16        48048.3   \n",
       "34         Wa Oph/1     1993--2004          0.10         0.30        48986.1   \n",
       "35         Wa Oph/3     1993--2004          0.06         0.23        49144.3   \n",
       "\n",
       "     Period    Ref1          Ref2  \n",
       "31  5.36995   gr91          gr94   \n",
       "32  2.24000   sh95          sh95   \n",
       "33  2.79000   co92          sh95   \n",
       "34  3.79200   za93    this paper   \n",
       "35  1.52140   sh98    this paper   "
      ]
     },
     "execution_count": 18,
     "metadata": {},
     "output_type": "execute_result"
    }
   ],
   "source": [
    "tab3.tail()"
   ]
  },
  {
   "cell_type": "code",
   "execution_count": 19,
   "metadata": {
    "collapsed": true
   },
   "outputs": [],
   "source": [
    "tab3.to_csv('../data/Grankin08/table3.csv', index=False)"
   ]
  },
  {
   "cell_type": "markdown",
   "metadata": {},
   "source": [
    "## Raw data files"
   ]
  },
  {
   "cell_type": "markdown",
   "metadata": {},
   "source": [
    "Copied from Vizier and pasted into a text document..."
   ]
  },
  {
   "cell_type": "code",
   "execution_count": 20,
   "metadata": {},
   "outputs": [],
   "source": [
    "#! head ../data/Grankin08/grankin08_dat_files.txt"
   ]
  },
  {
   "cell_type": "code",
   "execution_count": 21,
   "metadata": {},
   "outputs": [],
   "source": [
    "#gr_dat = pd.read_csv('../data/Grankin08/grankin08_dat_files.txt', usecols=[0],\n",
    "#                     delim_whitespace=True, names=['filename'])"
   ]
  },
  {
   "cell_type": "markdown",
   "metadata": {},
   "source": [
    "Download the data:"
   ]
  },
  {
   "cell_type": "code",
   "execution_count": 22,
   "metadata": {
    "collapsed": true
   },
   "outputs": [],
   "source": [
    "import os"
   ]
  },
  {
   "cell_type": "markdown",
   "metadata": {},
   "source": [
    "Only need to run this once:"
   ]
  },
  {
   "cell_type": "markdown",
   "metadata": {},
   "source": [
    "```python\n",
    "for i in range(len(gr_dat)):\n",
    "#for i in range(3):\n",
    "    fn = gr_dat.filename[i]\n",
    "    web_addr = 'http://vizier.cfa.harvard.edu/vizier/ftp/cats/J/A+A/479/827/phot/'\n",
    "    cmd = 'curl '+ web_addr + fn +' > ' + '../data/Grankin08/phot/'+fn \n",
    "    os.system(cmd)\n",
    "    print(cmd)\n",
    "```"
   ]
  },
  {
   "cell_type": "code",
   "execution_count": 23,
   "metadata": {
    "collapsed": true
   },
   "outputs": [],
   "source": [
    "#! gzip -d ../data/Grankin08/phot/*.dat.gz"
   ]
  },
  {
   "cell_type": "code",
   "execution_count": 24,
   "metadata": {},
   "outputs": [],
   "source": [
    "#gr_dat['dat_fn'] = gr_dat.filename.str[0:-3]"
   ]
  },
  {
   "cell_type": "markdown",
   "metadata": {},
   "source": [
    "## Add RA, DEC, and other simbad info"
   ]
  },
  {
   "cell_type": "code",
   "execution_count": 25,
   "metadata": {
    "collapsed": true
   },
   "outputs": [],
   "source": [
    "from astroquery.simbad import Simbad"
   ]
  },
  {
   "cell_type": "code",
   "execution_count": 26,
   "metadata": {
    "collapsed": true
   },
   "outputs": [],
   "source": [
    "gr_t1 = tab1"
   ]
  },
  {
   "cell_type": "code",
   "execution_count": 27,
   "metadata": {
    "collapsed": true
   },
   "outputs": [],
   "source": [
    "gr_t1['HBC_name'] = 'HBC' + gr_t1.HBC"
   ]
  },
  {
   "cell_type": "code",
   "execution_count": 28,
   "metadata": {
    "collapsed": true
   },
   "outputs": [],
   "source": [
    "gr_t1['alt_name'] = gr_t1.HBC_name"
   ]
  },
  {
   "cell_type": "code",
   "execution_count": 29,
   "metadata": {},
   "outputs": [],
   "source": [
    "gr_t1.alt_name[18] = 'TAP 10'\n",
    "gr_t1.alt_name[19] = 'TAP 11'\n",
    "gr_t1.alt_name[20] = 'TAP 14'"
   ]
  },
  {
   "cell_type": "code",
   "execution_count": 30,
   "metadata": {},
   "outputs": [],
   "source": [
    "Simbad.add_votable_fields('sptype', 'otype')"
   ]
  },
  {
   "cell_type": "code",
   "execution_count": 31,
   "metadata": {
    "collapsed": true
   },
   "outputs": [],
   "source": [
    "gr_t1['pref_name'] = ''\n",
    "gr_t1['RA'] = ''\n",
    "gr_t1['DEC'] = ''\n",
    "gr_t1['SpT_simbad'] = ''\n",
    "gr_t1['Otype_simbad'] = ''"
   ]
  },
  {
   "cell_type": "code",
   "execution_count": 32,
   "metadata": {
    "collapsed": true
   },
   "outputs": [],
   "source": [
    "N_sources = len(gr_t1)"
   ]
  },
  {
   "cell_type": "markdown",
   "metadata": {},
   "source": [
    "#### You only have to run this once:"
   ]
  },
  {
   "cell_type": "code",
   "execution_count": 33,
   "metadata": {},
   "outputs": [
    {
     "name": "stdout",
     "output_type": "stream",
     "text": [
      "Attempt 1 did not work for Anon 1    , trying HBC name: HBC 366 ... success!\n",
      "HD 283572  was found in Simbad.\n",
      "Attempt 1 did not work for Hubble 4  , trying HBC name: HBC 374 ... success!\n",
      "LkCa 1     was found in Simbad.\n",
      "LkCa 2     was found in Simbad.\n",
      "LkCa 3     was found in Simbad.\n",
      "LkCa 4     was found in Simbad.\n",
      "LkCa 5     was found in Simbad.\n",
      "LkCa 7     was found in Simbad.\n",
      "LkCa 11    was found in Simbad.\n",
      "LkCa 14    was found in Simbad.\n",
      "LkCa 16    was found in Simbad.\n",
      "LkCa 19    was found in Simbad.\n",
      "LkCa 21    was found in Simbad.\n",
      "Attempt 1 did not work for SR 9      , trying HBC name: HBC 264 ... success!\n",
      "SR 12      was found in Simbad.\n",
      "TAP 4      was found in Simbad.\n",
      "TAP 9      was found in Simbad.\n",
      "Attempt 1 did not work for TAP 10AB , trying HBC name: TAP 10... success!\n",
      "Attempt 1 did not work for TAP 11AB , trying HBC name: TAP 11... success!\n",
      "Attempt 1 did not work for TAP 14NE , trying HBC name: TAP 14... success!\n",
      "TAP 26     was found in Simbad.\n",
      "TAP 35     was found in Simbad.\n",
      "TAP 40     was found in Simbad.\n",
      "TAP 41     was found in Simbad.\n",
      "TAP 45     was found in Simbad.\n",
      "TAP 49     was found in Simbad.\n",
      "TAP 50     was found in Simbad.\n",
      "Attempt 1 did not work for TAP 57NW  , trying HBC name: HBC 427 ... success!\n",
      "V501 Aur   was found in Simbad.\n",
      "V410 Tau   was found in Simbad.\n",
      "V819 Tau   was found in Simbad.\n",
      "V826 Tau   was found in Simbad.\n",
      "V827 Tau   was found in Simbad.\n",
      "V830 Tau   was found in Simbad.\n",
      "V836 Tau   was found in Simbad.\n",
      "V1197 Tau  was found in Simbad.\n",
      "V1199 Tau  was found in Simbad.\n",
      "V1200 Tau  was found in Simbad.\n",
      "V1202 Tau  was found in Simbad.\n",
      "V1207 Tau  was found in Simbad.\n",
      "VY Tau     was found in Simbad.\n",
      "Attempt 1 did not work for Wa CrA/1  , trying HBC name: HBC 676 ... success!\n",
      "Attempt 1 did not work for Wa CrA/2  , trying HBC name: HBC 678 ... success!\n",
      "Attempt 1 did not work for Wa Oph/1  , trying HBC name: HBC 630 ... success!\n",
      "Attempt 1 did not work for Wa Oph/2  , trying HBC name: HBC 633 ... success!\n",
      "Attempt 1 did not work for Wa Oph/3  , trying HBC name: HBC 634 ... success!\n",
      "Attempt 1 did not work for Wa Oph/4  , trying HBC name: HBC 652 ... success!\n"
     ]
    }
   ],
   "source": [
    "for i in range(N_sources):\n",
    "    name = gr_t1.Name[i]\n",
    "    name_alt = gr_t1.alt_name[i]\n",
    "    result_table = Simbad.query_object(name)\n",
    "    try:\n",
    "        RA, DEC = result_table['RA'].data.data[0], result_table['DEC'].data.data[0]\n",
    "        SpT, Otype = result_table['SP_TYPE'].data.data[0], result_table['OTYPE'].data.data[0]\n",
    "        print(\"{} was found in Simbad.\".format(name))\n",
    "    except TypeError:\n",
    "        print(\"Attempt 1 did not work for {}, trying HBC name: {}...\".format(name, name_alt), end='')\n",
    "        result_table = Simbad.query_object(name_alt)\n",
    "        RA, DEC = result_table['RA'].data.data[0], result_table['DEC'].data.data[0]\n",
    "        SpT, Otype = result_table['SP_TYPE'].data.data[0], result_table['OTYPE'].data.data[0]\n",
    "        print(' success!')\n",
    "        name = name_alt\n",
    "    gr_t1 = gr_t1.set_value(i, 'pref_name', name)\n",
    "    gr_t1 = gr_t1.set_value(i, 'RA', RA)\n",
    "    gr_t1 = gr_t1.set_value(i, 'DEC', DEC)\n",
    "    gr_t1 = gr_t1.set_value(i, 'SpT_simbad', SpT.decode())\n",
    "    gr_t1 = gr_t1.set_value(i, 'Otype_simbad', Otype.decode())"
   ]
  },
  {
   "cell_type": "markdown",
   "metadata": {},
   "source": [
    "```python\n",
    "for i in range(N_sources):\n",
    "    name = gr_t1.Name[i]\n",
    "    name_alt = gr_t1.alt_name[i]\n",
    "    result_table = Simbad.query_object(name)\n",
    "    try:\n",
    "        RA, DEC = result_table['RA'].data.data[0], result_table['DEC'].data.data[0]\n",
    "        SpT, Otype = result_table['SP_TYPE'].data.data[0], result_table['OTYPE'].data.data[0]\n",
    "        print(\"{} was found in Simbad.\".format(name))\n",
    "    except TypeError:\n",
    "        print(\"Attempt 1 did not work for {}, trying HBC name: {}...\".format(name, name_alt), end='')\n",
    "        result_table = Simbad.query_object(name_alt)\n",
    "        RA, DEC = result_table['RA'].data.data[0], result_table['DEC'].data.data[0]\n",
    "        SpT, Otype = result_table['SP_TYPE'].data.data[0], result_table['OTYPE'].data.data[0]\n",
    "        print(' success!')\n",
    "        name = name_alt\n",
    "    gr_t1 = gr_t1.set_value(i, 'pref_name', name)\n",
    "    gr_t1 = gr_t1.set_value(i, 'RA', RA)\n",
    "    gr_t1 = gr_t1.set_value(i, 'DEC', DEC)\n",
    "    gr_t1 = gr_t1.set_value(i, 'SpT_simbad', SpT.decode())\n",
    "    gr_t1 = gr_t1.set_value(i, 'Otype_simbad', Otype.decode())\n",
    "```"
   ]
  },
  {
   "cell_type": "code",
   "execution_count": 34,
   "metadata": {},
   "outputs": [
    {
     "data": {
      "text/html": [
       "<div>\n",
       "<style>\n",
       "    .dataframe thead tr:only-child th {\n",
       "        text-align: right;\n",
       "    }\n",
       "\n",
       "    .dataframe thead th {\n",
       "        text-align: left;\n",
       "    }\n",
       "\n",
       "    .dataframe tbody tr th {\n",
       "        vertical-align: top;\n",
       "    }\n",
       "</style>\n",
       "<table border=\"1\" class=\"dataframe\">\n",
       "  <thead>\n",
       "    <tr style=\"text-align: right;\">\n",
       "      <th></th>\n",
       "      <th>Name</th>\n",
       "      <th>HBC</th>\n",
       "      <th>SpT</th>\n",
       "      <th>JD_min_max</th>\n",
       "      <th>N_seasons</th>\n",
       "      <th>V_range</th>\n",
       "      <th>N_obs</th>\n",
       "      <th>avgB_V</th>\n",
       "      <th>avgV_R</th>\n",
       "      <th>mult</th>\n",
       "      <th>ref</th>\n",
       "      <th>HBC_name</th>\n",
       "      <th>alt_name</th>\n",
       "      <th>pref_name</th>\n",
       "      <th>RA</th>\n",
       "      <th>DEC</th>\n",
       "      <th>SpT_simbad</th>\n",
       "      <th>Otype_simbad</th>\n",
       "    </tr>\n",
       "  </thead>\n",
       "  <tbody>\n",
       "    <tr>\n",
       "      <th>43</th>\n",
       "      <td>Wa CrA/2</td>\n",
       "      <td>678</td>\n",
       "      <td>G8 IV</td>\n",
       "      <td>48049--48100</td>\n",
       "      <td>1</td>\n",
       "      <td>10.69--10.53</td>\n",
       "      <td>28</td>\n",
       "      <td>0.85</td>\n",
       "      <td>0.74</td>\n",
       "      <td></td>\n",
       "      <td>\\\\</td>\n",
       "      <td>HBC 678</td>\n",
       "      <td>HBC 678</td>\n",
       "      <td>HBC 678</td>\n",
       "      <td>19 02 01.9844</td>\n",
       "      <td>-37 07 43.538</td>\n",
       "      <td>G5e</td>\n",
       "      <td>Orion_V*</td>\n",
       "    </tr>\n",
       "    <tr>\n",
       "      <th>44</th>\n",
       "      <td>Wa Oph/1</td>\n",
       "      <td>630</td>\n",
       "      <td>K2 IV</td>\n",
       "      <td>49145--53228</td>\n",
       "      <td>8</td>\n",
       "      <td>12.19--11.84</td>\n",
       "      <td>190</td>\n",
       "      <td>1.38</td>\n",
       "      <td>1.30</td>\n",
       "      <td></td>\n",
       "      <td>\\\\</td>\n",
       "      <td>HBC 630</td>\n",
       "      <td>HBC 630</td>\n",
       "      <td>HBC 630</td>\n",
       "      <td>16 11 08.908</td>\n",
       "      <td>-19 04 46.86</td>\n",
       "      <td>K2IV(e)</td>\n",
       "      <td>TTau*</td>\n",
       "    </tr>\n",
       "    <tr>\n",
       "      <th>45</th>\n",
       "      <td>Wa Oph/2</td>\n",
       "      <td>633</td>\n",
       "      <td>K1 IV</td>\n",
       "      <td>51733--53228</td>\n",
       "      <td>5</td>\n",
       "      <td>11.77--11.60</td>\n",
       "      <td>101</td>\n",
       "      <td>1.16</td>\n",
       "      <td>1.11</td>\n",
       "      <td></td>\n",
       "      <td>\\\\</td>\n",
       "      <td>HBC 633</td>\n",
       "      <td>HBC 633</td>\n",
       "      <td>HBC 633</td>\n",
       "      <td>16 11 59.272</td>\n",
       "      <td>-19 06 53.36</td>\n",
       "      <td>K2Ve</td>\n",
       "      <td>TTau*</td>\n",
       "    </tr>\n",
       "    <tr>\n",
       "      <th>46</th>\n",
       "      <td>Wa Oph/3</td>\n",
       "      <td>634</td>\n",
       "      <td>K0 IV</td>\n",
       "      <td>49145--53228</td>\n",
       "      <td>9</td>\n",
       "      <td>10.98--10.73</td>\n",
       "      <td>255</td>\n",
       "      <td>1.19</td>\n",
       "      <td>1.07</td>\n",
       "      <td></td>\n",
       "      <td>\\\\</td>\n",
       "      <td>HBC 634</td>\n",
       "      <td>HBC 634</td>\n",
       "      <td>HBC 634</td>\n",
       "      <td>16 12 40.5054</td>\n",
       "      <td>-18 59 28.137</td>\n",
       "      <td>K0IV(e)</td>\n",
       "      <td>TTau*</td>\n",
       "    </tr>\n",
       "    <tr>\n",
       "      <th>47</th>\n",
       "      <td>Wa Oph/4</td>\n",
       "      <td>652</td>\n",
       "      <td>K4</td>\n",
       "      <td>49147--52059</td>\n",
       "      <td>4</td>\n",
       "      <td>13.72--10.44</td>\n",
       "      <td>104</td>\n",
       "      <td>1.88</td>\n",
       "      <td>1.83</td>\n",
       "      <td>VB(8.7)</td>\n",
       "      <td>re93 \\\\</td>\n",
       "      <td>HBC 652</td>\n",
       "      <td>HBC 652</td>\n",
       "      <td>HBC 652</td>\n",
       "      <td>16 48 18.00</td>\n",
       "      <td>-14 11 15.9</td>\n",
       "      <td>K5Ve</td>\n",
       "      <td>TTau*</td>\n",
       "    </tr>\n",
       "  </tbody>\n",
       "</table>\n",
       "</div>"
      ],
      "text/plain": [
       "          Name    HBC      SpT      JD_min_max  N_seasons         V_range  \\\n",
       "43  Wa CrA/2     678    G8 IV    48049--48100           1   10.69--10.53    \n",
       "44  Wa Oph/1     630    K2 IV    49145--53228           8   12.19--11.84    \n",
       "45  Wa Oph/2     633    K1 IV    51733--53228           5   11.77--11.60    \n",
       "46  Wa Oph/3     634    K0 IV    49145--53228           9   10.98--10.73    \n",
       "47  Wa Oph/4     652    K4       49147--52059           4   13.72--10.44    \n",
       "\n",
       "    N_obs  avgB_V  avgV_R       mult       ref  HBC_name  alt_name pref_name  \\\n",
       "43     28    0.85   0.74                    \\\\  HBC 678   HBC 678   HBC 678    \n",
       "44    190    1.38   1.30                    \\\\  HBC 630   HBC 630   HBC 630    \n",
       "45    101    1.16   1.11                    \\\\  HBC 633   HBC 633   HBC 633    \n",
       "46    255    1.19   1.07                    \\\\  HBC 634   HBC 634   HBC 634    \n",
       "47    104    1.88   1.83    VB(8.7)    re93 \\\\  HBC 652   HBC 652   HBC 652    \n",
       "\n",
       "               RA            DEC SpT_simbad Otype_simbad  \n",
       "43  19 02 01.9844  -37 07 43.538        G5e     Orion_V*  \n",
       "44   16 11 08.908   -19 04 46.86    K2IV(e)        TTau*  \n",
       "45   16 11 59.272   -19 06 53.36       K2Ve        TTau*  \n",
       "46  16 12 40.5054  -18 59 28.137    K0IV(e)        TTau*  \n",
       "47    16 48 18.00    -14 11 15.9       K5Ve        TTau*  "
      ]
     },
     "execution_count": 34,
     "metadata": {},
     "output_type": "execute_result"
    }
   ],
   "source": [
    "gr_t1.tail()"
   ]
  },
  {
   "cell_type": "code",
   "execution_count": 35,
   "metadata": {},
   "outputs": [],
   "source": [
    "gr_t1.to_csv('../data/Grankin08/table1_plus.csv', index=False)"
   ]
  },
  {
   "cell_type": "markdown",
   "metadata": {},
   "source": [
    "## The end!"
   ]
  }
 ],
 "metadata": {
  "kernelspec": {
   "display_name": "Python 3",
   "language": "python",
   "name": "python3"
  },
  "language_info": {
   "codemirror_mode": {
    "name": "ipython",
    "version": 3
   },
   "file_extension": ".py",
   "mimetype": "text/x-python",
   "name": "python",
   "nbconvert_exporter": "python",
   "pygments_lexer": "ipython3",
   "version": "3.6.1"
  }
 },
 "nbformat": 4,
 "nbformat_minor": 1
}
