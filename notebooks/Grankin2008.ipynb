{
 "cells": [
  {
   "cell_type": "markdown",
   "metadata": {},
   "source": [
    "# `ApJdataFrames` \n",
    "Grankin et al. 2008\n",
    "---\n",
    "`Title`: Results of the ROTOR-program     \n",
    "`Authors`: Grankin et al.  \n",
    "\n",
    "\n",
    "Data is from this paper:  \n",
    "http://www.aanda.org/articles/aa/full/2008/09/aa8476-07/aa8476-07.html\n"
   ]
  },
  {
   "cell_type": "code",
   "execution_count": 8,
   "metadata": {
    "collapsed": true
   },
   "outputs": [],
   "source": [
    "import pandas as pd"
   ]
  },
  {
   "cell_type": "code",
   "execution_count": 9,
   "metadata": {
    "collapsed": true
   },
   "outputs": [],
   "source": [
    "from astropy.io import ascii, votable, misc"
   ]
  },
  {
   "cell_type": "markdown",
   "metadata": {},
   "source": [
    "### Download Data"
   ]
  },
  {
   "cell_type": "code",
   "execution_count": 10,
   "metadata": {
    "collapsed": true
   },
   "outputs": [],
   "source": [
    "#! mkdir ../data/Grankin08"
   ]
  },
  {
   "cell_type": "code",
   "execution_count": 11,
   "metadata": {
    "collapsed": false
   },
   "outputs": [],
   "source": [
    "#! curl http://www.aanda.org/articles/aa/full/2008/09/aa8476-07/table1.tex >> ../data/Grankin08/table1_orig.tex"
   ]
  },
  {
   "cell_type": "code",
   "execution_count": 12,
   "metadata": {
    "collapsed": false
   },
   "outputs": [],
   "source": [
    "#! curl http://www.aanda.org/articles/aa/full/2008/09/aa8476-07/table3.tex >> ../data/Grankin08/table3.tex"
   ]
  },
  {
   "cell_type": "code",
   "execution_count": 13,
   "metadata": {
    "collapsed": false
   },
   "outputs": [
    {
     "name": "stdout",
     "output_type": "stream",
     "text": [
      "8.0K\t../data/Grankin08/table1.tex\r\n"
     ]
    }
   ],
   "source": [
    "! du -hs ../data/Grankin08/table1.tex"
   ]
  },
  {
   "cell_type": "markdown",
   "metadata": {},
   "source": [
    "Ew, it's in $\\LaTeX$ format!"
   ]
  },
  {
   "cell_type": "markdown",
   "metadata": {},
   "source": [
    "## Table 1"
   ]
  },
  {
   "cell_type": "code",
   "execution_count": 14,
   "metadata": {
    "collapsed": false
   },
   "outputs": [],
   "source": [
    "#! head -n 30 ../data/Grankin08/table1.tex"
   ]
  },
  {
   "cell_type": "markdown",
   "metadata": {},
   "source": [
    "### Two problems from latex.\n",
    "1. The values with binaries go onto a new line, which foils data reading.\n",
    "2. The `\\farcs` latex screws up the decimal point.\n",
    "\n",
    "To deal with these I had to manually delete (horror!) the carriage returns with Sublime Text, then do this:"
   ]
  },
  {
   "cell_type": "code",
   "execution_count": 15,
   "metadata": {
    "collapsed": true
   },
   "outputs": [],
   "source": [
    "! cp ../data/Grankin08/table1.tex ../data/Grankin08/table1_mod.tex"
   ]
  },
  {
   "cell_type": "code",
   "execution_count": 16,
   "metadata": {
    "collapsed": true
   },
   "outputs": [],
   "source": [
    "! sed -i '' 's/\\\\farcs/./g' ../data/Grankin08/table1_mod.tex"
   ]
  },
  {
   "cell_type": "code",
   "execution_count": 17,
   "metadata": {
    "collapsed": true
   },
   "outputs": [],
   "source": [
    "names_1 = ['Name', 'HBC', 'SpT', 'JD_min_max', 'N_seasons', 'V_range', 'N_obs', 'avgB_V', 'avgV_R', 'mult', 'ref']"
   ]
  },
  {
   "cell_type": "code",
   "execution_count": 18,
   "metadata": {
    "collapsed": true
   },
   "outputs": [],
   "source": [
    "tab1 = pd.read_csv('../data/Grankin08/table1_mod.tex', sep='&',\n",
    "                   skiprows=10, names=names_1, engine='python', skip_footer=8)"
   ]
  },
  {
   "cell_type": "code",
   "execution_count": 12,
   "metadata": {
    "collapsed": false
   },
   "outputs": [
    {
     "data": {
      "text/html": [
       "<div>\n",
       "<table border=\"1\" class=\"dataframe\">\n",
       "  <thead>\n",
       "    <tr style=\"text-align: right;\">\n",
       "      <th></th>\n",
       "      <th>Name</th>\n",
       "      <th>HBC</th>\n",
       "      <th>SpT</th>\n",
       "      <th>JD_min_max</th>\n",
       "      <th>N_seasons</th>\n",
       "      <th>V_range</th>\n",
       "      <th>N_obs</th>\n",
       "      <th>avgB_V</th>\n",
       "      <th>avgV_R</th>\n",
       "      <th>mult</th>\n",
       "      <th>ref</th>\n",
       "    </tr>\n",
       "  </thead>\n",
       "  <tbody>\n",
       "    <tr>\n",
       "      <th>43</th>\n",
       "      <td>Wa CrA/2</td>\n",
       "      <td>678</td>\n",
       "      <td>G8 IV</td>\n",
       "      <td>48049--48100</td>\n",
       "      <td>1</td>\n",
       "      <td>10.69--10.53</td>\n",
       "      <td>28</td>\n",
       "      <td>0.85</td>\n",
       "      <td>0.74</td>\n",
       "      <td></td>\n",
       "      <td>\\\\</td>\n",
       "    </tr>\n",
       "    <tr>\n",
       "      <th>44</th>\n",
       "      <td>Wa Oph/1</td>\n",
       "      <td>630</td>\n",
       "      <td>K2 IV</td>\n",
       "      <td>49145--53228</td>\n",
       "      <td>8</td>\n",
       "      <td>12.19--11.84</td>\n",
       "      <td>190</td>\n",
       "      <td>1.38</td>\n",
       "      <td>1.30</td>\n",
       "      <td></td>\n",
       "      <td>\\\\</td>\n",
       "    </tr>\n",
       "    <tr>\n",
       "      <th>45</th>\n",
       "      <td>Wa Oph/2</td>\n",
       "      <td>633</td>\n",
       "      <td>K1 IV</td>\n",
       "      <td>51733--53228</td>\n",
       "      <td>5</td>\n",
       "      <td>11.77--11.60</td>\n",
       "      <td>101</td>\n",
       "      <td>1.16</td>\n",
       "      <td>1.11</td>\n",
       "      <td></td>\n",
       "      <td>\\\\</td>\n",
       "    </tr>\n",
       "    <tr>\n",
       "      <th>46</th>\n",
       "      <td>Wa Oph/3</td>\n",
       "      <td>634</td>\n",
       "      <td>K0 IV</td>\n",
       "      <td>49145--53228</td>\n",
       "      <td>9</td>\n",
       "      <td>10.98--10.73</td>\n",
       "      <td>255</td>\n",
       "      <td>1.19</td>\n",
       "      <td>1.07</td>\n",
       "      <td></td>\n",
       "      <td>\\\\</td>\n",
       "    </tr>\n",
       "    <tr>\n",
       "      <th>47</th>\n",
       "      <td>Wa Oph/4</td>\n",
       "      <td>652</td>\n",
       "      <td>K4</td>\n",
       "      <td>49147--52059</td>\n",
       "      <td>4</td>\n",
       "      <td>13.72--10.44</td>\n",
       "      <td>104</td>\n",
       "      <td>1.88</td>\n",
       "      <td>1.83</td>\n",
       "      <td>VB (8.7)</td>\n",
       "      <td>re93 \\\\</td>\n",
       "    </tr>\n",
       "  </tbody>\n",
       "</table>\n",
       "</div>"
      ],
      "text/plain": [
       "          Name    HBC      SpT      JD_min_max  N_seasons         V_range  \\\n",
       "43  Wa CrA/2     678    G8 IV    48049--48100           1   10.69--10.53    \n",
       "44  Wa Oph/1     630    K2 IV    49145--53228           8   12.19--11.84    \n",
       "45  Wa Oph/2     633    K1 IV    51733--53228           5   11.77--11.60    \n",
       "46  Wa Oph/3     634    K0 IV    49145--53228           9   10.98--10.73    \n",
       "47  Wa Oph/4     652    K4       49147--52059           4   13.72--10.44    \n",
       "\n",
       "    N_obs  avgB_V  avgV_R        mult       ref  \n",
       "43     28    0.85   0.74                     \\\\  \n",
       "44    190    1.38   1.30                     \\\\  \n",
       "45    101    1.16   1.11                     \\\\  \n",
       "46    255    1.19   1.07                     \\\\  \n",
       "47    104    1.88   1.83    VB (8.7)    re93 \\\\  "
      ]
     },
     "execution_count": 12,
     "metadata": {},
     "output_type": "execute_result"
    }
   ],
   "source": [
    "tab1.tail()"
   ]
  },
  {
   "cell_type": "code",
   "execution_count": 19,
   "metadata": {
    "collapsed": true
   },
   "outputs": [],
   "source": [
    "tab1.to_csv('../data/Grankin08/table1.csv', index=False)"
   ]
  },
  {
   "cell_type": "markdown",
   "metadata": {},
   "source": [
    "## Table 3"
   ]
  },
  {
   "cell_type": "code",
   "execution_count": 20,
   "metadata": {
    "collapsed": false
   },
   "outputs": [],
   "source": [
    "#! tail -n 15 ../data/Grankin08/table3.tex"
   ]
  },
  {
   "cell_type": "code",
   "execution_count": 21,
   "metadata": {
    "collapsed": true
   },
   "outputs": [],
   "source": [
    "names = ['Name', 'Epochs', 'delta_V_min', 'delta_V_max', 'HJD0-24000000', 'Period', 'Ref1', 'Ref2']"
   ]
  },
  {
   "cell_type": "code",
   "execution_count": 22,
   "metadata": {
    "collapsed": false
   },
   "outputs": [],
   "source": [
    "tab3 = pd.read_csv('../data/Grankin08/table3.tex', sep='&', comment='\\\\',\n",
    "                   skiprows=10, names=names, engine='python', skip_footer=5)"
   ]
  },
  {
   "cell_type": "code",
   "execution_count": 23,
   "metadata": {
    "collapsed": false
   },
   "outputs": [
    {
     "data": {
      "text/html": [
       "<div>\n",
       "<table border=\"1\" class=\"dataframe\">\n",
       "  <thead>\n",
       "    <tr style=\"text-align: right;\">\n",
       "      <th></th>\n",
       "      <th>Name</th>\n",
       "      <th>Epochs</th>\n",
       "      <th>delta_V_min</th>\n",
       "      <th>delta_V_max</th>\n",
       "      <th>HJD0-24000000</th>\n",
       "      <th>Period</th>\n",
       "      <th>Ref1</th>\n",
       "      <th>Ref2</th>\n",
       "    </tr>\n",
       "  </thead>\n",
       "  <tbody>\n",
       "    <tr>\n",
       "      <th>31</th>\n",
       "      <td>VY Tau</td>\n",
       "      <td>1985--2001</td>\n",
       "      <td>0.11</td>\n",
       "      <td>0.31</td>\n",
       "      <td>44610.7</td>\n",
       "      <td>5.36995</td>\n",
       "      <td>gr91</td>\n",
       "      <td>gr94</td>\n",
       "    </tr>\n",
       "    <tr>\n",
       "      <th>32</th>\n",
       "      <td>Wa CrA/1</td>\n",
       "      <td>1990</td>\n",
       "      <td>0.32</td>\n",
       "      <td>0.32</td>\n",
       "      <td>48048.3</td>\n",
       "      <td>2.24000</td>\n",
       "      <td>sh95</td>\n",
       "      <td>sh95</td>\n",
       "    </tr>\n",
       "    <tr>\n",
       "      <th>33</th>\n",
       "      <td>Wa CrA/2</td>\n",
       "      <td>1990</td>\n",
       "      <td>0.16</td>\n",
       "      <td>0.16</td>\n",
       "      <td>48048.3</td>\n",
       "      <td>2.79000</td>\n",
       "      <td>co92</td>\n",
       "      <td>sh95</td>\n",
       "    </tr>\n",
       "    <tr>\n",
       "      <th>34</th>\n",
       "      <td>Wa Oph/1</td>\n",
       "      <td>1993--2004</td>\n",
       "      <td>0.10</td>\n",
       "      <td>0.30</td>\n",
       "      <td>48986.1</td>\n",
       "      <td>3.79200</td>\n",
       "      <td>za93</td>\n",
       "      <td>this paper</td>\n",
       "    </tr>\n",
       "    <tr>\n",
       "      <th>35</th>\n",
       "      <td>Wa Oph/3</td>\n",
       "      <td>1993--2004</td>\n",
       "      <td>0.06</td>\n",
       "      <td>0.23</td>\n",
       "      <td>49144.3</td>\n",
       "      <td>1.52140</td>\n",
       "      <td>sh98</td>\n",
       "      <td>this paper</td>\n",
       "    </tr>\n",
       "  </tbody>\n",
       "</table>\n",
       "</div>"
      ],
      "text/plain": [
       "                Name         Epochs  delta_V_min  delta_V_max  HJD0-24000000  \\\n",
       "31           VY Tau     1985--2001          0.11         0.31        44610.7   \n",
       "32         Wa CrA/1      1990               0.32         0.32        48048.3   \n",
       "33         Wa CrA/2      1990               0.16         0.16        48048.3   \n",
       "34         Wa Oph/1     1993--2004          0.10         0.30        48986.1   \n",
       "35         Wa Oph/3     1993--2004          0.06         0.23        49144.3   \n",
       "\n",
       "     Period    Ref1          Ref2  \n",
       "31  5.36995   gr91          gr94   \n",
       "32  2.24000   sh95          sh95   \n",
       "33  2.79000   co92          sh95   \n",
       "34  3.79200   za93    this paper   \n",
       "35  1.52140   sh98    this paper   "
      ]
     },
     "execution_count": 23,
     "metadata": {},
     "output_type": "execute_result"
    }
   ],
   "source": [
    "tab3.tail()"
   ]
  },
  {
   "cell_type": "code",
   "execution_count": 24,
   "metadata": {
    "collapsed": true
   },
   "outputs": [],
   "source": [
    "tab3.to_csv('../data/Grankin08/table3.csv', index=False)"
   ]
  },
  {
   "cell_type": "markdown",
   "metadata": {},
   "source": [
    "## Raw data files"
   ]
  },
  {
   "cell_type": "markdown",
   "metadata": {},
   "source": [
    "Copied from Vizier and pasted into a text document..."
   ]
  },
  {
   "cell_type": "code",
   "execution_count": 19,
   "metadata": {
    "collapsed": false
   },
   "outputs": [
    {
     "name": "stdout",
     "output_type": "stream",
     "text": [
      "hbc263.dat.gz\t08-Jan-2008 11:24\t-r--r--r--\t2.3K\t\t- txt - txt.gz - fits - fits.gz - html\r\n",
      "hbc264.dat.gz\t08-Jan-2008 11:25\t-r--r--r--\t3.9K\t\t- txt - txt.gz - fits - fits.gz - html\r\n",
      "hbc366.dat.gz\t08-Jan-2008 11:25\t-r--r--r--\t1.2K\t\t- txt - txt.gz - fits - fits.gz - html\r\n",
      "hbc374.dat.gz\t08-Jan-2008 11:25\t-r--r--r--\t323\t\t- txt - txt.gz - fits - fits.gz - html\r\n",
      "hd283572.dat.gz\t08-Jan-2008 11:25\t-r--r--r--\t4.9K\t\t- txt - txt.gz - fits - fits.gz - html\r\n",
      "lkca1.dat.gz\t08-Jan-2008 11:25\t-r--r--r--\t1.1K\t\t- txt - txt.gz - fits - fits.gz - html\r\n",
      "lkca11.dat.gz\t08-Jan-2008 11:25\t-r--r--r--\t2.3K\t\t- txt - txt.gz - fits - fits.gz - html\r\n",
      "lkca14.dat.gz\t08-Jan-2008 11:25\t-r--r--r--\t742\t\t- txt - txt.gz - fits - fits.gz - html\r\n",
      "lkca16.dat.gz\t08-Jan-2008 11:25\t-r--r--r--\t728\t\t- txt - txt.gz - fits - fits.gz - html\r\n",
      "lkca19.dat.gz\t08-Jan-2008 11:25\t-r--r--r--\t3.6K\t\t- txt - txt.gz - fits - fits.gz - html\r\n"
     ]
    }
   ],
   "source": [
    "! head ../data/Grankin08/grankin08_dat_files.txt"
   ]
  },
  {
   "cell_type": "code",
   "execution_count": 20,
   "metadata": {
    "collapsed": false
   },
   "outputs": [],
   "source": [
    "gr_dat = pd.read_csv('../data/Grankin08/grankin08_dat_files.txt', usecols=[0],\n",
    "                     delim_whitespace=True, names=['filename'])"
   ]
  },
  {
   "cell_type": "markdown",
   "metadata": {},
   "source": [
    "Download the data:"
   ]
  },
  {
   "cell_type": "code",
   "execution_count": 21,
   "metadata": {
    "collapsed": true
   },
   "outputs": [],
   "source": [
    "import os"
   ]
  },
  {
   "cell_type": "code",
   "execution_count": 22,
   "metadata": {
    "collapsed": true
   },
   "outputs": [],
   "source": [
    "#! mkdir ../data/Grankin08/phot"
   ]
  },
  {
   "cell_type": "markdown",
   "metadata": {},
   "source": [
    "Only need to run this once:"
   ]
  },
  {
   "cell_type": "markdown",
   "metadata": {},
   "source": [
    "```python\n",
    "for i in range(len(gr_dat)):\n",
    "#for i in range(3):\n",
    "    fn = gr_dat.filename[i]\n",
    "    web_addr = 'http://vizier.cfa.harvard.edu/vizier/ftp/cats/J/A+A/479/827/phot/'\n",
    "    cmd = 'curl '+ web_addr + fn +' > ' + '../data/Grankin08/phot/'+fn \n",
    "    os.system(cmd)\n",
    "    print(cmd)\n",
    "```"
   ]
  },
  {
   "cell_type": "code",
   "execution_count": 23,
   "metadata": {
    "collapsed": true
   },
   "outputs": [],
   "source": [
    "#! gzip -d ../data/Grankin08/phot/*.dat.gz"
   ]
  },
  {
   "cell_type": "code",
   "execution_count": 24,
   "metadata": {
    "collapsed": false
   },
   "outputs": [],
   "source": [
    "gr_dat['dat_fn'] = gr_dat.filename.str[0:-3]"
   ]
  },
  {
   "cell_type": "markdown",
   "metadata": {},
   "source": [
    "## Match filenames with Table 1"
   ]
  },
  {
   "cell_type": "code",
   "execution_count": 25,
   "metadata": {
    "collapsed": true
   },
   "outputs": [],
   "source": [
    "tab1['filename_guess'] = tab1.Name.str.lower().str.replace(' ', '').str.replace('/', '')+'.dat.gz'"
   ]
  },
  {
   "cell_type": "markdown",
   "metadata": {},
   "source": [
    "A few sources have different filenames than column 1 of Table 1.  Replace them with the correct guesses."
   ]
  },
  {
   "cell_type": "code",
   "execution_count": 26,
   "metadata": {
    "collapsed": false
   },
   "outputs": [],
   "source": [
    "tab1['Name'] = tab1['Name'].str.rstrip().values"
   ]
  },
  {
   "cell_type": "code",
   "execution_count": 27,
   "metadata": {
    "collapsed": false
   },
   "outputs": [],
   "source": [
    "tab1 = tab1.set_value(tab1.index[tab1.Name=='Anon 1'], 'filename_guess', 'hbc366.dat.gz')\n",
    "tab1 = tab1.set_value(tab1.index[tab1.Name=='Hubble 4'], 'filename_guess', 'hbc374.dat.gz')\n",
    "tab1 = tab1.set_value(tab1.index[tab1.Name=='SR 9'], 'filename_guess', 'hbc264.dat.gz')\n",
    "tab1 = tab1.set_value(tab1.index[tab1.Name=='SR 12'], 'filename_guess', 'hbc263.dat.gz')"
   ]
  },
  {
   "cell_type": "code",
   "execution_count": 28,
   "metadata": {
    "collapsed": false
   },
   "outputs": [],
   "source": [
    "out = pd.merge(tab1, gr_dat, how='outer', left_on='filename_guess', right_on='filename')"
   ]
  },
  {
   "cell_type": "code",
   "execution_count": 29,
   "metadata": {
    "collapsed": false
   },
   "outputs": [
    {
     "data": {
      "text/html": [
       "<div>\n",
       "<table border=\"1\" class=\"dataframe\">\n",
       "  <thead>\n",
       "    <tr style=\"text-align: right;\">\n",
       "      <th></th>\n",
       "      <th>Name</th>\n",
       "      <th>HBC</th>\n",
       "      <th>SpT</th>\n",
       "      <th>JD_min_max</th>\n",
       "      <th>N_seasons</th>\n",
       "      <th>V_range</th>\n",
       "      <th>N_obs</th>\n",
       "      <th>avgB_V</th>\n",
       "      <th>avgV_R</th>\n",
       "      <th>mult</th>\n",
       "      <th>ref</th>\n",
       "      <th>filename_guess</th>\n",
       "      <th>filename</th>\n",
       "      <th>dat_fn</th>\n",
       "    </tr>\n",
       "  </thead>\n",
       "  <tbody>\n",
       "    <tr>\n",
       "      <th>0</th>\n",
       "      <td>Anon 1</td>\n",
       "      <td>366</td>\n",
       "      <td>M0</td>\n",
       "      <td>48953--50760</td>\n",
       "      <td>6</td>\n",
       "      <td>13.58--13.36</td>\n",
       "      <td>96</td>\n",
       "      <td>1.84</td>\n",
       "      <td>1.84</td>\n",
       "      <td></td>\n",
       "      <td>\\\\</td>\n",
       "      <td>hbc366.dat.gz</td>\n",
       "      <td>hbc366.dat.gz</td>\n",
       "      <td>hbc366.dat</td>\n",
       "    </tr>\n",
       "    <tr>\n",
       "      <th>1</th>\n",
       "      <td>HD 283572</td>\n",
       "      <td>380</td>\n",
       "      <td>G6 IV</td>\n",
       "      <td>48854--53300</td>\n",
       "      <td>13</td>\n",
       "      <td>9.16--8.89</td>\n",
       "      <td>425</td>\n",
       "      <td>0.77</td>\n",
       "      <td>0.70</td>\n",
       "      <td></td>\n",
       "      <td>\\\\</td>\n",
       "      <td>hd283572.dat.gz</td>\n",
       "      <td>hd283572.dat.gz</td>\n",
       "      <td>hd283572.dat</td>\n",
       "    </tr>\n",
       "    <tr>\n",
       "      <th>2</th>\n",
       "      <td>Hubble 4</td>\n",
       "      <td>374</td>\n",
       "      <td>K7</td>\n",
       "      <td>49197--49251</td>\n",
       "      <td>1</td>\n",
       "      <td>12.71--12.59</td>\n",
       "      <td>27</td>\n",
       "      <td>1.62</td>\n",
       "      <td></td>\n",
       "      <td></td>\n",
       "      <td>\\\\</td>\n",
       "      <td>hbc374.dat.gz</td>\n",
       "      <td>hbc374.dat.gz</td>\n",
       "      <td>hbc374.dat</td>\n",
       "    </tr>\n",
       "    <tr>\n",
       "      <th>3</th>\n",
       "      <td>LkCa 1</td>\n",
       "      <td>365</td>\n",
       "      <td>M4</td>\n",
       "      <td>49213--50760</td>\n",
       "      <td>5</td>\n",
       "      <td>13.80--13.64</td>\n",
       "      <td>88</td>\n",
       "      <td>1.45</td>\n",
       "      <td>1.71</td>\n",
       "      <td></td>\n",
       "      <td>\\\\</td>\n",
       "      <td>lkca1.dat.gz</td>\n",
       "      <td>lkca1.dat.gz</td>\n",
       "      <td>lkca1.dat</td>\n",
       "    </tr>\n",
       "    <tr>\n",
       "      <th>4</th>\n",
       "      <td>LkCa 2</td>\n",
       "      <td></td>\n",
       "      <td>K7</td>\n",
       "      <td>48953--51157</td>\n",
       "      <td>7</td>\n",
       "      <td>12.37--12.19</td>\n",
       "      <td>119</td>\n",
       "      <td>1.39</td>\n",
       "      <td>1.34</td>\n",
       "      <td></td>\n",
       "      <td>\\\\</td>\n",
       "      <td>lkca2.dat.gz</td>\n",
       "      <td>lkca2.dat.gz</td>\n",
       "      <td>lkca2.dat</td>\n",
       "    </tr>\n",
       "  </tbody>\n",
       "</table>\n",
       "</div>"
      ],
      "text/plain": [
       "        Name    HBC      SpT      JD_min_max  N_seasons         V_range  \\\n",
       "0     Anon 1   366    M0       48953--50760           6   13.58--13.36    \n",
       "1  HD 283572   380    G6 IV    48854--53300          13    9.16--8.89     \n",
       "2   Hubble 4   374    K7       49197--49251           1   12.71--12.59    \n",
       "3     LkCa 1   365    M4       49213--50760           5   13.80--13.64    \n",
       "4     LkCa 2          K7       48953--51157           7   12.37--12.19    \n",
       "\n",
       "   N_obs  avgB_V  avgV_R mult    ref   filename_guess         filename  \\\n",
       "0     96    1.84   1.84           \\\\    hbc366.dat.gz    hbc366.dat.gz   \n",
       "1    425    0.77   0.70           \\\\  hd283572.dat.gz  hd283572.dat.gz   \n",
       "2     27    1.62                  \\\\    hbc374.dat.gz    hbc374.dat.gz   \n",
       "3     88    1.45   1.71           \\\\     lkca1.dat.gz     lkca1.dat.gz   \n",
       "4    119    1.39   1.34           \\\\     lkca2.dat.gz     lkca2.dat.gz   \n",
       "\n",
       "         dat_fn  \n",
       "0    hbc366.dat  \n",
       "1  hd283572.dat  \n",
       "2    hbc374.dat  \n",
       "3     lkca1.dat  \n",
       "4     lkca2.dat  "
      ]
     },
     "execution_count": 29,
     "metadata": {},
     "output_type": "execute_result"
    }
   ],
   "source": [
    "out.head()"
   ]
  },
  {
   "cell_type": "code",
   "execution_count": 30,
   "metadata": {
    "collapsed": true
   },
   "outputs": [],
   "source": [
    "#out.to_csv('../data/Grankin08/table1_plus.csv', index=False)"
   ]
  },
  {
   "cell_type": "markdown",
   "metadata": {},
   "source": [
    "## Add RA, DEC, and other simbad info"
   ]
  },
  {
   "cell_type": "code",
   "execution_count": 31,
   "metadata": {
    "collapsed": true
   },
   "outputs": [],
   "source": [
    "from astroquery.simbad import Simbad"
   ]
  },
  {
   "cell_type": "code",
   "execution_count": 32,
   "metadata": {
    "collapsed": true
   },
   "outputs": [],
   "source": [
    "gr_t1 = out"
   ]
  },
  {
   "cell_type": "code",
   "execution_count": 33,
   "metadata": {
    "collapsed": true
   },
   "outputs": [],
   "source": [
    "gr_t1['HBC_name'] = 'HBC' + gr_t1.HBC"
   ]
  },
  {
   "cell_type": "code",
   "execution_count": 43,
   "metadata": {
    "collapsed": true
   },
   "outputs": [],
   "source": [
    "gr_t1['alt_name'] = gr_t1.HBC_name"
   ]
  },
  {
   "cell_type": "code",
   "execution_count": 54,
   "metadata": {
    "collapsed": false
   },
   "outputs": [],
   "source": [
    "gr_t1.alt_name[18] = 'TAP 10'\n",
    "gr_t1.alt_name[19] = 'TAP 11'\n",
    "gr_t1.alt_name[20] = 'TAP 14'"
   ]
  },
  {
   "cell_type": "code",
   "execution_count": 53,
   "metadata": {
    "collapsed": false
   },
   "outputs": [],
   "source": [
    "Simbad.add_votable_fields('sptype', 'otype')"
   ]
  },
  {
   "cell_type": "code",
   "execution_count": 47,
   "metadata": {
    "collapsed": true
   },
   "outputs": [],
   "source": [
    "gr_t1['pref_name'] = ''\n",
    "gr_t1['RA'] = ''\n",
    "gr_t1['DEC'] = ''\n",
    "gr_t1['SpT_simbad'] = ''\n",
    "gr_t1['Otype_simbad'] = ''"
   ]
  },
  {
   "cell_type": "code",
   "execution_count": 48,
   "metadata": {
    "collapsed": true
   },
   "outputs": [],
   "source": [
    "N_sources = len(gr_t1)"
   ]
  },
  {
   "cell_type": "markdown",
   "metadata": {},
   "source": [
    "#### You only have to run this once:"
   ]
  },
  {
   "cell_type": "markdown",
   "metadata": {},
   "source": [
    "```python\n",
    "for i in range(N_sources):\n",
    "    name = gr_t1.Name[i]\n",
    "    name_alt = gr_t1.alt_name[i]\n",
    "    result_table = Simbad.query_object(name)\n",
    "    try:\n",
    "        RA, DEC = result_table['RA'].data.data[0], result_table['DEC'].data.data[0]\n",
    "        SpT, Otype = result_table['SP_TYPE'].data.data[0], result_table['OTYPE'].data.data[0]\n",
    "        print(\"{} was found in Simbad.\".format(name))\n",
    "    except TypeError:\n",
    "        print(\"Attempt 1 did not work for {}, trying HBC name: {}...\".format(name, name_alt), end='')\n",
    "        result_table = Simbad.query_object(name_alt)\n",
    "        RA, DEC = result_table['RA'].data.data[0], result_table['DEC'].data.data[0]\n",
    "        SpT, Otype = result_table['SP_TYPE'].data.data[0], result_table['OTYPE'].data.data[0]\n",
    "        print(' success!')\n",
    "        name = name_alt\n",
    "    gr_t1 = gr_t1.set_value(i, 'pref_name', name)\n",
    "    gr_t1 = gr_t1.set_value(i, 'RA', RA)\n",
    "    gr_t1 = gr_t1.set_value(i, 'DEC', DEC)\n",
    "    gr_t1 = gr_t1.set_value(i, 'SpT_simbad', SpT.decode())\n",
    "    gr_t1 = gr_t1.set_value(i, 'Otype_simbad', Otype.decode())\n",
    "```"
   ]
  },
  {
   "cell_type": "code",
   "execution_count": 52,
   "metadata": {
    "collapsed": false
   },
   "outputs": [],
   "source": [
    "#gr_t1.to_csv('../data/Grankin08/table1_plus.csv', index=False)"
   ]
  },
  {
   "cell_type": "markdown",
   "metadata": {},
   "source": [
    "## The end!"
   ]
  }
 ],
 "metadata": {
  "kernelspec": {
   "display_name": "Python 3",
   "language": "python",
   "name": "python3"
  },
  "language_info": {
   "codemirror_mode": {
    "name": "ipython",
    "version": 3
   },
   "file_extension": ".py",
   "mimetype": "text/x-python",
   "name": "python",
   "nbconvert_exporter": "python",
   "pygments_lexer": "ipython3",
   "version": "3.4.5"
  }
 },
 "nbformat": 4,
 "nbformat_minor": 0
}
