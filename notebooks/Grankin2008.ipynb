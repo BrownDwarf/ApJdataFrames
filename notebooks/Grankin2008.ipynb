{
 "cells": [
  {
   "cell_type": "markdown",
   "metadata": {},
   "source": [
    "# `ApJdataFrames` \n",
    "Grankin et al. 2008\n",
    "---\n",
    "`Title`: Results of the ROTOR-program     \n",
    "`Authors`: Grankin et al.  \n",
    "\n",
    "\n",
    "Data is from this paper:  \n",
    "http://www.aanda.org/articles/aa/full/2008/09/aa8476-07/aa8476-07.html\n"
   ]
  },
  {
   "cell_type": "code",
   "execution_count": 1,
   "metadata": {
    "collapsed": true
   },
   "outputs": [],
   "source": [
    "import pandas as pd"
   ]
  },
  {
   "cell_type": "code",
   "execution_count": 2,
   "metadata": {
    "collapsed": true
   },
   "outputs": [],
   "source": [
    "from astropy.io import ascii, votable, misc"
   ]
  },
  {
   "cell_type": "markdown",
   "metadata": {},
   "source": [
    "### Download Data"
   ]
  },
  {
   "cell_type": "code",
   "execution_count": 3,
   "metadata": {
    "collapsed": true
   },
   "outputs": [],
   "source": [
    "#! mkdir ../data/Grankin08"
   ]
  },
  {
   "cell_type": "code",
   "execution_count": 4,
   "metadata": {
    "collapsed": false
   },
   "outputs": [],
   "source": [
    "#! curl http://www.aanda.org/articles/aa/full/2008/09/aa8476-07/table1.tex >> ../data/Grankin08/table1_orig.tex"
   ]
  },
  {
   "cell_type": "code",
   "execution_count": 5,
   "metadata": {
    "collapsed": false
   },
   "outputs": [],
   "source": [
    "#! curl http://www.aanda.org/articles/aa/full/2008/09/aa8476-07/table3.tex >> ../data/Grankin08/table3.tex"
   ]
  },
  {
   "cell_type": "code",
   "execution_count": 6,
   "metadata": {
    "collapsed": false
   },
   "outputs": [
    {
     "name": "stdout",
     "output_type": "stream",
     "text": [
      "8.0K\t../data/Grankin08/table1.tex\r\n"
     ]
    }
   ],
   "source": [
    "! du -hs ../data/Grankin08/table1.tex"
   ]
  },
  {
   "cell_type": "markdown",
   "metadata": {},
   "source": [
    "Ew, it's in $\\LaTeX$ format!"
   ]
  },
  {
   "cell_type": "markdown",
   "metadata": {},
   "source": [
    "## Table 1"
   ]
  },
  {
   "cell_type": "code",
   "execution_count": 7,
   "metadata": {
    "collapsed": false
   },
   "outputs": [],
   "source": [
    "#! head -n 30 ../data/Grankin08/table1.tex"
   ]
  },
  {
   "cell_type": "markdown",
   "metadata": {},
   "source": [
    "### Two problems from latex.\n",
    "1. The values with binaries go onto a new line, which foils data reading.\n",
    "2. The `\\farcs` latex screws up the decimal point.\n",
    "\n",
    "To deal with these I had to manually delete (horror!) the carriage returns with Sublime Text, then do this:"
   ]
  },
  {
   "cell_type": "code",
   "execution_count": 8,
   "metadata": {
    "collapsed": true
   },
   "outputs": [],
   "source": [
    "! cp ../data/Grankin08/table1.tex ../data/Grankin08/table1_mod.tex"
   ]
  },
  {
   "cell_type": "code",
   "execution_count": 9,
   "metadata": {
    "collapsed": true
   },
   "outputs": [],
   "source": [
    "! sed -i '' 's/\\\\farcs/./g' ../data/Grankin08/table1_mod.tex"
   ]
  },
  {
   "cell_type": "code",
   "execution_count": 10,
   "metadata": {
    "collapsed": true
   },
   "outputs": [],
   "source": [
    "names_1 = ['Name', 'HBC', 'SpT', 'JD_min_max', 'N_seasons', 'V_range', 'N_obs', 'avgB_V', 'avgV_R', 'mult', 'ref']"
   ]
  },
  {
   "cell_type": "code",
   "execution_count": 11,
   "metadata": {
    "collapsed": true
   },
   "outputs": [],
   "source": [
    "tab1 = pd.read_csv('../data/Grankin08/table1_mod.tex', sep='&',\n",
    "                   skiprows=10, names=names_1, engine='python', skip_footer=8)"
   ]
  },
  {
   "cell_type": "code",
   "execution_count": 19,
   "metadata": {
    "collapsed": false
   },
   "outputs": [
    {
     "data": {
      "text/html": [
       "<div>\n",
       "<table border=\"1\" class=\"dataframe\">\n",
       "  <thead>\n",
       "    <tr style=\"text-align: right;\">\n",
       "      <th></th>\n",
       "      <th>Name</th>\n",
       "      <th>HBC</th>\n",
       "      <th>SpT</th>\n",
       "      <th>JD_min_max</th>\n",
       "      <th>N_seasons</th>\n",
       "      <th>V_range</th>\n",
       "      <th>N_obs</th>\n",
       "      <th>avgB_V</th>\n",
       "      <th>avgV_R</th>\n",
       "      <th>mult</th>\n",
       "      <th>ref</th>\n",
       "    </tr>\n",
       "  </thead>\n",
       "  <tbody>\n",
       "    <tr>\n",
       "      <th>43</th>\n",
       "      <td>Wa CrA/2</td>\n",
       "      <td>678</td>\n",
       "      <td>G8 IV</td>\n",
       "      <td>48049--48100</td>\n",
       "      <td>1</td>\n",
       "      <td>10.69--10.53</td>\n",
       "      <td>28</td>\n",
       "      <td>0.85</td>\n",
       "      <td>0.74</td>\n",
       "      <td></td>\n",
       "      <td>\\\\</td>\n",
       "    </tr>\n",
       "    <tr>\n",
       "      <th>44</th>\n",
       "      <td>Wa Oph/1</td>\n",
       "      <td>630</td>\n",
       "      <td>K2 IV</td>\n",
       "      <td>49145--53228</td>\n",
       "      <td>8</td>\n",
       "      <td>12.19--11.84</td>\n",
       "      <td>190</td>\n",
       "      <td>1.38</td>\n",
       "      <td>1.30</td>\n",
       "      <td></td>\n",
       "      <td>\\\\</td>\n",
       "    </tr>\n",
       "    <tr>\n",
       "      <th>45</th>\n",
       "      <td>Wa Oph/2</td>\n",
       "      <td>633</td>\n",
       "      <td>K1 IV</td>\n",
       "      <td>51733--53228</td>\n",
       "      <td>5</td>\n",
       "      <td>11.77--11.60</td>\n",
       "      <td>101</td>\n",
       "      <td>1.16</td>\n",
       "      <td>1.11</td>\n",
       "      <td></td>\n",
       "      <td>\\\\</td>\n",
       "    </tr>\n",
       "    <tr>\n",
       "      <th>46</th>\n",
       "      <td>Wa Oph/3</td>\n",
       "      <td>634</td>\n",
       "      <td>K0 IV</td>\n",
       "      <td>49145--53228</td>\n",
       "      <td>9</td>\n",
       "      <td>10.98--10.73</td>\n",
       "      <td>255</td>\n",
       "      <td>1.19</td>\n",
       "      <td>1.07</td>\n",
       "      <td></td>\n",
       "      <td>\\\\</td>\n",
       "    </tr>\n",
       "    <tr>\n",
       "      <th>47</th>\n",
       "      <td>Wa Oph/4</td>\n",
       "      <td>652</td>\n",
       "      <td>K4</td>\n",
       "      <td>49147--52059</td>\n",
       "      <td>4</td>\n",
       "      <td>13.72--10.44</td>\n",
       "      <td>104</td>\n",
       "      <td>1.88</td>\n",
       "      <td>1.83</td>\n",
       "      <td>VB (8.7)</td>\n",
       "      <td>re93 \\\\</td>\n",
       "    </tr>\n",
       "  </tbody>\n",
       "</table>\n",
       "</div>"
      ],
      "text/plain": [
       "          Name    HBC      SpT      JD_min_max  N_seasons         V_range  \\\n",
       "43  Wa CrA/2     678    G8 IV    48049--48100           1   10.69--10.53    \n",
       "44  Wa Oph/1     630    K2 IV    49145--53228           8   12.19--11.84    \n",
       "45  Wa Oph/2     633    K1 IV    51733--53228           5   11.77--11.60    \n",
       "46  Wa Oph/3     634    K0 IV    49145--53228           9   10.98--10.73    \n",
       "47  Wa Oph/4     652    K4       49147--52059           4   13.72--10.44    \n",
       "\n",
       "    N_obs  avgB_V  avgV_R        mult       ref  \n",
       "43     28    0.85   0.74                     \\\\  \n",
       "44    190    1.38   1.30                     \\\\  \n",
       "45    101    1.16   1.11                     \\\\  \n",
       "46    255    1.19   1.07                     \\\\  \n",
       "47    104    1.88   1.83    VB (8.7)    re93 \\\\  "
      ]
     },
     "execution_count": 19,
     "metadata": {},
     "output_type": "execute_result"
    }
   ],
   "source": [
    "tab1.tail()"
   ]
  },
  {
   "cell_type": "code",
   "execution_count": 13,
   "metadata": {
    "collapsed": true
   },
   "outputs": [],
   "source": [
    "tab1.to_csv('../data/Grankin08/table1.csv', index=False)"
   ]
  },
  {
   "cell_type": "markdown",
   "metadata": {},
   "source": [
    "## Table 3"
   ]
  },
  {
   "cell_type": "code",
   "execution_count": 14,
   "metadata": {
    "collapsed": false
   },
   "outputs": [],
   "source": [
    "#! tail -n 15 ../data/Grankin08/table3.tex"
   ]
  },
  {
   "cell_type": "code",
   "execution_count": 15,
   "metadata": {
    "collapsed": true
   },
   "outputs": [],
   "source": [
    "names = ['Name', 'Epochs', 'delta_V_min', 'delta_V_max', 'HJD0-24000000', 'Period', 'Ref1', 'Ref2']"
   ]
  },
  {
   "cell_type": "code",
   "execution_count": 16,
   "metadata": {
    "collapsed": false
   },
   "outputs": [],
   "source": [
    "tab3 = pd.read_csv('../data/Grankin08/table3.tex', sep='&', comment='\\\\',\n",
    "                   skiprows=10, names=names, engine='python', skip_footer=5)"
   ]
  },
  {
   "cell_type": "code",
   "execution_count": 17,
   "metadata": {
    "collapsed": false
   },
   "outputs": [
    {
     "data": {
      "text/html": [
       "<div>\n",
       "<table border=\"1\" class=\"dataframe\">\n",
       "  <thead>\n",
       "    <tr style=\"text-align: right;\">\n",
       "      <th></th>\n",
       "      <th>Name</th>\n",
       "      <th>Epochs</th>\n",
       "      <th>delta_V_min</th>\n",
       "      <th>delta_V_max</th>\n",
       "      <th>HJD0-24000000</th>\n",
       "      <th>Period</th>\n",
       "      <th>Ref1</th>\n",
       "      <th>Ref2</th>\n",
       "    </tr>\n",
       "  </thead>\n",
       "  <tbody>\n",
       "    <tr>\n",
       "      <th>31</th>\n",
       "      <td>VY Tau</td>\n",
       "      <td>1985--2001</td>\n",
       "      <td>0.11</td>\n",
       "      <td>0.31</td>\n",
       "      <td>44610.7</td>\n",
       "      <td>5.36995</td>\n",
       "      <td>gr91</td>\n",
       "      <td>gr94</td>\n",
       "    </tr>\n",
       "    <tr>\n",
       "      <th>32</th>\n",
       "      <td>Wa CrA/1</td>\n",
       "      <td>1990</td>\n",
       "      <td>0.32</td>\n",
       "      <td>0.32</td>\n",
       "      <td>48048.3</td>\n",
       "      <td>2.24000</td>\n",
       "      <td>sh95</td>\n",
       "      <td>sh95</td>\n",
       "    </tr>\n",
       "    <tr>\n",
       "      <th>33</th>\n",
       "      <td>Wa CrA/2</td>\n",
       "      <td>1990</td>\n",
       "      <td>0.16</td>\n",
       "      <td>0.16</td>\n",
       "      <td>48048.3</td>\n",
       "      <td>2.79000</td>\n",
       "      <td>co92</td>\n",
       "      <td>sh95</td>\n",
       "    </tr>\n",
       "    <tr>\n",
       "      <th>34</th>\n",
       "      <td>Wa Oph/1</td>\n",
       "      <td>1993--2004</td>\n",
       "      <td>0.10</td>\n",
       "      <td>0.30</td>\n",
       "      <td>48986.1</td>\n",
       "      <td>3.79200</td>\n",
       "      <td>za93</td>\n",
       "      <td>this paper</td>\n",
       "    </tr>\n",
       "    <tr>\n",
       "      <th>35</th>\n",
       "      <td>Wa Oph/3</td>\n",
       "      <td>1993--2004</td>\n",
       "      <td>0.06</td>\n",
       "      <td>0.23</td>\n",
       "      <td>49144.3</td>\n",
       "      <td>1.52140</td>\n",
       "      <td>sh98</td>\n",
       "      <td>this paper</td>\n",
       "    </tr>\n",
       "  </tbody>\n",
       "</table>\n",
       "</div>"
      ],
      "text/plain": [
       "                Name         Epochs  delta_V_min  delta_V_max  HJD0-24000000  \\\n",
       "31           VY Tau     1985--2001          0.11         0.31        44610.7   \n",
       "32         Wa CrA/1      1990               0.32         0.32        48048.3   \n",
       "33         Wa CrA/2      1990               0.16         0.16        48048.3   \n",
       "34         Wa Oph/1     1993--2004          0.10         0.30        48986.1   \n",
       "35         Wa Oph/3     1993--2004          0.06         0.23        49144.3   \n",
       "\n",
       "     Period    Ref1          Ref2  \n",
       "31  5.36995   gr91          gr94   \n",
       "32  2.24000   sh95          sh95   \n",
       "33  2.79000   co92          sh95   \n",
       "34  3.79200   za93    this paper   \n",
       "35  1.52140   sh98    this paper   "
      ]
     },
     "execution_count": 17,
     "metadata": {},
     "output_type": "execute_result"
    }
   ],
   "source": [
    "tab3.tail()"
   ]
  },
  {
   "cell_type": "code",
   "execution_count": 18,
   "metadata": {
    "collapsed": true
   },
   "outputs": [],
   "source": [
    "tab3.to_csv('../data/Grankin08/table3.csv', index=False)"
   ]
  },
  {
   "cell_type": "markdown",
   "metadata": {},
   "source": [
    "## The end!"
   ]
  }
 ],
 "metadata": {
  "kernelspec": {
   "display_name": "Python 3",
   "language": "python",
   "name": "python3"
  },
  "language_info": {
   "codemirror_mode": {
    "name": "ipython",
    "version": 3
   },
   "file_extension": ".py",
   "mimetype": "text/x-python",
   "name": "python",
   "nbconvert_exporter": "python",
   "pygments_lexer": "ipython3",
   "version": "3.4.5"
  }
 },
 "nbformat": 4,
 "nbformat_minor": 0
}
