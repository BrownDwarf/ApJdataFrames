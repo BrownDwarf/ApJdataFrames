{
 "metadata": {
  "name": "",
  "signature": "sha256:2a2b7d3fa91ef06e5ba2c425a9887a1fbbf260c2a59988adcd45264beacbb427"
 },
 "nbformat": 3,
 "nbformat_minor": 0,
 "worksheets": [
  {
   "cells": [
    {
     "cell_type": "markdown",
     "metadata": {},
     "source": [
      "`ApJdataFrames` Schlieder2012\n",
      "---\n",
      "`Title`: THE Na 8200 \u00c5 DOUBLET AS AN AGE INDICATOR IN LOW-MASS STARS  \n",
      "`Authors`: Joshua E Schlieder, Sebastien Lepine, Emily Rice, Michal Simon, Drummond Fielding, and Rachael Tomasino  \n",
      "\n",
      "Data is from this paper:  \n",
      "http://iopscience.iop.org/1538-3881/143/5/114/article"
     ]
    },
    {
     "cell_type": "code",
     "collapsed": false,
     "input": [
      "%pylab inline\n",
      "\n",
      "import seaborn as sns\n",
      "sns.set_context(\"notebook\", font_scale=1.5)\n",
      "\n",
      "import warnings\n",
      "warnings.filterwarnings(\"ignore\")"
     ],
     "language": "python",
     "metadata": {},
     "outputs": [
      {
       "output_type": "stream",
       "stream": "stdout",
       "text": [
        "Populating the interactive namespace from numpy and matplotlib\n"
       ]
      }
     ],
     "prompt_number": 1
    },
    {
     "cell_type": "code",
     "collapsed": false,
     "input": [
      "import pandas as pd"
     ],
     "language": "python",
     "metadata": {},
     "outputs": [],
     "prompt_number": 2
    },
    {
     "cell_type": "code",
     "collapsed": false,
     "input": [
      "from astropy.io import ascii"
     ],
     "language": "python",
     "metadata": {},
     "outputs": [],
     "prompt_number": 3
    },
    {
     "cell_type": "markdown",
     "metadata": {},
     "source": [
      "## Table 1 - Giant Standards"
     ]
    },
    {
     "cell_type": "code",
     "collapsed": false,
     "input": [
      "tbl1 = pd.read_csv(\"http://iopscience.iop.org/1538-3881/143/5/114/suppdata/aj424365t1_ascii.txt\", \n",
      "                   skipfooter=2, skiprows=[0,1,2,4], sep='\\t')\n",
      "tbl1.drop(\"Unnamed: 7\", axis=1, inplace=True)\n",
      "tbl1"
     ],
     "language": "python",
     "metadata": {},
     "outputs": [
      {
       "html": [
        "<div style=\"max-height:1000px;max-width:1500px;overflow:auto;\">\n",
        "<table border=\"1\" class=\"dataframe\">\n",
        "  <thead>\n",
        "    <tr style=\"text-align: right;\">\n",
        "      <th></th>\n",
        "      <th>Name</th>\n",
        "      <th>alpha^a</th>\n",
        "      <th>delta^a</th>\n",
        "      <th>V</th>\n",
        "      <th>K_s</th>\n",
        "      <th>SpTy</th>\n",
        "      <th>EW</th>\n",
        "    </tr>\n",
        "  </thead>\n",
        "  <tbody>\n",
        "    <tr>\n",
        "      <th>0</th>\n",
        "      <td>   HD 1879</td>\n",
        "      <td>   5.768131</td>\n",
        "      <td>-15.942617</td>\n",
        "      <td> 6.5</td>\n",
        "      <td> 2.3</td>\n",
        "      <td> M2III</td>\n",
        "      <td> 1.8</td>\n",
        "    </tr>\n",
        "    <tr>\n",
        "      <th>1</th>\n",
        "      <td>  HD 27598</td>\n",
        "      <td>  65.172214</td>\n",
        "      <td>-16.830004</td>\n",
        "      <td> 7.1</td>\n",
        "      <td> 1.8</td>\n",
        "      <td> M4III</td>\n",
        "      <td> 1.8</td>\n",
        "    </tr>\n",
        "    <tr>\n",
        "      <th>2</th>\n",
        "      <td> HD 198026</td>\n",
        "      <td> 311.934330</td>\n",
        "      <td> -5.027603</td>\n",
        "      <td> 4.5</td>\n",
        "      <td>-0.3</td>\n",
        "      <td> M3III</td>\n",
        "      <td> 1.3</td>\n",
        "    </tr>\n",
        "    <tr>\n",
        "      <th>3</th>\n",
        "      <td> HD 207076</td>\n",
        "      <td> 326.632640</td>\n",
        "      <td> -2.212806</td>\n",
        "      <td> 6.8</td>\n",
        "      <td>-1.7</td>\n",
        "      <td> M7III</td>\n",
        "      <td> 0.6</td>\n",
        "    </tr>\n",
        "  </tbody>\n",
        "</table>\n",
        "</div>"
       ],
       "metadata": {},
       "output_type": "pyout",
       "prompt_number": 4,
       "text": [
        "        Name     alpha^a    delta^a    V  K_s   SpTy   EW\n",
        "0    HD 1879    5.768131 -15.942617  6.5  2.3  M2III  1.8\n",
        "1   HD 27598   65.172214 -16.830004  7.1  1.8  M4III  1.8\n",
        "2  HD 198026  311.934330  -5.027603  4.5 -0.3  M3III  1.3\n",
        "3  HD 207076  326.632640  -2.212806  6.8 -1.7  M7III  0.6"
       ]
      }
     ],
     "prompt_number": 4
    },
    {
     "cell_type": "markdown",
     "metadata": {},
     "source": [
      "## Table 2 - BPMG members"
     ]
    },
    {
     "cell_type": "code",
     "collapsed": false,
     "input": [
      "tbl2 = pd.read_csv(\"http://iopscience.iop.org/1538-3881/143/5/114/suppdata/aj424365t2_ascii.txt\", \n",
      "                   skipfooter=5, skiprows=[0,1,2,4], sep='\\t')\n",
      "tbl2.drop(\"Unnamed: 7\", axis=1, inplace=True)\n",
      "tbl2"
     ],
     "language": "python",
     "metadata": {},
     "outputs": [
      {
       "html": [
        "<div style=\"max-height:1000px;max-width:1500px;overflow:auto;\">\n",
        "<table border=\"1\" class=\"dataframe\">\n",
        "  <thead>\n",
        "    <tr style=\"text-align: right;\">\n",
        "      <th></th>\n",
        "      <th>Name</th>\n",
        "      <th>alpha^a</th>\n",
        "      <th>delta^a</th>\n",
        "      <th>V</th>\n",
        "      <th>K_s</th>\n",
        "      <th>SpTy</th>\n",
        "      <th>EW</th>\n",
        "    </tr>\n",
        "  </thead>\n",
        "  <tbody>\n",
        "    <tr>\n",
        "      <th>0 </th>\n",
        "      <td>  TYC 1208 468 1^b</td>\n",
        "      <td>  24.414167</td>\n",
        "      <td> 18.592500</td>\n",
        "      <td> 10.7</td>\n",
        "      <td> 6.7</td>\n",
        "      <td> K7V</td>\n",
        "      <td> 1.6</td>\n",
        "    </tr>\n",
        "    <tr>\n",
        "      <th>1 </th>\n",
        "      <td>       HIP 11152^b</td>\n",
        "      <td>  35.860833</td>\n",
        "      <td> 22.735278</td>\n",
        "      <td> 11.6</td>\n",
        "      <td> 7.3</td>\n",
        "      <td> M1V</td>\n",
        "      <td> 2.1</td>\n",
        "    </tr>\n",
        "    <tr>\n",
        "      <th>2 </th>\n",
        "      <td>          AG Tri^c</td>\n",
        "      <td>  36.872083</td>\n",
        "      <td> 30.973611</td>\n",
        "      <td> 10.2</td>\n",
        "      <td> 7.1</td>\n",
        "      <td> K7V</td>\n",
        "      <td> 1.7</td>\n",
        "    </tr>\n",
        "    <tr>\n",
        "      <th>3 </th>\n",
        "      <td>       BD+05 378^c</td>\n",
        "      <td>  40.357917</td>\n",
        "      <td>  5.988333</td>\n",
        "      <td> 10.2</td>\n",
        "      <td> 7.1</td>\n",
        "      <td> K7V</td>\n",
        "      <td> 1.7</td>\n",
        "    </tr>\n",
        "    <tr>\n",
        "      <th>4 </th>\n",
        "      <td>  PM I04439+3723^b</td>\n",
        "      <td>  70.987083</td>\n",
        "      <td> 37.384250</td>\n",
        "      <td> 13.4</td>\n",
        "      <td> 8.8</td>\n",
        "      <td> M2V</td>\n",
        "      <td> 3.1</td>\n",
        "    </tr>\n",
        "    <tr>\n",
        "      <th>5 </th>\n",
        "      <td>      V 1005 Ori^c</td>\n",
        "      <td>  74.895000</td>\n",
        "      <td>  1.783611</td>\n",
        "      <td> 10.3</td>\n",
        "      <td> 6.3</td>\n",
        "      <td> M0V</td>\n",
        "      <td> 2.0</td>\n",
        "    </tr>\n",
        "    <tr>\n",
        "      <th>6 </th>\n",
        "      <td> TYC 1281 1672 1^b</td>\n",
        "      <td>  75.205375</td>\n",
        "      <td> 15.450194</td>\n",
        "      <td> 11.0</td>\n",
        "      <td> 7.6</td>\n",
        "      <td> K7V</td>\n",
        "      <td> 1.8</td>\n",
        "    </tr>\n",
        "    <tr>\n",
        "      <th>7 </th>\n",
        "      <td> PYC J05019+0108^d</td>\n",
        "      <td>  75.485625</td>\n",
        "      <td>  1.145250</td>\n",
        "      <td> 13.2</td>\n",
        "      <td> 7.7</td>\n",
        "      <td> M5V</td>\n",
        "      <td> 3.3</td>\n",
        "    </tr>\n",
        "    <tr>\n",
        "      <th>8 </th>\n",
        "      <td>      V 1311 Ori^c</td>\n",
        "      <td>  83.018750</td>\n",
        "      <td> -3.091389</td>\n",
        "      <td> 11.4</td>\n",
        "      <td> 7.0</td>\n",
        "      <td> M2V</td>\n",
        "      <td> 2.7</td>\n",
        "    </tr>\n",
        "    <tr>\n",
        "      <th>9 </th>\n",
        "      <td>  PM I07295+3556^b</td>\n",
        "      <td> 112.379500</td>\n",
        "      <td> 35.933389</td>\n",
        "      <td> 12.1</td>\n",
        "      <td> 7.8</td>\n",
        "      <td> M1V</td>\n",
        "      <td> 2.5</td>\n",
        "    </tr>\n",
        "    <tr>\n",
        "      <th>10</th>\n",
        "      <td> PYC J21376+0137^d</td>\n",
        "      <td> 324.417500</td>\n",
        "      <td>  1.620556</td>\n",
        "      <td> 13.6</td>\n",
        "      <td> 7.9</td>\n",
        "      <td> M5V</td>\n",
        "      <td> 3.6</td>\n",
        "    </tr>\n",
        "    <tr>\n",
        "      <th>11</th>\n",
        "      <td>      BD-13 6424^c</td>\n",
        "      <td> 353.128750</td>\n",
        "      <td>-12.264444</td>\n",
        "      <td> 10.9</td>\n",
        "      <td> 6.6</td>\n",
        "      <td> M0V</td>\n",
        "      <td> 2.2</td>\n",
        "    </tr>\n",
        "  </tbody>\n",
        "</table>\n",
        "</div>"
       ],
       "metadata": {},
       "output_type": "pyout",
       "prompt_number": 5,
       "text": [
        "                 Name     alpha^a    delta^a     V  K_s SpTy   EW\n",
        "0    TYC 1208 468 1^b   24.414167  18.592500  10.7  6.7  K7V  1.6\n",
        "1         HIP 11152^b   35.860833  22.735278  11.6  7.3  M1V  2.1\n",
        "2            AG Tri^c   36.872083  30.973611  10.2  7.1  K7V  1.7\n",
        "3         BD+05 378^c   40.357917   5.988333  10.2  7.1  K7V  1.7\n",
        "4    PM I04439+3723^b   70.987083  37.384250  13.4  8.8  M2V  3.1\n",
        "5        V 1005 Ori^c   74.895000   1.783611  10.3  6.3  M0V  2.0\n",
        "6   TYC 1281 1672 1^b   75.205375  15.450194  11.0  7.6  K7V  1.8\n",
        "7   PYC J05019+0108^d   75.485625   1.145250  13.2  7.7  M5V  3.3\n",
        "8        V 1311 Ori^c   83.018750  -3.091389  11.4  7.0  M2V  2.7\n",
        "9    PM I07295+3556^b  112.379500  35.933389  12.1  7.8  M1V  2.5\n",
        "10  PYC J21376+0137^d  324.417500   1.620556  13.6  7.9  M5V  3.6\n",
        "11       BD-13 6424^c  353.128750 -12.264444  10.9  6.6  M0V  2.2"
       ]
      }
     ],
     "prompt_number": 5
    },
    {
     "cell_type": "markdown",
     "metadata": {},
     "source": [
      "## Table 4 - Model derived EWs"
     ]
    },
    {
     "cell_type": "code",
     "collapsed": false,
     "input": [
      "tbl4 = pd.read_csv(\"http://iopscience.iop.org/1538-3881/143/5/114/suppdata/aj424365t4_ascii.txt\",\n",
      "                   skipfooter=3, skiprows=[0,1,2,3,5], sep='\\t', na_values=\"sdotsdotsdot\")\n",
      "tbl4.drop(\"Unnamed: 5\", axis=1, inplace=True)"
     ],
     "language": "python",
     "metadata": {},
     "outputs": []
    },
    {
     "cell_type": "markdown",
     "metadata": {},
     "source": [
      "## *1 Gyr model*"
     ]
    },
    {
     "cell_type": "code",
     "collapsed": false,
     "input": [
      "tbl4_1Gyr = tbl4[36:]\n",
      "tbl4_1Gyr"
     ],
     "language": "python",
     "metadata": {},
     "outputs": [
      {
       "html": [
        "<div style=\"max-height:1000px;max-width:1500px;overflow:auto;\">\n",
        "<table border=\"1\" class=\"dataframe\">\n",
        "  <thead>\n",
        "    <tr style=\"text-align: right;\">\n",
        "      <th></th>\n",
        "      <th>Age</th>\n",
        "      <th>T_eff</th>\n",
        "      <th>log(g)</th>\n",
        "      <th>EW</th>\n",
        "      <th>(V - K)^b</th>\n",
        "    </tr>\n",
        "  </thead>\n",
        "  <tbody>\n",
        "    <tr>\n",
        "      <th>36</th>\n",
        "      <td> M0</td>\n",
        "      <td> 3804</td>\n",
        "      <td> 4.9</td>\n",
        "      <td> 1.9</td>\n",
        "      <td> 3.7</td>\n",
        "    </tr>\n",
        "    <tr>\n",
        "      <th>37</th>\n",
        "      <td> M2</td>\n",
        "      <td> 3669</td>\n",
        "      <td> 5.0</td>\n",
        "      <td> 2.8</td>\n",
        "      <td> 4.5</td>\n",
        "    </tr>\n",
        "    <tr>\n",
        "      <th>38</th>\n",
        "      <td> M4</td>\n",
        "      <td> 3290</td>\n",
        "      <td> 5.1</td>\n",
        "      <td> 4.2</td>\n",
        "      <td> 5.6</td>\n",
        "    </tr>\n",
        "    <tr>\n",
        "      <th>39</th>\n",
        "      <td> M6</td>\n",
        "      <td> 2780</td>\n",
        "      <td> 5.3</td>\n",
        "      <td> NaN</td>\n",
        "      <td> NaN</td>\n",
        "    </tr>\n",
        "  </tbody>\n",
        "</table>\n",
        "</div>"
       ],
       "metadata": {},
       "output_type": "pyout",
       "prompt_number": 21,
       "text": [
        "   Age T_eff log(g)   EW (V - K)^b\n",
        "36  M0  3804    4.9  1.9       3.7\n",
        "37  M2  3669    5.0  2.8       4.5\n",
        "38  M4  3290    5.1  4.2       5.6\n",
        "39  M6  2780    5.3  NaN       NaN"
       ]
      }
     ],
     "prompt_number": 21
    },
    {
     "cell_type": "markdown",
     "metadata": {},
     "source": [
      "## *5 Myr model*"
     ]
    },
    {
     "cell_type": "code",
     "collapsed": false,
     "input": [
      "mass_bins = [0.5, 0.3, 0.2, 0.1] #Solar masses\n",
      "tbl4_5Myr = tbl4[(tbl4.Age == \"5\")] \n",
      "tbl4_5Myr[\"Mass\"] = mass_bins\n",
      "tbl4_5Myr"
     ],
     "language": "python",
     "metadata": {},
     "outputs": [
      {
       "html": [
        "<div style=\"max-height:1000px;max-width:1500px;overflow:auto;\">\n",
        "<table border=\"1\" class=\"dataframe\">\n",
        "  <thead>\n",
        "    <tr style=\"text-align: right;\">\n",
        "      <th></th>\n",
        "      <th>Age</th>\n",
        "      <th>T_eff</th>\n",
        "      <th>log(g)</th>\n",
        "      <th>EW</th>\n",
        "      <th>(V - K)^b</th>\n",
        "      <th>Mass</th>\n",
        "    </tr>\n",
        "  </thead>\n",
        "  <tbody>\n",
        "    <tr>\n",
        "      <th>2 </th>\n",
        "      <td> 5</td>\n",
        "      <td> 3760</td>\n",
        "      <td> 4.0</td>\n",
        "      <td> 1.7</td>\n",
        "      <td> 3.8</td>\n",
        "      <td> 0.5</td>\n",
        "    </tr>\n",
        "    <tr>\n",
        "      <th>10</th>\n",
        "      <td> 5</td>\n",
        "      <td> 3429</td>\n",
        "      <td> 4.0</td>\n",
        "      <td> 1.9</td>\n",
        "      <td> 4.9</td>\n",
        "      <td> 0.3</td>\n",
        "    </tr>\n",
        "    <tr>\n",
        "      <th>18</th>\n",
        "      <td> 5</td>\n",
        "      <td> 3235</td>\n",
        "      <td> 4.0</td>\n",
        "      <td> 2.3</td>\n",
        "      <td> 6.2</td>\n",
        "      <td> 0.2</td>\n",
        "    </tr>\n",
        "    <tr>\n",
        "      <th>26</th>\n",
        "      <td> 5</td>\n",
        "      <td> 3023</td>\n",
        "      <td> 4.0</td>\n",
        "      <td> 3.0</td>\n",
        "      <td> 7.5</td>\n",
        "      <td> 0.1</td>\n",
        "    </tr>\n",
        "  </tbody>\n",
        "</table>\n",
        "</div>"
       ],
       "metadata": {},
       "output_type": "pyout",
       "prompt_number": 33,
       "text": [
        "   Age T_eff log(g)   EW (V - K)^b  Mass\n",
        "2    5  3760    4.0  1.7       3.8   0.5\n",
        "10   5  3429    4.0  1.9       4.9   0.3\n",
        "18   5  3235    4.0  2.3       6.2   0.2\n",
        "26   5  3023    4.0  3.0       7.5   0.1"
       ]
      }
     ],
     "prompt_number": 33
    },
    {
     "cell_type": "markdown",
     "metadata": {},
     "source": [
      "*Script finished.*"
     ]
    }
   ],
   "metadata": {}
  }
 ]
}