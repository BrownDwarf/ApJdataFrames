{
 "metadata": {
  "name": "",
  "signature": "sha256:90fb50ae3f8935aaa83c76e258e8913cb608ad450af5ea694087468d5af529cb"
 },
 "nbformat": 3,
 "nbformat_minor": 0,
 "worksheets": [
  {
   "cells": [
    {
     "cell_type": "markdown",
     "metadata": {},
     "source": [
      "`ApJdataFrames` 002: Luhman2004b\n",
      "---\n",
      "`Title`: The First Discovery of a Wide Binary Brown Dwarf\n",
      "`Authors`: Luhman K.L.\n",
      "\n",
      "Data is from this paper:\n",
      "http://iopscience.iop.org/0004-637X/614/1/398"
     ]
    },
    {
     "cell_type": "code",
     "collapsed": false,
     "input": [
      "import warnings\n",
      "warnings.filterwarnings(\"ignore\")"
     ],
     "language": "python",
     "metadata": {},
     "outputs": [
      {
       "output_type": "stream",
       "stream": "stdout",
       "text": [
        "Populating the interactive namespace from numpy and matplotlib\n"
       ]
      }
     ],
     "prompt_number": 1
    },
    {
     "cell_type": "markdown",
     "metadata": {},
     "source": [
      "## Table 1- Composite photometry"
     ]
    },
    {
     "cell_type": "markdown",
     "metadata": {},
     "source": [
      "Since this table is formatted in the `CDS` format, it is easiest to take advantage of the `Astropy` functionality, `ascii.read`, which automatically detects the header formatting.  We will also take advantage of the fact that `ascii.read` can accept a url as an argument, so we won't have to actually save the data locally.  Let's hope ApJ doesn't change their web link though."
     ]
    },
    {
     "cell_type": "code",
     "collapsed": false,
     "input": [
      "import pandas as pd"
     ],
     "language": "python",
     "metadata": {},
     "outputs": [],
     "prompt_number": 3
    },
    {
     "cell_type": "code",
     "collapsed": false,
     "input": [
      "names = [\"component\", \"RA\", \"Dec\", \"Spectral Type\", \"Teff\", \"AJ\", \"Lbol\", \"R-I\",\"I\", \"J-H\",\"H-Ks\", \"Ks\", \"Mass\"]\n",
      "tbl1 = pd.read_csv(\"http://iopscience.iop.org/0004-637X/614/1/398/fulltext/60660.tb1.txt\", sep='\\t', names=names)\n",
      "tbl1"
     ],
     "language": "python",
     "metadata": {},
     "outputs": [
      {
       "html": [
        "<div style=\"max-height:1000px;max-width:1500px;overflow:auto;\">\n",
        "<table border=\"1\" class=\"dataframe\">\n",
        "  <thead>\n",
        "    <tr style=\"text-align: right;\">\n",
        "      <th></th>\n",
        "      <th>component</th>\n",
        "      <th>RA</th>\n",
        "      <th>Dec</th>\n",
        "      <th>Spectral Type</th>\n",
        "      <th>Teff</th>\n",
        "      <th>AJ</th>\n",
        "      <th>Lbol</th>\n",
        "      <th>R-I</th>\n",
        "      <th>I</th>\n",
        "      <th>J-H</th>\n",
        "      <th>H-Ks</th>\n",
        "      <th>Ks</th>\n",
        "      <th>Mass</th>\n",
        "    </tr>\n",
        "  </thead>\n",
        "  <tbody>\n",
        "    <tr>\n",
        "      <th>0</th>\n",
        "      <td> A</td>\n",
        "      <td> 11 01 19.218</td>\n",
        "      <td> -77 32 38.60</td>\n",
        "      <td> M7.25 \\pm 0.25</td>\n",
        "      <td> 2838</td>\n",
        "      <td> 0.45</td>\n",
        "      <td> 0.0200</td>\n",
        "      <td> 2.57</td>\n",
        "      <td> 17.21</td>\n",
        "      <td> 0.84</td>\n",
        "      <td> 0.60</td>\n",
        "      <td> 11.97</td>\n",
        "      <td> 0.050</td>\n",
        "    </tr>\n",
        "    <tr>\n",
        "      <th>1</th>\n",
        "      <td> B</td>\n",
        "      <td> 11 01 19.438</td>\n",
        "      <td> -77 32 37.36</td>\n",
        "      <td> M8.25 \\pm 0.25</td>\n",
        "      <td> 2632</td>\n",
        "      <td> 0.00</td>\n",
        "      <td> 0.0062</td>\n",
        "      <td> 2.60</td>\n",
        "      <td> 18.28</td>\n",
        "      <td> 0.82</td>\n",
        "      <td> 0.64</td>\n",
        "      <td> 12.81</td>\n",
        "      <td> 0.025</td>\n",
        "    </tr>\n",
        "  </tbody>\n",
        "</table>\n",
        "</div>"
       ],
       "metadata": {},
       "output_type": "pyout",
       "prompt_number": 5,
       "text": [
        "  component            RA           Dec   Spectral Type  Teff    AJ    Lbol  \\\n",
        "0         A  11 01 19.218  -77 32 38.60  M7.25 \\pm 0.25  2838  0.45  0.0200   \n",
        "1         B  11 01 19.438  -77 32 37.36  M8.25 \\pm 0.25  2632  0.00  0.0062   \n",
        "\n",
        "    R-I      I   J-H  H-Ks     Ks   Mass  \n",
        "0  2.57  17.21  0.84  0.60  11.97  0.050  \n",
        "1  2.60  18.28  0.82  0.64  12.81  0.025  "
       ]
      }
     ],
     "prompt_number": 5
    },
    {
     "cell_type": "markdown",
     "metadata": {},
     "source": [
      "**The end.**"
     ]
    }
   ],
   "metadata": {}
  }
 ]
}