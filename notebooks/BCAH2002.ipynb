{
 "metadata": {
  "name": "",
  "signature": "sha256:dec06d0476e6f0f0c534733b5d0f43b6df0e9cac82a488093e3e1360e1fcfb49"
 },
 "nbformat": 3,
 "nbformat_minor": 0,
 "worksheets": [
  {
   "cells": [
    {
     "cell_type": "markdown",
     "metadata": {},
     "source": [
      "`ApJdataFrames` BCAH2002\n",
      "---\n",
      "`Title`: Evolutionary models for low-mass stars and brown dwarfs: uncertainties and limits at very young ages  \n",
      "`Authors`: BCAH\n",
      "\n",
      "Data is from this website:  \n",
      "http://perso.ens-lyon.fr/isabelle.baraffe/"
     ]
    },
    {
     "cell_type": "code",
     "collapsed": false,
     "input": [
      "%pylab inline\n",
      "\n",
      "import seaborn as sns\n",
      "sns.set_context(\"notebook\", font_scale=1.5)\n",
      "\n",
      "import warnings\n",
      "warnings.filterwarnings(\"ignore\")"
     ],
     "language": "python",
     "metadata": {},
     "outputs": [
      {
       "output_type": "stream",
       "stream": "stdout",
       "text": [
        "Populating the interactive namespace from numpy and matplotlib\n"
       ]
      }
     ],
     "prompt_number": 2
    },
    {
     "cell_type": "code",
     "collapsed": false,
     "input": [
      "import pandas as pd"
     ],
     "language": "python",
     "metadata": {},
     "outputs": [],
     "prompt_number": 3
    },
    {
     "cell_type": "markdown",
     "metadata": {},
     "source": [
      "## BCAH98_models.1"
     ]
    },
    {
     "cell_type": "code",
     "collapsed": false,
     "input": [
      "web1 = \"http://perso.ens-lyon.fr/isabelle.baraffe/BCAH98_models.1\"\n",
      "skiprows = range(32)\n",
      "names = [\"mass\",\"age\",\"Teff\",\"logg\",\"logL\",\"Mv\",\"Mr\",\"Mi\",\"Mj\",\"Mh\",\"Mk\",\"Ml\",\"Mm\"]\n",
      "BCAH98_m1 = pd.read_csv(web1, sep = '[ ]{1,}', skiprows=skiprows, names = names)\n",
      "BCAH98_m1.drop([u'Mv', u'Mr', u'Mi', u'Mj', u'Mh', u'Mk', u'Ml', u'Mm'], axis=1, inplace=True)\n",
      "BCAH98_m1.head()"
     ],
     "language": "python",
     "metadata": {},
     "outputs": [
      {
       "html": [
        "<div style=\"max-height:1000px;max-width:1500px;overflow:auto;\">\n",
        "<table border=\"1\" class=\"dataframe\">\n",
        "  <thead>\n",
        "    <tr style=\"text-align: right;\">\n",
        "      <th></th>\n",
        "      <th>mass</th>\n",
        "      <th>age</th>\n",
        "      <th>Teff</th>\n",
        "      <th>logg</th>\n",
        "      <th>logL</th>\n",
        "    </tr>\n",
        "  </thead>\n",
        "  <tbody>\n",
        "    <tr>\n",
        "      <th>0</th>\n",
        "      <td> 0.02</td>\n",
        "      <td> 0.00128</td>\n",
        "      <td> 2535</td>\n",
        "      <td> 3.821</td>\n",
        "      <td>-2.52</td>\n",
        "    </tr>\n",
        "    <tr>\n",
        "      <th>1</th>\n",
        "      <td> 0.02</td>\n",
        "      <td> 0.00144</td>\n",
        "      <td> 2530</td>\n",
        "      <td> 3.834</td>\n",
        "      <td>-2.54</td>\n",
        "    </tr>\n",
        "    <tr>\n",
        "      <th>2</th>\n",
        "      <td> 0.02</td>\n",
        "      <td> 0.00161</td>\n",
        "      <td> 2527</td>\n",
        "      <td> 3.847</td>\n",
        "      <td>-2.55</td>\n",
        "    </tr>\n",
        "    <tr>\n",
        "      <th>3</th>\n",
        "      <td> 0.02</td>\n",
        "      <td> 0.00181</td>\n",
        "      <td> 2523</td>\n",
        "      <td> 3.860</td>\n",
        "      <td>-2.57</td>\n",
        "    </tr>\n",
        "    <tr>\n",
        "      <th>4</th>\n",
        "      <td> 0.02</td>\n",
        "      <td> 0.00205</td>\n",
        "      <td> 2519</td>\n",
        "      <td> 3.872</td>\n",
        "      <td>-2.58</td>\n",
        "    </tr>\n",
        "  </tbody>\n",
        "</table>\n",
        "</div>"
       ],
       "metadata": {},
       "output_type": "pyout",
       "prompt_number": 4,
       "text": [
        "   mass      age  Teff   logg  logL\n",
        "0  0.02  0.00128  2535  3.821 -2.52\n",
        "1  0.02  0.00144  2530  3.834 -2.54\n",
        "2  0.02  0.00161  2527  3.847 -2.55\n",
        "3  0.02  0.00181  2523  3.860 -2.57\n",
        "4  0.02  0.00205  2519  3.872 -2.58"
       ]
      }
     ],
     "prompt_number": 4
    },
    {
     "cell_type": "markdown",
     "metadata": {},
     "source": [
      "## Isochrones\n",
      "The formatting for this file is so stupid."
     ]
    },
    {
     "cell_type": "code",
     "collapsed": false,
     "input": [
      "web2 = \"http://perso.ens-lyon.fr/isabelle.baraffe/BCAH98_iso.1\"\n",
      "skiprows = range(28)\n",
      "names = [\"mass\",\"Teff\",\"logg\",\"logL\",\"Mv\",\"Mr\",\"Mi\",\"Mj\",\"Mh\",\"Mk\",\"Ml\",\"Mm\"]\n",
      "BCAH98_i1 = pd.read_csv(web2, delim_whitespace=True, skiprows=skiprows,\n",
      "                        names = names, error_bad_lines=False, skip_blank_lines=True)"
     ],
     "language": "python",
     "metadata": {},
     "outputs": [],
     "prompt_number": 5
    },
    {
     "cell_type": "markdown",
     "metadata": {},
     "source": [
      "Extract the age data and forward fill it."
     ]
    },
    {
     "cell_type": "code",
     "collapsed": false,
     "input": [
      "age_ids = BCAH98_i1[BCAH98_i1.mass == \"log\"].index.values\n",
      "ages = BCAH98_i1.iloc[age_ids].Mv\n",
      "BCAH98_i1[\"Age\"] = np.NaN\n",
      "BCAH98_i1.Age[age_ids] = ages\n",
      "BCAH98_i1.Age.ffill(inplace=True)\n",
      "BCAH98_i1.Age[BCAH98_i1.Age != BCAH98_i1.Age] = 6.0"
     ],
     "language": "python",
     "metadata": {},
     "outputs": [],
     "prompt_number": 6
    },
    {
     "cell_type": "markdown",
     "metadata": {},
     "source": [
      "Drop junk rows"
     ]
    },
    {
     "cell_type": "code",
     "collapsed": false,
     "input": [
      "BCAH98_i1.dropna(how='any', inplace=True)\n",
      "BCAH98_i1.drop(BCAH98_i1[BCAH98_i1.mass == \"m\"].index, inplace=True)"
     ],
     "language": "python",
     "metadata": {},
     "outputs": [],
     "prompt_number": 7
    },
    {
     "cell_type": "markdown",
     "metadata": {},
     "source": [
      "Drop junk columns"
     ]
    },
    {
     "cell_type": "code",
     "collapsed": false,
     "input": [
      "BCAH98_i1.drop([u'Mv', u'Mr', u'Mi', u'Mj', u'Mh', u'Mk', u'Ml', u'Mm'], axis=1, inplace=True)"
     ],
     "language": "python",
     "metadata": {},
     "outputs": [],
     "prompt_number": 8
    },
    {
     "cell_type": "markdown",
     "metadata": {},
     "source": [
      "Group by isochrones"
     ]
    },
    {
     "cell_type": "code",
     "collapsed": false,
     "input": [
      "age_grouped = BCAH98_i1.groupby(axis=0, by=\"Age\")"
     ],
     "language": "python",
     "metadata": {},
     "outputs": [],
     "prompt_number": 9
    },
    {
     "cell_type": "markdown",
     "metadata": {},
     "source": [
      "Now you can do group by operations:\n",
      "```python\n",
      "for age, group in age_grouped:\n",
      "    print age\n",
      "    print group\n",
      "```"
     ]
    },
    {
     "cell_type": "markdown",
     "metadata": {},
     "source": [
      "# Save data tables locally."
     ]
    },
    {
     "cell_type": "code",
     "collapsed": false,
     "input": [
      "BCAH98_i1.to_csv(\"../data/BCAH2002/BCAH2002_isochrones.csv\", sep='\\t', index=False)\n",
      "BCAH98_m1.to_csv(\"../data/BCAH2002/BCAH2002_models.csv\", sep = '\\t', index=False)"
     ],
     "language": "python",
     "metadata": {},
     "outputs": [],
     "prompt_number": 10
    },
    {
     "cell_type": "markdown",
     "metadata": {},
     "source": [
      "*Script finished.*"
     ]
    }
   ],
   "metadata": {}
  }
 ]
}