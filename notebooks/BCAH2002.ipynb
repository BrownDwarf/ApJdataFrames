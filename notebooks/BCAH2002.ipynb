{
 "cells": [
  {
   "cell_type": "markdown",
   "metadata": {},
   "source": [
    "`ApJdataFrames` BCAH2002\n",
    "---\n",
    "`Title`: Evolutionary models for low-mass stars and brown dwarfs: uncertainties and limits at very young ages  \n",
    "`Authors`: BCAH\n",
    "\n",
    "Data is from this website:  \n",
    "http://perso.ens-lyon.fr/isabelle.baraffe/"
   ]
  },
  {
   "cell_type": "code",
   "execution_count": 1,
   "metadata": {
    "collapsed": false
   },
   "outputs": [
    {
     "name": "stdout",
     "output_type": "stream",
     "text": [
      "Populating the interactive namespace from numpy and matplotlib\n"
     ]
    }
   ],
   "source": [
    "%pylab inline\n",
    "\n",
    "import seaborn as sns\n",
    "sns.set_context(\"notebook\", font_scale=1.5)\n",
    "\n",
    "import warnings\n",
    "warnings.filterwarnings(\"ignore\")"
   ]
  },
  {
   "cell_type": "code",
   "execution_count": 2,
   "metadata": {
    "collapsed": false
   },
   "outputs": [],
   "source": [
    "import pandas as pd"
   ]
  },
  {
   "cell_type": "markdown",
   "metadata": {},
   "source": [
    "## BCAH98_models.1"
   ]
  },
  {
   "cell_type": "code",
   "execution_count": 4,
   "metadata": {
    "collapsed": false
   },
   "outputs": [
    {
     "data": {
      "text/html": [
       "<div>\n",
       "<table border=\"1\" class=\"dataframe\">\n",
       "  <thead>\n",
       "    <tr style=\"text-align: right;\">\n",
       "      <th></th>\n",
       "      <th>mass</th>\n",
       "      <th>age</th>\n",
       "      <th>Teff</th>\n",
       "      <th>logg</th>\n",
       "      <th>logL</th>\n",
       "      <th>Mj</th>\n",
       "    </tr>\n",
       "  </thead>\n",
       "  <tbody>\n",
       "    <tr>\n",
       "      <th>0</th>\n",
       "      <td>0.02</td>\n",
       "      <td>0.00128</td>\n",
       "      <td>2535.0</td>\n",
       "      <td>3.821</td>\n",
       "      <td>-2.52</td>\n",
       "      <td>8.85</td>\n",
       "    </tr>\n",
       "    <tr>\n",
       "      <th>1</th>\n",
       "      <td>0.02</td>\n",
       "      <td>0.00144</td>\n",
       "      <td>2530.0</td>\n",
       "      <td>3.834</td>\n",
       "      <td>-2.54</td>\n",
       "      <td>8.89</td>\n",
       "    </tr>\n",
       "    <tr>\n",
       "      <th>2</th>\n",
       "      <td>0.02</td>\n",
       "      <td>0.00161</td>\n",
       "      <td>2527.0</td>\n",
       "      <td>3.847</td>\n",
       "      <td>-2.55</td>\n",
       "      <td>8.93</td>\n",
       "    </tr>\n",
       "    <tr>\n",
       "      <th>3</th>\n",
       "      <td>0.02</td>\n",
       "      <td>0.00181</td>\n",
       "      <td>2523.0</td>\n",
       "      <td>3.860</td>\n",
       "      <td>-2.57</td>\n",
       "      <td>8.97</td>\n",
       "    </tr>\n",
       "    <tr>\n",
       "      <th>4</th>\n",
       "      <td>0.02</td>\n",
       "      <td>0.00205</td>\n",
       "      <td>2519.0</td>\n",
       "      <td>3.872</td>\n",
       "      <td>-2.58</td>\n",
       "      <td>9.00</td>\n",
       "    </tr>\n",
       "  </tbody>\n",
       "</table>\n",
       "</div>"
      ],
      "text/plain": [
       "   mass      age    Teff   logg  logL    Mj\n",
       "0  0.02  0.00128  2535.0  3.821 -2.52  8.85\n",
       "1  0.02  0.00144  2530.0  3.834 -2.54  8.89\n",
       "2  0.02  0.00161  2527.0  3.847 -2.55  8.93\n",
       "3  0.02  0.00181  2523.0  3.860 -2.57  8.97\n",
       "4  0.02  0.00205  2519.0  3.872 -2.58  9.00"
      ]
     },
     "execution_count": 4,
     "metadata": {},
     "output_type": "execute_result"
    }
   ],
   "source": [
    "web1 = \"http://perso.ens-lyon.fr/isabelle.baraffe/BCAH98_models.1\"\n",
    "skiprows = range(32)\n",
    "names = [\"mass\",\"age\",\"Teff\",\"logg\",\"logL\",\"Mv\",\"Mr\",\"Mi\",\"Mj\",\"Mh\",\"Mk\",\"Ml\",\"Mm\"]\n",
    "BCAH98_m1 = pd.read_csv(web1, sep = '[ ]{1,}', skiprows=skiprows, names = names)\n",
    "BCAH98_m1.drop([u'Mv', u'Mr', u'Mi', u'Mh', u'Mk', u'Ml', u'Mm'], axis=1, inplace=True)\n",
    "BCAH98_m1.head()"
   ]
  },
  {
   "cell_type": "markdown",
   "metadata": {},
   "source": [
    "## Isochrones\n",
    "The formatting for this file is so stupid."
   ]
  },
  {
   "cell_type": "code",
   "execution_count": 5,
   "metadata": {
    "collapsed": false
   },
   "outputs": [],
   "source": [
    "web2 = \"http://perso.ens-lyon.fr/isabelle.baraffe/BCAH98_iso.1\"\n",
    "skiprows = range(28)\n",
    "names = [\"mass\",\"Teff\",\"logg\",\"logL\",\"Mv\",\"Mr\",\"Mi\",\"Mj\",\"Mh\",\"Mk\",\"Ml\",\"Mm\"]\n",
    "BCAH98_i1 = pd.read_csv(web2, delim_whitespace=True, skiprows=skiprows,\n",
    "                        names = names, error_bad_lines=False, skip_blank_lines=True)"
   ]
  },
  {
   "cell_type": "markdown",
   "metadata": {},
   "source": [
    "Extract the age data and forward fill it."
   ]
  },
  {
   "cell_type": "code",
   "execution_count": 6,
   "metadata": {
    "collapsed": false
   },
   "outputs": [],
   "source": [
    "age_ids = BCAH98_i1[BCAH98_i1.mass == \"log\"].index.values\n",
    "ages = BCAH98_i1.iloc[age_ids].Mv\n",
    "BCAH98_i1[\"Age\"] = np.NaN\n",
    "BCAH98_i1.Age[age_ids] = ages\n",
    "BCAH98_i1.Age.ffill(inplace=True)\n",
    "BCAH98_i1.Age[BCAH98_i1.Age != BCAH98_i1.Age] = 6.0"
   ]
  },
  {
   "cell_type": "markdown",
   "metadata": {},
   "source": [
    "Drop junk rows"
   ]
  },
  {
   "cell_type": "code",
   "execution_count": 7,
   "metadata": {
    "collapsed": false
   },
   "outputs": [],
   "source": [
    "BCAH98_i1.dropna(how='any', inplace=True)\n",
    "BCAH98_i1.drop(BCAH98_i1[BCAH98_i1.mass == \"m\"].index, inplace=True)"
   ]
  },
  {
   "cell_type": "markdown",
   "metadata": {},
   "source": [
    "Drop junk columns"
   ]
  },
  {
   "cell_type": "code",
   "execution_count": 8,
   "metadata": {
    "collapsed": false
   },
   "outputs": [],
   "source": [
    "BCAH98_i1.drop([u'Mv', u'Mr', u'Mi', u'Mh', u'Mk', u'Ml', u'Mm'], axis=1, inplace=True)"
   ]
  },
  {
   "cell_type": "markdown",
   "metadata": {},
   "source": [
    "Group by isochrones"
   ]
  },
  {
   "cell_type": "code",
   "execution_count": 9,
   "metadata": {
    "collapsed": false
   },
   "outputs": [],
   "source": [
    "age_grouped = BCAH98_i1.groupby(axis=0, by=\"Age\")"
   ]
  },
  {
   "cell_type": "markdown",
   "metadata": {},
   "source": [
    "Now you can do group by operations:\n",
    "```python\n",
    "for age, group in age_grouped:\n",
    "    print age\n",
    "    print group\n",
    "```"
   ]
  },
  {
   "cell_type": "markdown",
   "metadata": {},
   "source": [
    "# Save data tables locally."
   ]
  },
  {
   "cell_type": "code",
   "execution_count": 10,
   "metadata": {
    "collapsed": false
   },
   "outputs": [],
   "source": [
    "BCAH98_i1.to_csv(\"../data/BCAH2002/BCAH2002_isochrones.csv\", sep='\\t', index=False)\n",
    "BCAH98_m1.to_csv(\"../data/BCAH2002/BCAH2002_models.csv\", sep = '\\t', index=False)"
   ]
  },
  {
   "cell_type": "markdown",
   "metadata": {},
   "source": [
    "*Script finished.*"
   ]
  }
 ],
 "metadata": {
  "kernelspec": {
   "display_name": "Python 3",
   "language": "python",
   "name": "python3"
  },
  "language_info": {
   "codemirror_mode": {
    "name": "ipython",
    "version": 3
   },
   "file_extension": ".py",
   "mimetype": "text/x-python",
   "name": "python",
   "nbconvert_exporter": "python",
   "pygments_lexer": "ipython3",
   "version": "3.4.5"
  }
 },
 "nbformat": 4,
 "nbformat_minor": 0
}
