{
 "cells": [
  {
   "cell_type": "markdown",
   "metadata": {},
   "source": [
    "`ApJdataFrames` Pecault2013\n",
    "---\n",
    "`Title`: INTRINSIC COLORS, TEMPERATURES, AND BOLOMETRIC CORRECTIONS OF PRE-MAIN-SEQUENCE STARS  \n",
    "`Authors`: Mark J. Pecaut and Eric E. Mamajek\n",
    "\n",
    "Data is from this paper:  \n",
    "http://iopscience.iop.org/0067-0049/208/1/9/article"
   ]
  },
  {
   "cell_type": "code",
   "execution_count": null,
   "metadata": {
    "collapsed": false
   },
   "outputs": [],
   "source": [
    "%pylab inline\n",
    "%config InlineBackend.figure_format = 'retina'\n",
    "import seaborn as sns\n",
    "sns.set_context(\"notebook\", font_scale=1.5)\n",
    "\n",
    "import warnings\n",
    "warnings.filterwarnings(\"ignore\")"
   ]
  },
  {
   "cell_type": "code",
   "execution_count": null,
   "metadata": {
    "collapsed": false
   },
   "outputs": [],
   "source": [
    "from astropy.io import ascii"
   ]
  },
  {
   "cell_type": "markdown",
   "metadata": {},
   "source": [
    "## Table 1\n",
    "### Spectral Types and Optical/Near-IR Photometry for Young, Nearby, Moving Group Members"
   ]
  },
  {
   "cell_type": "code",
   "execution_count": null,
   "metadata": {
    "collapsed": true
   },
   "outputs": [],
   "source": [
    "#! curl http://iopscience.iop.org/0067-0049/208/1/9/suppdata/apjs480616t1_mrt.txt > ../data/Pecaut2013/tbl1_raw.txt"
   ]
  },
  {
   "cell_type": "code",
   "execution_count": null,
   "metadata": {
    "collapsed": false
   },
   "outputs": [],
   "source": [
    "tbl1 = ascii.read(\"../data/Pecaut2013/tbl1_raw.txt\")"
   ]
  },
  {
   "cell_type": "code",
   "execution_count": null,
   "metadata": {
    "collapsed": false
   },
   "outputs": [],
   "source": [
    "tbl1_df = tbl1.to_pandas()"
   ]
  },
  {
   "cell_type": "code",
   "execution_count": null,
   "metadata": {
    "collapsed": true
   },
   "outputs": [],
   "source": [
    "import gully_custom"
   ]
  },
  {
   "cell_type": "markdown",
   "metadata": {},
   "source": [
    "#### Take the subset of the M-stars, and convert the spectral types to a number, and compute I-J as a function of Spectral Type."
   ]
  },
  {
   "cell_type": "code",
   "execution_count": null,
   "metadata": {
    "collapsed": true
   },
   "outputs": [],
   "source": [
    "tbl1_df[\"Ic\"] = tbl1_df[\"Vmag\"] - tbl1_df[\"V-Ic\"]\n",
    "tbl1_df[\"Ic-J\"] = tbl1_df[\"Ic\"] - tbl1_df[\"Jmag\"]"
   ]
  },
  {
   "cell_type": "code",
   "execution_count": null,
   "metadata": {
    "collapsed": false
   },
   "outputs": [],
   "source": [
    "tbl1_sub = tbl1_df[tbl1_df.SpType.str.contains(\"M\")]\n",
    "tbl1_sub[\"SpT_clean\"] = tbl1_sub.SpType.str.strip(\"VIe()+-}{\")\n",
    "tbl1_sub.SpT_clean[49] = \"M8\"\n",
    "tbl1_sub[\"SpT_num\"] = gully_custom.specType(tbl1_sub.SpT_clean)"
   ]
  },
  {
   "cell_type": "code",
   "execution_count": null,
   "metadata": {
    "collapsed": true
   },
   "outputs": [],
   "source": [
    "tbl1_sub.to_csv(\"../data/Pecaut2013/tbl1_M_subset.txt\", index=False)"
   ]
  },
  {
   "cell_type": "markdown",
   "metadata": {},
   "source": [
    "## Table 6 - Intrinsic Colors of 5–30 Myr Old Stars and Adopted Teff, Bolometric Correction Values"
   ]
  },
  {
   "cell_type": "code",
   "execution_count": null,
   "metadata": {
    "collapsed": false
   },
   "outputs": [],
   "source": [
    "#tbl6 = ascii.read(\"http://iopscience.iop.org/0067-0049/208/1/9/suppdata/apjs480616t6_mrt.txt\")\n",
    "tbl6 = ascii.read(\"../data/Pecaut2013/tbl6_raw.txt\")"
   ]
  },
  {
   "cell_type": "code",
   "execution_count": null,
   "metadata": {
    "collapsed": false
   },
   "outputs": [],
   "source": [
    "tbl6.columns"
   ]
  },
  {
   "cell_type": "code",
   "execution_count": null,
   "metadata": {
    "collapsed": false
   },
   "outputs": [],
   "source": [
    "tbl6[[\"SpType\", \"Teff\", \"BCJ\"]]"
   ]
  },
  {
   "cell_type": "markdown",
   "metadata": {},
   "source": [
    "Boo! Their $BC_J$ does not go past M5!"
   ]
  },
  {
   "cell_type": "code",
   "execution_count": null,
   "metadata": {
    "collapsed": false
   },
   "outputs": [],
   "source": [
    "tbl6_df = tbl6.to_pandas()#"
   ]
  },
  {
   "cell_type": "code",
   "execution_count": null,
   "metadata": {
    "collapsed": false
   },
   "outputs": [],
   "source": [
    "tbl6_df.to_csv(\"../data/Pecaut2013/tbl6.csv\")"
   ]
  },
  {
   "cell_type": "code",
   "execution_count": null,
   "metadata": {
    "collapsed": true
   },
   "outputs": [],
   "source": [
    "from gully_custom import specType"
   ]
  },
  {
   "cell_type": "code",
   "execution_count": null,
   "metadata": {
    "collapsed": false
   },
   "outputs": [],
   "source": [
    "tbl6_df['SpT'] = specType(tbl6_df.SpType)"
   ]
  },
  {
   "cell_type": "code",
   "execution_count": null,
   "metadata": {
    "collapsed": false
   },
   "outputs": [],
   "source": [
    "tbl6_df.head()"
   ]
  },
  {
   "cell_type": "markdown",
   "metadata": {},
   "source": [
    "From [this website](http://www.astro.caltech.edu/~jmc/2mass/v3/transformations/)."
   ]
  },
  {
   "cell_type": "markdown",
   "metadata": {},
   "source": [
    "$(J-H)_{2MASS}= (1.156 \\pm 0.015) (J-H)_{MKO}+(-0.038 \\pm 0.006)$"
   ]
  },
  {
   "cell_type": "markdown",
   "metadata": {},
   "source": [
    "$(J-H)_{MKO} = [(J-H)_{2MASS} + (0.038 \\pm 0.006)] * \\frac{1}{(1.156 \\pm 0.015) }$"
   ]
  },
  {
   "cell_type": "code",
   "execution_count": null,
   "metadata": {
    "collapsed": false
   },
   "outputs": [],
   "source": [
    "jh_mko = (tbl6_df[\"J-H\"].values+0.038)*1.0/1.156"
   ]
  },
  {
   "cell_type": "code",
   "execution_count": null,
   "metadata": {
    "collapsed": false
   },
   "outputs": [],
   "source": [
    "tbl6_df[\"J-H_MKO\"] = jh_mko\n",
    "tbl6_df.to_csv(\"../data/Pecaut2013/tbl6.csv\", index=False)"
   ]
  },
  {
   "cell_type": "code",
   "execution_count": null,
   "metadata": {
    "collapsed": false
   },
   "outputs": [],
   "source": [
    "X = tbl6_df.SpT.values[20:]\n",
    "y = tbl6_df[\"J-H\"].values[20:]\n",
    "z = np.polyfit(X, y, 10)\n",
    "p = np.poly1d(z)\n",
    "y_pred = p(X)\n",
    "\n",
    "\n",
    "plt.plot(tbl6_df.SpT, tbl6_df[\"J-H\"], 's', label='2MASS')\n",
    "plt.plot(tbl6_df.SpT, tbl6_df[\"J-H_MKO\"], 'o', label='MKO')\n",
    "plt.plot(X, y_pred, 'k:', label='fit')\n",
    "plt.legend()\n",
    "plt.xlim(0, 10)\n",
    "plt.ylim(0, 1)"
   ]
  },
  {
   "cell_type": "markdown",
   "metadata": {},
   "source": [
    "## Table 10 - T_eff, Bolometric Correction, and Bolometric Magnitude Polynomial Coefficients for 5-30 Myr Old Stars"
   ]
  },
  {
   "cell_type": "code",
   "execution_count": null,
   "metadata": {
    "collapsed": false
   },
   "outputs": [],
   "source": [
    "import pandas as pd"
   ]
  },
  {
   "cell_type": "code",
   "execution_count": null,
   "metadata": {
    "collapsed": false
   },
   "outputs": [],
   "source": [
    "tbl10 = pd.read_csv(\"http://iopscience.iop.org/0067-0049/208/1/9/suppdata/apjs480616t10_ascii.txt\", skip_footer=1,\n",
    "                    skiprows=[0,1,2], header=0, sep='\\t', na_values='\\ldots')\n",
    "del tbl10[\"Unnamed: 11\"]\n",
    "tbl10"
   ]
  },
  {
   "cell_type": "markdown",
   "metadata": {},
   "source": [
    "The coefficients are:  \n",
    "$Y = a_0 + a_1X$"
   ]
  },
  {
   "cell_type": "code",
   "execution_count": null,
   "metadata": {
    "collapsed": false
   },
   "outputs": [],
   "source": [
    "a_0 = np.float(tbl10.get_value(6, \"a_0\")[0:8])*10**(0.0)\n",
    "a_1 = np.float(tbl10.get_value(6, \"a_1\")[0:9])*10**(-4.0)\n",
    "print a_0, a_1"
   ]
  },
  {
   "cell_type": "code",
   "execution_count": null,
   "metadata": {
    "collapsed": false
   },
   "outputs": [],
   "source": [
    "X = tbl6[\"Teff\"]\n",
    "Y = tbl6[\"BCJ\"]\n",
    "p = np.poly1d([a_1, a_0]) # Input: \"The polynomial's coefficients, in decreasing powers\"\n",
    "print p\n",
    "Y_fit = p(X)\n",
    "print Y_fit.shape, X.shape"
   ]
  },
  {
   "cell_type": "code",
   "execution_count": null,
   "metadata": {
    "collapsed": false
   },
   "outputs": [],
   "source": [
    "plt.plot(X, Y, '.', label='Table 6')\n",
    "plt.plot(X, Y_fit, label='Fit from Table 10')\n",
    "plt.title(\"Pecault and Mamajek 2013\")\n",
    "plt.legend(loc='best')"
   ]
  },
  {
   "cell_type": "markdown",
   "metadata": {},
   "source": [
    "*Script finished.*"
   ]
  }
 ],
 "metadata": {
  "kernelspec": {
   "display_name": "Python 2",
   "language": "python",
   "name": "python2"
  },
  "language_info": {
   "codemirror_mode": {
    "name": "ipython",
    "version": 2
   },
   "file_extension": ".py",
   "mimetype": "text/x-python",
   "name": "python",
   "nbconvert_exporter": "python",
   "pygments_lexer": "ipython2",
   "version": "2.7.11"
  }
 },
 "nbformat": 4,
 "nbformat_minor": 0
}
