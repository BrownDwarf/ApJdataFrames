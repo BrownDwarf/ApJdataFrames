{
 "cells": [
  {
   "cell_type": "markdown",
   "metadata": {},
   "source": [
    "`ApJdataFrames` Pecault2013\n",
    "---\n",
    "`Title`: INTRINSIC COLORS, TEMPERATURES, AND BOLOMETRIC CORRECTIONS OF PRE-MAIN-SEQUENCE STARS  \n",
    "`Authors`: Mark J. Pecaut and Eric E. Mamajek\n",
    "\n",
    "Data is from this paper:  \n",
    "http://iopscience.iop.org/0067-0049/208/1/9/article"
   ]
  },
  {
   "cell_type": "code",
   "execution_count": 2,
   "metadata": {
    "collapsed": false
   },
   "outputs": [
    {
     "name": "stdout",
     "output_type": "stream",
     "text": [
      "Populating the interactive namespace from numpy and matplotlib\n"
     ]
    }
   ],
   "source": [
    "%pylab inline\n",
    "\n",
    "import seaborn as sns\n",
    "sns.set_context(\"notebook\", font_scale=1.5)\n",
    "\n",
    "import warnings\n",
    "warnings.filterwarnings(\"ignore\")"
   ]
  },
  {
   "cell_type": "code",
   "execution_count": 2,
   "metadata": {
    "collapsed": false
   },
   "outputs": [],
   "source": [
    "from astropy.io import ascii"
   ]
  },
  {
   "cell_type": "markdown",
   "metadata": {},
   "source": [
    "## Table 6 - Intrinsic Colors of 5–30 Myr Old Stars and Adopted Teff, Bolometric Correction Values"
   ]
  },
  {
   "cell_type": "code",
   "execution_count": 3,
   "metadata": {
    "collapsed": false
   },
   "outputs": [
    {
     "name": "stdout",
     "output_type": "stream",
     "text": [
      "Downloading http://iopscience.iop.org/0067-0049/208/1/9/suppdata/apjs480616t6_mrt.txt [Done]\n"
     ]
    }
   ],
   "source": [
    "tbl6 = ascii.read(\"http://iopscience.iop.org/0067-0049/208/1/9/suppdata/apjs480616t6_mrt.txt\")"
   ]
  },
  {
   "cell_type": "code",
   "execution_count": 4,
   "metadata": {
    "collapsed": false
   },
   "outputs": [
    {
     "data": {
      "text/plain": [
       "<TableColumns names=('SpType','Teff','B-V','V-Ic','V-Ks','J-H','H-Ks','Ks-W1','Ks-W2','Ks-W3','Ks-W4','BCV','BCJ')>"
      ]
     },
     "execution_count": 4,
     "metadata": {},
     "output_type": "execute_result"
    }
   ],
   "source": [
    "tbl6.columns"
   ]
  },
  {
   "cell_type": "code",
   "execution_count": 5,
   "metadata": {
    "collapsed": false
   },
   "outputs": [
    {
     "data": {
      "text/html": [
       "&lt;Table masked=True length=40&gt;\n",
       "<table id=\"table4625390160\">\n",
       "<thead><tr><th>SpType</th><th>Teff</th><th>BCJ</th></tr></thead>\n",
       "<thead><tr><th></th><th>K</th><th>mag</th></tr></thead>\n",
       "<thead><tr><th>string16</th><th>int64</th><th>float64</th></tr></thead>\n",
       "<tr><td>F0</td><td>7280</td><td>0.57</td></tr>\n",
       "<tr><td>F1</td><td>6990</td><td>0.68</td></tr>\n",
       "<tr><td>F2</td><td>6710</td><td>0.75</td></tr>\n",
       "<tr><td>F3</td><td>6660</td><td>0.76</td></tr>\n",
       "<tr><td>F4</td><td>6590</td><td>0.79</td></tr>\n",
       "<tr><td>F5</td><td>6420</td><td>0.85</td></tr>\n",
       "<tr><td>F6</td><td>6250</td><td>0.91</td></tr>\n",
       "<tr><td>F7</td><td>6140</td><td>0.95</td></tr>\n",
       "<tr><td>F8</td><td>6100</td><td>0.96</td></tr>\n",
       "<tr><td>...</td><td>...</td><td>...</td></tr>\n",
       "<tr><td>M0</td><td>3770</td><td>1.69</td></tr>\n",
       "<tr><td>M1</td><td>3630</td><td>1.74</td></tr>\n",
       "<tr><td>M2</td><td>3490</td><td>1.8</td></tr>\n",
       "<tr><td>M3</td><td>3360</td><td>1.84</td></tr>\n",
       "<tr><td>M4</td><td>3160</td><td>1.91</td></tr>\n",
       "<tr><td>M5</td><td>2880</td><td>2.01</td></tr>\n",
       "<tr><td>M6</td><td>--</td><td>--</td></tr>\n",
       "<tr><td>M7</td><td>--</td><td>--</td></tr>\n",
       "<tr><td>M8</td><td>--</td><td>--</td></tr>\n",
       "<tr><td>M9</td><td>--</td><td>--</td></tr>\n",
       "</table>"
      ],
      "text/plain": [
       "<Table masked=True length=40>\n",
       " SpType   Teff   BCJ  \n",
       "           K     mag  \n",
       "string16 int64 float64\n",
       "-------- ----- -------\n",
       "      F0  7280    0.57\n",
       "      F1  6990    0.68\n",
       "      F2  6710    0.75\n",
       "      F3  6660    0.76\n",
       "      F4  6590    0.79\n",
       "      F5  6420    0.85\n",
       "      F6  6250    0.91\n",
       "      F7  6140    0.95\n",
       "      F8  6100    0.96\n",
       "     ...   ...     ...\n",
       "      M0  3770    1.69\n",
       "      M1  3630    1.74\n",
       "      M2  3490     1.8\n",
       "      M3  3360    1.84\n",
       "      M4  3160    1.91\n",
       "      M5  2880    2.01\n",
       "      M6    --      --\n",
       "      M7    --      --\n",
       "      M8    --      --\n",
       "      M9    --      --"
      ]
     },
     "execution_count": 5,
     "metadata": {},
     "output_type": "execute_result"
    }
   ],
   "source": [
    "tbl6[[\"SpType\", \"Teff\", \"BCJ\"]]"
   ]
  },
  {
   "cell_type": "markdown",
   "metadata": {},
   "source": [
    "Boo! Their $BC_J$ does not go past M5!"
   ]
  },
  {
   "cell_type": "markdown",
   "metadata": {},
   "source": [
    "## Table 10 - T_eff, Bolometric Correction, and Bolometric Magnitude Polynomial Coefficients for 5-30 Myr Old Stars"
   ]
  },
  {
   "cell_type": "code",
   "execution_count": 6,
   "metadata": {
    "collapsed": false
   },
   "outputs": [],
   "source": [
    "import pandas as pd"
   ]
  },
  {
   "cell_type": "code",
   "execution_count": 7,
   "metadata": {
    "collapsed": false
   },
   "outputs": [
    {
     "data": {
      "text/html": [
       "<div style=\"max-height:1000px;max-width:1500px;overflow:auto;\">\n",
       "<table border=\"1\" class=\"dataframe\">\n",
       "  <thead>\n",
       "    <tr style=\"text-align: right;\">\n",
       "      <th></th>\n",
       "      <th>Y</th>\n",
       "      <th>X</th>\n",
       "      <th>Range</th>\n",
       "      <th>a_0</th>\n",
       "      <th>a_1</th>\n",
       "      <th>a_2</th>\n",
       "      <th>a_3</th>\n",
       "      <th>a_4</th>\n",
       "      <th>a_5</th>\n",
       "      <th>a_6</th>\n",
       "      <th>a_7</th>\n",
       "    </tr>\n",
       "  </thead>\n",
       "  <tbody>\n",
       "    <tr>\n",
       "      <th>0</th>\n",
       "      <td> T_eff</td>\n",
       "      <td> V - K_S</td>\n",
       "      <td> 1.0 &lt; V - K_S &lt; 6.7</td>\n",
       "      <td>   9.323430 x 10^3</td>\n",
       "      <td>  -3.516011 x 10^3</td>\n",
       "      <td>   1.046787 x 10^3</td>\n",
       "      <td> -1.863349 x 10^2</td>\n",
       "      <td>    1.641182 x 10^1</td>\n",
       "      <td> -5.188853 x 10^-1</td>\n",
       "      <td>               ... </td>\n",
       "      <td>              ... </td>\n",
       "    </tr>\n",
       "    <tr>\n",
       "      <th>1</th>\n",
       "      <td> T_eff</td>\n",
       "      <td>   V - J</td>\n",
       "      <td>   0.8 &lt; V - J &lt; 5.8</td>\n",
       "      <td>   9.593475 x 10^3</td>\n",
       "      <td>  -5.095204 x 10^3</td>\n",
       "      <td>   2.053259 x 10^3</td>\n",
       "      <td> -4.813940 x 10^2</td>\n",
       "      <td>    5.816754 x 10^1</td>\n",
       "      <td>  -2.779565 x 10^0</td>\n",
       "      <td>               ... </td>\n",
       "      <td>              ... </td>\n",
       "    </tr>\n",
       "    <tr>\n",
       "      <th>2</th>\n",
       "      <td>  BC_V</td>\n",
       "      <td> V - K_S</td>\n",
       "      <td> 1.0 &lt; V - K_S &lt; 6.7</td>\n",
       "      <td> -7.443324 x 10^-2</td>\n",
       "      <td>  2.471780 x 10^-1</td>\n",
       "      <td> -1.923234 x 10^-1</td>\n",
       "      <td> 1.318867 x 10^-2</td>\n",
       "      <td>  -3.630511 x 10^-4</td>\n",
       "      <td>              ... </td>\n",
       "      <td>               ... </td>\n",
       "      <td>              ... </td>\n",
       "    </tr>\n",
       "    <tr>\n",
       "      <th>3</th>\n",
       "      <td>  BC_V</td>\n",
       "      <td>   T_eff</td>\n",
       "      <td> 2750 &lt; T_eff &lt; 7350</td>\n",
       "      <td>  -2.855844 x 10^2</td>\n",
       "      <td>  3.832453 x 10^-1</td>\n",
       "      <td> -2.225832 x 10^-4</td>\n",
       "      <td> 7.150667 x 10^-8</td>\n",
       "      <td> -1.364193 x 10^-11</td>\n",
       "      <td> 1.542389 x 10^-15</td>\n",
       "      <td> -9.566224 x 10^-20</td>\n",
       "      <td> 2.511807 x 10^-24</td>\n",
       "    </tr>\n",
       "    <tr>\n",
       "      <th>4</th>\n",
       "      <td>  BC_J</td>\n",
       "      <td> V - K_S</td>\n",
       "      <td> 1.0 &lt; V - K_S &lt; 6.7</td>\n",
       "      <td> -4.805196 x 10^-1</td>\n",
       "      <td>   1.842350 x 10^0</td>\n",
       "      <td> -7.837156 x 10^-1</td>\n",
       "      <td> 1.859281 x 10^-1</td>\n",
       "      <td>  -2.153500 x 10^-2</td>\n",
       "      <td>  9.489583 x 10^-4</td>\n",
       "      <td>               ... </td>\n",
       "      <td>              ... </td>\n",
       "    </tr>\n",
       "    <tr>\n",
       "      <th>5</th>\n",
       "      <td>  BC_J</td>\n",
       "      <td>   V - J</td>\n",
       "      <td>   0.8 &lt; V - J &lt; 5.8</td>\n",
       "      <td> -4.557821 x 10^-1</td>\n",
       "      <td>   2.299875 x 10^0</td>\n",
       "      <td>  -1.191653 x 10^0</td>\n",
       "      <td> 3.442879 x 10^-1</td>\n",
       "      <td>  -4.932544 x 10^-2</td>\n",
       "      <td>  2.724400 x 10^-3</td>\n",
       "      <td>               ... </td>\n",
       "      <td>              ... </td>\n",
       "    </tr>\n",
       "    <tr>\n",
       "      <th>6</th>\n",
       "      <td>  BC_J</td>\n",
       "      <td>   T_eff</td>\n",
       "      <td> 2750 &lt; T_eff &lt; 6750</td>\n",
       "      <td>   2.920272 x 10^0</td>\n",
       "      <td> -3.220428 x 10^-4</td>\n",
       "      <td>              ... </td>\n",
       "      <td>             ... </td>\n",
       "      <td>               ... </td>\n",
       "      <td>              ... </td>\n",
       "      <td>               ... </td>\n",
       "      <td>              ... </td>\n",
       "    </tr>\n",
       "  </tbody>\n",
       "</table>\n",
       "</div>"
      ],
      "text/plain": [
       "       Y        X                Range                a_0                a_1  \\\n",
       "0  T_eff  V - K_S  1.0 < V - K_S < 6.7    9.323430 x 10^3   -3.516011 x 10^3   \n",
       "1  T_eff    V - J    0.8 < V - J < 5.8    9.593475 x 10^3   -5.095204 x 10^3   \n",
       "2   BC_V  V - K_S  1.0 < V - K_S < 6.7  -7.443324 x 10^-2   2.471780 x 10^-1   \n",
       "3   BC_V    T_eff  2750 < T_eff < 7350   -2.855844 x 10^2   3.832453 x 10^-1   \n",
       "4   BC_J  V - K_S  1.0 < V - K_S < 6.7  -4.805196 x 10^-1    1.842350 x 10^0   \n",
       "5   BC_J    V - J    0.8 < V - J < 5.8  -4.557821 x 10^-1    2.299875 x 10^0   \n",
       "6   BC_J    T_eff  2750 < T_eff < 6750    2.920272 x 10^0  -3.220428 x 10^-4   \n",
       "\n",
       "                 a_2               a_3                 a_4                a_5  \\\n",
       "0    1.046787 x 10^3  -1.863349 x 10^2     1.641182 x 10^1  -5.188853 x 10^-1   \n",
       "1    2.053259 x 10^3  -4.813940 x 10^2     5.816754 x 10^1   -2.779565 x 10^0   \n",
       "2  -1.923234 x 10^-1  1.318867 x 10^-2   -3.630511 x 10^-4               ...    \n",
       "3  -2.225832 x 10^-4  7.150667 x 10^-8  -1.364193 x 10^-11  1.542389 x 10^-15   \n",
       "4  -7.837156 x 10^-1  1.859281 x 10^-1   -2.153500 x 10^-2   9.489583 x 10^-4   \n",
       "5   -1.191653 x 10^0  3.442879 x 10^-1   -4.932544 x 10^-2   2.724400 x 10^-3   \n",
       "6               ...               ...                 ...                ...    \n",
       "\n",
       "                  a_6                a_7  \n",
       "0                ...                ...   \n",
       "1                ...                ...   \n",
       "2                ...                ...   \n",
       "3  -9.566224 x 10^-20  2.511807 x 10^-24  \n",
       "4                ...                ...   \n",
       "5                ...                ...   \n",
       "6                ...                ...   "
      ]
     },
     "execution_count": 7,
     "metadata": {},
     "output_type": "execute_result"
    }
   ],
   "source": [
    "tbl10 = pd.read_csv(\"http://iopscience.iop.org/0067-0049/208/1/9/suppdata/apjs480616t10_ascii.txt\", skip_footer=1,\n",
    "                    skiprows=[0,1,2], header=0, sep='\\t', na_values='\\ldots')\n",
    "del tbl10[\"Unnamed: 11\"]\n",
    "tbl10"
   ]
  },
  {
   "cell_type": "markdown",
   "metadata": {},
   "source": [
    "The coefficients are:  \n",
    "$Y = a_0 + a_1X$"
   ]
  },
  {
   "cell_type": "code",
   "execution_count": 8,
   "metadata": {
    "collapsed": false
   },
   "outputs": [
    {
     "name": "stdout",
     "output_type": "stream",
     "text": [
      "2.920272 -0.0003220428\n"
     ]
    }
   ],
   "source": [
    "a_0 = np.float(tbl10.get_value(6, \"a_0\")[0:8])*10**(0.0)\n",
    "a_1 = np.float(tbl10.get_value(6, \"a_1\")[0:9])*10**(-4.0)\n",
    "print a_0, a_1"
   ]
  },
  {
   "cell_type": "code",
   "execution_count": 9,
   "metadata": {
    "collapsed": false
   },
   "outputs": [
    {
     "name": "stdout",
     "output_type": "stream",
     "text": [
      " \n",
      "-0.000322 x + 2.92\n",
      "(40,) (40,)\n"
     ]
    }
   ],
   "source": [
    "X = tbl6[\"Teff\"]\n",
    "Y = tbl6[\"BCJ\"]\n",
    "p = np.poly1d([a_1, a_0]) # Input: \"The polynomial's coefficients, in decreasing powers\"\n",
    "print p\n",
    "Y_fit = p(X)\n",
    "print Y_fit.shape, X.shape"
   ]
  },
  {
   "cell_type": "code",
   "execution_count": 10,
   "metadata": {
    "collapsed": false
   },
   "outputs": [
    {
     "data": {
      "text/plain": [
       "<matplotlib.legend.Legend at 0x11412cd10>"
      ]
     },
     "execution_count": 10,
     "metadata": {},
     "output_type": "execute_result"
    },
    {
     "data": {
      "image/png": "[encoded data removed]",
      "text/plain": [
       "<matplotlib.figure.Figure at 0x113b1d5d0>"
      ]
     },
     "metadata": {},
     "output_type": "display_data"
    }
   ],
   "source": [
    "plt.plot(X, Y, '.', label='Table 6')\n",
    "plt.plot(X, Y_fit, label='Fit from Table 10')\n",
    "plt.title(\"Pecault and Mamajek 2013\")\n",
    "plt.legend(loc='best')"
   ]
  },
  {
   "cell_type": "markdown",
   "metadata": {},
   "source": [
    "*Script finished.*"
   ]
  }
 ],
 "metadata": {
  "kernelspec": {
   "display_name": "Python 2",
   "language": "python",
   "name": "python2"
  },
  "language_info": {
   "codemirror_mode": {
    "name": "ipython",
    "version": 2
   },
   "file_extension": ".py",
   "mimetype": "text/x-python",
   "name": "python",
   "nbconvert_exporter": "python",
   "pygments_lexer": "ipython2",
   "version": "2.7.9"
  }
 },
 "nbformat": 4,
 "nbformat_minor": 0
}
