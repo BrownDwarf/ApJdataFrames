{
 "metadata": {
  "name": "",
  "signature": "sha256:42c24944b263c21da31c9a8b7914030080aecc32da6f727bce42df1fffcd1065"
 },
 "nbformat": 3,
 "nbformat_minor": 0,
 "worksheets": [
  {
   "cells": [
    {
     "cell_type": "markdown",
     "metadata": {},
     "source": [
      "`ApJdataFrames` Scholz2012\n",
      "---\n",
      "`Title`: SUBSTELLAR OBJECTS IN NEARBY YOUNG CLUSTERS (SONYC). VI. THE PLANETARY-MASS DOMAIN OF NGC 1333  \n",
      "`Authors`: Alexander Scholz et al.\n",
      "\n",
      "Data is from this paper:  \n",
      "http://iopscience.iop.org/0004-637X/702/1/805/"
     ]
    },
    {
     "cell_type": "code",
     "collapsed": false,
     "input": [
      "%pylab inline\n",
      "\n",
      "import seaborn as sns\n",
      "sns.set_context(\"notebook\", font_scale=1.5)\n",
      "\n",
      "#import warnings\n",
      "#warnings.filterwarnings(\"ignore\")"
     ],
     "language": "python",
     "metadata": {},
     "outputs": [
      {
       "output_type": "stream",
       "stream": "stdout",
       "text": [
        "Populating the interactive namespace from numpy and matplotlib\n"
       ]
      }
     ],
     "prompt_number": 1
    },
    {
     "cell_type": "code",
     "collapsed": false,
     "input": [
      "import pandas as pd"
     ],
     "language": "python",
     "metadata": {},
     "outputs": [],
     "prompt_number": 2
    },
    {
     "cell_type": "markdown",
     "metadata": {},
     "source": [
      "## Table 1 - New Very Low Mass Members of NGC 1333"
     ]
    },
    {
     "cell_type": "markdown",
     "metadata": {},
     "source": [
      "Internet is still not working"
     ]
    },
    {
     "cell_type": "code",
     "collapsed": false,
     "input": [
      "tbl1 = pd.read_clipboard(#\"http://iopscience.iop.org/0004-637X/756/1/24/suppdata/apj437811t1_ascii.txt\",\n",
      "                   sep='\\t', skiprows=[0,1,2,4], skipfooter=3, engine='python', usecols=range(10))\n",
      "tbl1"
     ],
     "language": "python",
     "metadata": {},
     "outputs": [
      {
       "html": [
        "<div style=\"max-height:1000px;max-width:1500px;overflow:auto;\">\n",
        "<table border=\"1\" class=\"dataframe\">\n",
        "  <thead>\n",
        "    <tr style=\"text-align: right;\">\n",
        "      <th></th>\n",
        "      <th>ID</th>\n",
        "      <th>alpha(J2000)</th>\n",
        "      <th>delta(J2000)</th>\n",
        "      <th>J</th>\n",
        "      <th>K</th>\n",
        "      <th>SpT</th>\n",
        "      <th>A_V</th>\n",
        "      <th>A_V.1</th>\n",
        "      <th>T_eff</th>\n",
        "      <th>Comments</th>\n",
        "    </tr>\n",
        "  </thead>\n",
        "  <tbody>\n",
        "    <tr>\n",
        "      <th>0</th>\n",
        "      <td> 39</td>\n",
        "      <td> 03:28:54.96</td>\n",
        "      <td> +31:18:15.3</td>\n",
        "      <td> 16.881</td>\n",
        "      <td> 13.155</td>\n",
        "      <td> M8.5</td>\n",
        "      <td> 15</td>\n",
        "      <td> 17</td>\n",
        "      <td> 2900</td>\n",
        "      <td>     IZ</td>\n",
        "    </tr>\n",
        "    <tr>\n",
        "      <th>1</th>\n",
        "      <td> 40</td>\n",
        "      <td> 03:29:02.80</td>\n",
        "      <td> +31:22:17.3</td>\n",
        "      <td> 16.959</td>\n",
        "      <td> 13.423</td>\n",
        "      <td> M9.3</td>\n",
        "      <td> 14</td>\n",
        "      <td> 15</td>\n",
        "      <td> 2700</td>\n",
        "      <td>    JKS</td>\n",
        "    </tr>\n",
        "    <tr>\n",
        "      <th>2</th>\n",
        "      <td> 41</td>\n",
        "      <td> 03:29:04.63</td>\n",
        "      <td> +31:20:28.9</td>\n",
        "      <td> 17.647</td>\n",
        "      <td> 13.892</td>\n",
        "      <td> M7.6</td>\n",
        "      <td> 15</td>\n",
        "      <td> 18</td>\n",
        "      <td> 3100</td>\n",
        "      <td>    JKS</td>\n",
        "    </tr>\n",
        "    <tr>\n",
        "      <th>3</th>\n",
        "      <td> 42</td>\n",
        "      <td> 03:29:13.85</td>\n",
        "      <td> +31:18:05.7</td>\n",
        "      <td> 19.252</td>\n",
        "      <td> 17.540</td>\n",
        "      <td>   L1</td>\n",
        "      <td>  4</td>\n",
        "      <td>  4</td>\n",
        "      <td> 2400</td>\n",
        "      <td>   IZ^a</td>\n",
        "    </tr>\n",
        "    <tr>\n",
        "      <th>4</th>\n",
        "      <td> 43</td>\n",
        "      <td> 03:29:21.94</td>\n",
        "      <td> +31:18:29.2</td>\n",
        "      <td> 18.728</td>\n",
        "      <td> 17.128</td>\n",
        "      <td> M8.1</td>\n",
        "      <td>  3</td>\n",
        "      <td>  5</td>\n",
        "      <td> 2900</td>\n",
        "      <td>     IZ</td>\n",
        "    </tr>\n",
        "    <tr>\n",
        "      <th>5</th>\n",
        "      <td> 44</td>\n",
        "      <td> 03:28:57.04</td>\n",
        "      <td> +31:16:48.7</td>\n",
        "      <td>   ... </td>\n",
        "      <td> 15.590</td>\n",
        "      <td> M8.6</td>\n",
        "      <td>NaN</td>\n",
        "      <td>  4</td>\n",
        "      <td> 2800</td>\n",
        "      <td> Random</td>\n",
        "    </tr>\n",
        "    <tr>\n",
        "      <th>6</th>\n",
        "      <td> 45</td>\n",
        "      <td> 03:29:13.04</td>\n",
        "      <td> +31:17:38.3</td>\n",
        "      <td>  15.23</td>\n",
        "      <td> 14.160</td>\n",
        "      <td> M8.1</td>\n",
        "      <td>  0</td>\n",
        "      <td>  2</td>\n",
        "      <td> 2900</td>\n",
        "      <td> Random</td>\n",
        "    </tr>\n",
        "  </tbody>\n",
        "</table>\n",
        "</div>"
       ],
       "metadata": {},
       "output_type": "pyout",
       "prompt_number": 8,
       "text": [
        "   ID alpha(J2000) delta(J2000)       J       K   SpT  A_V  A_V.1  T_eff  \\\n",
        "0  39  03:28:54.96  +31:18:15.3  16.881  13.155  M8.5   15     17   2900   \n",
        "1  40  03:29:02.80  +31:22:17.3  16.959  13.423  M9.3   14     15   2700   \n",
        "2  41  03:29:04.63  +31:20:28.9  17.647  13.892  M7.6   15     18   3100   \n",
        "3  42  03:29:13.85  +31:18:05.7  19.252  17.540    L1    4      4   2400   \n",
        "4  43  03:29:21.94  +31:18:29.2  18.728  17.128  M8.1    3      5   2900   \n",
        "5  44  03:28:57.04  +31:16:48.7    ...   15.590  M8.6  NaN      4   2800   \n",
        "6  45  03:29:13.04  +31:17:38.3   15.23  14.160  M8.1    0      2   2900   \n",
        "\n",
        "  Comments  \n",
        "0       IZ  \n",
        "1      JKS  \n",
        "2      JKS  \n",
        "3     IZ^a  \n",
        "4       IZ  \n",
        "5   Random  \n",
        "6   Random  "
       ]
      }
     ],
     "prompt_number": 8
    },
    {
     "cell_type": "code",
     "collapsed": false,
     "input": [
      "! mkdir ../data/Scholz2012"
     ],
     "language": "python",
     "metadata": {},
     "outputs": [],
     "prompt_number": 9
    },
    {
     "cell_type": "code",
     "collapsed": false,
     "input": [
      "tbl1.to_csv(\"../data/Scholz2012/tbl1.csv\", index=False)"
     ],
     "language": "python",
     "metadata": {},
     "outputs": [],
     "prompt_number": 10
    },
    {
     "cell_type": "markdown",
     "metadata": {},
     "source": [
      "*Script finished.*"
     ]
    }
   ],
   "metadata": {}
  }
 ]
}