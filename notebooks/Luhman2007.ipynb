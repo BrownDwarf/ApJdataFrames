{
 "metadata": {
  "name": "",
  "signature": "sha256:d9df10ea9ed9d43dc782ddd7ac1fd9939e35b6709aed6c20dca58c4e2232250f"
 },
 "nbformat": 3,
 "nbformat_minor": 0,
 "worksheets": [
  {
   "cells": [
    {
     "cell_type": "markdown",
     "metadata": {},
     "source": [
      "`ApJdataFrames` 010: Luhman2007\n",
      "---\n",
      "`Title`: The Stellar Population of the Chamaeleon I Star-forming Region  \n",
      "`Authors`: Kevin L Luhman\n",
      "\n",
      "Data is from this paper:  \n",
      "http://iopscience.iop.org/0067-0049/173/1/104/fulltext/71585.tables.html"
     ]
    },
    {
     "cell_type": "code",
     "collapsed": false,
     "input": [
      "%pylab inline\n",
      "import seaborn as sns"
     ],
     "language": "python",
     "metadata": {},
     "outputs": [
      {
       "output_type": "stream",
       "stream": "stdout",
       "text": [
        "Populating the interactive namespace from numpy and matplotlib\n"
       ]
      }
     ],
     "prompt_number": 1
    },
    {
     "cell_type": "code",
     "collapsed": false,
     "input": [
      "import pandas as pd"
     ],
     "language": "python",
     "metadata": {},
     "outputs": [],
     "prompt_number": 2
    },
    {
     "cell_type": "markdown",
     "metadata": {},
     "source": [
      "## Table 6 - Derived Properties for Members of Chamaeleon I"
     ]
    },
    {
     "cell_type": "code",
     "collapsed": false,
     "input": [
      "names = [\"Name_2MASS\",\"Name_alt\",\"Spectral_Type\",\"T_eff\",\"AJ\",\"L_bol\",\"IMF\"]\n",
      "\n",
      "tbl6 = pd.read_csv(\"http://iopscience.iop.org/0067-0049/173/1/104/fulltext/71585.tb6.txt\", \n",
      "                   sep='\\t', names=names, na_values='\\ldots')\n",
      "tbl6.head()"
     ],
     "language": "python",
     "metadata": {},
     "outputs": [
      {
       "html": [
        "<div style=\"max-height:1000px;max-width:1500px;overflow:auto;\">\n",
        "<table border=\"1\" class=\"dataframe\">\n",
        "  <thead>\n",
        "    <tr style=\"text-align: right;\">\n",
        "      <th></th>\n",
        "      <th>Name_2MASS</th>\n",
        "      <th>Name_alt</th>\n",
        "      <th>Spectral_Type</th>\n",
        "      <th>T_eff</th>\n",
        "      <th>AJ</th>\n",
        "      <th>L_bol</th>\n",
        "      <th>IMF</th>\n",
        "    </tr>\n",
        "  </thead>\n",
        "  <tbody>\n",
        "    <tr>\n",
        "      <th>0</th>\n",
        "      <td> J10463795-7736035</td>\n",
        "      <td>        HD 93828</td>\n",
        "      <td>    F0</td>\n",
        "      <td> 7200</td>\n",
        "      <td> 0.00</td>\n",
        "      <td> 8.900</td>\n",
        "      <td> NaN</td>\n",
        "    </tr>\n",
        "    <tr>\n",
        "      <th>1</th>\n",
        "      <td> J10523694-7440287</td>\n",
        "      <td>             NaN</td>\n",
        "      <td> M4.75</td>\n",
        "      <td> 3161</td>\n",
        "      <td> 0.18</td>\n",
        "      <td> 0.100</td>\n",
        "      <td> NaN</td>\n",
        "    </tr>\n",
        "    <tr>\n",
        "      <th>2</th>\n",
        "      <td> J10550964-7730540</td>\n",
        "      <td> ESO H\\alpha 552</td>\n",
        "      <td>  M4.5</td>\n",
        "      <td> 3198</td>\n",
        "      <td> 0.34</td>\n",
        "      <td> 0.083</td>\n",
        "      <td> NaN</td>\n",
        "    </tr>\n",
        "    <tr>\n",
        "      <th>3</th>\n",
        "      <td>               NaN</td>\n",
        "      <td>             T3B</td>\n",
        "      <td>  M3.5</td>\n",
        "      <td> 3342</td>\n",
        "      <td> 0.00</td>\n",
        "      <td> 0.040</td>\n",
        "      <td> NaN</td>\n",
        "    </tr>\n",
        "    <tr>\n",
        "      <th>4</th>\n",
        "      <td> J10555973-7724399</td>\n",
        "      <td>             T3A</td>\n",
        "      <td>    M0</td>\n",
        "      <td> 3850</td>\n",
        "      <td> 0.79</td>\n",
        "      <td> 0.420</td>\n",
        "      <td> NaN</td>\n",
        "    </tr>\n",
        "  </tbody>\n",
        "</table>\n",
        "</div>"
       ],
       "metadata": {},
       "output_type": "pyout",
       "prompt_number": 3,
       "text": [
        "          Name_2MASS         Name_alt Spectral_Type T_eff    AJ  L_bol  IMF\n",
        "0  J10463795-7736035         HD 93828            F0  7200  0.00  8.900  NaN\n",
        "1  J10523694-7440287              NaN         M4.75  3161  0.18  0.100  NaN\n",
        "2  J10550964-7730540  ESO H\\alpha 552          M4.5  3198  0.34  0.083  NaN\n",
        "3                NaN              T3B          M3.5  3342  0.00  0.040  NaN\n",
        "4  J10555973-7724399              T3A            M0  3850  0.79  0.420  NaN"
       ]
      }
     ],
     "prompt_number": 3
    },
    {
     "cell_type": "code",
     "collapsed": false,
     "input": [
      "upper_limits = (tbl6.T_eff == \"\\\\leq 2400\")\n",
      "measurements = ~upper_limits\n",
      "print \"There are {} upper limits and {} measurements\".format(upper_limits.sum(), measurements.sum())"
     ],
     "language": "python",
     "metadata": {},
     "outputs": [
      {
       "output_type": "stream",
       "stream": "stdout",
       "text": [
        "There are 5 upper limits and 210 measurements\n"
       ]
      }
     ],
     "prompt_number": 4
    },
    {
     "cell_type": "code",
     "collapsed": false,
     "input": [
      "sns.set_context(\"notebook\", font_scale=1.5)"
     ],
     "language": "python",
     "metadata": {},
     "outputs": [],
     "prompt_number": 5
    },
    {
     "cell_type": "code",
     "collapsed": false,
     "input": [
      "plt.plot(tbl6.T_eff[measurements], tbl6.L_bol[measurements], '.')\n",
      "#plt.errorbar([2400.0]*upper_limits.sum(), tbl6.L_bol[upper_limits], xerr=0.0001, yerr=None, xlolims=True)\n",
      "\n",
      "plt.ylabel(r\"$L/L_{sun}$\")\n",
      "plt.xlabel(r\"$T_{eff} (K)$\")\n",
      "plt.yscale(\"log\")\n",
      "plt.title(\"Luhman 2007 Chamaeleon I Members\")\n",
      "plt.xlim(5000,2000)"
     ],
     "language": "python",
     "metadata": {},
     "outputs": [
      {
       "metadata": {},
       "output_type": "pyout",
       "prompt_number": 6,
       "text": [
        "(5000, 2000)"
       ]
      },
      {
       "metadata": {},
       "output_type": "display_data",
       "png": "[encoded data removed]",
       "text": [
        "<matplotlib.figure.Figure at 0x1124a2b50>"
       ]
      }
     ],
     "prompt_number": 6
    },
    {
     "cell_type": "markdown",
     "metadata": {},
     "source": [
      "# Custom analysis\n",
      "\n",
      "1. Cross-match with Simbad\n",
      "    - Retrieve UBVRIJHKLM, IRAC, MIPS, IRAS phototometry\n",
      "    - Retrieve spectral type and spectral type reference.\n",
      "    - Retrieve coordinates\n",
      "    - Calculate match difference in coordinates, when possible\n",
      "2. Convert spectral type to numbers"
     ]
    },
    {
     "cell_type": "markdown",
     "metadata": {},
     "source": [
      "## Cross-match with Simbad"
     ]
    },
    {
     "cell_type": "code",
     "collapsed": false,
     "input": [
      "from astroquery.simbad import Simbad\n",
      "import astropy.coordinates as coord\n",
      "import astropy.units as u"
     ],
     "language": "python",
     "metadata": {},
     "outputs": [
      {
       "output_type": "stream",
       "stream": "stderr",
       "text": [
        "WARNING: AstropyDeprecationWarning: Config parameter 'name_resolve_timeout' in section [coordinates.name_resolve] of the file '/Users/gully/.astropy/config/astropy.cfg' is deprecated. Use 'remote_timeout' in section [utils.data] instead. [astropy.config.configuration]\n",
        "WARNING:astropy:AstropyDeprecationWarning: Config parameter 'name_resolve_timeout' in section [coordinates.name_resolve] of the file '/Users/gully/.astropy/config/astropy.cfg' is deprecated. Use 'remote_timeout' in section [utils.data] instead.\n"
       ]
      },
      {
       "output_type": "stream",
       "stream": "stderr",
       "text": [
        "WARNING: AstropyDeprecationWarning: Config parameter 'remote_timeout' in section [utils.data] of the file '/Users/gully/.astropy/config/astropy.cfg' is given by more than one alias (astropy.utils.data.remote_timeout, coordinates.name_resolve.name_resolve_timeout). Using the first. [astropy.config.configuration]\n",
        "WARNING:astropy:AstropyDeprecationWarning: Config parameter 'remote_timeout' in section [utils.data] of the file '/Users/gully/.astropy/config/astropy.cfg' is given by more than one alias (astropy.utils.data.remote_timeout, coordinates.name_resolve.name_resolve_timeout). Using the first.\n"
       ]
      }
     ],
     "prompt_number": 7
    },
    {
     "cell_type": "code",
     "collapsed": false,
     "input": [
      "customSimbad = Simbad()\n",
      "customSimbad.add_votable_fields('otype', 'id', 'sptype')"
     ],
     "language": "python",
     "metadata": {},
     "outputs": [],
     "prompt_number": 31
    },
    {
     "cell_type": "code",
     "collapsed": false,
     "input": [
      "query_list = '2MASS'+tbl6.Name_2MASS.dropna().values"
     ],
     "language": "python",
     "metadata": {},
     "outputs": [],
     "prompt_number": 32
    },
    {
     "cell_type": "code",
     "collapsed": false,
     "input": [
      "result = customSimbad.query_objects(query_list, verbose=True)"
     ],
     "language": "python",
     "metadata": {},
     "outputs": [],
     "prompt_number": 33
    },
    {
     "cell_type": "code",
     "collapsed": false,
     "input": [
      "print \"There were {} sources queried, and {} sources found.\".format(len(query_list), len(result))\n",
      "if len(query_list) == len(result):\n",
      "    print \"Hooray!  Everything matched\"\n",
      "else:\n",
      "    print \"Which ones were not found?\""
     ],
     "language": "python",
     "metadata": {},
     "outputs": [
      {
       "output_type": "stream",
       "stream": "stdout",
       "text": [
        "There were 204 sources queried, and 204 sources found.\n",
        "Hooray!  Everything matched\n"
       ]
      }
     ],
     "prompt_number": 35
    },
    {
     "cell_type": "code",
     "collapsed": false,
     "input": [
      "result[0:2]"
     ],
     "language": "python",
     "metadata": {},
     "outputs": [
      {
       "html": [
        "&lt;Table masked=True length=2&gt;\n",
        "<table id=\"table4653872016\">\n",
        "<thead><tr><th>MAIN_ID</th><th>RA</th><th>DEC</th><th>RA_PREC</th><th>DEC_PREC</th><th>COO_ERR_MAJA</th><th>COO_ERR_MINA</th><th>COO_ERR_ANGLE</th><th>COO_QUAL</th><th>COO_WAVELENGTH</th><th>COO_BIBCODE</th><th>OTYPE</th><th>ID</th><th>SP_TYPE</th><th>SP_QUAL</th><th>SP_NATURE</th><th>SP_BIBCODE</th></tr></thead>\n",
        "<thead><tr><th></th><th>&quot;h:m:s&quot;</th><th>&quot;d:m:s&quot;</th><th></th><th></th><th>mas</th><th>mas</th><th>deg</th><th></th><th></th><th></th><th></th><th></th><th></th><th></th><th></th><th></th></tr></thead>\n",
        "<thead><tr><th>object</th><th>string104</th><th>string104</th><th>int16</th><th>int16</th><th>float32</th><th>float32</th><th>int16</th><th>string8</th><th>string8</th><th>object</th><th>object</th><th>object</th><th>object</th><th>string8</th><th>string8</th><th>object</th></tr></thead>\n",
        "<tr><td>HD  93828</td><td>10 46 37.9076</td><td>-77 36 03.585</td><td>9</td><td>9</td><td>8.710</td><td>7.390</td><td>90</td><td>A</td><td>O</td><td>2007A&amp;A...474..653V</td><td>Star</td><td></td><td>F0V</td><td>C</td><td></td><td>1975MSS...C01....0H</td></tr>\n",
        "<tr><td>2MASS J10523694-7440287</td><td>10 52 36.943</td><td>-74 40 28.78</td><td>7</td><td>7</td><td>70.000</td><td>60.000</td><td>0</td><td>B</td><td>I</td><td>2003yCat.2246....0C</td><td>YSO</td><td></td><td>M4.75</td><td>D</td><td></td><td>2007ApJS..173..104L</td></tr>\n",
        "</table>"
       ],
       "metadata": {},
       "output_type": "pyout",
       "prompt_number": 36,
       "text": [
        "<Table masked=True length=2>\n",
        "        MAIN_ID               RA      ... SP_NATURE      SP_BIBCODE    \n",
        "                           \"h:m:s\"    ...                              \n",
        "         object           string104   ...  string8         object      \n",
        "----------------------- ------------- ... --------- -------------------\n",
        "              HD  93828 10 46 37.9076 ...           1975MSS...C01....0H\n",
        "2MASS J10523694-7440287  10 52 36.943 ...           2007ApJS..173..104L"
       ]
      }
     ],
     "prompt_number": 36
    },
    {
     "cell_type": "code",
     "collapsed": false,
     "input": [],
     "language": "python",
     "metadata": {},
     "outputs": []
    },
    {
     "cell_type": "markdown",
     "metadata": {},
     "source": [
      "**The end.**"
     ]
    }
   ],
   "metadata": {}
  }
 ]
}