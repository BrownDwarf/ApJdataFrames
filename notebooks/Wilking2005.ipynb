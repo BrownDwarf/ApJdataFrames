{
 "cells": [
  {
   "cell_type": "markdown",
   "metadata": {},
   "source": [
    "`ApJdataFrames` Wilking2005\n",
    "---\n",
    "`Title`: Optical Spectroscopy of the Surface Population of the ρ Ophiuchi Molecular Cloud: The First Wave of Star Formation  \n",
    "`Authors`: Wilking et al.\n",
    "\n",
    "Data is from this paper:  \n",
    "http://iopscience.iop.org/1538-3881/130/4/1733/fulltext/"
   ]
  },
  {
   "cell_type": "code",
   "execution_count": 1,
   "metadata": {
    "collapsed": false
   },
   "outputs": [],
   "source": [
    "import warnings\n",
    "warnings.filterwarnings(\"ignore\")"
   ]
  },
  {
   "cell_type": "code",
   "execution_count": 2,
   "metadata": {
    "collapsed": false
   },
   "outputs": [],
   "source": [
    "from astropy.io import ascii"
   ]
  },
  {
   "cell_type": "code",
   "execution_count": 3,
   "metadata": {
    "collapsed": true
   },
   "outputs": [],
   "source": [
    "import pandas as pd"
   ]
  },
  {
   "cell_type": "markdown",
   "metadata": {},
   "source": [
    "## Table 2 - Optical Properties of Candidate T Tauri Stars"
   ]
  },
  {
   "cell_type": "code",
   "execution_count": 4,
   "metadata": {
    "collapsed": false
   },
   "outputs": [
    {
     "name": "stdout",
     "output_type": "stream",
     "text": [
      "Downloading http://iopscience.iop.org/1538-3881/130/4/1733/fulltext/datafile2.txt [Done]\n"
     ]
    },
    {
     "data": {
      "text/html": [
       "&lt;Table masked=True length=3&gt;\n",
       "<table id=\"table4567624144\">\n",
       "<thead><tr><th>Field</th><th>Aper</th><th>Name</th><th>ID</th><th>RAh</th><th>RAm</th><th>RAs</th><th>DE-</th><th>DEd</th><th>DEm</th><th>DEs</th><th>CaH</th><th>TiO</th><th>EW-Li</th><th>P-EW-Ha</th><th>EW-Ha</th><th>Imag</th><th>R-I</th><th>P-SpType</th><th>SpType</th><th>A-SpType</th><th>Note</th></tr></thead>\n",
       "<thead><tr><th></th><th></th><th></th><th></th><th>h</th><th>min</th><th>s</th><th></th><th>deg</th><th>arcmin</th><th>arcsec</th><th></th><th></th><th>0.1 nm</th><th>0.1 nm</th><th>0.1 nm</th><th>mag</th><th>mag</th><th></th><th></th><th></th><th></th></tr></thead>\n",
       "<thead><tr><th>int64</th><th>int64</th><th>string104</th><th>string112</th><th>int64</th><th>int64</th><th>float64</th><th>string8</th><th>int64</th><th>int64</th><th>float64</th><th>float64</th><th>float64</th><th>string32</th><th>string56</th><th>float64</th><th>float64</th><th>float64</th><th>string144</th><th>string64</th><th>string64</th><th>string112</th></tr></thead>\n",
       "<tr><td>2</td><td>15</td><td>--</td><td>--</td><td>16</td><td>24</td><td>57.3</td><td>-</td><td>24</td><td>11</td><td>23.4</td><td>1.1</td><td>2.09</td><td>yes</td><td>--</td><td>2.8</td><td>13.71</td><td>1.92</td><td>--</td><td>M3-4</td><td>M3.5</td><td>--</td></tr>\n",
       "<tr><td>2</td><td>22</td><td>--</td><td>--</td><td>16</td><td>25</td><td>1.5</td><td>-</td><td>24</td><td>28</td><td>58.1</td><td>1.01</td><td>4.19</td><td>--</td><td>--</td><td>-0.1</td><td>13.85</td><td>2.42</td><td>--</td><td>M5</td><td>M5III</td><td>giant</td></tr>\n",
       "<tr><td>2</td><td>14</td><td>--</td><td>--</td><td>16</td><td>25</td><td>24.1</td><td>-</td><td>23</td><td>56</td><td>56.4</td><td>1.27</td><td>2.54</td><td>--</td><td>--</td><td>1.5</td><td>15.15</td><td>1.7</td><td>--</td><td>M2-4</td><td>M3</td><td>dwarf?</td></tr>\n",
       "</table>"
      ],
      "text/plain": [
       "<Table masked=True length=3>\n",
       "Field  Aper    Name       ID     RAh  ...  P-SpType  SpType  A-SpType    Note  \n",
       "                                  h   ...                                      \n",
       "int64 int64 string104 string112 int64 ... string144 string64 string64 string112\n",
       "----- ----- --------- --------- ----- ... --------- -------- -------- ---------\n",
       "    2    15        --        --    16 ...        --     M3-4     M3.5        --\n",
       "    2    22        --        --    16 ...        --       M5    M5III     giant\n",
       "    2    14        --        --    16 ...        --     M2-4       M3    dwarf?"
      ]
     },
     "execution_count": 4,
     "metadata": {},
     "output_type": "execute_result"
    }
   ],
   "source": [
    "tbl2_vo = ascii.read(\"http://iopscience.iop.org/1538-3881/130/4/1733/fulltext/datafile2.txt\")\n",
    "tbl2_vo[0:3]"
   ]
  },
  {
   "cell_type": "markdown",
   "metadata": {},
   "source": [
    "##Table 4- Association Members"
   ]
  },
  {
   "cell_type": "code",
   "execution_count": 5,
   "metadata": {
    "collapsed": false,
    "scrolled": true
   },
   "outputs": [
    {
     "name": "stdout",
     "output_type": "stream",
     "text": [
      "Downloading http://iopscience.iop.org/1538-3881/130/4/1733/fulltext/datafile4.txt [Done]\n"
     ]
    },
    {
     "data": {
      "text/html": [
       "&lt;Table masked=True length=4&gt;\n",
       "<table id=\"table4567546128\">\n",
       "<thead><tr><th>Field</th><th>Aper</th><th>Name</th><th>AV</th><th>f_AV</th><th>IMag</th><th>LogT</th><th>LogL</th><th>f_LogL</th><th>l_Mass</th><th>Mass</th><th>l_LogA</th><th>LogA</th><th>Note</th></tr></thead>\n",
       "<thead><tr><th></th><th></th><th></th><th>mag</th><th></th><th>mag</th><th>[K]</th><th>[solLum]</th><th></th><th></th><th>solMass</th><th></th><th>[Myr]</th><th></th></tr></thead>\n",
       "<thead><tr><th>int64</th><th>int64</th><th>string64</th><th>float64</th><th>string8</th><th>float64</th><th>float64</th><th>float64</th><th>string8</th><th>string8</th><th>float64</th><th>string8</th><th>float64</th><th>string88</th></tr></thead>\n",
       "<tr><td>2</td><td>15</td><td>--</td><td>2.6</td><td>--</td><td>6.26</td><td>3.512</td><td>-0.76</td><td>--</td><td>--</td><td>0.19</td><td>--</td><td>6.09</td><td>li,ext</td></tr>\n",
       "<tr><td>2</td><td>14</td><td>--</td><td>2.1</td><td>--</td><td>8.03</td><td>3.525</td><td>-1.5</td><td>--</td><td>--</td><td>0.27</td><td>--</td><td>7.28</td><td>ext</td></tr>\n",
       "<tr><td>2</td><td>10</td><td>--</td><td>0.8</td><td>--</td><td>8.13</td><td>3.477</td><td>-1.38</td><td>--</td><td>--</td><td>0.14</td><td>--</td><td>6.57</td><td>ha</td></tr>\n",
       "<tr><td>1</td><td>7</td><td>SR 22</td><td>0.0</td><td>--</td><td>7.0</td><td>3.488</td><td>-0.98</td><td>--</td><td>--</td><td>0.15</td><td>--</td><td>6.18</td><td>ha,x</td></tr>\n",
       "</table>"
      ],
      "text/plain": [
       "<Table masked=True length=4>\n",
       "Field  Aper   Name      AV     f_AV  ...   Mass   l_LogA   LogA    Note  \n",
       "                       mag           ... solMass          [Myr]          \n",
       "int64 int64 string64 float64 string8 ... float64 string8 float64 string88\n",
       "----- ----- -------- ------- ------- ... ------- ------- ------- --------\n",
       "    2    15       --     2.6      -- ...    0.19      --    6.09   li,ext\n",
       "    2    14       --     2.1      -- ...    0.27      --    7.28      ext\n",
       "    2    10       --     0.8      -- ...    0.14      --    6.57       ha\n",
       "    1     7    SR 22     0.0      -- ...    0.15      --    6.18     ha,x"
      ]
     },
     "execution_count": 5,
     "metadata": {},
     "output_type": "execute_result"
    }
   ],
   "source": [
    "tbl4_vo = ascii.read(\"http://iopscience.iop.org/1538-3881/130/4/1733/fulltext/datafile4.txt\")\n",
    "tbl4_vo[0:4]"
   ]
  },
  {
   "cell_type": "markdown",
   "metadata": {},
   "source": [
    "##Join the tables"
   ]
  },
  {
   "cell_type": "code",
   "execution_count": 6,
   "metadata": {
    "collapsed": false
   },
   "outputs": [],
   "source": [
    "tbl2 = tbl2_vo.to_pandas()\n",
    "del tbl2[\"Name\"]\n",
    "tbl2.rename(columns={'Note':\"Flag\"}, inplace=True)\n",
    "tbl4 = tbl4_vo.to_pandas()"
   ]
  },
  {
   "cell_type": "code",
   "execution_count": 7,
   "metadata": {
    "collapsed": false
   },
   "outputs": [],
   "source": [
    "wilking2005 = pd.merge(tbl2, tbl4, how=\"right\", on=[\"Field\", \"Aper\"])"
   ]
  },
  {
   "cell_type": "code",
   "execution_count": 8,
   "metadata": {
    "collapsed": false
   },
   "outputs": [
    {
     "data": {
      "text/html": [
       "<div style=\"max-height:1000px;max-width:1500px;overflow:auto;\">\n",
       "<table border=\"1\" class=\"dataframe\">\n",
       "  <thead>\n",
       "    <tr style=\"text-align: right;\">\n",
       "      <th></th>\n",
       "      <th>Field</th>\n",
       "      <th>Aper</th>\n",
       "      <th>ID</th>\n",
       "      <th>RAh</th>\n",
       "      <th>RAm</th>\n",
       "      <th>RAs</th>\n",
       "      <th>DE-</th>\n",
       "      <th>DEd</th>\n",
       "      <th>DEm</th>\n",
       "      <th>DEs</th>\n",
       "      <th>...</th>\n",
       "      <th>f_AV</th>\n",
       "      <th>IMag</th>\n",
       "      <th>LogT</th>\n",
       "      <th>LogL</th>\n",
       "      <th>f_LogL</th>\n",
       "      <th>l_Mass</th>\n",
       "      <th>Mass</th>\n",
       "      <th>l_LogA</th>\n",
       "      <th>LogA</th>\n",
       "      <th>Note</th>\n",
       "    </tr>\n",
       "  </thead>\n",
       "  <tbody>\n",
       "    <tr>\n",
       "      <th>0</th>\n",
       "      <td> 2</td>\n",
       "      <td> 15</td>\n",
       "      <td>    NaN</td>\n",
       "      <td> 16</td>\n",
       "      <td> 24</td>\n",
       "      <td> 57.3</td>\n",
       "      <td> -</td>\n",
       "      <td> 24</td>\n",
       "      <td> 11</td>\n",
       "      <td> 23.4</td>\n",
       "      <td>...</td>\n",
       "      <td> NaN</td>\n",
       "      <td> 6.26</td>\n",
       "      <td> 3.512</td>\n",
       "      <td>-0.76</td>\n",
       "      <td> NaN</td>\n",
       "      <td> NaN</td>\n",
       "      <td> 0.19</td>\n",
       "      <td> NaN</td>\n",
       "      <td> 6.09</td>\n",
       "      <td>   li,ext</td>\n",
       "    </tr>\n",
       "    <tr>\n",
       "      <th>1</th>\n",
       "      <td> 2</td>\n",
       "      <td> 14</td>\n",
       "      <td>    NaN</td>\n",
       "      <td> 16</td>\n",
       "      <td> 25</td>\n",
       "      <td> 24.1</td>\n",
       "      <td> -</td>\n",
       "      <td> 23</td>\n",
       "      <td> 56</td>\n",
       "      <td> 56.4</td>\n",
       "      <td>...</td>\n",
       "      <td> NaN</td>\n",
       "      <td> 8.03</td>\n",
       "      <td> 3.525</td>\n",
       "      <td>-1.50</td>\n",
       "      <td> NaN</td>\n",
       "      <td> NaN</td>\n",
       "      <td> 0.27</td>\n",
       "      <td> NaN</td>\n",
       "      <td> 7.28</td>\n",
       "      <td>      ext</td>\n",
       "    </tr>\n",
       "    <tr>\n",
       "      <th>2</th>\n",
       "      <td> 2</td>\n",
       "      <td> 10</td>\n",
       "      <td>    NaN</td>\n",
       "      <td> 16</td>\n",
       "      <td> 25</td>\n",
       "      <td> 24.3</td>\n",
       "      <td> -</td>\n",
       "      <td> 24</td>\n",
       "      <td> 15</td>\n",
       "      <td> 39.0</td>\n",
       "      <td>...</td>\n",
       "      <td> NaN</td>\n",
       "      <td> 8.13</td>\n",
       "      <td> 3.477</td>\n",
       "      <td>-1.38</td>\n",
       "      <td> NaN</td>\n",
       "      <td> NaN</td>\n",
       "      <td> 0.14</td>\n",
       "      <td> NaN</td>\n",
       "      <td> 6.57</td>\n",
       "      <td>       ha</td>\n",
       "    </tr>\n",
       "    <tr>\n",
       "      <th>3</th>\n",
       "      <td> 1</td>\n",
       "      <td>  7</td>\n",
       "      <td> ROXRA2</td>\n",
       "      <td> 16</td>\n",
       "      <td> 25</td>\n",
       "      <td> 24.4</td>\n",
       "      <td> -</td>\n",
       "      <td> 24</td>\n",
       "      <td> 29</td>\n",
       "      <td> 43.5</td>\n",
       "      <td>...</td>\n",
       "      <td> NaN</td>\n",
       "      <td> 7.00</td>\n",
       "      <td> 3.488</td>\n",
       "      <td>-0.98</td>\n",
       "      <td> NaN</td>\n",
       "      <td> NaN</td>\n",
       "      <td> 0.15</td>\n",
       "      <td> NaN</td>\n",
       "      <td> 6.18</td>\n",
       "      <td>     ha,x</td>\n",
       "    </tr>\n",
       "    <tr>\n",
       "      <th>4</th>\n",
       "      <td> 3</td>\n",
       "      <td> 15</td>\n",
       "      <td> ROXRA4</td>\n",
       "      <td> 16</td>\n",
       "      <td> 25</td>\n",
       "      <td> 39.6</td>\n",
       "      <td> -</td>\n",
       "      <td> 24</td>\n",
       "      <td> 26</td>\n",
       "      <td> 34.0</td>\n",
       "      <td>...</td>\n",
       "      <td> NaN</td>\n",
       "      <td> 6.04</td>\n",
       "      <td> 3.544</td>\n",
       "      <td>-0.74</td>\n",
       "      <td> NaN</td>\n",
       "      <td> NaN</td>\n",
       "      <td> 0.31</td>\n",
       "      <td> NaN</td>\n",
       "      <td> 6.33</td>\n",
       "      <td> ha,x,ext</td>\n",
       "    </tr>\n",
       "  </tbody>\n",
       "</table>\n",
       "<p>5 rows × 33 columns</p>\n",
       "</div>"
      ],
      "text/plain": [
       "   Field  Aper      ID  RAh  RAm   RAs DE-  DEd  DEm   DEs    ...     f_AV  \\\n",
       "0      2    15     NaN   16   24  57.3   -   24   11  23.4    ...      NaN   \n",
       "1      2    14     NaN   16   25  24.1   -   23   56  56.4    ...      NaN   \n",
       "2      2    10     NaN   16   25  24.3   -   24   15  39.0    ...      NaN   \n",
       "3      1     7  ROXRA2   16   25  24.4   -   24   29  43.5    ...      NaN   \n",
       "4      3    15  ROXRA4   16   25  39.6   -   24   26  34.0    ...      NaN   \n",
       "\n",
       "   IMag   LogT  LogL  f_LogL  l_Mass  Mass l_LogA  LogA      Note  \n",
       "0  6.26  3.512 -0.76     NaN     NaN  0.19    NaN  6.09    li,ext  \n",
       "1  8.03  3.525 -1.50     NaN     NaN  0.27    NaN  7.28       ext  \n",
       "2  8.13  3.477 -1.38     NaN     NaN  0.14    NaN  6.57        ha  \n",
       "3  7.00  3.488 -0.98     NaN     NaN  0.15    NaN  6.18      ha,x  \n",
       "4  6.04  3.544 -0.74     NaN     NaN  0.31    NaN  6.33  ha,x,ext  \n",
       "\n",
       "[5 rows x 33 columns]"
      ]
     },
     "execution_count": 8,
     "metadata": {},
     "output_type": "execute_result"
    }
   ],
   "source": [
    "wilking2005"
   ]
  },
  {
   "cell_type": "code",
   "execution_count": 14,
   "metadata": {
    "collapsed": true
   },
   "outputs": [],
   "source": [
    "wilking2005[\"RA\"] = wilking2005.RAh.astype(str) + wilking2005.RAm.astype(str) + wilking2005.RAs.astype(str)"
   ]
  },
  {
   "cell_type": "code",
   "execution_count": 15,
   "metadata": {
    "collapsed": false
   },
   "outputs": [
    {
     "data": {
      "text/plain": [
       "0     16.024.057.3\n",
       "1     16.025.024.1\n",
       "2     16.025.024.3\n",
       "3     16.025.024.4\n",
       "4     16.025.039.6\n",
       "5     16.025.047.7\n",
       "6     16.025.050.5\n",
       "7     16.025.056.1\n",
       "8     16.025.056.2\n",
       "9     16.025.057.5\n",
       "10    16.025.058.9\n",
       "11    16.025.059.6\n",
       "12     16.026.01.6\n",
       "13     16.026.03.3\n",
       "14     16.026.05.5\n",
       "...\n",
       "73    16.028.011.1\n",
       "74    16.028.012.4\n",
       "75    16.028.016.6\n",
       "76    16.028.019.2\n",
       "77    16.028.020.1\n",
       "78    16.028.021.6\n",
       "79    16.028.023.4\n",
       "80    16.028.024.3\n",
       "81    16.028.024.9\n",
       "82    16.028.032.6\n",
       "83    16.028.032.7\n",
       "84    16.028.043.1\n",
       "85    16.028.045.3\n",
       "86    16.028.054.1\n",
       "87     16.029.04.0\n",
       "Name: RA, Length: 88, dtype: object"
      ]
     },
     "execution_count": 15,
     "metadata": {},
     "output_type": "execute_result"
    }
   ],
   "source": [
    "wilking2005.RA"
   ]
  },
  {
   "cell_type": "markdown",
   "metadata": {},
   "source": [
    "## Save the data"
   ]
  },
  {
   "cell_type": "code",
   "execution_count": 9,
   "metadata": {
    "collapsed": false
   },
   "outputs": [],
   "source": [
    "! mkdir ../data/Wilking2005"
   ]
  },
  {
   "cell_type": "code",
   "execution_count": 10,
   "metadata": {
    "collapsed": false
   },
   "outputs": [],
   "source": [
    "wilking2005.to_csv(\"../data/Wilking2005/Wilking2005.csv\", index=False, sep='\\t')"
   ]
  },
  {
   "cell_type": "markdown",
   "metadata": {},
   "source": [
    "*The end*"
   ]
  }
 ],
 "metadata": {
  "kernelspec": {
   "display_name": "Python 2",
   "language": "python",
   "name": "python2"
  },
  "language_info": {
   "codemirror_mode": {
    "name": "ipython",
    "version": 2
   },
   "file_extension": ".py",
   "mimetype": "text/x-python",
   "name": "python",
   "nbconvert_exporter": "python",
   "pygments_lexer": "ipython2",
   "version": "2.7.9"
  }
 },
 "nbformat": 4,
 "nbformat_minor": 0
}
