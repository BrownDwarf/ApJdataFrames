{
 "metadata": {
  "name": "",
  "signature": "sha256:d8949c0c4bcc6ed76dc7227bbaabe76daf350cc9a78676ccfa61c2562c12b36e"
 },
 "nbformat": 3,
 "nbformat_minor": 0,
 "worksheets": [
  {
   "cells": [
    {
     "cell_type": "markdown",
     "metadata": {},
     "source": [
      "`ApJdataFrames` 008: Luhman2012\n",
      "---\n",
      "`Title`: THE DISK POPULATION OF THE UPPER SCORPIUS ASSOCIATION  \n",
      "`Authors`: K. L. Luhman and E. E. Mamajek  \n",
      "\n",
      "Data is from this paper:  \n",
      "http://iopscience.iop.org/0004-637X/758/1/31/article#apj443828t1"
     ]
    },
    {
     "cell_type": "code",
     "collapsed": false,
     "input": [
      "import warnings\n",
      "warnings.filterwarnings(\"ignore\")"
     ],
     "language": "python",
     "metadata": {},
     "outputs": [],
     "prompt_number": 1
    },
    {
     "cell_type": "code",
     "collapsed": false,
     "input": [
      "from astropy.io import ascii"
     ],
     "language": "python",
     "metadata": {},
     "outputs": [],
     "prompt_number": 2
    },
    {
     "cell_type": "markdown",
     "metadata": {},
     "source": [
      "## Table 1 - VOTable with all source properties"
     ]
    },
    {
     "cell_type": "code",
     "collapsed": false,
     "input": [
      "tbl1 = ascii.read(\"http://iopscience.iop.org/0004-637X/758/1/31/suppdata/apj443828t1_mrt.txt\")"
     ],
     "language": "python",
     "metadata": {},
     "outputs": [
      {
       "output_type": "stream",
       "stream": "stdout",
       "text": [
        "Downloading http://iopscience.iop.org/0004-637X/758/1/31/suppdata/apj443828t1_mrt.txt"
       ]
      },
      {
       "output_type": "stream",
       "stream": "stdout",
       "text": [
        " [Done]\n"
       ]
      }
     ],
     "prompt_number": 3
    },
    {
     "cell_type": "code",
     "collapsed": false,
     "input": [
      "tbl1.columns"
     ],
     "language": "python",
     "metadata": {},
     "outputs": [
      {
       "metadata": {},
       "output_type": "pyout",
       "prompt_number": 4,
       "text": [
        "<TableColumns names=('Name','OtherNames','SpType','r_SpType','Adopt','3.6mag','e_3.6mag','f_3.6mag','4.5mag','e_4.5mag','f_4.5mag','5.8mag','e_5.8mag','f_5.8mag','8.0mag','e_8.0mag','f_8.0mag','24mag','e_24mag','f_24mag','W1mag','e_W1mag','f_W1mag','W2mag','e_W2mag','f_W2mag','W3mag','e_W3mag','f_W3mag','W4mag','e_W4mag','f_W4mag','Exc4.5','Exc8.0','Exc24','ExcW2','ExcW3','ExcW4','DiskType')>"
       ]
      }
     ],
     "prompt_number": 4
    },
    {
     "cell_type": "code",
     "collapsed": false,
     "input": [
      "tbl1[0:5]"
     ],
     "language": "python",
     "metadata": {},
     "outputs": [
      {
       "html": [
        "&lt;Table masked=True length=5&gt;\n",
        "<table id=\"table4442157136\">\n",
        "<thead><tr><th>Name</th><th>OtherNames</th><th>SpType</th><th>r_SpType</th><th>Adopt</th><th>3.6mag</th><th>e_3.6mag</th><th>f_3.6mag</th><th>4.5mag</th><th>e_4.5mag</th><th>f_4.5mag</th><th>5.8mag</th><th>e_5.8mag</th><th>f_5.8mag</th><th>8.0mag</th><th>e_8.0mag</th><th>f_8.0mag</th><th>24mag</th><th>e_24mag</th><th>f_24mag</th><th>W1mag</th><th>e_W1mag</th><th>f_W1mag</th><th>W2mag</th><th>e_W2mag</th><th>f_W2mag</th><th>W3mag</th><th>e_W3mag</th><th>f_W3mag</th><th>W4mag</th><th>e_W4mag</th><th>f_W4mag</th><th>Exc4.5</th><th>Exc8.0</th><th>Exc24</th><th>ExcW2</th><th>ExcW3</th><th>ExcW4</th><th>DiskType</th></tr></thead>\n",
        "<thead><tr><th></th><th></th><th></th><th></th><th></th><th>mag</th><th>mag</th><th></th><th>mag</th><th>mag</th><th></th><th>mag</th><th>mag</th><th></th><th>mag</th><th>mag</th><th></th><th>mag</th><th>mag</th><th></th><th>mag</th><th>mag</th><th></th><th>mag</th><th>mag</th><th></th><th>mag</th><th>mag</th><th></th><th>mag</th><th>mag</th><th></th><th></th><th></th><th></th><th></th><th></th><th></th><th></th></tr></thead>\n",
        "<thead><tr><th>string224</th><th>string344</th><th>string184</th><th>string104</th><th>string64</th><th>float64</th><th>float64</th><th>string40</th><th>float64</th><th>float64</th><th>string40</th><th>float64</th><th>float64</th><th>string40</th><th>float64</th><th>float64</th><th>string40</th><th>float64</th><th>float64</th><th>string40</th><th>float64</th><th>float64</th><th>string40</th><th>float64</th><th>float64</th><th>string40</th><th>float64</th><th>float64</th><th>string40</th><th>float64</th><th>float64</th><th>string40</th><th>string8</th><th>string8</th><th>string16</th><th>string16</th><th>string16</th><th>string16</th><th>string128</th></tr></thead>\n",
        "<tr><td>2MASS J15321033-2158004</td><td>HD 138343,HIP 76071</td><td>B9V</td><td>1</td><td>B9V</td><td>--</td><td>--</td><td>out</td><td>7.05</td><td>0.02</td><td>--</td><td>--</td><td>--</td><td>out</td><td>7.12</td><td>0.03</td><td>--</td><td>7.09</td><td>0.04</td><td>--</td><td>7.02</td><td>0.03</td><td>--</td><td>7.06</td><td>0.02</td><td>--</td><td>7.09</td><td>0.02</td><td>--</td><td>7.13</td><td>0.11</td><td>--</td><td>N</td><td>N</td><td>N</td><td>N</td><td>N</td><td>N</td><td>--</td></tr>\n",
        "<tr><td>2MASS J15350863-2532397</td><td>--</td><td>M5.5</td><td>2</td><td>M5.5</td><td>--</td><td>--</td><td>out</td><td>--</td><td>--</td><td>out</td><td>--</td><td>--</td><td>out</td><td>--</td><td>--</td><td>out</td><td>--</td><td>--</td><td>out</td><td>13.37</td><td>0.03</td><td>--</td><td>13.14</td><td>0.03</td><td>--</td><td>--</td><td>--</td><td>false</td><td>--</td><td>--</td><td>nodet</td><td>--</td><td>--</td><td>--</td><td>N</td><td>--</td><td>--</td><td>--</td></tr>\n",
        "<tr><td>2MASS J15351610-2544030</td><td>HD 138813,HIP 76310</td><td>A0V</td><td>1</td><td>A0V</td><td>--</td><td>--</td><td>out</td><td>7.15</td><td>0.02</td><td>--</td><td>--</td><td>--</td><td>out</td><td>7.16</td><td>0.03</td><td>--</td><td>4.08</td><td>0.04</td><td>--</td><td>7.14</td><td>0.03</td><td>--</td><td>7.18</td><td>0.02</td><td>--</td><td>6.72</td><td>0.02</td><td>--</td><td>4.23</td><td>0.02</td><td>--</td><td>N</td><td>N</td><td>Y</td><td>N</td><td>Y</td><td>Y</td><td>debris/ev trans</td></tr>\n",
        "<tr><td>2MASS J15354856-2958551</td><td>RX J1535.8-2958</td><td>M4</td><td>3</td><td>M4</td><td>--</td><td>--</td><td>out</td><td>--</td><td>--</td><td>out</td><td>--</td><td>--</td><td>out</td><td>--</td><td>--</td><td>out</td><td>--</td><td>--</td><td>out</td><td>9.18</td><td>0.02</td><td>--</td><td>8.84</td><td>0.02</td><td>--</td><td>7.09</td><td>0.02</td><td>--</td><td>5.15</td><td>0.03</td><td>--</td><td>--</td><td>--</td><td>--</td><td>Y</td><td>Y</td><td>Y</td><td>full</td></tr>\n",
        "<tr><td>2MASS J15355111-2021008</td><td>--</td><td>M8</td><td>2</td><td>M8</td><td>--</td><td>--</td><td>out</td><td>--</td><td>--</td><td>out</td><td>--</td><td>--</td><td>out</td><td>--</td><td>--</td><td>out</td><td>--</td><td>--</td><td>out</td><td>13.45</td><td>0.03</td><td>--</td><td>13.08</td><td>0.04</td><td>--</td><td>--</td><td>--</td><td>nodet</td><td>--</td><td>--</td><td>nodet</td><td>--</td><td>--</td><td>--</td><td>N</td><td>--</td><td>--</td><td>--</td></tr>\n",
        "</table>"
       ],
       "metadata": {},
       "output_type": "pyout",
       "prompt_number": 5,
       "text": [
        "<Table masked=True length=5>\n",
        "          Name               OtherNames     ...  ExcW4       DiskType   \n",
        "                                            ...                         \n",
        "       string224             string344      ... string16    string128   \n",
        "----------------------- ------------------- ... -------- ---------------\n",
        "2MASS J15321033-2158004 HD 138343,HIP 76071 ...        N              --\n",
        "2MASS J15350863-2532397                  -- ...       --              --\n",
        "2MASS J15351610-2544030 HD 138813,HIP 76310 ...        Y debris/ev trans\n",
        "2MASS J15354856-2958551     RX J1535.8-2958 ...        Y            full\n",
        "2MASS J15355111-2021008                  -- ...       --              --"
       ]
      }
     ],
     "prompt_number": 5
    },
    {
     "cell_type": "code",
     "collapsed": false,
     "input": [
      "len(tbl1)"
     ],
     "language": "python",
     "metadata": {},
     "outputs": [
      {
       "metadata": {},
       "output_type": "pyout",
       "prompt_number": 6,
       "text": [
        "863"
       ]
      }
     ],
     "prompt_number": 6
    }
   ],
   "metadata": {}
  }
 ]
}