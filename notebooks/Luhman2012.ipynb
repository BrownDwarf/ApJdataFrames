{
 "cells": [
  {
   "cell_type": "markdown",
   "metadata": {},
   "source": [
    "`ApJdataFrames` 008: Luhman2012\n",
    "---\n",
    "`Title`: THE DISK POPULATION OF THE UPPER SCORPIUS ASSOCIATION  \n",
    "`Authors`: K. L. Luhman and E. E. Mamajek  \n",
    "\n",
    "Data is from this paper:  \n",
    "http://iopscience.iop.org/0004-637X/758/1/31/article#apj443828t1"
   ]
  },
  {
   "cell_type": "code",
   "execution_count": 1,
   "metadata": {
    "collapsed": false
   },
   "outputs": [],
   "source": [
    "import warnings\n",
    "warnings.filterwarnings(\"ignore\")"
   ]
  },
  {
   "cell_type": "code",
   "execution_count": 2,
   "metadata": {
    "collapsed": false
   },
   "outputs": [],
   "source": [
    "from astropy.io import ascii"
   ]
  },
  {
   "cell_type": "code",
   "execution_count": 3,
   "metadata": {
    "collapsed": true
   },
   "outputs": [],
   "source": [
    "import pandas as pd"
   ]
  },
  {
   "cell_type": "markdown",
   "metadata": {},
   "source": [
    "## Table 1 - VOTable with all source properties"
   ]
  },
  {
   "cell_type": "code",
   "execution_count": 4,
   "metadata": {
    "collapsed": false
   },
   "outputs": [
    {
     "name": "stdout",
     "output_type": "stream",
     "text": [
      "Downloading http://iopscience.iop.org/0004-637X/758/1/31/suppdata/apj443828t1_mrt.txt [Done]\n"
     ]
    }
   ],
   "source": [
    "tbl1 = ascii.read(\"http://iopscience.iop.org/0004-637X/758/1/31/suppdata/apj443828t1_mrt.txt\")"
   ]
  },
  {
   "cell_type": "code",
   "execution_count": 5,
   "metadata": {
    "collapsed": false
   },
   "outputs": [
    {
     "data": {
      "text/plain": [
       "<TableColumns names=('Name','OtherNames','SpType','r_SpType','Adopt','3.6mag','e_3.6mag','f_3.6mag','4.5mag','e_4.5mag','f_4.5mag','5.8mag','e_5.8mag','f_5.8mag','8.0mag','e_8.0mag','f_8.0mag','24mag','e_24mag','f_24mag','W1mag','e_W1mag','f_W1mag','W2mag','e_W2mag','f_W2mag','W3mag','e_W3mag','f_W3mag','W4mag','e_W4mag','f_W4mag','Exc4.5','Exc8.0','Exc24','ExcW2','ExcW3','ExcW4','DiskType')>"
      ]
     },
     "execution_count": 5,
     "metadata": {},
     "output_type": "execute_result"
    }
   ],
   "source": [
    "tbl1.columns"
   ]
  },
  {
   "cell_type": "code",
   "execution_count": 6,
   "metadata": {
    "collapsed": false
   },
   "outputs": [
    {
     "data": {
      "text/html": [
       "&lt;Table masked=True length=5&gt;\n",
       "<table id=\"table4433872848\">\n",
       "<thead><tr><th>Name</th><th>OtherNames</th><th>SpType</th><th>r_SpType</th><th>Adopt</th><th>3.6mag</th><th>e_3.6mag</th><th>f_3.6mag</th><th>4.5mag</th><th>e_4.5mag</th><th>f_4.5mag</th><th>5.8mag</th><th>e_5.8mag</th><th>f_5.8mag</th><th>8.0mag</th><th>e_8.0mag</th><th>f_8.0mag</th><th>24mag</th><th>e_24mag</th><th>f_24mag</th><th>W1mag</th><th>e_W1mag</th><th>f_W1mag</th><th>W2mag</th><th>e_W2mag</th><th>f_W2mag</th><th>W3mag</th><th>e_W3mag</th><th>f_W3mag</th><th>W4mag</th><th>e_W4mag</th><th>f_W4mag</th><th>Exc4.5</th><th>Exc8.0</th><th>Exc24</th><th>ExcW2</th><th>ExcW3</th><th>ExcW4</th><th>DiskType</th></tr></thead>\n",
       "<thead><tr><th></th><th></th><th></th><th></th><th></th><th>mag</th><th>mag</th><th></th><th>mag</th><th>mag</th><th></th><th>mag</th><th>mag</th><th></th><th>mag</th><th>mag</th><th></th><th>mag</th><th>mag</th><th></th><th>mag</th><th>mag</th><th></th><th>mag</th><th>mag</th><th></th><th>mag</th><th>mag</th><th></th><th>mag</th><th>mag</th><th></th><th></th><th></th><th></th><th></th><th></th><th></th><th></th></tr></thead>\n",
       "<thead><tr><th>string224</th><th>string344</th><th>string184</th><th>string104</th><th>string64</th><th>float64</th><th>float64</th><th>string40</th><th>float64</th><th>float64</th><th>string40</th><th>float64</th><th>float64</th><th>string40</th><th>float64</th><th>float64</th><th>string40</th><th>float64</th><th>float64</th><th>string40</th><th>float64</th><th>float64</th><th>string40</th><th>float64</th><th>float64</th><th>string40</th><th>float64</th><th>float64</th><th>string40</th><th>float64</th><th>float64</th><th>string40</th><th>string8</th><th>string8</th><th>string16</th><th>string16</th><th>string16</th><th>string16</th><th>string128</th></tr></thead>\n",
       "<tr><td>2MASS J15321033-2158004</td><td>HD 138343,HIP 76071</td><td>B9V</td><td>1</td><td>B9V</td><td>--</td><td>--</td><td>out</td><td>7.05</td><td>0.02</td><td>--</td><td>--</td><td>--</td><td>out</td><td>7.12</td><td>0.03</td><td>--</td><td>7.09</td><td>0.04</td><td>--</td><td>7.02</td><td>0.03</td><td>--</td><td>7.06</td><td>0.02</td><td>--</td><td>7.09</td><td>0.02</td><td>--</td><td>7.13</td><td>0.11</td><td>--</td><td>N</td><td>N</td><td>N</td><td>N</td><td>N</td><td>N</td><td>--</td></tr>\n",
       "<tr><td>2MASS J15350863-2532397</td><td>--</td><td>M5.5</td><td>2</td><td>M5.5</td><td>--</td><td>--</td><td>out</td><td>--</td><td>--</td><td>out</td><td>--</td><td>--</td><td>out</td><td>--</td><td>--</td><td>out</td><td>--</td><td>--</td><td>out</td><td>13.37</td><td>0.03</td><td>--</td><td>13.14</td><td>0.03</td><td>--</td><td>--</td><td>--</td><td>false</td><td>--</td><td>--</td><td>nodet</td><td>--</td><td>--</td><td>--</td><td>N</td><td>--</td><td>--</td><td>--</td></tr>\n",
       "<tr><td>2MASS J15351610-2544030</td><td>HD 138813,HIP 76310</td><td>A0V</td><td>1</td><td>A0V</td><td>--</td><td>--</td><td>out</td><td>7.15</td><td>0.02</td><td>--</td><td>--</td><td>--</td><td>out</td><td>7.16</td><td>0.03</td><td>--</td><td>4.08</td><td>0.04</td><td>--</td><td>7.14</td><td>0.03</td><td>--</td><td>7.18</td><td>0.02</td><td>--</td><td>6.72</td><td>0.02</td><td>--</td><td>4.23</td><td>0.02</td><td>--</td><td>N</td><td>N</td><td>Y</td><td>N</td><td>Y</td><td>Y</td><td>debris/ev trans</td></tr>\n",
       "<tr><td>2MASS J15354856-2958551</td><td>RX J1535.8-2958</td><td>M4</td><td>3</td><td>M4</td><td>--</td><td>--</td><td>out</td><td>--</td><td>--</td><td>out</td><td>--</td><td>--</td><td>out</td><td>--</td><td>--</td><td>out</td><td>--</td><td>--</td><td>out</td><td>9.18</td><td>0.02</td><td>--</td><td>8.84</td><td>0.02</td><td>--</td><td>7.09</td><td>0.02</td><td>--</td><td>5.15</td><td>0.03</td><td>--</td><td>--</td><td>--</td><td>--</td><td>Y</td><td>Y</td><td>Y</td><td>full</td></tr>\n",
       "<tr><td>2MASS J15355111-2021008</td><td>--</td><td>M8</td><td>2</td><td>M8</td><td>--</td><td>--</td><td>out</td><td>--</td><td>--</td><td>out</td><td>--</td><td>--</td><td>out</td><td>--</td><td>--</td><td>out</td><td>--</td><td>--</td><td>out</td><td>13.45</td><td>0.03</td><td>--</td><td>13.08</td><td>0.04</td><td>--</td><td>--</td><td>--</td><td>nodet</td><td>--</td><td>--</td><td>nodet</td><td>--</td><td>--</td><td>--</td><td>N</td><td>--</td><td>--</td><td>--</td></tr>\n",
       "</table>"
      ],
      "text/plain": [
       "<Table masked=True length=5>\n",
       "          Name               OtherNames     ...  ExcW4       DiskType   \n",
       "                                            ...                         \n",
       "       string224             string344      ... string16    string128   \n",
       "----------------------- ------------------- ... -------- ---------------\n",
       "2MASS J15321033-2158004 HD 138343,HIP 76071 ...        N              --\n",
       "2MASS J15350863-2532397                  -- ...       --              --\n",
       "2MASS J15351610-2544030 HD 138813,HIP 76310 ...        Y debris/ev trans\n",
       "2MASS J15354856-2958551     RX J1535.8-2958 ...        Y            full\n",
       "2MASS J15355111-2021008                  -- ...       --              --"
      ]
     },
     "execution_count": 6,
     "metadata": {},
     "output_type": "execute_result"
    }
   ],
   "source": [
    "tbl1[0:5]"
   ]
  },
  {
   "cell_type": "code",
   "execution_count": 7,
   "metadata": {
    "collapsed": false
   },
   "outputs": [
    {
     "data": {
      "text/plain": [
       "863"
      ]
     },
     "execution_count": 7,
     "metadata": {},
     "output_type": "execute_result"
    }
   ],
   "source": [
    "len(tbl1)"
   ]
  },
  {
   "cell_type": "markdown",
   "metadata": {},
   "source": [
    "#Cross match with SIMBAD"
   ]
  },
  {
   "cell_type": "code",
   "execution_count": 8,
   "metadata": {
    "collapsed": true
   },
   "outputs": [],
   "source": [
    "from astroquery.simbad import Simbad\n",
    "import astropy.coordinates as coord\n",
    "import astropy.units as u"
   ]
  },
  {
   "cell_type": "code",
   "execution_count": 9,
   "metadata": {
    "collapsed": true
   },
   "outputs": [],
   "source": [
    "customSimbad = Simbad()\n",
    "customSimbad.add_votable_fields('otype', 'sptype')"
   ]
  },
  {
   "cell_type": "code",
   "execution_count": 10,
   "metadata": {
    "collapsed": true
   },
   "outputs": [],
   "source": [
    "query_list = tbl1[\"Name\"].data.data\n",
    "result = customSimbad.query_objects(query_list, verbose=True)"
   ]
  },
  {
   "cell_type": "code",
   "execution_count": 11,
   "metadata": {
    "collapsed": false
   },
   "outputs": [
    {
     "data": {
      "text/html": [
       "&lt;Table masked=True length=3&gt;\n",
       "<table id=\"table4591222032\">\n",
       "<thead><tr><th>MAIN_ID</th><th>RA</th><th>DEC</th><th>RA_PREC</th><th>DEC_PREC</th><th>COO_ERR_MAJA</th><th>COO_ERR_MINA</th><th>COO_ERR_ANGLE</th><th>COO_QUAL</th><th>COO_WAVELENGTH</th><th>COO_BIBCODE</th><th>OTYPE</th><th>SP_TYPE</th><th>SP_QUAL</th><th>SP_NATURE</th><th>SP_BIBCODE</th></tr></thead>\n",
       "<thead><tr><th></th><th>&quot;h:m:s&quot;</th><th>&quot;d:m:s&quot;</th><th></th><th></th><th>mas</th><th>mas</th><th>deg</th><th></th><th></th><th></th><th></th><th></th><th></th><th></th><th></th></tr></thead>\n",
       "<thead><tr><th>object</th><th>string104</th><th>string104</th><th>int16</th><th>int16</th><th>float32</th><th>float32</th><th>int16</th><th>string8</th><th>string8</th><th>object</th><th>object</th><th>object</th><th>string8</th><th>string8</th><th>object</th></tr></thead>\n",
       "<tr><td>HD 138343</td><td>15 32 10.3328</td><td>-21 58 00.560</td><td>9</td><td>9</td><td>7.730</td><td>5.340</td><td>90</td><td>A</td><td>O</td><td>2007A&amp;A...474..653V</td><td>Star</td><td>B9V</td><td>C</td><td></td><td>1988MSS...C04....0H</td></tr>\n",
       "<tr><td>2MASS J15350863-2532397</td><td>15 35 08.640</td><td>-25 32 39.73</td><td>7</td><td>7</td><td>60.000</td><td>60.000</td><td>45</td><td>B</td><td>N</td><td>2003yCat.2246....0C</td><td>Star</td><td></td><td></td><td></td><td></td></tr>\n",
       "<tr><td>HD 138813</td><td>15 35 16.1054</td><td>-25 44 03.006</td><td>9</td><td>9</td><td>5.360</td><td>4.470</td><td>90</td><td>A</td><td>O</td><td>2007A&amp;A...474..653V</td><td>Star</td><td>A0V</td><td>C</td><td></td><td>1988MSS...C04....0H</td></tr>\n",
       "</table>"
      ],
      "text/plain": [
       "<Table masked=True length=3>\n",
       "        MAIN_ID               RA      ... SP_NATURE      SP_BIBCODE    \n",
       "                           \"h:m:s\"    ...                              \n",
       "         object           string104   ...  string8         object      \n",
       "----------------------- ------------- ... --------- -------------------\n",
       "              HD 138343 15 32 10.3328 ...           1988MSS...C04....0H\n",
       "2MASS J15350863-2532397  15 35 08.640 ...                              \n",
       "              HD 138813 15 35 16.1054 ...           1988MSS...C04....0H"
      ]
     },
     "execution_count": 11,
     "metadata": {},
     "output_type": "execute_result"
    }
   ],
   "source": [
    "result[0:3]"
   ]
  },
  {
   "cell_type": "code",
   "execution_count": 12,
   "metadata": {
    "collapsed": false
   },
   "outputs": [
    {
     "name": "stdout",
     "output_type": "stream",
     "text": [
      "There were 863 sources queried, and 862 sources found.\n",
      "Which ones were not found?\n"
     ]
    }
   ],
   "source": [
    "print \"There were {} sources queried, and {} sources found.\".format(len(query_list), len(result))\n",
    "if len(query_list) == len(result):\n",
    "    print \"Hooray!  Everything matched\"\n",
    "else:\n",
    "    print \"Which ones were not found?\""
   ]
  },
  {
   "cell_type": "code",
   "execution_count": 13,
   "metadata": {
    "collapsed": true
   },
   "outputs": [],
   "source": [
    "def add_input_column_to_simbad_result(self, input_list, verbose=False):\n",
    "    \"\"\"\n",
    "    Adds 'INPUT' column to the result of a Simbad query\n",
    "\n",
    "    Parameters\n",
    "    ----------\n",
    "    object_names : sequence of strs\n",
    "            names of objects from most recent query\n",
    "    verbose : boolean, optional\n",
    "        When `True`, verbose output is printed\n",
    "\n",
    "    Returns\n",
    "    -------\n",
    "    table : `~astropy.table.Table`\n",
    "        Query results table\n",
    "    \"\"\"\n",
    "    error_string = self.last_parsed_result.error_raw\n",
    "    fails = []\n",
    "\n",
    "    for error in error_string.split(\"\\n\"):\n",
    "        start_loc = error.rfind(\":\")+2\n",
    "        fail = error[start_loc:]\n",
    "        fails.append(fail)\n",
    "\n",
    "    successes = [s for s in input_list if s not in fails]\n",
    "    if verbose:\n",
    "        out_message = \"There were {} successful Simbad matches and {} failures.\"\n",
    "        print out_message.format(len(successes), len(fails))\n",
    "\n",
    "    self.last_parsed_result.table[\"INPUT\"] = successes\n",
    "\n",
    "    return self.last_parsed_result.table"
   ]
  },
  {
   "cell_type": "code",
   "execution_count": 14,
   "metadata": {
    "collapsed": false
   },
   "outputs": [
    {
     "name": "stdout",
     "output_type": "stream",
     "text": [
      "There were 862 successful Simbad matches and 1 failures.\n",
      "Failures are:  [u'Oph J1622-2405 B']\n"
     ]
    }
   ],
   "source": [
    "result_fix = add_input_column_to_simbad_result(customSimbad, query_list, verbose=True)"
   ]
  },
  {
   "cell_type": "code",
   "execution_count": 17,
   "metadata": {
    "collapsed": true
   },
   "outputs": [],
   "source": [
    "tbl1_pd = tbl1.to_pandas()\n",
    "result_pd = result_fix.to_pandas()\n",
    "tbl1_plusSimbad = pd.merge(tbl1_pd, result_pd, how=\"left\", left_on=\"Name\", right_on=\"INPUT\")"
   ]
  },
  {
   "cell_type": "markdown",
   "metadata": {},
   "source": [
    "# Save the data table locally."
   ]
  },
  {
   "cell_type": "code",
   "execution_count": 19,
   "metadata": {
    "collapsed": false
   },
   "outputs": [
    {
     "data": {
      "text/html": [
       "<div style=\"max-height:1000px;max-width:1500px;overflow:auto;\">\n",
       "<table border=\"1\" class=\"dataframe\">\n",
       "  <thead>\n",
       "    <tr style=\"text-align: right;\">\n",
       "      <th></th>\n",
       "      <th>Name</th>\n",
       "      <th>OtherNames</th>\n",
       "      <th>SpType</th>\n",
       "      <th>r_SpType</th>\n",
       "      <th>Adopt</th>\n",
       "      <th>3.6mag</th>\n",
       "      <th>e_3.6mag</th>\n",
       "      <th>f_3.6mag</th>\n",
       "      <th>4.5mag</th>\n",
       "      <th>e_4.5mag</th>\n",
       "      <th>...</th>\n",
       "      <th>COO_ERR_ANGLE</th>\n",
       "      <th>COO_QUAL</th>\n",
       "      <th>COO_WAVELENGTH</th>\n",
       "      <th>COO_BIBCODE</th>\n",
       "      <th>OTYPE</th>\n",
       "      <th>SP_TYPE</th>\n",
       "      <th>SP_QUAL</th>\n",
       "      <th>SP_NATURE</th>\n",
       "      <th>SP_BIBCODE</th>\n",
       "      <th>INPUT</th>\n",
       "    </tr>\n",
       "  </thead>\n",
       "  <tbody>\n",
       "    <tr>\n",
       "      <th>0</th>\n",
       "      <td> 2MASS J15321033-2158004</td>\n",
       "      <td> HD 138343,HIP 76071</td>\n",
       "      <td>  B9V</td>\n",
       "      <td> 1</td>\n",
       "      <td>  B9V</td>\n",
       "      <td>NaN</td>\n",
       "      <td>NaN</td>\n",
       "      <td> out</td>\n",
       "      <td> 7.05</td>\n",
       "      <td> 0.02</td>\n",
       "      <td>...</td>\n",
       "      <td> 90</td>\n",
       "      <td> A</td>\n",
       "      <td> O</td>\n",
       "      <td> 2007A&amp;A...474..653V</td>\n",
       "      <td> Star</td>\n",
       "      <td> B9V</td>\n",
       "      <td> C</td>\n",
       "      <td> </td>\n",
       "      <td> 1988MSS...C04....0H</td>\n",
       "      <td> 2MASS J15321033-2158004</td>\n",
       "    </tr>\n",
       "    <tr>\n",
       "      <th>1</th>\n",
       "      <td> 2MASS J15350863-2532397</td>\n",
       "      <td>                 NaN</td>\n",
       "      <td> M5.5</td>\n",
       "      <td> 2</td>\n",
       "      <td> M5.5</td>\n",
       "      <td>NaN</td>\n",
       "      <td>NaN</td>\n",
       "      <td> out</td>\n",
       "      <td>  NaN</td>\n",
       "      <td>  NaN</td>\n",
       "      <td>...</td>\n",
       "      <td> 45</td>\n",
       "      <td> B</td>\n",
       "      <td> N</td>\n",
       "      <td> 2003yCat.2246....0C</td>\n",
       "      <td> Star</td>\n",
       "      <td>    </td>\n",
       "      <td>  </td>\n",
       "      <td> </td>\n",
       "      <td>                    </td>\n",
       "      <td> 2MASS J15350863-2532397</td>\n",
       "    </tr>\n",
       "    <tr>\n",
       "      <th>2</th>\n",
       "      <td> 2MASS J15351610-2544030</td>\n",
       "      <td> HD 138813,HIP 76310</td>\n",
       "      <td>  A0V</td>\n",
       "      <td> 1</td>\n",
       "      <td>  A0V</td>\n",
       "      <td>NaN</td>\n",
       "      <td>NaN</td>\n",
       "      <td> out</td>\n",
       "      <td> 7.15</td>\n",
       "      <td> 0.02</td>\n",
       "      <td>...</td>\n",
       "      <td> 90</td>\n",
       "      <td> A</td>\n",
       "      <td> O</td>\n",
       "      <td> 2007A&amp;A...474..653V</td>\n",
       "      <td> Star</td>\n",
       "      <td> A0V</td>\n",
       "      <td> C</td>\n",
       "      <td> </td>\n",
       "      <td> 1988MSS...C04....0H</td>\n",
       "      <td> 2MASS J15351610-2544030</td>\n",
       "    </tr>\n",
       "    <tr>\n",
       "      <th>3</th>\n",
       "      <td> 2MASS J15354856-2958551</td>\n",
       "      <td>     RX J1535.8-2958</td>\n",
       "      <td>   M4</td>\n",
       "      <td> 3</td>\n",
       "      <td>   M4</td>\n",
       "      <td>NaN</td>\n",
       "      <td>NaN</td>\n",
       "      <td> out</td>\n",
       "      <td>  NaN</td>\n",
       "      <td>  NaN</td>\n",
       "      <td>...</td>\n",
       "      <td> 90</td>\n",
       "      <td> B</td>\n",
       "      <td> I</td>\n",
       "      <td> 2003yCat.2246....0C</td>\n",
       "      <td>   **</td>\n",
       "      <td>  M4</td>\n",
       "      <td> D</td>\n",
       "      <td> </td>\n",
       "      <td> 2000A&amp;A...356..541K</td>\n",
       "      <td> 2MASS J15354856-2958551</td>\n",
       "    </tr>\n",
       "    <tr>\n",
       "      <th>4</th>\n",
       "      <td> 2MASS J15355111-2021008</td>\n",
       "      <td>                 NaN</td>\n",
       "      <td>   M8</td>\n",
       "      <td> 2</td>\n",
       "      <td>   M8</td>\n",
       "      <td>NaN</td>\n",
       "      <td>NaN</td>\n",
       "      <td> out</td>\n",
       "      <td>  NaN</td>\n",
       "      <td>  NaN</td>\n",
       "      <td>...</td>\n",
       "      <td> 17</td>\n",
       "      <td> B</td>\n",
       "      <td> N</td>\n",
       "      <td> 2003yCat.2246....0C</td>\n",
       "      <td> Star</td>\n",
       "      <td>    </td>\n",
       "      <td>  </td>\n",
       "      <td> </td>\n",
       "      <td>                    </td>\n",
       "      <td> 2MASS J15355111-2021008</td>\n",
       "    </tr>\n",
       "  </tbody>\n",
       "</table>\n",
       "<p>5 rows × 56 columns</p>\n",
       "</div>"
      ],
      "text/plain": [
       "                      Name           OtherNames SpType r_SpType Adopt  3.6mag  \\\n",
       "0  2MASS J15321033-2158004  HD 138343,HIP 76071    B9V        1   B9V     NaN   \n",
       "1  2MASS J15350863-2532397                  NaN   M5.5        2  M5.5     NaN   \n",
       "2  2MASS J15351610-2544030  HD 138813,HIP 76310    A0V        1   A0V     NaN   \n",
       "3  2MASS J15354856-2958551      RX J1535.8-2958     M4        3    M4     NaN   \n",
       "4  2MASS J15355111-2021008                  NaN     M8        2    M8     NaN   \n",
       "\n",
       "   e_3.6mag f_3.6mag  4.5mag  e_4.5mag           ...            COO_ERR_ANGLE  \\\n",
       "0       NaN      out    7.05      0.02           ...                       90   \n",
       "1       NaN      out     NaN       NaN           ...                       45   \n",
       "2       NaN      out    7.15      0.02           ...                       90   \n",
       "3       NaN      out     NaN       NaN           ...                       90   \n",
       "4       NaN      out     NaN       NaN           ...                       17   \n",
       "\n",
       "   COO_QUAL  COO_WAVELENGTH          COO_BIBCODE  OTYPE  SP_TYPE SP_QUAL  \\\n",
       "0         A               O  2007A&A...474..653V   Star      B9V       C   \n",
       "1         B               N  2003yCat.2246....0C   Star                    \n",
       "2         A               O  2007A&A...474..653V   Star      A0V       C   \n",
       "3         B               I  2003yCat.2246....0C     **       M4       D   \n",
       "4         B               N  2003yCat.2246....0C   Star                    \n",
       "\n",
       "   SP_NATURE           SP_BIBCODE                    INPUT  \n",
       "0             1988MSS...C04....0H  2MASS J15321033-2158004  \n",
       "1                                  2MASS J15350863-2532397  \n",
       "2             1988MSS...C04....0H  2MASS J15351610-2544030  \n",
       "3             2000A&A...356..541K  2MASS J15354856-2958551  \n",
       "4                                  2MASS J15355111-2021008  \n",
       "\n",
       "[5 rows x 56 columns]"
      ]
     },
     "execution_count": 19,
     "metadata": {},
     "output_type": "execute_result"
    }
   ],
   "source": [
    "tbl1_plusSimbad.head()"
   ]
  },
  {
   "cell_type": "code",
   "execution_count": 20,
   "metadata": {
    "collapsed": false
   },
   "outputs": [
    {
     "name": "stdout",
     "output_type": "stream",
     "text": [
      "mkdir: ../data/Luhman2012/: File exists\r\n"
     ]
    }
   ],
   "source": [
    "! mkdir ../data/Luhman2012/"
   ]
  },
  {
   "cell_type": "code",
   "execution_count": 22,
   "metadata": {
    "collapsed": false
   },
   "outputs": [],
   "source": [
    "tbl1_plusSimbad.to_csv(\"../data/Luhman2012/tbl1_plusSimbad.csv\", index=False)"
   ]
  },
  {
   "cell_type": "markdown",
   "metadata": {},
   "source": [
    "*The end*"
   ]
  }
 ],
 "metadata": {
  "kernelspec": {
   "display_name": "Python 2",
   "language": "python",
   "name": "python2"
  },
  "language_info": {
   "codemirror_mode": {
    "name": "ipython",
    "version": 2
   },
   "file_extension": ".py",
   "mimetype": "text/x-python",
   "name": "python",
   "nbconvert_exporter": "python",
   "pygments_lexer": "ipython2",
   "version": "2.7.9"
  }
 },
 "nbformat": 4,
 "nbformat_minor": 0
}
