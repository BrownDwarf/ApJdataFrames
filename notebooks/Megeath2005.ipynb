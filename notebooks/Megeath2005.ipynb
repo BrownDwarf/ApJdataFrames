{
 "metadata": {
  "name": "",
  "signature": "sha256:5455c0da75ad67746792a98fb06d550456754a786adee37e4ad48f8d3fec3a4c"
 },
 "nbformat": 3,
 "nbformat_minor": 0,
 "worksheets": [
  {
   "cells": [
    {
     "cell_type": "markdown",
     "metadata": {},
     "source": [
      "`ApJdataFrames` 014: Megeath2005\n",
      "---\n",
      "`Title`: Spitzer/IRAC Photometry of the \u03b7 Chameleontis Association  \n",
      "`Authors`: S T Megeath, L Hartmann, Kevin L Luhman, and G G Fazio  \n",
      "\n",
      "Data is from this paper:  \n"
     ]
    },
    {
     "cell_type": "code",
     "collapsed": false,
     "input": [
      "%pylab inline\n",
      "import seaborn as sns"
     ],
     "language": "python",
     "metadata": {},
     "outputs": [
      {
       "output_type": "stream",
       "stream": "stdout",
       "text": [
        "Populating the interactive namespace from numpy and matplotlib\n"
       ]
      }
     ],
     "prompt_number": 1
    },
    {
     "cell_type": "code",
     "collapsed": false,
     "input": [
      "import warnings\n",
      "warnings.filterwarnings(\"ignore\")"
     ],
     "language": "python",
     "metadata": {},
     "outputs": [],
     "prompt_number": 2
    },
    {
     "cell_type": "code",
     "collapsed": false,
     "input": [
      "import pandas as pd"
     ],
     "language": "python",
     "metadata": {},
     "outputs": [],
     "prompt_number": 3
    },
    {
     "cell_type": "markdown",
     "metadata": {},
     "source": [
      "## Table 1 - IRAC Photometry"
     ]
    },
    {
     "cell_type": "code",
     "collapsed": false,
     "input": [
      "names = [\"ID\",\"Spectral_Type\",\"[3.6] (error)\",\"[4.5] (error)\",\"[5.8] (error)\",\"[8.0] (error)\",\"OTHER DESIGNATION\"]\n",
      "tbl1 = pd.read_csv(\"http://iopscience.iop.org/1538-4357/634/1/L113/fulltext/19839.tb1.txt\", header=0,\n",
      "                   na_values=\"\\ldots\", names = names, sep='\\t')\n",
      "tbl1.head(1)"
     ],
     "language": "python",
     "metadata": {},
     "outputs": [
      {
       "html": [
        "<div style=\"max-height:1000px;max-width:1500px;overflow:auto;\">\n",
        "<table border=\"1\" class=\"dataframe\">\n",
        "  <thead>\n",
        "    <tr style=\"text-align: right;\">\n",
        "      <th></th>\n",
        "      <th>ID</th>\n",
        "      <th>Spectral_Type</th>\n",
        "      <th>[3.6] (error)</th>\n",
        "      <th>[4.5] (error)</th>\n",
        "      <th>[5.8] (error)</th>\n",
        "      <th>[8.0] (error)</th>\n",
        "      <th>OTHER DESIGNATION</th>\n",
        "    </tr>\n",
        "  </thead>\n",
        "  <tbody>\n",
        "    <tr>\n",
        "      <th>0</th>\n",
        "      <td> 1</td>\n",
        "      <td> K6</td>\n",
        "      <td> 7.17 (0.02)</td>\n",
        "      <td> 7.20 (0.02)</td>\n",
        "      <td> 7.16 (0.01)</td>\n",
        "      <td> 7.11 (0.02)</td>\n",
        "      <td> RECX 1</td>\n",
        "    </tr>\n",
        "  </tbody>\n",
        "</table>\n",
        "</div>"
       ],
       "metadata": {},
       "output_type": "pyout",
       "prompt_number": 8,
       "text": [
        "   ID Spectral_Type [3.6] (error) [4.5] (error) [5.8] (error) [8.0] (error)  \\\n",
        "0   1            K6   7.17 (0.02)   7.20 (0.02)   7.16 (0.01)   7.11 (0.02)   \n",
        "\n",
        "  OTHER DESIGNATION  \n",
        "0            RECX 1  "
       ]
      }
     ],
     "prompt_number": 8
    },
    {
     "cell_type": "markdown",
     "metadata": {},
     "source": [
      "Ugh, it's one of these tables that puts the uncertainty in parentheses adjacent to the value.  Looks nice in a table, but is shitty for parsing.  \n",
      "Luckily we have computers, functions, and for loops."
     ]
    },
    {
     "cell_type": "code",
     "collapsed": false,
     "input": [
      "def strip_parentheses(col, df):\n",
      "    '''\n",
      "    splits single column strings of \"value (error)\" into two columns of value and error\n",
      "    \n",
      "    input:\n",
      "    -string name of column to split in two\n",
      "    -dataframe to apply to\n",
      "    \n",
      "    returns dataframe\n",
      "    '''\n",
      "    \n",
      "    out1 = df[col].str.replace(\")\",\"\").str.split(pat=\"(\")\n",
      "    df_out = out1.apply(pd.Series)\n",
      "    \n",
      "    # Split the string on the whitespace \n",
      "    base, sufx =  col.split(\" \")\n",
      "    df[base] = df_out[0].copy()\n",
      "    df[base+\"_e\"] = df_out[1].copy()\n",
      "    del df[col]\n",
      "    \n",
      "    return df\n",
      "    "
     ],
     "language": "python",
     "metadata": {},
     "outputs": [],
     "prompt_number": 5
    },
    {
     "cell_type": "code",
     "collapsed": false,
     "input": [
      "cols_to_fix = [col for col in tbl1.columns.values if \"(error)\" in col]\n",
      "for col in cols_to_fix:\n",
      "    print col\n",
      "    tbl1 = strip_parentheses(col, tbl1)"
     ],
     "language": "python",
     "metadata": {},
     "outputs": [
      {
       "output_type": "stream",
       "stream": "stdout",
       "text": [
        "[3.6] (error)\n",
        "[4.5] (error)\n",
        "[5.8] (error)\n",
        "[8.0] (error)\n"
       ]
      }
     ],
     "prompt_number": 6
    },
    {
     "cell_type": "code",
     "collapsed": false,
     "input": [
      "tbl1.head()"
     ],
     "language": "python",
     "metadata": {},
     "outputs": [
      {
       "html": [
        "<div style=\"max-height:1000px;max-width:1500px;overflow:auto;\">\n",
        "<table border=\"1\" class=\"dataframe\">\n",
        "  <thead>\n",
        "    <tr style=\"text-align: right;\">\n",
        "      <th></th>\n",
        "      <th>ID</th>\n",
        "      <th>Spectral_Type</th>\n",
        "      <th>OTHER DESIGNATION</th>\n",
        "      <th>[3.6]</th>\n",
        "      <th>[3.6]_e</th>\n",
        "      <th>[4.5]</th>\n",
        "      <th>[4.5]_e</th>\n",
        "      <th>[5.8]</th>\n",
        "      <th>[5.8]_e</th>\n",
        "      <th>[8.0]</th>\n",
        "      <th>[8.0]_e</th>\n",
        "    </tr>\n",
        "  </thead>\n",
        "  <tbody>\n",
        "    <tr>\n",
        "      <th>0</th>\n",
        "      <td> 1</td>\n",
        "      <td>    K6</td>\n",
        "      <td> RECX 1</td>\n",
        "      <td> 7.17 </td>\n",
        "      <td> 0.02</td>\n",
        "      <td> 7.20 </td>\n",
        "      <td> 0.02</td>\n",
        "      <td> 7.16 </td>\n",
        "      <td> 0.01</td>\n",
        "      <td> 7.11 </td>\n",
        "      <td> 0.02</td>\n",
        "    </tr>\n",
        "    <tr>\n",
        "      <th>1</th>\n",
        "      <td> 3</td>\n",
        "      <td> M3.25</td>\n",
        "      <td> RECX 3</td>\n",
        "      <td> 9.27 </td>\n",
        "      <td> 0.02</td>\n",
        "      <td> 9.21 </td>\n",
        "      <td> 0.02</td>\n",
        "      <td> 9.09 </td>\n",
        "      <td> 0.05</td>\n",
        "      <td> 9.15 </td>\n",
        "      <td> 0.01</td>\n",
        "    </tr>\n",
        "    <tr>\n",
        "      <th>2</th>\n",
        "      <td> 4</td>\n",
        "      <td> M1.75</td>\n",
        "      <td> RECX 4</td>\n",
        "      <td> 8.45 </td>\n",
        "      <td> 0.02</td>\n",
        "      <td> 8.45 </td>\n",
        "      <td> 0.02</td>\n",
        "      <td> 8.37 </td>\n",
        "      <td> 0.01</td>\n",
        "      <td> 8.32 </td>\n",
        "      <td> 0.02</td>\n",
        "    </tr>\n",
        "    <tr>\n",
        "      <th>3</th>\n",
        "      <td> 5</td>\n",
        "      <td>    M4</td>\n",
        "      <td> RECX 5</td>\n",
        "      <td> 9.59 </td>\n",
        "      <td> 0.03</td>\n",
        "      <td> 9.50 </td>\n",
        "      <td> 0.03</td>\n",
        "      <td> 9.37 </td>\n",
        "      <td> 0.01</td>\n",
        "      <td> 8.89 </td>\n",
        "      <td> 0.01</td>\n",
        "    </tr>\n",
        "    <tr>\n",
        "      <th>4</th>\n",
        "      <td> 6</td>\n",
        "      <td>    M3</td>\n",
        "      <td> RECX 6</td>\n",
        "      <td> 9.15 </td>\n",
        "      <td> 0.04</td>\n",
        "      <td> 9.07 </td>\n",
        "      <td> 0.07</td>\n",
        "      <td> 9.04 </td>\n",
        "      <td> 0.01</td>\n",
        "      <td> 9.04 </td>\n",
        "      <td> 0.01</td>\n",
        "    </tr>\n",
        "  </tbody>\n",
        "</table>\n",
        "</div>"
       ],
       "metadata": {},
       "output_type": "pyout",
       "prompt_number": 7,
       "text": [
        "   ID Spectral_Type OTHER DESIGNATION  [3.6] [3.6]_e  [4.5] [4.5]_e  [5.8]  \\\n",
        "0   1            K6            RECX 1  7.17     0.02  7.20     0.02  7.16    \n",
        "1   3         M3.25            RECX 3  9.27     0.02  9.21     0.02  9.09    \n",
        "2   4         M1.75            RECX 4  8.45     0.02  8.45     0.02  8.37    \n",
        "3   5            M4            RECX 5  9.59     0.03  9.50     0.03  9.37    \n",
        "4   6            M3            RECX 6  9.15     0.04  9.07     0.07  9.04    \n",
        "\n",
        "  [5.8]_e  [8.0] [8.0]_e  \n",
        "0    0.01  7.11     0.02  \n",
        "1    0.05  9.15     0.01  \n",
        "2    0.01  8.32     0.02  \n",
        "3    0.01  8.89     0.01  \n",
        "4    0.01  9.04     0.01  "
       ]
      }
     ],
     "prompt_number": 7
    },
    {
     "cell_type": "markdown",
     "metadata": {},
     "source": [
      "**The end.**"
     ]
    }
   ],
   "metadata": {}
  }
 ]
}