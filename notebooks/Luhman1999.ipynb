{
 "cells": [
  {
   "cell_type": "markdown",
   "metadata": {},
   "source": [
    "`ApJdataFrames` Luhman1999\n",
    "---\n",
    "`Title`: Low-Mass Star Formation and the Initial Mass Function in the ρ Ophiuchi Cloud Core  \n",
    "`Authors`: K. L. Luhman and G.H. Rieke\n",
    "\n",
    "Data is from this paper:  \n",
    "http://iopscience.iop.org/0004-637X/525/1/440/fulltext/"
   ]
  },
  {
   "cell_type": "code",
   "execution_count": 1,
   "metadata": {
    "collapsed": false
   },
   "outputs": [],
   "source": [
    "import warnings\n",
    "warnings.filterwarnings(\"ignore\")"
   ]
  },
  {
   "cell_type": "code",
   "execution_count": 2,
   "metadata": {
    "collapsed": false
   },
   "outputs": [],
   "source": [
    "from astropy.io import ascii"
   ]
  },
  {
   "cell_type": "code",
   "execution_count": 3,
   "metadata": {
    "collapsed": true
   },
   "outputs": [],
   "source": [
    "import pandas as pd"
   ]
  },
  {
   "cell_type": "markdown",
   "metadata": {},
   "source": [
    "## Table 1 - Data for Spectroscopic Sample in ρ Ophiuchi"
   ]
  },
  {
   "cell_type": "code",
   "execution_count": 4,
   "metadata": {
    "collapsed": false
   },
   "outputs": [
    {
     "data": {
      "text/html": [
       "<div style=\"max-height:1000px;max-width:1500px;overflow:auto;\">\n",
       "<table border=\"1\" class=\"dataframe\">\n",
       "  <thead>\n",
       "    <tr style=\"text-align: right;\">\n",
       "      <th></th>\n",
       "      <th>BKLT</th>\n",
       "      <th>Other ID</th>\n",
       "      <th>RA_1950</th>\n",
       "      <th>DEC_1950</th>\n",
       "      <th>SpT_prev</th>\n",
       "      <th>SpT_IR</th>\n",
       "      <th>SpT_adopted</th>\n",
       "      <th>Teff</th>\n",
       "      <th>AJ</th>\n",
       "      <th>Lbol</th>\n",
       "      <th>J-H</th>\n",
       "      <th>H-K</th>\n",
       "      <th>K</th>\n",
       "      <th>rK</th>\n",
       "      <th>BrGamma</th>\n",
       "    </tr>\n",
       "  </thead>\n",
       "  <tbody>\n",
       "    <tr>\n",
       "      <th>0</th>\n",
       "      <td>           NaN</td>\n",
       "      <td>                                               NaN</td>\n",
       "      <td>         NaN</td>\n",
       "      <td>         NaN</td>\n",
       "      <td>                        NaN</td>\n",
       "      <td>   NaN</td>\n",
       "      <td>  NaN</td>\n",
       "      <td>  NaN</td>\n",
       "      <td> NaN</td>\n",
       "      <td>  NaN</td>\n",
       "      <td>  NaN</td>\n",
       "      <td>  NaN</td>\n",
       "      <td>  NaN</td>\n",
       "      <td>         NaN</td>\n",
       "      <td>                                   NaN</td>\n",
       "    </tr>\n",
       "    <tr>\n",
       "      <th>1</th>\n",
       "      <td>           NaN</td>\n",
       "      <td>                                             SR 22</td>\n",
       "      <td>  16 22 22.7</td>\n",
       "      <td> -24 22 55.0</td>\n",
       "      <td> K7-M0(GM), M0(CK), M3.5(M)</td>\n",
       "      <td> K6-M2</td>\n",
       "      <td>   M0</td>\n",
       "      <td> 3850</td>\n",
       "      <td> 0.6</td>\n",
       "      <td> 0.76</td>\n",
       "      <td> 0.93</td>\n",
       "      <td> 0.45</td>\n",
       "      <td> 8.70</td>\n",
       "      <td>        0.25</td>\n",
       "      <td>                           1.9 \\pm 0.4</td>\n",
       "    </tr>\n",
       "    <tr>\n",
       "      <th>2</th>\n",
       "      <td> 162536-241544</td>\n",
       "      <td>                                             IRS 2</td>\n",
       "      <td> 16 22 35.59</td>\n",
       "      <td> -24 08 57.6</td>\n",
       "      <td>                     K7(GM)</td>\n",
       "      <td> K3-K4</td>\n",
       "      <td> K3.5</td>\n",
       "      <td> 4660</td>\n",
       "      <td> 1.9</td>\n",
       "      <td> 2.10</td>\n",
       "      <td> 1.39</td>\n",
       "      <td> 0.70</td>\n",
       "      <td> 8.36</td>\n",
       "      <td>           0</td>\n",
       "      <td>                                     0</td>\n",
       "    </tr>\n",
       "    <tr>\n",
       "      <th>3</th>\n",
       "      <td> 162556-242050</td>\n",
       "      <td> SR 4, EL 13, YLW 25, IRS 12, ROXs 6, WSB 25, D...</td>\n",
       "      <td> 16 22 54.82</td>\n",
       "      <td> -24 14 04.5</td>\n",
       "      <td>             K6(BA), K7(CK)</td>\n",
       "      <td> K5-M2</td>\n",
       "      <td>   K8</td>\n",
       "      <td> 3955</td>\n",
       "      <td> 0.5</td>\n",
       "      <td> 1.90</td>\n",
       "      <td> 1.06</td>\n",
       "      <td> 0.72</td>\n",
       "      <td> 7.25</td>\n",
       "      <td> 1.5, 2, 1.5</td>\n",
       "      <td> 6.7 \\pm 0.3, 4.5 \\pm 0.5, 5.5 \\pm 0.5</td>\n",
       "    </tr>\n",
       "    <tr>\n",
       "      <th>4</th>\n",
       "      <td> 162557-243032</td>\n",
       "      <td>                            GSS 20, IRS 13, ROXs 7</td>\n",
       "      <td> 16 22 56.11</td>\n",
       "      <td> -24 23 46.6</td>\n",
       "      <td>             K7(GM), K7(BA)</td>\n",
       "      <td> K5-K7</td>\n",
       "      <td>   K6</td>\n",
       "      <td> 4205</td>\n",
       "      <td> 0.9</td>\n",
       "      <td> 1.10</td>\n",
       "      <td> 1.12</td>\n",
       "      <td> 0.63</td>\n",
       "      <td> 8.37</td>\n",
       "      <td>           0</td>\n",
       "      <td>                                     0</td>\n",
       "    </tr>\n",
       "  </tbody>\n",
       "</table>\n",
       "</div>"
      ],
      "text/plain": [
       "            BKLT                                           Other ID  \\\n",
       "0            NaN                                                NaN   \n",
       "1            NaN                                              SR 22   \n",
       "2  162536-241544                                              IRS 2   \n",
       "3  162556-242050  SR 4, EL 13, YLW 25, IRS 12, ROXs 6, WSB 25, D...   \n",
       "4  162557-243032                             GSS 20, IRS 13, ROXs 7   \n",
       "\n",
       "       RA_1950     DEC_1950                    SpT_prev SpT_IR SpT_adopted  \\\n",
       "0          NaN          NaN                         NaN    NaN         NaN   \n",
       "1   16 22 22.7  -24 22 55.0  K7-M0(GM), M0(CK), M3.5(M)  K6-M2          M0   \n",
       "2  16 22 35.59  -24 08 57.6                      K7(GM)  K3-K4        K3.5   \n",
       "3  16 22 54.82  -24 14 04.5              K6(BA), K7(CK)  K5-M2          K8   \n",
       "4  16 22 56.11  -24 23 46.6              K7(GM), K7(BA)  K5-K7          K6   \n",
       "\n",
       "   Teff   AJ  Lbol   J-H   H-K     K           rK  \\\n",
       "0   NaN  NaN   NaN   NaN   NaN   NaN          NaN   \n",
       "1  3850  0.6  0.76  0.93  0.45  8.70         0.25   \n",
       "2  4660  1.9  2.10  1.39  0.70  8.36            0   \n",
       "3  3955  0.5  1.90  1.06  0.72  7.25  1.5, 2, 1.5   \n",
       "4  4205  0.9  1.10  1.12  0.63  8.37            0   \n",
       "\n",
       "                                 BrGamma  \n",
       "0                                    NaN  \n",
       "1                            1.9 \\pm 0.4  \n",
       "2                                      0  \n",
       "3  6.7 \\pm 0.3, 4.5 \\pm 0.5, 5.5 \\pm 0.5  \n",
       "4                                      0  "
      ]
     },
     "execution_count": 4,
     "metadata": {},
     "output_type": "execute_result"
    }
   ],
   "source": [
    "names = [\"BKLT\",\"Other ID\",\"RA_1950\",\"DEC_1950\",\"SpT_prev\",\"SpT_IR\",\"SpT_adopted\",\n",
    "          \"Teff\",\"AJ\",\"Lbol\",\"J-H\",\"H-K\",\"K\",\"rK\",\"BrGamma\"]\n",
    "tbl1 = pd.read_csv(\"http://iopscience.iop.org/0004-637X/525/1/440/fulltext/40180.tb1.txt\", \n",
    "                   sep=\"\\t\", na_values=\"\\ldots\", skiprows=1, names=names)\n",
    "tbl1.RA_1950 = \"16 \"+tbl1.RA_1950\n",
    "tbl1.DEC_1950 = \"-24 \"+tbl1.DEC_1950\n",
    "tbl1.head()"
   ]
  },
  {
   "cell_type": "code",
   "execution_count": 5,
   "metadata": {
    "collapsed": false
   },
   "outputs": [
    {
     "data": {
      "text/plain": [
       "115"
      ]
     },
     "execution_count": 5,
     "metadata": {},
     "output_type": "execute_result"
    }
   ],
   "source": [
    "len(tbl1)"
   ]
  },
  {
   "cell_type": "markdown",
   "metadata": {},
   "source": [
    "##Save data"
   ]
  },
  {
   "cell_type": "code",
   "execution_count": 6,
   "metadata": {
    "collapsed": false
   },
   "outputs": [
    {
     "name": "stdout",
     "output_type": "stream",
     "text": [
      "mkdir: ../data/Luhman1999: File exists\r\n"
     ]
    }
   ],
   "source": [
    "! mkdir ../data/Luhman1999"
   ]
  },
  {
   "cell_type": "code",
   "execution_count": 7,
   "metadata": {
    "collapsed": false
   },
   "outputs": [],
   "source": [
    "tbl1.to_csv(\"../data/Luhman1999/tbl1.csv\", index=False, sep='\\t')"
   ]
  },
  {
   "cell_type": "markdown",
   "metadata": {},
   "source": [
    "*The end*"
   ]
  }
 ],
 "metadata": {
  "kernelspec": {
   "display_name": "Python 2",
   "language": "python",
   "name": "python2"
  },
  "language_info": {
   "codemirror_mode": {
    "name": "ipython",
    "version": 2
   },
   "file_extension": ".py",
   "mimetype": "text/x-python",
   "name": "python",
   "nbconvert_exporter": "python",
   "pygments_lexer": "ipython2",
   "version": "2.7.9"
  }
 },
 "nbformat": 4,
 "nbformat_minor": 0
}
