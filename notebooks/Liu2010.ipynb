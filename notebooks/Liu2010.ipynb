{
 "cells": [
  {
   "cell_type": "markdown",
   "metadata": {},
   "source": [
    "`ApJdataFrames` Liu et al. 2010\n",
    "---\n",
    "`Title`: Discovery of a Highly Unequal-mass Binary T Dwarf with Keck Laser Guide Star Adaptive Optics: A Coevality Test of Substellar Theoretical Models and Effective Temperatures  \n",
    "`Authors`: Liu, Dupuy, Leggett\n",
    "\n",
    "Data is from this paper:  \n",
    "http://iopscience.iop.org/article/10.1088/0004-637X/722/1/311/"
   ]
  },
  {
   "cell_type": "code",
   "execution_count": 1,
   "metadata": {
    "collapsed": false
   },
   "outputs": [],
   "source": [
    "import warnings\n",
    "warnings.filterwarnings(\"ignore\")"
   ]
  },
  {
   "cell_type": "code",
   "execution_count": 2,
   "metadata": {
    "collapsed": false
   },
   "outputs": [],
   "source": [
    "from astropy.io import ascii"
   ]
  },
  {
   "cell_type": "code",
   "execution_count": 3,
   "metadata": {
    "collapsed": true
   },
   "outputs": [],
   "source": [
    "import pandas as pd"
   ]
  },
  {
   "cell_type": "markdown",
   "metadata": {},
   "source": [
    "## Table 1 - Target Information for Ophiuchus Sources"
   ]
  },
  {
   "cell_type": "code",
   "execution_count": 4,
   "metadata": {
    "collapsed": true
   },
   "outputs": [],
   "source": [
    "#! mkdir ../data/Liu2010\n",
    "#! curl http://iopscience.iop.org/0004-637X/722/1/311/suppdata/apj336343t6_ascii.txt > ../data/Liu2010/apj336343t6_ascii.txt"
   ]
  },
  {
   "cell_type": "code",
   "execution_count": 5,
   "metadata": {
    "collapsed": false
   },
   "outputs": [
    {
     "data": {
      "text/html": [
       "<div>\n",
       "<table border=\"1\" class=\"dataframe\">\n",
       "  <thead>\n",
       "    <tr style=\"text-align: right;\">\n",
       "      <th></th>\n",
       "      <th>Bandpass</th>\n",
       "      <th>c_0</th>\n",
       "      <th>c_1</th>\n",
       "      <th>c_2</th>\n",
       "      <th>c_3</th>\n",
       "      <th>c_4</th>\n",
       "      <th>c_5</th>\n",
       "      <th>c_6</th>\n",
       "      <th>rms (mag)</th>\n",
       "    </tr>\n",
       "  </thead>\n",
       "  <tbody>\n",
       "    <tr>\n",
       "      <th>0</th>\n",
       "      <td>J_MKO</td>\n",
       "      <td>18.904480</td>\n",
       "      <td>-8.053993</td>\n",
       "      <td>1.491738</td>\n",
       "      <td>-0.136761</td>\n",
       "      <td>0.006541</td>\n",
       "      <td>-0.000156</td>\n",
       "      <td>1.462266e-06</td>\n",
       "      <td>0.14</td>\n",
       "    </tr>\n",
       "    <tr>\n",
       "      <th>1</th>\n",
       "      <td>H_MKO</td>\n",
       "      <td>13.667090</td>\n",
       "      <td>-5.426683</td>\n",
       "      <td>1.027185</td>\n",
       "      <td>-0.096185</td>\n",
       "      <td>0.004734</td>\n",
       "      <td>-0.000117</td>\n",
       "      <td>1.148133e-06</td>\n",
       "      <td>0.07</td>\n",
       "    </tr>\n",
       "    <tr>\n",
       "      <th>2</th>\n",
       "      <td>K_MKO</td>\n",
       "      <td>5.795845</td>\n",
       "      <td>-1.471358</td>\n",
       "      <td>0.286801</td>\n",
       "      <td>-0.026475</td>\n",
       "      <td>0.001283</td>\n",
       "      <td>-0.000032</td>\n",
       "      <td>3.159780e-07</td>\n",
       "      <td>0.08</td>\n",
       "    </tr>\n",
       "  </tbody>\n",
       "</table>\n",
       "</div>"
      ],
      "text/plain": [
       "  Bandpass        c_0       c_1       c_2       c_3       c_4       c_5  \\\n",
       "0    J_MKO  18.904480 -8.053993  1.491738 -0.136761  0.006541 -0.000156   \n",
       "1    H_MKO  13.667090 -5.426683  1.027185 -0.096185  0.004734 -0.000117   \n",
       "2    K_MKO   5.795845 -1.471358  0.286801 -0.026475  0.001283 -0.000032   \n",
       "\n",
       "            c_6  rms (mag)  \n",
       "0  1.462266e-06       0.14  \n",
       "1  1.148133e-06       0.07  \n",
       "2  3.159780e-07       0.08  "
      ]
     },
     "execution_count": 5,
     "metadata": {},
     "output_type": "execute_result"
    }
   ],
   "source": [
    "tbl6 = pd.read_csv(\"../data/Liu2010/apj336343t6_ascii.txt\",\n",
    "                   sep=\"\\t\", na_values=\" ... \", skiprows=[0,1,2], skipfooter=1, usecols=range(9))\n",
    "tbl6.head()"
   ]
  },
  {
   "cell_type": "markdown",
   "metadata": {},
   "source": [
    "We want the J-Band coefficients, **in order of highest order coefficient to lowest order coefficient**."
   ]
  },
  {
   "cell_type": "code",
   "execution_count": 6,
   "metadata": {
    "collapsed": false
   },
   "outputs": [],
   "source": [
    "J_s = tbl6.loc[0]"
   ]
  },
  {
   "cell_type": "code",
   "execution_count": 7,
   "metadata": {
    "collapsed": false
   },
   "outputs": [],
   "source": [
    "coeffs = J_s[[\"c_\"+str(i) for i in range(6, -1, -1)]].values"
   ]
  },
  {
   "cell_type": "code",
   "execution_count": 8,
   "metadata": {
    "collapsed": true
   },
   "outputs": [],
   "source": [
    "func = np.poly1d(coeffs)"
   ]
  },
  {
   "cell_type": "code",
   "execution_count": 9,
   "metadata": {
    "collapsed": false
   },
   "outputs": [
    {
     "name": "stdout",
     "output_type": "stream",
     "text": [
      "           6             5            4          3         2\n",
      "1.462e-06 x - 0.0001559 x + 0.006541 x - 0.1368 x + 1.492 x - 8.054 x + 18.9\n"
     ]
    }
   ],
   "source": [
    "print(func)"
   ]
  },
  {
   "cell_type": "markdown",
   "metadata": {},
   "source": [
    "*The end*"
   ]
  }
 ],
 "metadata": {
  "kernelspec": {
   "display_name": "Python 3",
   "language": "python",
   "name": "python3"
  },
  "language_info": {
   "codemirror_mode": {
    "name": "ipython",
    "version": 3
   },
   "file_extension": ".py",
   "mimetype": "text/x-python",
   "name": "python",
   "nbconvert_exporter": "python",
   "pygments_lexer": "ipython3",
   "version": "3.4.4"
  }
 },
 "nbformat": 4,
 "nbformat_minor": 0
}
