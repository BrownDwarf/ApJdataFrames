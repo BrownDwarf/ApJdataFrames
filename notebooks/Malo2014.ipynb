{
 "cells": [
  {
   "cell_type": "markdown",
   "metadata": {},
   "source": [
    "`ApJdataFrames` Malo et al. 2014\n",
    "---\n",
    "`Title`: BANYAN. III. Radial velocity, Rotation and X-ray emission of low-mass star candidates in nearby young kinematic groups  \n",
    "`Authors`: Malo L., Artigau E., Doyon R., Lafreniere D., Albert L., Gagne J.\n",
    "\n",
    "Data is from this paper:  \n",
    "http://iopscience.iop.org/article/10.1088/0004-637X/722/1/311/"
   ]
  },
  {
   "cell_type": "code",
   "execution_count": 1,
   "metadata": {
    "collapsed": false
   },
   "outputs": [],
   "source": [
    "import warnings\n",
    "warnings.filterwarnings(\"ignore\")"
   ]
  },
  {
   "cell_type": "code",
   "execution_count": 2,
   "metadata": {
    "collapsed": false
   },
   "outputs": [],
   "source": [
    "from astropy.io import ascii"
   ]
  },
  {
   "cell_type": "code",
   "execution_count": 3,
   "metadata": {
    "collapsed": true
   },
   "outputs": [],
   "source": [
    "import pandas as pd"
   ]
  },
  {
   "cell_type": "markdown",
   "metadata": {},
   "source": [
    "## Table 1 - Target Information for Ophiuchus Sources"
   ]
  },
  {
   "cell_type": "code",
   "execution_count": 8,
   "metadata": {
    "collapsed": true
   },
   "outputs": [],
   "source": [
    "#! mkdir ../data/Malo2014\n",
    "#! wget http://iopscience.iop.org/0004-637X/788/1/81/suppdata/apj494919t7_mrt.txt"
   ]
  },
  {
   "cell_type": "code",
   "execution_count": 9,
   "metadata": {
    "collapsed": false
   },
   "outputs": [
    {
     "name": "stdout",
     "output_type": "stream",
     "text": [
      "Title: BANYAN. III. Radial velocity, Rotation and X-ray emission of low-mass \r\n",
      "       star candidates in nearby young kinematic groups  \r\n",
      "Authors: Malo L., Artigau E., Doyon R., Lafreniere D., Albert L., Gagne J.\r\n",
      "Table:\r\n",
      "================================================================================\r\n",
      "Byte-by-byte Description of file: apj494919t7_mrt.txt\r\n",
      "--------------------------------------------------------------------------------\r\n",
      "   Bytes Format Units     Label  Explanations\r\n",
      "--------------------------------------------------------------------------------\r\n",
      "   1- 29 A29    ---       Mem    Member identifier\r\n"
     ]
    }
   ],
   "source": [
    "! head ../data/Malo2014/apj494919t7_mrt.txt"
   ]
  },
  {
   "cell_type": "code",
   "execution_count": 10,
   "metadata": {
    "collapsed": true
   },
   "outputs": [],
   "source": [
    "from astropy.table import Table, Column"
   ]
  },
  {
   "cell_type": "code",
   "execution_count": 11,
   "metadata": {
    "collapsed": true
   },
   "outputs": [],
   "source": [
    "t1 = Table.read(\"../data/Malo2014/apj494919t7_mrt.txt\", format='ascii')  "
   ]
  },
  {
   "cell_type": "code",
   "execution_count": 16,
   "metadata": {
    "collapsed": false
   },
   "outputs": [
    {
     "name": "stderr",
     "output_type": "stream",
     "text": [
      "//anaconda/lib/python3.4/site-packages/numpy/lib/function_base.py:564: VisibleDeprecationWarning: using a non-integer number instead of an integer will result in an error in the future\n",
      "  n = np.zeros(bins, ntype)\n",
      "//anaconda/lib/python3.4/site-packages/numpy/lib/function_base.py:600: VisibleDeprecationWarning: using a non-integer number instead of an integer will result in an error in the future\n",
      "  n += np.bincount(indices, weights=tmp_w, minlength=bins).astype(ntype)\n",
      "//anaconda/lib/python3.4/site-packages/statsmodels/nonparametric/kdetools.py:20: VisibleDeprecationWarning: using a non-integer number instead of an integer will result in an error in the future\n",
      "  y = X[:m/2+1] + np.r_[0,X[m/2+1:],0]*1j\n"
     ]
    },
    {
     "data": {
      "text/plain": [
       "<matplotlib.axes._subplots.AxesSubplot at 0x118cf0c50>"
      ]
     },
     "execution_count": 16,
     "metadata": {},
     "output_type": "execute_result"
    },
    {
     "data": {
      "image/png": "[encoded data removed]",
      "text/plain": [
       "<matplotlib.figure.Figure at 0x118c90940>"
      ]
     },
     "metadata": {
      "image/png": {
       "height": 258,
       "width": 374
      }
     },
     "output_type": "display_data"
    }
   ],
   "source": [
    "sns.distplot(t1['Jmag'].data.data)"
   ]
  },
  {
   "cell_type": "code",
   "execution_count": 12,
   "metadata": {
    "collapsed": false
   },
   "outputs": [
    {
     "data": {
      "text/html": [
       "&lt;Table masked=True length=187&gt;\n",
       "<table id=\"table4710583264\">\n",
       "<thead><tr><th>Mem</th><th>2MASS</th><th>Icmag</th><th>e_Icmag</th><th>f_Icmag</th><th>Jmag</th><th>e_Jmag</th><th>pmRA</th><th>e_pmRA</th><th>f_pmRA</th><th>pmDE</th><th>e_pmDE</th><th>f_pmDE</th><th>SpType</th><th>logfX</th><th>Ha</th><th>f_Ha</th><th>l_Li</th><th>Li</th><th>f_Li</th><th>l_vsini</th><th>vsini</th><th>e_vsini</th><th>f_vsini</th><th>RVm</th><th>e_RVm</th><th>f_RVm</th><th>RVp</th><th>e_RVp</th><th>dpi</th><th>e_dpi</th><th>f_dpi</th><th>ds</th><th>e_ds</th><th>P</th><th>f_P</th><th>Pv</th><th>f_Pv</th><th>logLx</th><th>e_logLx</th><th>Ref</th></tr></thead>\n",
       "<thead><tr><th></th><th></th><th>mag</th><th>mag</th><th></th><th>mag</th><th>mag</th><th>mas / yr</th><th>mas / yr</th><th></th><th>mas / yr</th><th>mas / yr</th><th></th><th></th><th>[mW/m2]</th><th>0.1 nm</th><th></th><th></th><th>1e-13 m</th><th></th><th></th><th>km / s</th><th>km / s</th><th></th><th>km / s</th><th>km / s</th><th></th><th>km / s</th><th>km / s</th><th>pc</th><th>pc</th><th></th><th>pc</th><th>pc</th><th>%</th><th></th><th>%</th><th></th><th>[10-7W]</th><th>[10-7W]</th><th></th></tr></thead>\n",
       "<thead><tr><th>str29</th><th>str17</th><th>float64</th><th>float64</th><th>str2</th><th>float64</th><th>float64</th><th>float64</th><th>float64</th><th>str2</th><th>float64</th><th>float64</th><th>str2</th><th>str10</th><th>float64</th><th>float64</th><th>str2</th><th>str1</th><th>int64</th><th>str2</th><th>str1</th><th>float64</th><th>float64</th><th>str2</th><th>float64</th><th>float64</th><th>str2</th><th>float64</th><th>float64</th><th>float64</th><th>float64</th><th>str2</th><th>int64</th><th>int64</th><th>float64</th><th>str1</th><th>float64</th><th>str1</th><th>float64</th><th>float64</th><th>str7</th></tr></thead>\n",
       "<tr><td>{beta} Pictoris moving group</td><td>J00172353-6645124</td><td>9.94</td><td>0.05</td><td>--</td><td>8.56</td><td>0.02</td><td>104.3</td><td>1.0</td><td>--</td><td>-13.5</td><td>1.0</td><td>--</td><td>M2.5V</td><td>-11.77</td><td>6.0</td><td>--</td><td>--</td><td>--</td><td>--</td><td>&lt;</td><td>7.4</td><td>--</td><td>zz</td><td>10.7</td><td>0.2</td><td>zz</td><td>10.9</td><td>1.5</td><td>39.0</td><td>2.6</td><td>vv</td><td>35</td><td>3</td><td>99.3</td><td>--</td><td>99.9</td><td>--</td><td>29.41</td><td>0.19</td><td>18</td></tr>\n",
       "<tr><td>{beta} Pictoris moving group</td><td>J00275023-3233060</td><td>10.29</td><td>0.03</td><td>vv</td><td>8.88</td><td>0.03</td><td>97.8</td><td>1.1</td><td>--</td><td>-60.9</td><td>4.0</td><td>--</td><td>M3.5Ve</td><td>-11.59</td><td>7.8</td><td>--</td><td>--</td><td>--</td><td>--</td><td>--</td><td>6.2</td><td>1.8</td><td>zz</td><td>8.8</td><td>0.2</td><td>zz</td><td>8.3</td><td>1.4</td><td>32.3</td><td>1.8</td><td>vv</td><td>33</td><td>2</td><td>1.8</td><td>--</td><td>99.9</td><td>--</td><td>29.53</td><td>0.15</td><td>17</td></tr>\n",
       "<tr><td>{beta} Pictoris moving group</td><td>J00275035-3233238</td><td>10.48</td><td>0.02</td><td>vv</td><td>8.97</td><td>0.03</td><td>117.4</td><td>2.8</td><td>--</td><td>-29.3</td><td>8.1</td><td>--</td><td>M3.5Ve</td><td>-11.59</td><td>5.3</td><td>--</td><td>--</td><td>--</td><td>--</td><td>&lt;</td><td>4.2</td><td>--</td><td>zz</td><td>8.5</td><td>0.2</td><td>zz</td><td>8.3</td><td>1.4</td><td>32.3</td><td>1.8</td><td>vv</td><td>32</td><td>2</td><td>97.2</td><td>--</td><td>99.9</td><td>--</td><td>29.51</td><td>0.15</td><td>17</td></tr>\n",
       "<tr><td>{beta} Pictoris moving group</td><td>J01132817-3821024</td><td>9.66</td><td>0.07</td><td>o</td><td>8.49</td><td>0.02</td><td>123.0</td><td>1.1</td><td>--</td><td>-38.3</td><td>1.2</td><td>--</td><td>M0.0+M1.0</td><td>-11.77</td><td>2.5</td><td>--</td><td>--</td><td>--</td><td>--</td><td>&lt;</td><td>9.1</td><td>--</td><td>zz</td><td>14.3</td><td>0.5</td><td>zz</td><td>11.9</td><td>1.4</td><td>--</td><td>--</td><td>--</td><td>29</td><td>2</td><td>16.7</td><td>--</td><td>99.3</td><td>--</td><td>--</td><td>--</td><td>18</td></tr>\n",
       "<tr><td>{beta} Pictoris moving group</td><td>J01365516-0647379</td><td>11.22</td><td>0.06</td><td>--</td><td>9.71</td><td>0.02</td><td>175.1</td><td>4.4</td><td>y</td><td>-98.8</td><td>4.4</td><td>y</td><td>M4V+&gt;L0</td><td>-12.03</td><td>6.0</td><td>--</td><td>--</td><td>--</td><td>--</td><td>--</td><td>--</td><td>--</td><td>--</td><td>12.2</td><td>0.4</td><td>uu</td><td>9.5</td><td>1.5</td><td>24.0</td><td>0.4</td><td>uu</td><td>21</td><td>1</td><td>28.3</td><td>--</td><td>99.9</td><td>--</td><td>--</td><td>--</td><td>18</td></tr>\n",
       "<tr><td>{beta} Pictoris moving group</td><td>J01535076-1459503</td><td>9.82</td><td>0.06</td><td>--</td><td>7.94</td><td>0.03</td><td>105.0</td><td>1.4</td><td>--</td><td>-45.7</td><td>1.4</td><td>--</td><td>M3V+M3V</td><td>-11.54</td><td>6.6</td><td>--</td><td>--</td><td>--</td><td>--</td><td>&lt;</td><td>11.2</td><td>--</td><td>zz</td><td>10.5</td><td>0.4</td><td>zz</td><td>12.0</td><td>1.5</td><td>--</td><td>--</td><td>--</td><td>28</td><td>2</td><td>99.9</td><td>l</td><td>99.9</td><td>l</td><td>--</td><td>--</td><td>18</td></tr>\n",
       "<tr><td>{beta} Pictoris moving group</td><td>J03323578+2843554</td><td>11.06</td><td>0.06</td><td>v</td><td>9.36</td><td>0.02</td><td>40.0</td><td>3.0</td><td>y</td><td>-60.0</td><td>4.0</td><td>y</td><td>M4+M4.5</td><td>-12.43</td><td>5.7</td><td>--</td><td>--</td><td>--</td><td>--</td><td>--</td><td>24.5</td><td>2.2</td><td>zz</td><td>9.4</td><td>0.4</td><td>zz</td><td>8.2</td><td>1.9</td><td>--</td><td>--</td><td>--</td><td>55</td><td>4</td><td>99.9</td><td>l</td><td>99.9</td><td>l</td><td>--</td><td>--</td><td>18</td></tr>\n",
       "<tr><td>{beta} Pictoris moving group</td><td>J04435686+3723033</td><td>11.01</td><td>0.13</td><td>v</td><td>9.71</td><td>0.02</td><td>27.3</td><td>5.1</td><td>z</td><td>-64.4</td><td>5.1</td><td>z</td><td>M3Ve</td><td>-12.31</td><td>--</td><td>--</td><td>--</td><td>--</td><td>--</td><td>--</td><td>10.6</td><td>1.0</td><td>zz</td><td>6.4</td><td>0.3</td><td>mm</td><td>7.6</td><td>2.0</td><td>--</td><td>--</td><td>--</td><td>59</td><td>5</td><td>95.6</td><td>--</td><td>96.4</td><td>--</td><td>29.33</td><td>0.22</td><td>11</td></tr>\n",
       "<tr><td>{beta} Pictoris moving group</td><td>J05082729-2101444</td><td>11.61</td><td>0.06</td><td>--</td><td>9.72</td><td>0.02</td><td>31.4</td><td>2.3</td><td>--</td><td>-16.0</td><td>2.3</td><td>--</td><td>M5V</td><td>-12.44</td><td>24.9</td><td>--</td><td>--</td><td>618</td><td>cc</td><td>--</td><td>25.3</td><td>4.3</td><td>zz</td><td>23.5</td><td>1.8</td><td>mm</td><td>21.1</td><td>1.7</td><td>--</td><td>--</td><td>--</td><td>25</td><td>5</td><td>99.9</td><td>l</td><td>99.9</td><td>l</td><td>28.44</td><td>0.37</td><td>18</td></tr>\n",
       "<tr><td>...</td><td>...</td><td>...</td><td>...</td><td>...</td><td>...</td><td>...</td><td>...</td><td>...</td><td>...</td><td>...</td><td>...</td><td>...</td><td>...</td><td>...</td><td>...</td><td>...</td><td>...</td><td>...</td><td>...</td><td>...</td><td>...</td><td>...</td><td>...</td><td>...</td><td>...</td><td>...</td><td>...</td><td>...</td><td>...</td><td>...</td><td>...</td><td>...</td><td>...</td><td>...</td><td>...</td><td>...</td><td>...</td><td>...</td><td>...</td><td>...</td></tr>\n",
       "<tr><td>Ambiguous candidate members</td><td>J06434532-6424396</td><td>10.67</td><td>0.09</td><td>--</td><td>9.29</td><td>0.02</td><td>2.3</td><td>2.4</td><td>--</td><td>54.5</td><td>2.4</td><td>--</td><td>M4+M3+M5</td><td>-11.97</td><td>6.3</td><td>--</td><td>--</td><td>--</td><td>--</td><td>--</td><td>14.1</td><td>2.6</td><td>zz</td><td>20.2</td><td>0.4</td><td>zz</td><td>--</td><td>--</td><td>--</td><td>--</td><td>--</td><td>--</td><td>--</td><td>--</td><td>--</td><td>--</td><td>--</td><td>--</td><td>--</td><td>18</td></tr>\n",
       "<tr><td>Ambiguous candidate members</td><td>J08412528-5736021</td><td>10.94</td><td>0.05</td><td>--</td><td>9.58</td><td>0.03</td><td>-20.7</td><td>3.7</td><td>--</td><td>26.5</td><td>2.0</td><td>--</td><td>M3V+M3V</td><td>-11.95</td><td>9.4</td><td>--</td><td>--</td><td>--</td><td>--</td><td>&lt;</td><td>5.6</td><td>--</td><td>zz</td><td>21.4</td><td>0.2</td><td>zz</td><td>--</td><td>--</td><td>--</td><td>--</td><td>--</td><td>--</td><td>--</td><td>--</td><td>--</td><td>--</td><td>--</td><td>--</td><td>--</td><td>18</td></tr>\n",
       "<tr><td>Ambiguous candidate members</td><td>J09315840-6209258</td><td>11.42</td><td>0.06</td><td>--</td><td>9.95</td><td>0.02</td><td>-38.4</td><td>4.2</td><td>--</td><td>18.6</td><td>2.8</td><td>--</td><td>M3.5V</td><td>-11.96</td><td>9.1</td><td>--</td><td>--</td><td>--</td><td>--</td><td>--</td><td>20.4</td><td>2.8</td><td>zz</td><td>18.8</td><td>0.8</td><td>zz</td><td>--</td><td>--</td><td>--</td><td>--</td><td>--</td><td>--</td><td>--</td><td>--</td><td>--</td><td>--</td><td>--</td><td>--</td><td>--</td><td>18</td></tr>\n",
       "<tr><td>Ambiguous candidate members</td><td>J10252092-4241539</td><td>10.64</td><td>0.06</td><td>--</td><td>9.5</td><td>0.03</td><td>-46.8</td><td>1.2</td><td>--</td><td>-2.2</td><td>1.2</td><td>--</td><td>M1V</td><td>-12.08</td><td>4.1</td><td>--</td><td>--</td><td>490</td><td>xx</td><td>--</td><td>11.5</td><td>3.2</td><td>zz</td><td>17.6</td><td>0.5</td><td>zz</td><td>--</td><td>--</td><td>--</td><td>--</td><td>--</td><td>--</td><td>--</td><td>--</td><td>--</td><td>--</td><td>--</td><td>--</td><td>--</td><td>13</td></tr>\n",
       "<tr><td>Ambiguous candidate members</td><td>J10423011-3340162</td><td>9.21</td><td>0.0</td><td>m</td><td>7.79</td><td>0.02</td><td>-122.2</td><td>2.2</td><td>y</td><td>-29.3</td><td>2.2</td><td>y</td><td>M2Ve</td><td>-11.59</td><td>6.5</td><td>--</td><td>--</td><td>530</td><td>m</td><td>--</td><td>4.4</td><td>1.2</td><td>--</td><td>11.4</td><td>0.8</td><td>m</td><td>--</td><td>--</td><td>--</td><td>--</td><td>--</td><td>--</td><td>--</td><td>--</td><td>--</td><td>--</td><td>--</td><td>--</td><td>--</td><td>2</td></tr>\n",
       "<tr><td>Ambiguous candidate members</td><td>J11091606-7352465</td><td>11.22</td><td>0.06</td><td>--</td><td>9.86</td><td>0.03</td><td>-53.3</td><td>1.9</td><td>--</td><td>10.3</td><td>1.9</td><td>--</td><td>M3V</td><td>-12.1</td><td>6.2</td><td>--</td><td>--</td><td>--</td><td>--</td><td>--</td><td>45.0</td><td>4.7</td><td>zz</td><td>13.9</td><td>2.4</td><td>zz</td><td>--</td><td>--</td><td>--</td><td>--</td><td>--</td><td>--</td><td>--</td><td>--</td><td>--</td><td>--</td><td>--</td><td>--</td><td>--</td><td>18</td></tr>\n",
       "<tr><td>Ambiguous candidate members</td><td>J13412668-4341522</td><td>12.41</td><td>0.06</td><td>--</td><td>10.75</td><td>0.02</td><td>-107.0</td><td>3.0</td><td>--</td><td>-60.8</td><td>3.0</td><td>--</td><td>M3.5V</td><td>-12.31</td><td>8.4</td><td>--</td><td>--</td><td>--</td><td>--</td><td>&lt;</td><td>13.1</td><td>--</td><td>zz</td><td>3.1</td><td>0.2</td><td>zz</td><td>--</td><td>--</td><td>--</td><td>--</td><td>--</td><td>--</td><td>--</td><td>--</td><td>--</td><td>--</td><td>--</td><td>--</td><td>--</td><td>18</td></tr>\n",
       "<tr><td>Ambiguous candidate members</td><td>J14252913-4113323</td><td>10.06</td><td>0.11</td><td>vv</td><td>8.55</td><td>0.03</td><td>-46.8</td><td>2.1</td><td>v</td><td>-49.2</td><td>1.7</td><td>v</td><td>M2.5Ve*</td><td>--</td><td>7.0</td><td>vv</td><td>--</td><td>--</td><td>--</td><td>--</td><td>93.3</td><td>6.9</td><td>zz</td><td>-2.0</td><td>1.6</td><td>zz</td><td>--</td><td>--</td><td>66.9</td><td>4.3</td><td>vv</td><td>--</td><td>--</td><td>--</td><td>--</td><td>--</td><td>--</td><td>--</td><td>--</td><td>17</td></tr>\n",
       "<tr><td>Ambiguous candidate members</td><td>J18141047-3247344</td><td>9.16</td><td>0.07</td><td>--</td><td>8.07</td><td>0.02</td><td>3.3</td><td>1.7</td><td>--</td><td>-52.0</td><td>1.3</td><td>--</td><td>K6Ve(sb2)</td><td>-11.66</td><td>60.0</td><td>gg</td><td>--</td><td>440</td><td>II</td><td>--</td><td>117.2</td><td>4.6</td><td>zz</td><td>-13.3</td><td>7.7</td><td>zz</td><td>--</td><td>--</td><td>--</td><td>--</td><td>--</td><td>--</td><td>--</td><td>--</td><td>--</td><td>--</td><td>--</td><td>--</td><td>--</td><td>6</td></tr>\n",
       "<tr><td>Ambiguous candidate members</td><td>J23314492-0244395</td><td>11.24</td><td>0.07</td><td>o</td><td>9.51</td><td>0.02</td><td>90.0</td><td>2.0</td><td>y</td><td>-60.0</td><td>1.0</td><td>y</td><td>M4.5V</td><td>-11.95</td><td>19.0</td><td>--</td><td>--</td><td>--</td><td>--</td><td>&lt;</td><td>5.4</td><td>--</td><td>zz</td><td>-5.0</td><td>0.3</td><td>zz</td><td>--</td><td>--</td><td>--</td><td>--</td><td>--</td><td>--</td><td>--</td><td>--</td><td>--</td><td>--</td><td>--</td><td>--</td><td>--</td><td>18</td></tr>\n",
       "</table>"
      ],
      "text/plain": [
       "<Table masked=True length=187>\n",
       "            Mem                    2MASS        Icmag  ...  logLx  e_logLx Ref \n",
       "                                                 mag   ... [10-7W] [10-7W]     \n",
       "           str29                   str17       float64 ... float64 float64 str7\n",
       "---------------------------- ----------------- ------- ... ------- ------- ----\n",
       "{beta} Pictoris moving group J00172353-6645124    9.94 ...   29.41    0.19   18\n",
       "{beta} Pictoris moving group J00275023-3233060   10.29 ...   29.53    0.15   17\n",
       "{beta} Pictoris moving group J00275035-3233238   10.48 ...   29.51    0.15   17\n",
       "{beta} Pictoris moving group J01132817-3821024    9.66 ...      --      --   18\n",
       "{beta} Pictoris moving group J01365516-0647379   11.22 ...      --      --   18\n",
       "{beta} Pictoris moving group J01535076-1459503    9.82 ...      --      --   18\n",
       "{beta} Pictoris moving group J03323578+2843554   11.06 ...      --      --   18\n",
       "{beta} Pictoris moving group J04435686+3723033   11.01 ...   29.33    0.22   11\n",
       "{beta} Pictoris moving group J05082729-2101444   11.61 ...   28.44    0.37   18\n",
       "                         ...               ...     ... ...     ...     ...  ...\n",
       " Ambiguous candidate members J06434532-6424396   10.67 ...      --      --   18\n",
       " Ambiguous candidate members J08412528-5736021   10.94 ...      --      --   18\n",
       " Ambiguous candidate members J09315840-6209258   11.42 ...      --      --   18\n",
       " Ambiguous candidate members J10252092-4241539   10.64 ...      --      --   13\n",
       " Ambiguous candidate members J10423011-3340162    9.21 ...      --      --    2\n",
       " Ambiguous candidate members J11091606-7352465   11.22 ...      --      --   18\n",
       " Ambiguous candidate members J13412668-4341522   12.41 ...      --      --   18\n",
       " Ambiguous candidate members J14252913-4113323   10.06 ...      --      --   17\n",
       " Ambiguous candidate members J18141047-3247344    9.16 ...      --      --    6\n",
       " Ambiguous candidate members J23314492-0244395   11.24 ...      --      --   18"
      ]
     },
     "execution_count": 12,
     "metadata": {},
     "output_type": "execute_result"
    }
   ],
   "source": [
    "t1"
   ]
  },
  {
   "cell_type": "code",
   "execution_count": null,
   "metadata": {
    "collapsed": true
   },
   "outputs": [],
   "source": []
  },
  {
   "cell_type": "markdown",
   "metadata": {},
   "source": [
    "The end."
   ]
  }
 ],
 "metadata": {
  "kernelspec": {
   "display_name": "Python 3",
   "language": "python",
   "name": "python3"
  },
  "language_info": {
   "codemirror_mode": {
    "name": "ipython",
    "version": 3
   },
   "file_extension": ".py",
   "mimetype": "text/x-python",
   "name": "python",
   "nbconvert_exporter": "python",
   "pygments_lexer": "ipython3",
   "version": "3.4.5"
  }
 },
 "nbformat": 4,
 "nbformat_minor": 0
}
