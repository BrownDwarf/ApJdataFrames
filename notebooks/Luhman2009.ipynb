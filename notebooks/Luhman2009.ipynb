{
 "metadata": {
  "name": "",
  "signature": "sha256:33326aa68d0fe826ec727f6a9ec69cb9cea135c243fbf21336766a35a51d545a"
 },
 "nbformat": 3,
 "nbformat_minor": 0,
 "worksheets": [
  {
   "cells": [
    {
     "cell_type": "markdown",
     "metadata": {},
     "source": [
      "`ApJdataFrames` 009: Luhman2009\n",
      "---\n",
      "`Title`: An Infrared/X-Ray Survey for New Members of the Taurus Star-Forming Region  \n",
      "`Authors`: Kevin L Luhman, E. E. Mamajek, P R Allen, and Kelle L Cruz\n",
      "\n",
      "Data is from this paper:  \n",
      "http://iopscience.iop.org/0004-637X/703/1/399/article#apj319072t2"
     ]
    },
    {
     "cell_type": "code",
     "collapsed": false,
     "input": [
      "%pylab inline\n",
      "import seaborn as sns"
     ],
     "language": "python",
     "metadata": {},
     "outputs": [
      {
       "output_type": "stream",
       "stream": "stdout",
       "text": [
        "Populating the interactive namespace from numpy and matplotlib\n"
       ]
      }
     ],
     "prompt_number": 1
    },
    {
     "cell_type": "code",
     "collapsed": false,
     "input": [
      "import warnings\n",
      "warnings.filterwarnings(\"ignore\")"
     ],
     "language": "python",
     "metadata": {},
     "outputs": [],
     "prompt_number": 2
    },
    {
     "cell_type": "code",
     "collapsed": false,
     "input": [
      "import pandas as pd"
     ],
     "language": "python",
     "metadata": {},
     "outputs": [],
     "prompt_number": 3
    },
    {
     "cell_type": "markdown",
     "metadata": {},
     "source": [
      "## Table 2- Members of Taurus in Spectroscopic Sample"
     ]
    },
    {
     "cell_type": "code",
     "collapsed": false,
     "input": [
      "tbl2 = pd.read_csv(\"http://iopscience.iop.org/0004-637X/703/1/399/suppdata/apj319072t2_ascii.txt\", \n",
      "                   nrows=43, sep='\\t', skiprows=2, na_values=[\" sdotsdotsdot\"])\n",
      "tbl2.drop(\"Unnamed: 10\",axis=1, inplace=True)"
     ],
     "language": "python",
     "metadata": {},
     "outputs": [],
     "prompt_number": 4
    },
    {
     "cell_type": "markdown",
     "metadata": {},
     "source": [
      "Clean the column names."
     ]
    },
    {
     "cell_type": "code",
     "collapsed": false,
     "input": [
      "new_names = ['2MASS', 'Other_Names', 'Spectral_Type', 'T_eff', 'A_J','L_bol','Membership',\n",
      "       'EW_Halpha', 'Basis of Selection', 'Night']\n",
      "old_names = tbl2.columns.values\n",
      "tbl2.rename(columns=dict(zip(old_names, new_names)), inplace=True)\n"
     ],
     "language": "python",
     "metadata": {},
     "outputs": [],
     "prompt_number": 5
    },
    {
     "cell_type": "code",
     "collapsed": false,
     "input": [
      "tbl2.head()"
     ],
     "language": "python",
     "metadata": {},
     "outputs": [
      {
       "html": [
        "<div style=\"max-height:1000px;max-width:1500px;overflow:auto;\">\n",
        "<table border=\"1\" class=\"dataframe\">\n",
        "  <thead>\n",
        "    <tr style=\"text-align: right;\">\n",
        "      <th></th>\n",
        "      <th>2MASS</th>\n",
        "      <th>Other_Names</th>\n",
        "      <th>Spectral_Type</th>\n",
        "      <th>T_eff</th>\n",
        "      <th>A_J</th>\n",
        "      <th>L_bol</th>\n",
        "      <th>Membership</th>\n",
        "      <th>EW_Halpha</th>\n",
        "      <th>Basis of Selection</th>\n",
        "      <th>Night</th>\n",
        "    </tr>\n",
        "  </thead>\n",
        "  <tbody>\n",
        "    <tr>\n",
        "      <th>0</th>\n",
        "      <td> J04034997+2620382</td>\n",
        "      <td>     XEST 06-006</td>\n",
        "      <td> M5.25</td>\n",
        "      <td> 3091</td>\n",
        "      <td> 0.00</td>\n",
        "      <td> 0.012</td>\n",
        "      <td>      NaK, mu</td>\n",
        "      <td>   9 +or- 0.5</td>\n",
        "      <td> X-ray</td>\n",
        "      <td> 11</td>\n",
        "    </tr>\n",
        "    <tr>\n",
        "      <th>1</th>\n",
        "      <td> J04144739+2803055</td>\n",
        "      <td>     XEST 20-066</td>\n",
        "      <td> M5.25</td>\n",
        "      <td> 3091</td>\n",
        "      <td> 0.00</td>\n",
        "      <td> 0.120</td>\n",
        "      <td>      NaK, mu</td>\n",
        "      <td> 8.5 +or- 0.5</td>\n",
        "      <td> X-ray</td>\n",
        "      <td> 21</td>\n",
        "    </tr>\n",
        "    <tr>\n",
        "      <th>2</th>\n",
        "      <td> J04145234+2805598</td>\n",
        "      <td>     XEST 20-071</td>\n",
        "      <td> M3.25</td>\n",
        "      <td> 3379</td>\n",
        "      <td> 0.78</td>\n",
        "      <td> 0.840</td>\n",
        "      <td> A_V, NaK, mu</td>\n",
        "      <td> 7.5 +or- 0.5</td>\n",
        "      <td> X-ray</td>\n",
        "      <td> 17</td>\n",
        "    </tr>\n",
        "    <tr>\n",
        "      <th>3</th>\n",
        "      <td> J04153916+2818586</td>\n",
        "      <td>             NaN</td>\n",
        "      <td> M3.75</td>\n",
        "      <td> 3306</td>\n",
        "      <td> 0.56</td>\n",
        "      <td> 0.270</td>\n",
        "      <td> ex, NaK, A_V</td>\n",
        "      <td>    14 +or- 1</td>\n",
        "      <td>    IR</td>\n",
        "      <td>  7</td>\n",
        "    </tr>\n",
        "    <tr>\n",
        "      <th>4</th>\n",
        "      <td> J04154278+2909597</td>\n",
        "      <td> IRAS 04125+2902</td>\n",
        "      <td> M1.25</td>\n",
        "      <td> 3669</td>\n",
        "      <td> 0.56</td>\n",
        "      <td> 0.280</td>\n",
        "      <td>  A_V, ex, mu</td>\n",
        "      <td> 2.3 +or- 0.3</td>\n",
        "      <td>    IR</td>\n",
        "      <td> 45</td>\n",
        "    </tr>\n",
        "  </tbody>\n",
        "</table>\n",
        "</div>"
       ],
       "metadata": {},
       "output_type": "pyout",
       "prompt_number": 6,
       "text": [
        "               2MASS      Other_Names Spectral_Type  T_eff   A_J  L_bol  \\\n",
        "0  J04034997+2620382      XEST 06-006         M5.25   3091  0.00  0.012   \n",
        "1  J04144739+2803055      XEST 20-066         M5.25   3091  0.00  0.120   \n",
        "2  J04145234+2805598      XEST 20-071         M3.25   3379  0.78  0.840   \n",
        "3  J04153916+2818586              NaN         M3.75   3306  0.56  0.270   \n",
        "4  J04154278+2909597  IRAS 04125+2902         M1.25   3669  0.56  0.280   \n",
        "\n",
        "     Membership     EW_Halpha Basis of Selection Night  \n",
        "0       NaK, mu    9 +or- 0.5              X-ray    11  \n",
        "1       NaK, mu  8.5 +or- 0.5              X-ray    21  \n",
        "2  A_V, NaK, mu  7.5 +or- 0.5              X-ray    17  \n",
        "3  ex, NaK, A_V     14 +or- 1                 IR     7  \n",
        "4   A_V, ex, mu  2.3 +or- 0.3                 IR    45  "
       ]
      }
     ],
     "prompt_number": 6
    },
    {
     "cell_type": "code",
     "collapsed": false,
     "input": [
      "sns.set_context(\"notebook\", font_scale=1.5)"
     ],
     "language": "python",
     "metadata": {},
     "outputs": [],
     "prompt_number": 7
    },
    {
     "cell_type": "code",
     "collapsed": false,
     "input": [
      "plt.plot(tbl2.T_eff, tbl2.L_bol, '.')\n",
      "plt.ylabel(r\"$L/L_{sun}$\")\n",
      "plt.xlabel(r\"$T_{eff} (K)$\")\n",
      "plt.yscale(\"log\")\n",
      "plt.title(\"Luhman et al. 2009 Taurus Members\")\n",
      "plt.xlim(5000,2000)"
     ],
     "language": "python",
     "metadata": {},
     "outputs": [
      {
       "metadata": {},
       "output_type": "pyout",
       "prompt_number": 8,
       "text": [
        "(5000, 2000)"
       ]
      },
      {
       "metadata": {},
       "output_type": "display_data",
       "png": "[encoded data removed]",
       "text": [
        "<matplotlib.figure.Figure at 0x1122fde90>"
       ]
      }
     ],
     "prompt_number": 8
    },
    {
     "cell_type": "markdown",
     "metadata": {},
     "source": [
      "# Save the data tables locally."
     ]
    },
    {
     "cell_type": "code",
     "collapsed": false,
     "input": [
      "! mkdir ../data/Luhman2009"
     ],
     "language": "python",
     "metadata": {},
     "outputs": [],
     "prompt_number": 10
    },
    {
     "cell_type": "code",
     "collapsed": false,
     "input": [
      "tbl2.to_csv(\"../data/Luhman2009/tbl2.csv\", sep=\"\\t\")"
     ],
     "language": "python",
     "metadata": {},
     "outputs": [],
     "prompt_number": 11
    },
    {
     "cell_type": "markdown",
     "metadata": {},
     "source": [
      "**The end.**"
     ]
    }
   ],
   "metadata": {}
  }
 ]
}