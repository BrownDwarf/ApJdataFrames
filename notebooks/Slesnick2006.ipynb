{
 "cells": [
  {
   "cell_type": "markdown",
   "metadata": {},
   "source": [
    "`ApJdataFrames` Slesnick2006\n",
    "---\n",
    "`Title`: A LARGE-AREA SEARCH FOR LOW-MASS OBJECTS IN UPPER SCORPIUS. I. THE PHOTOMETRIC CAMPAIGN AND NEW BROWN DWARFS   \n",
    "`Authors`: CATHERINE L. SLESNICK, JOHN M. CARPENTER, AND LYNNE A. HILLENBRAND  \n",
    "\n",
    "Data is from this paper:\n",
    "http://iopscience.iop.org/1538-3881/131/6/3016/fulltext/205148.html"
   ]
  },
  {
   "cell_type": "code",
   "execution_count": 1,
   "metadata": {
    "collapsed": false
   },
   "outputs": [],
   "source": [
    "import warnings\n",
    "warnings.filterwarnings(\"ignore\")"
   ]
  },
  {
   "cell_type": "markdown",
   "metadata": {},
   "source": [
    "## Table 1- Measured Quantities for PMS Candidates with Observed Spectra"
   ]
  },
  {
   "cell_type": "code",
   "execution_count": 2,
   "metadata": {
    "collapsed": false
   },
   "outputs": [],
   "source": [
    "import pandas as pd"
   ]
  },
  {
   "cell_type": "code",
   "execution_count": 3,
   "metadata": {
    "collapsed": false
   },
   "outputs": [
    {
     "data": {
      "text/html": [
       "<div style=\"max-height:1000px;max-width:1500px;overflow:auto;\">\n",
       "<table border=\"1\" class=\"dataframe\">\n",
       "  <thead>\n",
       "    <tr style=\"text-align: right;\">\n",
       "      <th></th>\n",
       "      <th>ID</th>\n",
       "      <th>R</th>\n",
       "      <th>I</th>\n",
       "      <th>J</th>\n",
       "      <th>H</th>\n",
       "      <th>KS</th>\n",
       "      <th>TiO_7140</th>\n",
       "      <th>TiO_8465</th>\n",
       "      <th>NaI_8189</th>\n",
       "      <th>Spectral Type</th>\n",
       "      <th>EW_Ha</th>\n",
       "      <th>Gravity</th>\n",
       "    </tr>\n",
       "  </thead>\n",
       "  <tbody>\n",
       "    <tr>\n",
       "      <th>0</th>\n",
       "      <td> SCH 15563309-18074323</td>\n",
       "      <td> 19.7</td>\n",
       "      <td> 16.5</td>\n",
       "      <td> 14.18</td>\n",
       "      <td> 13.61</td>\n",
       "      <td> 13.13</td>\n",
       "      <td> 3.22</td>\n",
       "      <td> 1.80</td>\n",
       "      <td> 0.81</td>\n",
       "      <td>   M7</td>\n",
       "      <td>  NaN</td>\n",
       "      <td> Dwarf</td>\n",
       "    </tr>\n",
       "    <tr>\n",
       "      <th>1</th>\n",
       "      <td> SCH 15582384-15310335</td>\n",
       "      <td> 16.1</td>\n",
       "      <td> 13.9</td>\n",
       "      <td> 12.36</td>\n",
       "      <td> 11.79</td>\n",
       "      <td> 11.52</td>\n",
       "      <td> 1.76</td>\n",
       "      <td> 1.16</td>\n",
       "      <td> 0.83</td>\n",
       "      <td> M4.5</td>\n",
       "      <td> -5.4</td>\n",
       "      <td> Dwarf</td>\n",
       "    </tr>\n",
       "    <tr>\n",
       "      <th>2</th>\n",
       "      <td> SCH 15583162-24025411</td>\n",
       "      <td> 17.5</td>\n",
       "      <td> 15.0</td>\n",
       "      <td> 13.16</td>\n",
       "      <td> 12.51</td>\n",
       "      <td> 12.20</td>\n",
       "      <td> 1.95</td>\n",
       "      <td> 1.25</td>\n",
       "      <td> 0.93</td>\n",
       "      <td> M4.5</td>\n",
       "      <td> -7.6</td>\n",
       "      <td>  USco</td>\n",
       "    </tr>\n",
       "    <tr>\n",
       "      <th>3</th>\n",
       "      <td> SCH 15594802-22271650</td>\n",
       "      <td> 19.1</td>\n",
       "      <td> 16.5</td>\n",
       "      <td> 14.24</td>\n",
       "      <td> 13.56</td>\n",
       "      <td> 13.16</td>\n",
       "      <td> 2.78</td>\n",
       "      <td> 1.90</td>\n",
       "      <td> 0.93</td>\n",
       "      <td> M7.5</td>\n",
       "      <td>-15.2</td>\n",
       "      <td>  USco</td>\n",
       "    </tr>\n",
       "    <tr>\n",
       "      <th>4</th>\n",
       "      <td> SCH 16014768-24410152</td>\n",
       "      <td> 18.5</td>\n",
       "      <td> 15.9</td>\n",
       "      <td> 13.87</td>\n",
       "      <td> 13.27</td>\n",
       "      <td> 13.00</td>\n",
       "      <td> 2.44</td>\n",
       "      <td> 1.45</td>\n",
       "      <td> 0.86</td>\n",
       "      <td>   M5</td>\n",
       "      <td>-16.0</td>\n",
       "      <td>  USco</td>\n",
       "    </tr>\n",
       "  </tbody>\n",
       "</table>\n",
       "</div>"
      ],
      "text/plain": [
       "                      ID     R     I      J      H     KS  TiO_7140  TiO_8465  \\\n",
       "0  SCH 15563309-18074323  19.7  16.5  14.18  13.61  13.13      3.22      1.80   \n",
       "1  SCH 15582384-15310335  16.1  13.9  12.36  11.79  11.52      1.76      1.16   \n",
       "2  SCH 15583162-24025411  17.5  15.0  13.16  12.51  12.20      1.95      1.25   \n",
       "3  SCH 15594802-22271650  19.1  16.5  14.24  13.56  13.16      2.78      1.90   \n",
       "4  SCH 16014768-24410152  18.5  15.9  13.87  13.27  13.00      2.44      1.45   \n",
       "\n",
       "   NaI_8189 Spectral Type  EW_Ha Gravity  \n",
       "0      0.81            M7    NaN   Dwarf  \n",
       "1      0.83          M4.5   -5.4   Dwarf  \n",
       "2      0.93          M4.5   -7.6    USco  \n",
       "3      0.93          M7.5  -15.2    USco  \n",
       "4      0.86            M5  -16.0    USco  "
      ]
     },
     "execution_count": 3,
     "metadata": {},
     "output_type": "execute_result"
    }
   ],
   "source": [
    "names = [\"ID\",\"R\",\"I\",\"J\",\"H\",\"KS\",\"TiO_7140\",\"TiO_8465\",\"NaI_8189\",\"Spectral Type\",\"EW_Ha\",\"Gravity\"]\n",
    "tbl1 = pd.read_csv(\"http://iopscience.iop.org/1538-3881/131/6/3016/fulltext/205148.tb1.txt\",\n",
    "                   sep='\\t', names=names, skip_blank_lines=True, na_values='\\ldots')\n",
    "tbl1.head()"
   ]
  },
  {
   "cell_type": "markdown",
   "metadata": {},
   "source": [
    "## Table 2 - Derived Quantities for New USco Members"
   ]
  },
  {
   "cell_type": "code",
   "execution_count": 4,
   "metadata": {
    "collapsed": false
   },
   "outputs": [
    {
     "data": {
      "text/html": [
       "<div style=\"max-height:1000px;max-width:1500px;overflow:auto;\">\n",
       "<table border=\"1\" class=\"dataframe\">\n",
       "  <thead>\n",
       "    <tr style=\"text-align: right;\">\n",
       "      <th></th>\n",
       "      <th>ID</th>\n",
       "      <th>MJ</th>\n",
       "      <th>AV</th>\n",
       "      <th>log_Teff</th>\n",
       "      <th>log_L_bol</th>\n",
       "    </tr>\n",
       "  </thead>\n",
       "  <tbody>\n",
       "    <tr>\n",
       "      <th>0</th>\n",
       "      <td> SCH 15583162-24025411</td>\n",
       "      <td> 7.18</td>\n",
       "      <td> 0.66</td>\n",
       "      <td> 3.48</td>\n",
       "      <td>-1.76</td>\n",
       "    </tr>\n",
       "    <tr>\n",
       "      <th>1</th>\n",
       "      <td> SCH 15594802-22271650</td>\n",
       "      <td> 8.35</td>\n",
       "      <td> 0.33</td>\n",
       "      <td> 3.41</td>\n",
       "      <td>-2.27</td>\n",
       "    </tr>\n",
       "    <tr>\n",
       "      <th>2</th>\n",
       "      <td> SCH 16014768-24410152</td>\n",
       "      <td> 8.03</td>\n",
       "      <td> 0.15</td>\n",
       "      <td> 3.47</td>\n",
       "      <td>-2.11</td>\n",
       "    </tr>\n",
       "    <tr>\n",
       "      <th>3</th>\n",
       "      <td> SCH 16040453-23463795</td>\n",
       "      <td> 5.64</td>\n",
       "      <td> 1.14</td>\n",
       "      <td> 3.49</td>\n",
       "      <td>-1.13</td>\n",
       "    </tr>\n",
       "    <tr>\n",
       "      <th>4</th>\n",
       "      <td> SCH 16044303-23182620</td>\n",
       "      <td> 7.99</td>\n",
       "      <td> 0.05</td>\n",
       "      <td> 3.43</td>\n",
       "      <td>-2.12</td>\n",
       "    </tr>\n",
       "  </tbody>\n",
       "</table>\n",
       "</div>"
      ],
      "text/plain": [
       "                      ID    MJ    AV  log_Teff  log_L_bol\n",
       "0  SCH 15583162-24025411  7.18  0.66      3.48      -1.76\n",
       "1  SCH 15594802-22271650  8.35  0.33      3.41      -2.27\n",
       "2  SCH 16014768-24410152  8.03  0.15      3.47      -2.11\n",
       "3  SCH 16040453-23463795  5.64  1.14      3.49      -1.13\n",
       "4  SCH 16044303-23182620  7.99  0.05      3.43      -2.12"
      ]
     },
     "execution_count": 4,
     "metadata": {},
     "output_type": "execute_result"
    }
   ],
   "source": [
    "names = [\"ID\",\"MJ\",\"AV\",\"log_Teff\",\"log_L_bol\"]\n",
    "tbl2 = pd.read_csv(\"http://iopscience.iop.org/1538-3881/131/6/3016/fulltext/205148.tb2.txt\",\n",
    "                   sep='\\t', names=names, skip_blank_lines=True, na_values='\\ldots')\n",
    "tbl2.head()"
   ]
  },
  {
   "cell_type": "markdown",
   "metadata": {},
   "source": [
    "# Save the data tables locally."
   ]
  },
  {
   "cell_type": "code",
   "execution_count": 5,
   "metadata": {
    "collapsed": false
   },
   "outputs": [
    {
     "name": "stdout",
     "output_type": "stream",
     "text": [
      "mkdir: ../data/Slesnick2006: File exists\r\n"
     ]
    }
   ],
   "source": [
    "mkdir ../data/Slesnick2006"
   ]
  },
  {
   "cell_type": "code",
   "execution_count": 6,
   "metadata": {
    "collapsed": false
   },
   "outputs": [],
   "source": [
    "tbl1.to_csv(\"../data/Slesnick2006/tbl1.csv\", sep=\"\\t\", index=False)\n",
    "tbl2.to_csv(\"../data/Slesnick2006/tbl2.csv\", sep=\"\\t\", index=False)"
   ]
  },
  {
   "cell_type": "markdown",
   "metadata": {},
   "source": [
    "# Make a plot"
   ]
  },
  {
   "cell_type": "code",
   "execution_count": 7,
   "metadata": {
    "collapsed": false
   },
   "outputs": [],
   "source": [
    "%matplotlib inline\n",
    "import seaborn as sns\n",
    "import matplotlib.pyplot as plt"
   ]
  },
  {
   "cell_type": "code",
   "execution_count": 8,
   "metadata": {
    "collapsed": false
   },
   "outputs": [],
   "source": [
    "import gully_custom"
   ]
  },
  {
   "cell_type": "code",
   "execution_count": 9,
   "metadata": {
    "collapsed": false
   },
   "outputs": [],
   "source": [
    "SpT, _, _, _ = gully_custom.specTypePlus(tbl1[\"Spectral Type\"])"
   ]
  },
  {
   "cell_type": "markdown",
   "metadata": {},
   "source": [
    "Turn the ratio into an equivalent width:\n",
    "\n",
    "$EW = (1 - \\frac{F_{\\lambda_{8189}}}{F_{\\lambda_{8150}}})\\Delta \\lambda$"
   ]
  },
  {
   "cell_type": "code",
   "execution_count": 10,
   "metadata": {
    "collapsed": false
   },
   "outputs": [],
   "source": [
    "EW_NaI_8189 = (1.0 - tbl1.NaI_8189.values)*30.0"
   ]
  },
  {
   "cell_type": "code",
   "execution_count": 11,
   "metadata": {
    "collapsed": false
   },
   "outputs": [
    {
     "data": {
      "text/plain": [
       "(-5, 8.5)"
      ]
     },
     "execution_count": 11,
     "metadata": {},
     "output_type": "execute_result"
    },
    {
     "data": {
      "image/png": "[encoded data removed]",
      "text/plain": [
       "<matplotlib.figure.Figure at 0x10f314e90>"
      ]
     },
     "metadata": {},
     "output_type": "display_data"
    }
   ],
   "source": [
    "c = 'Dwarf'\n",
    "i = tbl1.Gravity.values == c\n",
    "plt.plot(SpT[i], EW_NaI_8189[i], '.', label = c)\n",
    "c = 'USco'\n",
    "i = tbl1.Gravity.values == c\n",
    "plt.plot(SpT[i], EW_NaI_8189[i], '.', label = c)\n",
    "\n",
    "c = 'Int'\n",
    "i = tbl1.Gravity.values == c\n",
    "plt.plot(SpT[i], EW_NaI_8189[i], '.', label = c)\n",
    "\n",
    "plt.legend(loc='best')\n",
    "plt.xlim(0, 15)\n",
    "plt.ylim(-5, 8.5)"
   ]
  },
  {
   "cell_type": "code",
   "execution_count": 12,
   "metadata": {
    "collapsed": false
   },
   "outputs": [
    {
     "data": {
      "text/plain": [
       "array([ 2.1,  2.1,  4.2,  3. ,  3.3,  3.3,  3.3,  3.3,  1.2,  1.8,  1.8,\n",
       "        2.1,  3.9,  3. ,  3. ,  3.6,  3. ,  2.1,  3.9,  2.7,  2.7,  2.4,\n",
       "        3.3,  3.6,  3. ,  2.4,  0.6,  1.2,  1.5,  1.8,  1.8,  2.1,  3. ,\n",
       "        1.8,  3. ,  2.7,  2.4,  2.7])"
      ]
     },
     "execution_count": 12,
     "metadata": {},
     "output_type": "execute_result"
    }
   ],
   "source": [
    "EW_NaI_8189[tbl1.Gravity.values == 'USco']"
   ]
  },
  {
   "cell_type": "markdown",
   "metadata": {},
   "source": [
    "# Match the sources to SIMBAD\n",
    "This will make it easier to get the coordinates, and query other properties."
   ]
  },
  {
   "cell_type": "code",
   "execution_count": 13,
   "metadata": {
    "collapsed": false
   },
   "outputs": [],
   "source": [
    "from astroquery.simbad import Simbad\n",
    "import astropy.coordinates as coord\n",
    "import astropy.units as u"
   ]
  },
  {
   "cell_type": "code",
   "execution_count": 14,
   "metadata": {
    "collapsed": true
   },
   "outputs": [],
   "source": [
    "customSimbad = Simbad()\n",
    "customSimbad.add_votable_fields('otype', 'id', 'sptype')"
   ]
  },
  {
   "cell_type": "markdown",
   "metadata": {},
   "source": [
    "SCH is a non-standard input for Simbad.  Need to put in the 2MASS coordinates."
   ]
  },
  {
   "cell_type": "code",
   "execution_count": 15,
   "metadata": {
    "collapsed": false
   },
   "outputs": [],
   "source": [
    "input_to_simbad = \"[SCH2006] J\"+tbl2.ID.str.strip(\"SCH \")"
   ]
  },
  {
   "cell_type": "code",
   "execution_count": 16,
   "metadata": {
    "collapsed": true
   },
   "outputs": [],
   "source": [
    "result = customSimbad.query_objects(input_to_simbad, verbose=True)"
   ]
  },
  {
   "cell_type": "code",
   "execution_count": 17,
   "metadata": {
    "collapsed": false
   },
   "outputs": [
    {
     "data": {
      "text/html": [
       "&lt;Table masked=True length=3&gt;\n",
       "<table id=\"table4609320848\">\n",
       "<thead><tr><th>MAIN_ID</th><th>RA</th><th>DEC</th><th>RA_PREC</th><th>DEC_PREC</th><th>COO_ERR_MAJA</th><th>COO_ERR_MINA</th><th>COO_ERR_ANGLE</th><th>COO_QUAL</th><th>COO_WAVELENGTH</th><th>COO_BIBCODE</th><th>OTYPE</th><th>ID</th><th>SP_TYPE</th><th>SP_QUAL</th><th>SP_NATURE</th><th>SP_BIBCODE</th></tr></thead>\n",
       "<thead><tr><th></th><th>&quot;h:m:s&quot;</th><th>&quot;d:m:s&quot;</th><th></th><th></th><th>mas</th><th>mas</th><th>deg</th><th></th><th></th><th></th><th></th><th></th><th></th><th></th><th></th><th></th></tr></thead>\n",
       "<thead><tr><th>object</th><th>string104</th><th>string104</th><th>int16</th><th>int16</th><th>float32</th><th>float32</th><th>int16</th><th>string8</th><th>string8</th><th>object</th><th>object</th><th>object</th><th>object</th><th>string8</th><th>string8</th><th>object</th></tr></thead>\n",
       "<tr><td>2MASS J15583162-2402538</td><td>15 58 31.626</td><td>-24 02 53.86</td><td>7</td><td>7</td><td>70.000</td><td>60.000</td><td>0</td><td>B</td><td>I</td><td>2003yCat.2246....0C</td><td>pMS*</td><td></td><td>M4.5</td><td>D</td><td></td><td>2006AJ....131.3016S</td></tr>\n",
       "<tr><td>2MASS J15594802-2227162</td><td>15 59 48.021</td><td>-22 27 16.29</td><td>7</td><td>7</td><td>60.000</td><td>60.000</td><td>90</td><td>B</td><td>I</td><td>2003yCat.2246....0C</td><td>pMS*</td><td></td><td>M7.5</td><td>D</td><td></td><td>2006AJ....131.3016S</td></tr>\n",
       "<tr><td>2MASS J16014769-2441011</td><td>16 01 47.695</td><td>-24 41 01.13</td><td>7</td><td>7</td><td>70.000</td><td>60.000</td><td>90</td><td>B</td><td>I</td><td>2003yCat.2246....0C</td><td>pMS*</td><td></td><td>M5</td><td>D</td><td></td><td>2006AJ....131.3016S</td></tr>\n",
       "</table>"
      ],
      "text/plain": [
       "<Table masked=True length=3>\n",
       "        MAIN_ID              RA      ... SP_NATURE      SP_BIBCODE    \n",
       "                          \"h:m:s\"    ...                              \n",
       "         object          string104   ...  string8         object      \n",
       "----------------------- ------------ ... --------- -------------------\n",
       "2MASS J15583162-2402538 15 58 31.626 ...           2006AJ....131.3016S\n",
       "2MASS J15594802-2227162 15 59 48.021 ...           2006AJ....131.3016S\n",
       "2MASS J16014769-2441011 16 01 47.695 ...           2006AJ....131.3016S"
      ]
     },
     "execution_count": 17,
     "metadata": {},
     "output_type": "execute_result"
    }
   ],
   "source": [
    "result[0:3]"
   ]
  },
  {
   "cell_type": "code",
   "execution_count": 18,
   "metadata": {
    "collapsed": false
   },
   "outputs": [
    {
     "name": "stdout",
     "output_type": "stream",
     "text": [
      "There were 43 sources queried, and 43 sources found.\n",
      "Hooray!  Everything matched\n"
     ]
    }
   ],
   "source": [
    "print \"There were {} sources queried, and {} sources found.\".format(len(input_to_simbad), len(result))\n",
    "if len(input_to_simbad) == len(result):\n",
    "    print \"Hooray!  Everything matched\"\n",
    "else:\n",
    "    print \"Which ones were not found?\""
   ]
  },
  {
   "cell_type": "markdown",
   "metadata": {},
   "source": [
    "## Merge the catalogs"
   ]
  },
  {
   "cell_type": "code",
   "execution_count": 19,
   "metadata": {
    "collapsed": true
   },
   "outputs": [],
   "source": [
    "tbl2[\"Simbad_name\"] = input_to_simbad\n",
    "result[\"Simbad_name\"] = input_to_simbad\n",
    "simbad_df = result.to_pandas()\n",
    "del simbad_df[\"ID\"]"
   ]
  },
  {
   "cell_type": "code",
   "execution_count": 20,
   "metadata": {
    "collapsed": false
   },
   "outputs": [
    {
     "data": {
      "text/plain": [
       "Index([u'ID', u'MJ', u'AV', u'log_Teff', u'log_L_bol', u'Simbad_name', u'MAIN_ID', u'RA', u'DEC', u'RA_PREC', u'DEC_PREC', u'COO_ERR_MAJA', u'COO_ERR_MINA', u'COO_ERR_ANGLE', u'COO_QUAL', u'COO_WAVELENGTH', u'COO_BIBCODE', u'OTYPE', u'SP_TYPE', u'SP_QUAL', u'SP_NATURE', u'SP_BIBCODE'], dtype='object')"
      ]
     },
     "execution_count": 20,
     "metadata": {},
     "output_type": "execute_result"
    }
   ],
   "source": [
    "tbl2_simbad = pd.merge(tbl2, simbad_df, on=\"Simbad_name\")\n",
    "tbl2_simbad.columns"
   ]
  },
  {
   "cell_type": "code",
   "execution_count": 21,
   "metadata": {
    "collapsed": false
   },
   "outputs": [
    {
     "data": {
      "text/html": [
       "<div style=\"max-height:1000px;max-width:1500px;overflow:auto;\">\n",
       "<table border=\"1\" class=\"dataframe\">\n",
       "  <thead>\n",
       "    <tr style=\"text-align: right;\">\n",
       "      <th></th>\n",
       "      <th>MAIN_ID</th>\n",
       "      <th>ID</th>\n",
       "      <th>RA</th>\n",
       "      <th>DEC</th>\n",
       "      <th>MJ</th>\n",
       "      <th>AV</th>\n",
       "      <th>log_Teff</th>\n",
       "      <th>log_L_bol</th>\n",
       "      <th>OTYPE</th>\n",
       "      <th>SP_TYPE</th>\n",
       "      <th>SP_BIBCODE</th>\n",
       "    </tr>\n",
       "  </thead>\n",
       "  <tbody>\n",
       "    <tr>\n",
       "      <th>0</th>\n",
       "      <td> 2MASS J15583162-2402538</td>\n",
       "      <td> SCH 15583162-24025411</td>\n",
       "      <td> 15 58 31.626</td>\n",
       "      <td> -24 02 53.86</td>\n",
       "      <td> 7.18</td>\n",
       "      <td> 0.66</td>\n",
       "      <td> 3.48</td>\n",
       "      <td>-1.76</td>\n",
       "      <td> pMS*</td>\n",
       "      <td> M4.5</td>\n",
       "      <td> 2006AJ....131.3016S</td>\n",
       "    </tr>\n",
       "    <tr>\n",
       "      <th>1</th>\n",
       "      <td> 2MASS J15594802-2227162</td>\n",
       "      <td> SCH 15594802-22271650</td>\n",
       "      <td> 15 59 48.021</td>\n",
       "      <td> -22 27 16.29</td>\n",
       "      <td> 8.35</td>\n",
       "      <td> 0.33</td>\n",
       "      <td> 3.41</td>\n",
       "      <td>-2.27</td>\n",
       "      <td> pMS*</td>\n",
       "      <td> M7.5</td>\n",
       "      <td> 2006AJ....131.3016S</td>\n",
       "    </tr>\n",
       "    <tr>\n",
       "      <th>2</th>\n",
       "      <td> 2MASS J16014769-2441011</td>\n",
       "      <td> SCH 16014768-24410152</td>\n",
       "      <td> 16 01 47.695</td>\n",
       "      <td> -24 41 01.13</td>\n",
       "      <td> 8.03</td>\n",
       "      <td> 0.15</td>\n",
       "      <td> 3.47</td>\n",
       "      <td>-2.11</td>\n",
       "      <td> pMS*</td>\n",
       "      <td>   M5</td>\n",
       "      <td> 2006AJ....131.3016S</td>\n",
       "    </tr>\n",
       "    <tr>\n",
       "      <th>3</th>\n",
       "      <td> 2MASS J16040453-2346377</td>\n",
       "      <td> SCH 16040453-23463795</td>\n",
       "      <td> 16 04 04.538</td>\n",
       "      <td> -23 46 37.71</td>\n",
       "      <td> 5.64</td>\n",
       "      <td> 1.14</td>\n",
       "      <td> 3.49</td>\n",
       "      <td>-1.13</td>\n",
       "      <td> pMS*</td>\n",
       "      <td>   M4</td>\n",
       "      <td> 2006AJ....131.3016S</td>\n",
       "    </tr>\n",
       "    <tr>\n",
       "      <th>4</th>\n",
       "      <td> 2MASS J16044303-2318258</td>\n",
       "      <td> SCH 16044303-23182620</td>\n",
       "      <td> 16 04 43.036</td>\n",
       "      <td> -23 18 25.90</td>\n",
       "      <td> 7.99</td>\n",
       "      <td> 0.05</td>\n",
       "      <td> 3.43</td>\n",
       "      <td>-2.12</td>\n",
       "      <td> pMS*</td>\n",
       "      <td> M6.5</td>\n",
       "      <td> 2006AJ....131.3016S</td>\n",
       "    </tr>\n",
       "  </tbody>\n",
       "</table>\n",
       "</div>"
      ],
      "text/plain": [
       "                   MAIN_ID                     ID            RA           DEC  \\\n",
       "0  2MASS J15583162-2402538  SCH 15583162-24025411  15 58 31.626  -24 02 53.86   \n",
       "1  2MASS J15594802-2227162  SCH 15594802-22271650  15 59 48.021  -22 27 16.29   \n",
       "2  2MASS J16014769-2441011  SCH 16014768-24410152  16 01 47.695  -24 41 01.13   \n",
       "3  2MASS J16040453-2346377  SCH 16040453-23463795  16 04 04.538  -23 46 37.71   \n",
       "4  2MASS J16044303-2318258  SCH 16044303-23182620  16 04 43.036  -23 18 25.90   \n",
       "\n",
       "     MJ    AV  log_Teff  log_L_bol OTYPE SP_TYPE           SP_BIBCODE  \n",
       "0  7.18  0.66      3.48      -1.76  pMS*    M4.5  2006AJ....131.3016S  \n",
       "1  8.35  0.33      3.41      -2.27  pMS*    M7.5  2006AJ....131.3016S  \n",
       "2  8.03  0.15      3.47      -2.11  pMS*      M5  2006AJ....131.3016S  \n",
       "3  5.64  1.14      3.49      -1.13  pMS*      M4  2006AJ....131.3016S  \n",
       "4  7.99  0.05      3.43      -2.12  pMS*    M6.5  2006AJ....131.3016S  "
      ]
     },
     "execution_count": 21,
     "metadata": {},
     "output_type": "execute_result"
    }
   ],
   "source": [
    "tbl2_simbad[[u'MAIN_ID', u'ID', u'RA', u'DEC', u'MJ', u'AV', u'log_Teff', u'log_L_bol',u'OTYPE',\n",
    "             u'SP_TYPE', u'SP_BIBCODE']].head()"
   ]
  },
  {
   "cell_type": "code",
   "execution_count": 22,
   "metadata": {
    "collapsed": true
   },
   "outputs": [],
   "source": [
    "tbl2_simbad.to_csv(\"../data/Slesnick2006/tbl2_plusSimbad.csv\", index=False)"
   ]
  },
  {
   "cell_type": "markdown",
   "metadata": {},
   "source": [
    "**The end.**"
   ]
  }
 ],
 "metadata": {
  "kernelspec": {
   "display_name": "Python 2",
   "language": "python",
   "name": "python2"
  },
  "language_info": {
   "codemirror_mode": {
    "name": "ipython",
    "version": 2
   },
   "file_extension": ".py",
   "mimetype": "text/x-python",
   "name": "python",
   "nbconvert_exporter": "python",
   "pygments_lexer": "ipython2",
   "version": "2.7.9"
  }
 },
 "nbformat": 4,
 "nbformat_minor": 0
}
