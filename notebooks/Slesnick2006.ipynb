{
 "metadata": {
  "name": "",
  "signature": "sha256:234f8df9426a96881a7d8b15aa04538f67bce692eb1bedb1c7f742974c668b7b"
 },
 "nbformat": 3,
 "nbformat_minor": 0,
 "worksheets": [
  {
   "cells": [
    {
     "cell_type": "markdown",
     "metadata": {},
     "source": [
      "`ApJdataFrames` Slesnick2006\n",
      "---\n",
      "`Title`: A LARGE-AREA SEARCH FOR LOW-MASS OBJECTS IN UPPER SCORPIUS. I. THE PHOTOMETRIC CAMPAIGN AND NEW BROWN DWARFS   \n",
      "`Authors`: CATHERINE L. SLESNICK, JOHN M. CARPENTER, AND LYNNE A. HILLENBRAND  \n",
      "\n",
      "Data is from this paper:\n",
      "http://iopscience.iop.org/1538-3881/131/6/3016/fulltext/205148.html"
     ]
    },
    {
     "cell_type": "code",
     "collapsed": false,
     "input": [
      "import warnings\n",
      "warnings.filterwarnings(\"ignore\")"
     ],
     "language": "python",
     "metadata": {},
     "outputs": [],
     "prompt_number": 1
    },
    {
     "cell_type": "markdown",
     "metadata": {},
     "source": [
      "## Table 1- Measured Quantities for PMS Candidates with Observed Spectra"
     ]
    },
    {
     "cell_type": "code",
     "collapsed": false,
     "input": [
      "import pandas as pd"
     ],
     "language": "python",
     "metadata": {},
     "outputs": [],
     "prompt_number": 2
    },
    {
     "cell_type": "code",
     "collapsed": false,
     "input": [
      "names = [\"ID\",\"R\",\"I\",\"J\",\"H\",\"KS\",\"EW_TiO_7140\",\"EW_TiO_8465\",\"EW_NaI_8189\",\"Spectral Type\",\"EW_Ha\",\"Gravity\"]\n",
      "tbl1 = pd.read_csv(\"http://iopscience.iop.org/1538-3881/131/6/3016/fulltext/205148.tb1.txt\",\n",
      "                   sep='\\t', names=names, skip_blank_lines=True, na_values='\\ldots')\n",
      "tbl1.head()"
     ],
     "language": "python",
     "metadata": {},
     "outputs": [
      {
       "html": [
        "<div style=\"max-height:1000px;max-width:1500px;overflow:auto;\">\n",
        "<table border=\"1\" class=\"dataframe\">\n",
        "  <thead>\n",
        "    <tr style=\"text-align: right;\">\n",
        "      <th></th>\n",
        "      <th>ID</th>\n",
        "      <th>R</th>\n",
        "      <th>I</th>\n",
        "      <th>J</th>\n",
        "      <th>H</th>\n",
        "      <th>KS</th>\n",
        "      <th>EW_TiO_7140</th>\n",
        "      <th>EW_TiO_8465</th>\n",
        "      <th>EW_NaI_8189</th>\n",
        "      <th>Spectral Type</th>\n",
        "      <th>EW_Ha</th>\n",
        "      <th>Gravity</th>\n",
        "    </tr>\n",
        "  </thead>\n",
        "  <tbody>\n",
        "    <tr>\n",
        "      <th>0</th>\n",
        "      <td> SCH 15563309-18074323</td>\n",
        "      <td> 19.7</td>\n",
        "      <td> 16.5</td>\n",
        "      <td> 14.18</td>\n",
        "      <td> 13.61</td>\n",
        "      <td> 13.13</td>\n",
        "      <td> 3.22</td>\n",
        "      <td> 1.80</td>\n",
        "      <td> 0.81</td>\n",
        "      <td>   M7</td>\n",
        "      <td>  NaN</td>\n",
        "      <td> Dwarf</td>\n",
        "    </tr>\n",
        "    <tr>\n",
        "      <th>1</th>\n",
        "      <td> SCH 15582384-15310335</td>\n",
        "      <td> 16.1</td>\n",
        "      <td> 13.9</td>\n",
        "      <td> 12.36</td>\n",
        "      <td> 11.79</td>\n",
        "      <td> 11.52</td>\n",
        "      <td> 1.76</td>\n",
        "      <td> 1.16</td>\n",
        "      <td> 0.83</td>\n",
        "      <td> M4.5</td>\n",
        "      <td> -5.4</td>\n",
        "      <td> Dwarf</td>\n",
        "    </tr>\n",
        "    <tr>\n",
        "      <th>2</th>\n",
        "      <td> SCH 15583162-24025411</td>\n",
        "      <td> 17.5</td>\n",
        "      <td> 15.0</td>\n",
        "      <td> 13.16</td>\n",
        "      <td> 12.51</td>\n",
        "      <td> 12.20</td>\n",
        "      <td> 1.95</td>\n",
        "      <td> 1.25</td>\n",
        "      <td> 0.93</td>\n",
        "      <td> M4.5</td>\n",
        "      <td> -7.6</td>\n",
        "      <td>  USco</td>\n",
        "    </tr>\n",
        "    <tr>\n",
        "      <th>3</th>\n",
        "      <td> SCH 15594802-22271650</td>\n",
        "      <td> 19.1</td>\n",
        "      <td> 16.5</td>\n",
        "      <td> 14.24</td>\n",
        "      <td> 13.56</td>\n",
        "      <td> 13.16</td>\n",
        "      <td> 2.78</td>\n",
        "      <td> 1.90</td>\n",
        "      <td> 0.93</td>\n",
        "      <td> M7.5</td>\n",
        "      <td>-15.2</td>\n",
        "      <td>  USco</td>\n",
        "    </tr>\n",
        "    <tr>\n",
        "      <th>4</th>\n",
        "      <td> SCH 16014768-24410152</td>\n",
        "      <td> 18.5</td>\n",
        "      <td> 15.9</td>\n",
        "      <td> 13.87</td>\n",
        "      <td> 13.27</td>\n",
        "      <td> 13.00</td>\n",
        "      <td> 2.44</td>\n",
        "      <td> 1.45</td>\n",
        "      <td> 0.86</td>\n",
        "      <td>   M5</td>\n",
        "      <td>-16.0</td>\n",
        "      <td>  USco</td>\n",
        "    </tr>\n",
        "  </tbody>\n",
        "</table>\n",
        "</div>"
       ],
       "metadata": {},
       "output_type": "pyout",
       "prompt_number": 3,
       "text": [
        "                      ID     R     I      J      H     KS  EW_TiO_7140  \\\n",
        "0  SCH 15563309-18074323  19.7  16.5  14.18  13.61  13.13         3.22   \n",
        "1  SCH 15582384-15310335  16.1  13.9  12.36  11.79  11.52         1.76   \n",
        "2  SCH 15583162-24025411  17.5  15.0  13.16  12.51  12.20         1.95   \n",
        "3  SCH 15594802-22271650  19.1  16.5  14.24  13.56  13.16         2.78   \n",
        "4  SCH 16014768-24410152  18.5  15.9  13.87  13.27  13.00         2.44   \n",
        "\n",
        "   EW_TiO_8465  EW_NaI_8189 Spectral Type  EW_Ha Gravity  \n",
        "0         1.80         0.81            M7    NaN   Dwarf  \n",
        "1         1.16         0.83          M4.5   -5.4   Dwarf  \n",
        "2         1.25         0.93          M4.5   -7.6    USco  \n",
        "3         1.90         0.93          M7.5  -15.2    USco  \n",
        "4         1.45         0.86            M5  -16.0    USco  "
       ]
      }
     ],
     "prompt_number": 3
    },
    {
     "cell_type": "markdown",
     "metadata": {},
     "source": [
      "## Table 2 - Derived Quantities for New USco Members"
     ]
    },
    {
     "cell_type": "code",
     "collapsed": false,
     "input": [
      "names = [\"ID\",\"MJ\",\"AV\",\"log_Teff\",\"log_L_bol\"]\n",
      "tbl2 = pd.read_csv(\"http://iopscience.iop.org/1538-3881/131/6/3016/fulltext/205148.tb2.txt\",\n",
      "                   sep='\\t', names=names, skip_blank_lines=True, na_values='\\ldots')\n",
      "tbl2.head()"
     ],
     "language": "python",
     "metadata": {},
     "outputs": [
      {
       "html": [
        "<div style=\"max-height:1000px;max-width:1500px;overflow:auto;\">\n",
        "<table border=\"1\" class=\"dataframe\">\n",
        "  <thead>\n",
        "    <tr style=\"text-align: right;\">\n",
        "      <th></th>\n",
        "      <th>ID</th>\n",
        "      <th>MJ</th>\n",
        "      <th>AV</th>\n",
        "      <th>log_Teff</th>\n",
        "      <th>log_L_bol</th>\n",
        "    </tr>\n",
        "  </thead>\n",
        "  <tbody>\n",
        "    <tr>\n",
        "      <th>0</th>\n",
        "      <td> SCH 15583162-24025411</td>\n",
        "      <td> 7.18</td>\n",
        "      <td> 0.66</td>\n",
        "      <td> 3.48</td>\n",
        "      <td>-1.76</td>\n",
        "    </tr>\n",
        "    <tr>\n",
        "      <th>1</th>\n",
        "      <td> SCH 15594802-22271650</td>\n",
        "      <td> 8.35</td>\n",
        "      <td> 0.33</td>\n",
        "      <td> 3.41</td>\n",
        "      <td>-2.27</td>\n",
        "    </tr>\n",
        "    <tr>\n",
        "      <th>2</th>\n",
        "      <td> SCH 16014768-24410152</td>\n",
        "      <td> 8.03</td>\n",
        "      <td> 0.15</td>\n",
        "      <td> 3.47</td>\n",
        "      <td>-2.11</td>\n",
        "    </tr>\n",
        "    <tr>\n",
        "      <th>3</th>\n",
        "      <td> SCH 16040453-23463795</td>\n",
        "      <td> 5.64</td>\n",
        "      <td> 1.14</td>\n",
        "      <td> 3.49</td>\n",
        "      <td>-1.13</td>\n",
        "    </tr>\n",
        "    <tr>\n",
        "      <th>4</th>\n",
        "      <td> SCH 16044303-23182620</td>\n",
        "      <td> 7.99</td>\n",
        "      <td> 0.05</td>\n",
        "      <td> 3.43</td>\n",
        "      <td>-2.12</td>\n",
        "    </tr>\n",
        "  </tbody>\n",
        "</table>\n",
        "</div>"
       ],
       "metadata": {},
       "output_type": "pyout",
       "prompt_number": 4,
       "text": [
        "                      ID    MJ    AV  log_Teff  log_L_bol\n",
        "0  SCH 15583162-24025411  7.18  0.66      3.48      -1.76\n",
        "1  SCH 15594802-22271650  8.35  0.33      3.41      -2.27\n",
        "2  SCH 16014768-24410152  8.03  0.15      3.47      -2.11\n",
        "3  SCH 16040453-23463795  5.64  1.14      3.49      -1.13\n",
        "4  SCH 16044303-23182620  7.99  0.05      3.43      -2.12"
       ]
      }
     ],
     "prompt_number": 4
    },
    {
     "cell_type": "markdown",
     "metadata": {},
     "source": [
      "# Save the data tables locally."
     ]
    },
    {
     "cell_type": "code",
     "collapsed": false,
     "input": [
      "mkdir ../data/Slesnick2006"
     ],
     "language": "python",
     "metadata": {},
     "outputs": [
      {
       "output_type": "stream",
       "stream": "stdout",
       "text": [
        "mkdir: ../data/Slesnick2006: File exists\r\n"
       ]
      }
     ],
     "prompt_number": 5
    },
    {
     "cell_type": "code",
     "collapsed": false,
     "input": [
      "tbl1.to_csv(\"../data/Slesnick2006/tbl1.csv\", sep=\"\\t\", index=False)\n",
      "tbl2.to_csv(\"../data/Slesnick2006/tbl2.csv\", sep=\"\\t\", index=False)"
     ],
     "language": "python",
     "metadata": {},
     "outputs": [],
     "prompt_number": 6
    },
    {
     "cell_type": "markdown",
     "metadata": {},
     "source": [
      "**The end.**"
     ]
    }
   ],
   "metadata": {}
  }
 ]
}