{
 "cells": [
  {
   "cell_type": "markdown",
   "metadata": {},
   "source": [
    "`ApJdataFrames` Luhman2010\n",
    "---\n",
    "`Title`: The Disk Population of the Taurus Star-Forming Region\n",
    "`Authors`: Kevin L Luhman, et al.\n",
    "\n",
    "Data is from this erratum to this paper:\n",
    "http://iopscience.iop.org/0067-0049/189/2/353/article#apjs363478t1"
   ]
  },
  {
   "cell_type": "code",
   "execution_count": 1,
   "metadata": {
    "collapsed": false
   },
   "outputs": [
    {
     "name": "stdout",
     "output_type": "stream",
     "text": [
      "Populating the interactive namespace from numpy and matplotlib\n"
     ]
    }
   ],
   "source": [
    "%pylab inline\n",
    "import seaborn as sns"
   ]
  },
  {
   "cell_type": "code",
   "execution_count": 2,
   "metadata": {
    "collapsed": false
   },
   "outputs": [],
   "source": [
    "import warnings\n",
    "warnings.filterwarnings(\"ignore\")"
   ]
  },
  {
   "cell_type": "code",
   "execution_count": 3,
   "metadata": {
    "collapsed": false
   },
   "outputs": [],
   "source": [
    "import pandas as pd"
   ]
  },
  {
   "cell_type": "markdown",
   "metadata": {},
   "source": [
    "## Table 13- *corrected* (see erratum)"
   ]
  },
  {
   "cell_type": "code",
   "execution_count": 4,
   "metadata": {
    "collapsed": false
   },
   "outputs": [
    {
     "data": {
      "text/html": [
       "<div style=\"max-height:1000px;max-width:1500px;overflow:auto;\">\n",
       "<table border=\"1\" class=\"dataframe\">\n",
       "  <thead>\n",
       "    <tr style=\"text-align: right;\">\n",
       "      <th></th>\n",
       "      <th>Spectral Type</th>\n",
       "      <th>J - H</th>\n",
       "      <th>H - K_s</th>\n",
       "      <th>K_s - [3.6]</th>\n",
       "      <th>[3.6] - [4.5]</th>\n",
       "      <th>[4.5] - [5.8]</th>\n",
       "      <th>[5.8] - [8.0]</th>\n",
       "      <th>[8.0] - [24]</th>\n",
       "    </tr>\n",
       "  </thead>\n",
       "  <tbody>\n",
       "    <tr>\n",
       "      <th>1</th>\n",
       "      <td> K4</td>\n",
       "      <td> 0.53</td>\n",
       "      <td> 0.10</td>\n",
       "      <td> 0.06</td>\n",
       "      <td> 0</td>\n",
       "      <td> 0.04</td>\n",
       "      <td> 0</td>\n",
       "      <td> 0.04</td>\n",
       "    </tr>\n",
       "    <tr>\n",
       "      <th>2</th>\n",
       "      <td> K5</td>\n",
       "      <td> 0.61</td>\n",
       "      <td> 0.12</td>\n",
       "      <td> 0.08</td>\n",
       "      <td> 0</td>\n",
       "      <td> 0.04</td>\n",
       "      <td> 0</td>\n",
       "      <td> 0.06</td>\n",
       "    </tr>\n",
       "    <tr>\n",
       "      <th>3</th>\n",
       "      <td> K6</td>\n",
       "      <td> 0.66</td>\n",
       "      <td> 0.14</td>\n",
       "      <td> 0.10</td>\n",
       "      <td> 0</td>\n",
       "      <td> 0.04</td>\n",
       "      <td> 0</td>\n",
       "      <td> 0.08</td>\n",
       "    </tr>\n",
       "    <tr>\n",
       "      <th>4</th>\n",
       "      <td> K7</td>\n",
       "      <td> 0.68</td>\n",
       "      <td> 0.15</td>\n",
       "      <td> 0.10</td>\n",
       "      <td> 0</td>\n",
       "      <td> 0.04</td>\n",
       "      <td> 0</td>\n",
       "      <td> 0.11</td>\n",
       "    </tr>\n",
       "    <tr>\n",
       "      <th>5</th>\n",
       "      <td> M0</td>\n",
       "      <td> 0.70</td>\n",
       "      <td> 0.16</td>\n",
       "      <td> 0.10</td>\n",
       "      <td> 0</td>\n",
       "      <td> 0.04</td>\n",
       "      <td> 0</td>\n",
       "      <td> 0.13</td>\n",
       "    </tr>\n",
       "  </tbody>\n",
       "</table>\n",
       "</div>"
      ],
      "text/plain": [
       "  Spectral Type  J - H  H - K_s  K_s - [3.6]  [3.6] - [4.5]  [4.5] - [5.8]  \\\n",
       "1            K4   0.53     0.10         0.06              0           0.04   \n",
       "2            K5   0.61     0.12         0.08              0           0.04   \n",
       "3            K6   0.66     0.14         0.10              0           0.04   \n",
       "4            K7   0.68     0.15         0.10              0           0.04   \n",
       "5            M0   0.70     0.16         0.10              0           0.04   \n",
       "\n",
       "   [5.8] - [8.0]  [8.0] - [24]  \n",
       "1              0          0.04  \n",
       "2              0          0.06  \n",
       "3              0          0.08  \n",
       "4              0          0.11  \n",
       "5              0          0.13  "
      ]
     },
     "execution_count": 4,
     "metadata": {},
     "output_type": "execute_result"
    }
   ],
   "source": [
    "names = ['Spectral Type','J - H','H - K_s','K_s - [3.6]','[3.6] - [4.5]',\n",
    "         '[4.5] - [5.8]','[5.8] - [8.0]','[8.0] - [24]']\n",
    "tbl13 = pd.read_csv(\"http://iopscience.iop.org/0067-0049/189/2/353/suppdata/apjs363478t1_ascii.txt\",\n",
    "                   sep='\\t', skiprows=range(4), names = names)\n",
    "tbl13.drop(0, axis=0, inplace=True)\n",
    "tbl13.head()"
   ]
  },
  {
   "cell_type": "code",
   "execution_count": 5,
   "metadata": {
    "collapsed": true
   },
   "outputs": [],
   "source": [
    "from gully_custom import specType"
   ]
  },
  {
   "cell_type": "code",
   "execution_count": 6,
   "metadata": {
    "collapsed": false
   },
   "outputs": [],
   "source": [
    "tbl13['SpT'] = specType(tbl13['Spectral Type'])"
   ]
  },
  {
   "cell_type": "markdown",
   "metadata": {},
   "source": [
    "##Save the data"
   ]
  },
  {
   "cell_type": "markdown",
   "metadata": {},
   "source": [
    "    !!mkdir ../data/Luhman2010"
   ]
  },
  {
   "cell_type": "code",
   "execution_count": 8,
   "metadata": {
    "collapsed": true
   },
   "outputs": [],
   "source": [
    "tbl13.to_csv('../data/Luhman2010/tbl13_fixed_erratrum.csv', index=False)"
   ]
  },
  {
   "cell_type": "markdown",
   "metadata": {},
   "source": [
    "The end."
   ]
  }
 ],
 "metadata": {
  "kernelspec": {
   "display_name": "Python 2",
   "language": "python",
   "name": "python2"
  },
  "language_info": {
   "codemirror_mode": {
    "name": "ipython",
    "version": 2
   },
   "file_extension": ".py",
   "mimetype": "text/x-python",
   "name": "python",
   "nbconvert_exporter": "python",
   "pygments_lexer": "ipython2",
   "version": "2.7.9"
  }
 },
 "nbformat": 4,
 "nbformat_minor": 0
}
