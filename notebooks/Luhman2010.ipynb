{
 "cells": [
  {
   "cell_type": "markdown",
   "metadata": {},
   "source": [
    "`ApJdataFrames` Luhman2010\n",
    "---\n",
    "`Title`: The Disk Population of the Taurus Star-Forming Region\n",
    "`Authors`: Kevin L Luhman, et al.\n",
    "\n",
    "Data is from this erratum to this paper:\n",
    "http://iopscience.iop.org/0067-0049/189/2/353/article#apjs363478t1"
   ]
  },
  {
   "cell_type": "code",
   "execution_count": 1,
   "metadata": {
    "collapsed": false
   },
   "outputs": [
    {
     "name": "stdout",
     "output_type": "stream",
     "text": [
      "Populating the interactive namespace from numpy and matplotlib\n"
     ]
    }
   ],
   "source": [
    "%pylab inline\n",
    "import seaborn as sns"
   ]
  },
  {
   "cell_type": "code",
   "execution_count": 2,
   "metadata": {
    "collapsed": false
   },
   "outputs": [],
   "source": [
    "import warnings\n",
    "warnings.filterwarnings(\"ignore\")"
   ]
  },
  {
   "cell_type": "code",
   "execution_count": 3,
   "metadata": {
    "collapsed": false
   },
   "outputs": [],
   "source": [
    "import pandas as pd"
   ]
  },
  {
   "cell_type": "markdown",
   "metadata": {},
   "source": [
    "##Table 4 - IRAC photometry of Taurus members"
   ]
  },
  {
   "cell_type": "code",
   "execution_count": 4,
   "metadata": {
    "collapsed": false
   },
   "outputs": [],
   "source": [
    "names = ['Name_2MASS','Name_alt','[3.6]','[4.5]','[5.8]','[8.0]','Date']\n",
    "tbl4_pm = pd.read_csv('http://iopscience.iop.org/0067-0049/186/1/111/suppdata/apjs328021t4_ascii.txt',\n",
    "                   sep='\\t', names=names, skiprows=4, skipfooter=2, index_col=False,na_values=[' ... ', 'out', 'sat'])"
   ]
  },
  {
   "cell_type": "code",
   "execution_count": 5,
   "metadata": {
    "collapsed": false
   },
   "outputs": [],
   "source": [
    "tbl4_pm['NAME'] = tbl4_pm.Name_2MASS\n",
    "no_name = tbl4_pm.NAME !=tbl4_pm.NAME\n",
    "tbl4_pm.NAME[no_name] = tbl4_pm.Name_alt[no_name]\n",
    "tbl4_pm.dropna(axis=0, subset=['NAME'], inplace=True)\n",
    "tbl4_pm = tbl4_pm.drop(['Name_2MASS', 'Name_alt', 'Date'],axis=1)"
   ]
  },
  {
   "cell_type": "markdown",
   "metadata": {},
   "source": [
    "###Pure data munging"
   ]
  },
  {
   "cell_type": "code",
   "execution_count": 7,
   "metadata": {
    "collapsed": false
   },
   "outputs": [],
   "source": [
    "fv = lambda a: a.split(' +or- ')[0] if a == a else np.NaN\n",
    "fe = lambda a: a.split(' +or- ')[-1] if a == a else np.NaN #awesome little hack here!"
   ]
  },
  {
   "cell_type": "code",
   "execution_count": 8,
   "metadata": {
    "collapsed": false
   },
   "outputs": [],
   "source": [
    "bands = ['[3.6]','[4.5]','[5.8]','[8.0]']\n",
    "tbl4 = tbl4_pm.drop(bands, axis=1)"
   ]
  },
  {
   "cell_type": "code",
   "execution_count": 9,
   "metadata": {
    "collapsed": false
   },
   "outputs": [],
   "source": [
    "for band in bands:\n",
    "    tbl4[band]=tbl4_pm[band].apply(fv)\n",
    "    tbl4[band+'_e']=tbl4_pm[band].apply(fe)"
   ]
  },
  {
   "cell_type": "markdown",
   "metadata": {},
   "source": [
    "##Table 7 - spectral types and SED slopes"
   ]
  },
  {
   "cell_type": "code",
   "execution_count": 10,
   "metadata": {
    "collapsed": false
   },
   "outputs": [],
   "source": [
    "names = ['Name_2MASS','Name_alt','Spectral_type','alpha(2-8 mum)',\n",
    "         'alpha(2-24 mum)','alpha(3.6-8 mum)','alpha(3.6-24 mum)','SED']\n",
    "tbl7_unabridged = pd.read_csv('http://iopscience.iop.org/0067-0049/186/1/111/suppdata/apjs328021t7_ascii.txt',\n",
    "                   sep='\\t', names = names, skiprows=5, na_values = ' ... ', skipfooter=5, \n",
    "                   index_col=False)\n",
    "tbl7_short = tbl7_unabridged[['Name_2MASS','Name_alt','Spectral_type', 'SED']]"
   ]
  },
  {
   "cell_type": "code",
   "execution_count": 11,
   "metadata": {
    "collapsed": false
   },
   "outputs": [],
   "source": [
    "tbl7_short['NAME'] = tbl7_short.Name_2MASS\n",
    "no_name = tbl7_short.NAME !=tbl7_short.NAME\n",
    "tbl7_short.NAME[no_name] = tbl7_short.Name_alt[no_name]\n",
    "tbl7_short.dropna(axis=0, subset=['NAME'], inplace=True)\n",
    "tbl7 = tbl7_short.drop(['Name_2MASS', 'Name_alt'],axis=1)"
   ]
  },
  {
   "cell_type": "markdown",
   "metadata": {},
   "source": [
    "# Merge Table 4 and 7"
   ]
  },
  {
   "cell_type": "code",
   "execution_count": 12,
   "metadata": {
    "collapsed": false
   },
   "outputs": [],
   "source": [
    "out = pd.merge(tbl4, tbl7, on='NAME', how='outer')"
   ]
  },
  {
   "cell_type": "markdown",
   "metadata": {},
   "source": [
    "Do some more data munging."
   ]
  },
  {
   "cell_type": "code",
   "execution_count": 13,
   "metadata": {
    "collapsed": false
   },
   "outputs": [],
   "source": [
    "has_c = out['Spectral_type'].str.contains('c').values \n",
    "throw_out = has_c == True\n",
    "out.drop(out.index[throw_out], inplace=True)"
   ]
  },
  {
   "cell_type": "markdown",
   "metadata": {},
   "source": [
    "Convert the spectral type to a value."
   ]
  },
  {
   "cell_type": "code",
   "execution_count": 14,
   "metadata": {
    "collapsed": true
   },
   "outputs": [],
   "source": [
    "from gully_custom import specTypePlus\n",
    "\n",
    "SpT, _, _, _ = specTypePlus(out['Spectral_type'])\n",
    "out['SpT'] = SpT"
   ]
  },
  {
   "cell_type": "code",
   "execution_count": 15,
   "metadata": {
    "collapsed": false
   },
   "outputs": [],
   "source": [
    "I1_I4 = out['[3.6]'].astype(float) -out['[8.0]'].astype(float)"
   ]
  },
  {
   "cell_type": "code",
   "execution_count": 16,
   "metadata": {
    "collapsed": true
   },
   "outputs": [],
   "source": [
    "sns.set_context('notebook', font_scale=1.5)"
   ]
  },
  {
   "cell_type": "code",
   "execution_count": 17,
   "metadata": {
    "collapsed": false
   },
   "outputs": [
    {
     "data": {
      "text/plain": [
       "<matplotlib.text.Text at 0x1095b7e10>"
      ]
     },
     "execution_count": 17,
     "metadata": {},
     "output_type": "execute_result"
    },
    {
     "data": {
      "image/png": "[encoded data removed]",
      "text/plain": [
       "<matplotlib.figure.Figure at 0x109577fd0>"
      ]
     },
     "metadata": {},
     "output_type": "display_data"
    }
   ],
   "source": [
    "plt.plot(out.SpT, I1_I4, '.')\n",
    "plt.xlim(0, 10)\n",
    "plt.xlabel('Spectral Type (M0 = 0)')\n",
    "plt.ylabel('[3.6]-[8.0]')"
   ]
  },
  {
   "cell_type": "markdown",
   "metadata": {},
   "source": [
    "## Table 13- *corrected* (see erratum)"
   ]
  },
  {
   "cell_type": "code",
   "execution_count": 18,
   "metadata": {
    "collapsed": false
   },
   "outputs": [
    {
     "data": {
      "text/html": [
       "<div style=\"max-height:1000px;max-width:1500px;overflow:auto;\">\n",
       "<table border=\"1\" class=\"dataframe\">\n",
       "  <thead>\n",
       "    <tr style=\"text-align: right;\">\n",
       "      <th></th>\n",
       "      <th>Spectral Type</th>\n",
       "      <th>J - H</th>\n",
       "      <th>H - K_s</th>\n",
       "      <th>K_s - [3.6]</th>\n",
       "      <th>[3.6] - [4.5]</th>\n",
       "      <th>[4.5] - [5.8]</th>\n",
       "      <th>[5.8] - [8.0]</th>\n",
       "      <th>[8.0] - [24]</th>\n",
       "    </tr>\n",
       "  </thead>\n",
       "  <tbody>\n",
       "    <tr>\n",
       "      <th>1</th>\n",
       "      <td> K4</td>\n",
       "      <td> 0.53</td>\n",
       "      <td> 0.10</td>\n",
       "      <td> 0.06</td>\n",
       "      <td> 0</td>\n",
       "      <td> 0.04</td>\n",
       "      <td> 0</td>\n",
       "      <td> 0.04</td>\n",
       "    </tr>\n",
       "    <tr>\n",
       "      <th>2</th>\n",
       "      <td> K5</td>\n",
       "      <td> 0.61</td>\n",
       "      <td> 0.12</td>\n",
       "      <td> 0.08</td>\n",
       "      <td> 0</td>\n",
       "      <td> 0.04</td>\n",
       "      <td> 0</td>\n",
       "      <td> 0.06</td>\n",
       "    </tr>\n",
       "    <tr>\n",
       "      <th>3</th>\n",
       "      <td> K6</td>\n",
       "      <td> 0.66</td>\n",
       "      <td> 0.14</td>\n",
       "      <td> 0.10</td>\n",
       "      <td> 0</td>\n",
       "      <td> 0.04</td>\n",
       "      <td> 0</td>\n",
       "      <td> 0.08</td>\n",
       "    </tr>\n",
       "    <tr>\n",
       "      <th>4</th>\n",
       "      <td> K7</td>\n",
       "      <td> 0.68</td>\n",
       "      <td> 0.15</td>\n",
       "      <td> 0.10</td>\n",
       "      <td> 0</td>\n",
       "      <td> 0.04</td>\n",
       "      <td> 0</td>\n",
       "      <td> 0.11</td>\n",
       "    </tr>\n",
       "    <tr>\n",
       "      <th>5</th>\n",
       "      <td> M0</td>\n",
       "      <td> 0.70</td>\n",
       "      <td> 0.16</td>\n",
       "      <td> 0.10</td>\n",
       "      <td> 0</td>\n",
       "      <td> 0.04</td>\n",
       "      <td> 0</td>\n",
       "      <td> 0.13</td>\n",
       "    </tr>\n",
       "  </tbody>\n",
       "</table>\n",
       "</div>"
      ],
      "text/plain": [
       "  Spectral Type  J - H  H - K_s  K_s - [3.6]  [3.6] - [4.5]  [4.5] - [5.8]  \\\n",
       "1            K4   0.53     0.10         0.06              0           0.04   \n",
       "2            K5   0.61     0.12         0.08              0           0.04   \n",
       "3            K6   0.66     0.14         0.10              0           0.04   \n",
       "4            K7   0.68     0.15         0.10              0           0.04   \n",
       "5            M0   0.70     0.16         0.10              0           0.04   \n",
       "\n",
       "   [5.8] - [8.0]  [8.0] - [24]  \n",
       "1              0          0.04  \n",
       "2              0          0.06  \n",
       "3              0          0.08  \n",
       "4              0          0.11  \n",
       "5              0          0.13  "
      ]
     },
     "execution_count": 18,
     "metadata": {},
     "output_type": "execute_result"
    }
   ],
   "source": [
    "names = ['Spectral Type','J - H','H - K_s','K_s - [3.6]','[3.6] - [4.5]',\n",
    "         '[4.5] - [5.8]','[5.8] - [8.0]','[8.0] - [24]']\n",
    "tbl13 = pd.read_csv(\"http://iopscience.iop.org/0067-0049/189/2/353/suppdata/apjs363478t1_ascii.txt\",\n",
    "                   sep='\\t', skiprows=range(4), names = names)\n",
    "tbl13.drop(0, axis=0, inplace=True)\n",
    "tbl13.head()"
   ]
  },
  {
   "cell_type": "code",
   "execution_count": 19,
   "metadata": {
    "collapsed": true
   },
   "outputs": [],
   "source": [
    "from gully_custom import specType"
   ]
  },
  {
   "cell_type": "code",
   "execution_count": 20,
   "metadata": {
    "collapsed": false
   },
   "outputs": [],
   "source": [
    "tbl13['SpT'] = specType(tbl13['Spectral Type'])"
   ]
  },
  {
   "cell_type": "markdown",
   "metadata": {},
   "source": [
    "##Save the data"
   ]
  },
  {
   "cell_type": "markdown",
   "metadata": {},
   "source": [
    "    !!mkdir ../data/Luhman2010"
   ]
  },
  {
   "cell_type": "code",
   "execution_count": 21,
   "metadata": {
    "collapsed": true
   },
   "outputs": [],
   "source": [
    "tbl13.to_csv('../data/Luhman2010/tbl13_fixed_erratrum.csv', index=False)"
   ]
  },
  {
   "cell_type": "code",
   "execution_count": 22,
   "metadata": {
    "collapsed": true
   },
   "outputs": [],
   "source": [
    "out.to_csv('../data/Luhman2010/tbl4_7_merge.csv', index=False)"
   ]
  },
  {
   "cell_type": "markdown",
   "metadata": {},
   "source": [
    "The end."
   ]
  }
 ],
 "metadata": {
  "kernelspec": {
   "display_name": "Python 2",
   "language": "python",
   "name": "python2"
  },
  "language_info": {
   "codemirror_mode": {
    "name": "ipython",
    "version": 2
   },
   "file_extension": ".py",
   "mimetype": "text/x-python",
   "name": "python",
   "nbconvert_exporter": "python",
   "pygments_lexer": "ipython2",
   "version": "2.7.9"
  }
 },
 "nbformat": 4,
 "nbformat_minor": 0
}
