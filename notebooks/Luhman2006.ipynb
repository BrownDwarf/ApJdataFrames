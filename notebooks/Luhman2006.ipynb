{
 "metadata": {
  "name": "",
  "signature": "sha256:60fefe3a5fbdcdc18693ac4825fe7c8d1f015b0867dc02295df433b768a983e2"
 },
 "nbformat": 3,
 "nbformat_minor": 0,
 "worksheets": [
  {
   "cells": [
    {
     "cell_type": "markdown",
     "metadata": {},
     "source": [
      "`ApJdataFrames` 006: Luhman2006\n",
      "---\n",
      "`Title`: The Spatial Distribution of Brown Dwarfs in Taurus  \n",
      "`Authors`: Kevin L Luhman\n",
      "\n",
      "Data is from this paper:  \n",
      "http://iopscience.iop.org./0004-637X/645/1/676/fulltext/"
     ]
    },
    {
     "cell_type": "code",
     "collapsed": false,
     "input": [
      "%pylab inline\n",
      "import seaborn as sns"
     ],
     "language": "python",
     "metadata": {},
     "outputs": [
      {
       "output_type": "stream",
       "stream": "stdout",
       "text": [
        "Populating the interactive namespace from numpy and matplotlib\n"
       ]
      }
     ],
     "prompt_number": 1
    },
    {
     "cell_type": "code",
     "collapsed": false,
     "input": [
      "import warnings\n",
      "warnings.filterwarnings(\"ignore\")"
     ],
     "language": "python",
     "metadata": {},
     "outputs": [],
     "prompt_number": 2
    },
    {
     "cell_type": "code",
     "collapsed": false,
     "input": [
      "import pandas as pd"
     ],
     "language": "python",
     "metadata": {},
     "outputs": [],
     "prompt_number": 3
    },
    {
     "cell_type": "code",
     "collapsed": false,
     "input": [
      "sns.set_palette(\"Set1\")"
     ],
     "language": "python",
     "metadata": {},
     "outputs": [],
     "prompt_number": 4
    },
    {
     "cell_type": "markdown",
     "metadata": {},
     "source": [
      "## Table 2 - Field Stars"
     ]
    },
    {
     "cell_type": "code",
     "collapsed": false,
     "input": [
      "names = [\"2MASS\",\"Spectral Type\",\"J-H\",\"H-Ks\",\"Ks\",\"Night\"]\n",
      "\n",
      "tbl2 = pd.read_csv(\"http://iopscience.iop.org/0004-637X/645/1/676/fulltext/64411.tb2.txt\", \n",
      "                   sep='\\t', names=names, na_values='\\ldots')\n",
      "tbl2.head()"
     ],
     "language": "python",
     "metadata": {},
     "outputs": [
      {
       "html": [
        "<div style=\"max-height:1000px;max-width:1500px;overflow:auto;\">\n",
        "<table border=\"1\" class=\"dataframe\">\n",
        "  <thead>\n",
        "    <tr style=\"text-align: right;\">\n",
        "      <th></th>\n",
        "      <th>2MASS</th>\n",
        "      <th>Spectral Type</th>\n",
        "      <th>J-H</th>\n",
        "      <th>H-Ks</th>\n",
        "      <th>Ks</th>\n",
        "      <th>Night</th>\n",
        "    </tr>\n",
        "  </thead>\n",
        "  <tbody>\n",
        "    <tr>\n",
        "      <th>0</th>\n",
        "      <td> J04095207+2821399</td>\n",
        "      <td> M4 V</td>\n",
        "      <td> 0.79</td>\n",
        "      <td> 0.53</td>\n",
        "      <td> 13.86</td>\n",
        "      <td> 4</td>\n",
        "    </tr>\n",
        "    <tr>\n",
        "      <th>1</th>\n",
        "      <td> J04111034+2830379</td>\n",
        "      <td>  &lt;M0</td>\n",
        "      <td> 1.00</td>\n",
        "      <td> 0.63</td>\n",
        "      <td> 13.50</td>\n",
        "      <td> 4</td>\n",
        "    </tr>\n",
        "    <tr>\n",
        "      <th>2</th>\n",
        "      <td> J04114008+2834024</td>\n",
        "      <td>  &lt;G0</td>\n",
        "      <td> 0.72</td>\n",
        "      <td> 0.35</td>\n",
        "      <td> 11.99</td>\n",
        "      <td> 4</td>\n",
        "    </tr>\n",
        "    <tr>\n",
        "      <th>3</th>\n",
        "      <td> J04122245+2827470</td>\n",
        "      <td>  &lt;K0</td>\n",
        "      <td> 0.97</td>\n",
        "      <td> 0.52</td>\n",
        "      <td> 13.18</td>\n",
        "      <td> 4</td>\n",
        "    </tr>\n",
        "    <tr>\n",
        "      <th>4</th>\n",
        "      <td> J04125785+2556088</td>\n",
        "      <td> M8 V</td>\n",
        "      <td> 0.73</td>\n",
        "      <td> 0.46</td>\n",
        "      <td> 13.73</td>\n",
        "      <td> 5</td>\n",
        "    </tr>\n",
        "  </tbody>\n",
        "</table>\n",
        "</div>"
       ],
       "metadata": {},
       "output_type": "pyout",
       "prompt_number": 5,
       "text": [
        "               2MASS Spectral Type   J-H  H-Ks     Ks Night\n",
        "0  J04095207+2821399          M4 V  0.79  0.53  13.86     4\n",
        "1  J04111034+2830379           <M0  1.00  0.63  13.50     4\n",
        "2  J04114008+2834024           <G0  0.72  0.35  11.99     4\n",
        "3  J04122245+2827470           <K0  0.97  0.52  13.18     4\n",
        "4  J04125785+2556088          M8 V  0.73  0.46  13.73     5"
       ]
      }
     ],
     "prompt_number": 5
    },
    {
     "cell_type": "markdown",
     "metadata": {},
     "source": [
      "## Table 3- Members of Taurus"
     ]
    },
    {
     "cell_type": "code",
     "collapsed": false,
     "input": [
      "names = [\"2MASS\",\"Other Names\",\"Spectral Type\",\"Reference\",\"Membership Evidence\",\"J-H\",\"H-Ks\",\"Ks\",\"Night\"]\n",
      "\n",
      "tbl3 = pd.read_csv(\"http://iopscience.iop.org./0004-637X/645/1/676/fulltext/64411.tb3.txt\", \n",
      "                   sep='\\t', names=names, na_values='\\ldots')\n",
      "tbl3.head()"
     ],
     "language": "python",
     "metadata": {},
     "outputs": [
      {
       "html": [
        "<div style=\"max-height:1000px;max-width:1500px;overflow:auto;\">\n",
        "<table border=\"1\" class=\"dataframe\">\n",
        "  <thead>\n",
        "    <tr style=\"text-align: right;\">\n",
        "      <th></th>\n",
        "      <th>2MASS</th>\n",
        "      <th>Other Names</th>\n",
        "      <th>Spectral Type</th>\n",
        "      <th>Reference</th>\n",
        "      <th>Membership Evidence</th>\n",
        "      <th>J-H</th>\n",
        "      <th>H-Ks</th>\n",
        "      <th>Ks</th>\n",
        "      <th>Night</th>\n",
        "    </tr>\n",
        "  </thead>\n",
        "  <tbody>\n",
        "    <tr>\n",
        "      <th>0</th>\n",
        "      <td> Previously Known Members</td>\n",
        "      <td>             NaN</td>\n",
        "      <td>                                NaN</td>\n",
        "      <td>        NaN</td>\n",
        "      <td>                       NaN</td>\n",
        "      <td>  NaN</td>\n",
        "      <td>  NaN</td>\n",
        "      <td>   NaN</td>\n",
        "      <td>  NaN</td>\n",
        "    </tr>\n",
        "    <tr>\n",
        "      <th>1</th>\n",
        "      <td>        J04185813+2812234</td>\n",
        "      <td> IRAS 04158+2805</td>\n",
        "      <td> M3, K7-M3, M6, M5.25 (op), M6 (IR)</td>\n",
        "      <td> 1, 2, 3, 4</td>\n",
        "      <td> e, ex, A_{V}, NaK, H_{2}O</td>\n",
        "      <td> 1.43</td>\n",
        "      <td> 1.17</td>\n",
        "      <td> 11.18</td>\n",
        "      <td> 1, 3</td>\n",
        "    </tr>\n",
        "    <tr>\n",
        "      <th>2</th>\n",
        "      <td>        J04194148+2716070</td>\n",
        "      <td> IRAS 04166+2706</td>\n",
        "      <td>                                &lt;M0</td>\n",
        "      <td>          4</td>\n",
        "      <td>                     e, ex</td>\n",
        "      <td> 1.30</td>\n",
        "      <td> 0.79</td>\n",
        "      <td> 12.62</td>\n",
        "      <td>    5</td>\n",
        "    </tr>\n",
        "    <tr>\n",
        "      <th>3</th>\n",
        "      <td>        J04221675+2654570</td>\n",
        "      <td>         CFHT 21</td>\n",
        "      <td>                       M1.25, M1-M2</td>\n",
        "      <td>       5, 4</td>\n",
        "      <td>             e, A_{V}, NaK</td>\n",
        "      <td> 1.54</td>\n",
        "      <td> 1.03</td>\n",
        "      <td>  9.01</td>\n",
        "      <td>    6</td>\n",
        "    </tr>\n",
        "    <tr>\n",
        "      <th>4</th>\n",
        "      <td>        J04274538+2357243</td>\n",
        "      <td>         CFHT 15</td>\n",
        "      <td>                              M8.25</td>\n",
        "      <td>       5, 4</td>\n",
        "      <td>                       NaK</td>\n",
        "      <td> 0.70</td>\n",
        "      <td> 0.55</td>\n",
        "      <td> 13.69</td>\n",
        "      <td>    6</td>\n",
        "    </tr>\n",
        "  </tbody>\n",
        "</table>\n",
        "</div>"
       ],
       "metadata": {},
       "output_type": "pyout",
       "prompt_number": 6,
       "text": [
        "                      2MASS      Other Names  \\\n",
        "0  Previously Known Members              NaN   \n",
        "1         J04185813+2812234  IRAS 04158+2805   \n",
        "2         J04194148+2716070  IRAS 04166+2706   \n",
        "3         J04221675+2654570          CFHT 21   \n",
        "4         J04274538+2357243          CFHT 15   \n",
        "\n",
        "                        Spectral Type   Reference        Membership Evidence  \\\n",
        "0                                 NaN         NaN                        NaN   \n",
        "1  M3, K7-M3, M6, M5.25 (op), M6 (IR)  1, 2, 3, 4  e, ex, A_{V}, NaK, H_{2}O   \n",
        "2                                 <M0           4                      e, ex   \n",
        "3                        M1.25, M1-M2        5, 4              e, A_{V}, NaK   \n",
        "4                               M8.25        5, 4                        NaK   \n",
        "\n",
        "    J-H  H-Ks     Ks Night  \n",
        "0   NaN   NaN    NaN   NaN  \n",
        "1  1.43  1.17  11.18  1, 3  \n",
        "2  1.30  0.79  12.62     5  \n",
        "3  1.54  1.03   9.01     6  \n",
        "4  0.70  0.55  13.69     6  "
       ]
      }
     ],
     "prompt_number": 6
    },
    {
     "cell_type": "code",
     "collapsed": false,
     "input": [
      "plt.figure(figsize=(12, 8))\n",
      "plt.subplot(121)\n",
      "plt.scatter(tbl2[\"H-Ks\"], tbl2[\"J-H\"], label='Field Stars', c=sns.xkcd_rgb['lipstick red'])\n",
      "plt.scatter(tbl3[\"H-Ks\"], tbl3[\"J-H\"], label='Taurus Members', c=sns.xkcd_rgb['denim blue'])\n",
      "plt.xlabel(r'$H-K_S$')\n",
      "plt.ylabel(r'$J-H$')\n",
      "plt.title(\"color-color plot\")\n",
      "plt.legend(loc='upper left')\n",
      "\n",
      "plt.subplot(122)\n",
      "plt.scatter(tbl2[\"H-Ks\"], tbl2[\"Ks\"], label='Field Stars', c=sns.xkcd_rgb['lipstick red'])\n",
      "plt.scatter(tbl3[\"H-Ks\"], tbl3[\"Ks\"], label='Taurus Members', c=sns.xkcd_rgb['denim blue'])\n",
      "plt.xlabel(r'$H-K_S$')\n",
      "plt.ylabel(r'$K_S$')\n",
      "plt.title(\"PMS HR diagram \\n with field star contaminants\")\n",
      "plt.ylim(16, 8)\n"
     ],
     "language": "python",
     "metadata": {},
     "outputs": [
      {
       "metadata": {},
       "output_type": "pyout",
       "prompt_number": 7,
       "text": [
        "(16, 8)"
       ]
      },
      {
       "metadata": {},
       "output_type": "display_data",
       "png": "[encoded data removed]",
       "text": [
        "<matplotlib.figure.Figure at 0x1124ae650>"
       ]
      }
     ],
     "prompt_number": 7
    },
    {
     "cell_type": "markdown",
     "metadata": {},
     "source": [
      "**The end.**"
     ]
    }
   ],
   "metadata": {}
  }
 ]
}